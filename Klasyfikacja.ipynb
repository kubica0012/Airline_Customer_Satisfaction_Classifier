{
  "nbformat": 4,
  "nbformat_minor": 0,
  "metadata": {
    "colab": {
      "provenance": []
    },
    "kernelspec": {
      "name": "python3",
      "display_name": "Python 3"
    },
    "language_info": {
      "name": "python"
    }
  },
  "cells": [
    {
      "cell_type": "markdown",
      "source": [
        "# PROJEKT Uczenie Maszynowe Jakub B., Karol B."
      ],
      "metadata": {
        "id": "xpxrgjjr1b-r"
      }
    },
    {
      "cell_type": "markdown",
      "source": [
        "Celem naszego projektu jest Klasyfikacja (K) projektu korzystając z: [Dane Airline Passenger Satisfaction (Kaggle)](https://www.kaggle.com/datasets/teejmahal20/airline-passenger-satisfaction) -- predykcja zadowolenia klientów linii lotniczych."
      ],
      "metadata": {
        "id": "epGWvl-C2G2m"
      }
    },
    {
      "cell_type": "markdown",
      "source": [
        "<a class=\"anchor\" id=\"0.1\"></a>\n",
        "# **Spis treści**\n",
        "- Importowanie bibliotek, wczytanie danych i ustalenie atrybutu dyskretnego jako celu.\n",
        "- Przygotowanie danych (przekształcenia, eliminacja błędów, zmiana rozkładu klas).\n",
        "- Zdefiniowanie nowych atrybutów.\n",
        "- Wybranie algorytmu selekcji atrybutów.\n",
        "- Wybranie algorytmu klasyfikacji.\n",
        "- Ustalenie parametrów do strojenia (z uwzględnieniem rzadkich klas).\n",
        "- Ustalenie procedur ocen.\n",
        "- Podsumowanie."
      ],
      "metadata": {
        "id": "imzYjjne5tyW"
      }
    },
    {
      "cell_type": "markdown",
      "source": [
        "#Importowanie bibliotek, wczytywanie danych i ustalenie atrybutu dyskretnego jako celu."
      ],
      "metadata": {
        "id": "R9tXwpdX1j8N"
      }
    },
    {
      "cell_type": "markdown",
      "source": [
        "Importowanie bibliotek"
      ],
      "metadata": {
        "id": "KrbOJMBQ-aWZ"
      }
    },
    {
      "cell_type": "code",
      "source": [
        "import pandas as pd\n",
        "import numpy as np\n",
        "import csv\n",
        "from google.colab import files\n",
        "import io\n",
        "import matplotlib.pyplot as plt"
      ],
      "metadata": {
        "id": "BnEfWuas9vbr"
      },
      "execution_count": 1,
      "outputs": []
    },
    {
      "cell_type": "markdown",
      "source": [
        "Wczytywanie danych, scalenie i ich wyświetlenie\n"
      ],
      "metadata": {
        "id": "W9XfpYWW-RlI"
      }
    },
    {
      "cell_type": "code",
      "source": [
        "train_df = pd.read_csv('train.csv')\n",
        "test_df = pd.read_csv('test.csv')\n",
        "\n",
        "combined_df = pd.concat([test_df, train_df])\n",
        "combined_df.to_csv(\"CombinedLab.csv\", index=False)\n",
        "\n",
        "combined_df.head()"
      ],
      "metadata": {
        "colab": {
          "base_uri": "https://localhost:8080/",
          "height": 394
        },
        "id": "vzS7DjKC9zdF",
        "outputId": "a528303f-1bef-4cd4-8b1d-2bddf120a163"
      },
      "execution_count": 2,
      "outputs": [
        {
          "output_type": "execute_result",
          "data": {
            "text/plain": [
              "   Unnamed: 0     id  Gender      Customer Type  Age   Type of Travel  \\\n",
              "0           0  19556  Female     Loyal Customer   52  Business travel   \n",
              "1           1  90035  Female     Loyal Customer   36  Business travel   \n",
              "2           2  12360    Male  disloyal Customer   20  Business travel   \n",
              "3           3  77959    Male     Loyal Customer   44  Business travel   \n",
              "4           4  36875  Female     Loyal Customer   49  Business travel   \n",
              "\n",
              "      Class  Flight Distance  Inflight wifi service  \\\n",
              "0       Eco              160                      5   \n",
              "1  Business             2863                      1   \n",
              "2       Eco              192                      2   \n",
              "3  Business             3377                      0   \n",
              "4       Eco             1182                      2   \n",
              "\n",
              "   Departure/Arrival time convenient  ...  Inflight entertainment  \\\n",
              "0                                  4  ...                       5   \n",
              "1                                  1  ...                       4   \n",
              "2                                  0  ...                       2   \n",
              "3                                  0  ...                       1   \n",
              "4                                  3  ...                       2   \n",
              "\n",
              "   On-board service  Leg room service  Baggage handling  Checkin service  \\\n",
              "0                 5                 5                 5                2   \n",
              "1                 4                 4                 4                3   \n",
              "2                 4                 1                 3                2   \n",
              "3                 1                 1                 1                3   \n",
              "4                 2                 2                 2                4   \n",
              "\n",
              "   Inflight service  Cleanliness  Departure Delay in Minutes  \\\n",
              "0                 5            5                          50   \n",
              "1                 4            5                           0   \n",
              "2                 2            2                           0   \n",
              "3                 1            4                           0   \n",
              "4                 2            4                           0   \n",
              "\n",
              "   Arrival Delay in Minutes             satisfaction  \n",
              "0                      44.0                satisfied  \n",
              "1                       0.0                satisfied  \n",
              "2                       0.0  neutral or dissatisfied  \n",
              "3                       6.0                satisfied  \n",
              "4                      20.0                satisfied  \n",
              "\n",
              "[5 rows x 25 columns]"
            ],
            "text/html": [
              "\n",
              "  <div id=\"df-1f213d86-8405-4496-b07e-14a6da741a80\" class=\"colab-df-container\">\n",
              "    <div>\n",
              "<style scoped>\n",
              "    .dataframe tbody tr th:only-of-type {\n",
              "        vertical-align: middle;\n",
              "    }\n",
              "\n",
              "    .dataframe tbody tr th {\n",
              "        vertical-align: top;\n",
              "    }\n",
              "\n",
              "    .dataframe thead th {\n",
              "        text-align: right;\n",
              "    }\n",
              "</style>\n",
              "<table border=\"1\" class=\"dataframe\">\n",
              "  <thead>\n",
              "    <tr style=\"text-align: right;\">\n",
              "      <th></th>\n",
              "      <th>Unnamed: 0</th>\n",
              "      <th>id</th>\n",
              "      <th>Gender</th>\n",
              "      <th>Customer Type</th>\n",
              "      <th>Age</th>\n",
              "      <th>Type of Travel</th>\n",
              "      <th>Class</th>\n",
              "      <th>Flight Distance</th>\n",
              "      <th>Inflight wifi service</th>\n",
              "      <th>Departure/Arrival time convenient</th>\n",
              "      <th>...</th>\n",
              "      <th>Inflight entertainment</th>\n",
              "      <th>On-board service</th>\n",
              "      <th>Leg room service</th>\n",
              "      <th>Baggage handling</th>\n",
              "      <th>Checkin service</th>\n",
              "      <th>Inflight service</th>\n",
              "      <th>Cleanliness</th>\n",
              "      <th>Departure Delay in Minutes</th>\n",
              "      <th>Arrival Delay in Minutes</th>\n",
              "      <th>satisfaction</th>\n",
              "    </tr>\n",
              "  </thead>\n",
              "  <tbody>\n",
              "    <tr>\n",
              "      <th>0</th>\n",
              "      <td>0</td>\n",
              "      <td>19556</td>\n",
              "      <td>Female</td>\n",
              "      <td>Loyal Customer</td>\n",
              "      <td>52</td>\n",
              "      <td>Business travel</td>\n",
              "      <td>Eco</td>\n",
              "      <td>160</td>\n",
              "      <td>5</td>\n",
              "      <td>4</td>\n",
              "      <td>...</td>\n",
              "      <td>5</td>\n",
              "      <td>5</td>\n",
              "      <td>5</td>\n",
              "      <td>5</td>\n",
              "      <td>2</td>\n",
              "      <td>5</td>\n",
              "      <td>5</td>\n",
              "      <td>50</td>\n",
              "      <td>44.0</td>\n",
              "      <td>satisfied</td>\n",
              "    </tr>\n",
              "    <tr>\n",
              "      <th>1</th>\n",
              "      <td>1</td>\n",
              "      <td>90035</td>\n",
              "      <td>Female</td>\n",
              "      <td>Loyal Customer</td>\n",
              "      <td>36</td>\n",
              "      <td>Business travel</td>\n",
              "      <td>Business</td>\n",
              "      <td>2863</td>\n",
              "      <td>1</td>\n",
              "      <td>1</td>\n",
              "      <td>...</td>\n",
              "      <td>4</td>\n",
              "      <td>4</td>\n",
              "      <td>4</td>\n",
              "      <td>4</td>\n",
              "      <td>3</td>\n",
              "      <td>4</td>\n",
              "      <td>5</td>\n",
              "      <td>0</td>\n",
              "      <td>0.0</td>\n",
              "      <td>satisfied</td>\n",
              "    </tr>\n",
              "    <tr>\n",
              "      <th>2</th>\n",
              "      <td>2</td>\n",
              "      <td>12360</td>\n",
              "      <td>Male</td>\n",
              "      <td>disloyal Customer</td>\n",
              "      <td>20</td>\n",
              "      <td>Business travel</td>\n",
              "      <td>Eco</td>\n",
              "      <td>192</td>\n",
              "      <td>2</td>\n",
              "      <td>0</td>\n",
              "      <td>...</td>\n",
              "      <td>2</td>\n",
              "      <td>4</td>\n",
              "      <td>1</td>\n",
              "      <td>3</td>\n",
              "      <td>2</td>\n",
              "      <td>2</td>\n",
              "      <td>2</td>\n",
              "      <td>0</td>\n",
              "      <td>0.0</td>\n",
              "      <td>neutral or dissatisfied</td>\n",
              "    </tr>\n",
              "    <tr>\n",
              "      <th>3</th>\n",
              "      <td>3</td>\n",
              "      <td>77959</td>\n",
              "      <td>Male</td>\n",
              "      <td>Loyal Customer</td>\n",
              "      <td>44</td>\n",
              "      <td>Business travel</td>\n",
              "      <td>Business</td>\n",
              "      <td>3377</td>\n",
              "      <td>0</td>\n",
              "      <td>0</td>\n",
              "      <td>...</td>\n",
              "      <td>1</td>\n",
              "      <td>1</td>\n",
              "      <td>1</td>\n",
              "      <td>1</td>\n",
              "      <td>3</td>\n",
              "      <td>1</td>\n",
              "      <td>4</td>\n",
              "      <td>0</td>\n",
              "      <td>6.0</td>\n",
              "      <td>satisfied</td>\n",
              "    </tr>\n",
              "    <tr>\n",
              "      <th>4</th>\n",
              "      <td>4</td>\n",
              "      <td>36875</td>\n",
              "      <td>Female</td>\n",
              "      <td>Loyal Customer</td>\n",
              "      <td>49</td>\n",
              "      <td>Business travel</td>\n",
              "      <td>Eco</td>\n",
              "      <td>1182</td>\n",
              "      <td>2</td>\n",
              "      <td>3</td>\n",
              "      <td>...</td>\n",
              "      <td>2</td>\n",
              "      <td>2</td>\n",
              "      <td>2</td>\n",
              "      <td>2</td>\n",
              "      <td>4</td>\n",
              "      <td>2</td>\n",
              "      <td>4</td>\n",
              "      <td>0</td>\n",
              "      <td>20.0</td>\n",
              "      <td>satisfied</td>\n",
              "    </tr>\n",
              "  </tbody>\n",
              "</table>\n",
              "<p>5 rows × 25 columns</p>\n",
              "</div>\n",
              "    <div class=\"colab-df-buttons\">\n",
              "\n",
              "  <div class=\"colab-df-container\">\n",
              "    <button class=\"colab-df-convert\" onclick=\"convertToInteractive('df-1f213d86-8405-4496-b07e-14a6da741a80')\"\n",
              "            title=\"Convert this dataframe to an interactive table.\"\n",
              "            style=\"display:none;\">\n",
              "\n",
              "  <svg xmlns=\"http://www.w3.org/2000/svg\" height=\"24px\" viewBox=\"0 -960 960 960\">\n",
              "    <path d=\"M120-120v-720h720v720H120Zm60-500h600v-160H180v160Zm220 220h160v-160H400v160Zm0 220h160v-160H400v160ZM180-400h160v-160H180v160Zm440 0h160v-160H620v160ZM180-180h160v-160H180v160Zm440 0h160v-160H620v160Z\"/>\n",
              "  </svg>\n",
              "    </button>\n",
              "\n",
              "  <style>\n",
              "    .colab-df-container {\n",
              "      display:flex;\n",
              "      gap: 12px;\n",
              "    }\n",
              "\n",
              "    .colab-df-convert {\n",
              "      background-color: #E8F0FE;\n",
              "      border: none;\n",
              "      border-radius: 50%;\n",
              "      cursor: pointer;\n",
              "      display: none;\n",
              "      fill: #1967D2;\n",
              "      height: 32px;\n",
              "      padding: 0 0 0 0;\n",
              "      width: 32px;\n",
              "    }\n",
              "\n",
              "    .colab-df-convert:hover {\n",
              "      background-color: #E2EBFA;\n",
              "      box-shadow: 0px 1px 2px rgba(60, 64, 67, 0.3), 0px 1px 3px 1px rgba(60, 64, 67, 0.15);\n",
              "      fill: #174EA6;\n",
              "    }\n",
              "\n",
              "    .colab-df-buttons div {\n",
              "      margin-bottom: 4px;\n",
              "    }\n",
              "\n",
              "    [theme=dark] .colab-df-convert {\n",
              "      background-color: #3B4455;\n",
              "      fill: #D2E3FC;\n",
              "    }\n",
              "\n",
              "    [theme=dark] .colab-df-convert:hover {\n",
              "      background-color: #434B5C;\n",
              "      box-shadow: 0px 1px 3px 1px rgba(0, 0, 0, 0.15);\n",
              "      filter: drop-shadow(0px 1px 2px rgba(0, 0, 0, 0.3));\n",
              "      fill: #FFFFFF;\n",
              "    }\n",
              "  </style>\n",
              "\n",
              "    <script>\n",
              "      const buttonEl =\n",
              "        document.querySelector('#df-1f213d86-8405-4496-b07e-14a6da741a80 button.colab-df-convert');\n",
              "      buttonEl.style.display =\n",
              "        google.colab.kernel.accessAllowed ? 'block' : 'none';\n",
              "\n",
              "      async function convertToInteractive(key) {\n",
              "        const element = document.querySelector('#df-1f213d86-8405-4496-b07e-14a6da741a80');\n",
              "        const dataTable =\n",
              "          await google.colab.kernel.invokeFunction('convertToInteractive',\n",
              "                                                    [key], {});\n",
              "        if (!dataTable) return;\n",
              "\n",
              "        const docLinkHtml = 'Like what you see? Visit the ' +\n",
              "          '<a target=\"_blank\" href=https://colab.research.google.com/notebooks/data_table.ipynb>data table notebook</a>'\n",
              "          + ' to learn more about interactive tables.';\n",
              "        element.innerHTML = '';\n",
              "        dataTable['output_type'] = 'display_data';\n",
              "        await google.colab.output.renderOutput(dataTable, element);\n",
              "        const docLink = document.createElement('div');\n",
              "        docLink.innerHTML = docLinkHtml;\n",
              "        element.appendChild(docLink);\n",
              "      }\n",
              "    </script>\n",
              "  </div>\n",
              "\n",
              "\n",
              "<div id=\"df-bfdba664-f649-4028-9542-5afd49b6a482\">\n",
              "  <button class=\"colab-df-quickchart\" onclick=\"quickchart('df-bfdba664-f649-4028-9542-5afd49b6a482')\"\n",
              "            title=\"Suggest charts\"\n",
              "            style=\"display:none;\">\n",
              "\n",
              "<svg xmlns=\"http://www.w3.org/2000/svg\" height=\"24px\"viewBox=\"0 0 24 24\"\n",
              "     width=\"24px\">\n",
              "    <g>\n",
              "        <path d=\"M19 3H5c-1.1 0-2 .9-2 2v14c0 1.1.9 2 2 2h14c1.1 0 2-.9 2-2V5c0-1.1-.9-2-2-2zM9 17H7v-7h2v7zm4 0h-2V7h2v10zm4 0h-2v-4h2v4z\"/>\n",
              "    </g>\n",
              "</svg>\n",
              "  </button>\n",
              "\n",
              "<style>\n",
              "  .colab-df-quickchart {\n",
              "      --bg-color: #E8F0FE;\n",
              "      --fill-color: #1967D2;\n",
              "      --hover-bg-color: #E2EBFA;\n",
              "      --hover-fill-color: #174EA6;\n",
              "      --disabled-fill-color: #AAA;\n",
              "      --disabled-bg-color: #DDD;\n",
              "  }\n",
              "\n",
              "  [theme=dark] .colab-df-quickchart {\n",
              "      --bg-color: #3B4455;\n",
              "      --fill-color: #D2E3FC;\n",
              "      --hover-bg-color: #434B5C;\n",
              "      --hover-fill-color: #FFFFFF;\n",
              "      --disabled-bg-color: #3B4455;\n",
              "      --disabled-fill-color: #666;\n",
              "  }\n",
              "\n",
              "  .colab-df-quickchart {\n",
              "    background-color: var(--bg-color);\n",
              "    border: none;\n",
              "    border-radius: 50%;\n",
              "    cursor: pointer;\n",
              "    display: none;\n",
              "    fill: var(--fill-color);\n",
              "    height: 32px;\n",
              "    padding: 0;\n",
              "    width: 32px;\n",
              "  }\n",
              "\n",
              "  .colab-df-quickchart:hover {\n",
              "    background-color: var(--hover-bg-color);\n",
              "    box-shadow: 0 1px 2px rgba(60, 64, 67, 0.3), 0 1px 3px 1px rgba(60, 64, 67, 0.15);\n",
              "    fill: var(--button-hover-fill-color);\n",
              "  }\n",
              "\n",
              "  .colab-df-quickchart-complete:disabled,\n",
              "  .colab-df-quickchart-complete:disabled:hover {\n",
              "    background-color: var(--disabled-bg-color);\n",
              "    fill: var(--disabled-fill-color);\n",
              "    box-shadow: none;\n",
              "  }\n",
              "\n",
              "  .colab-df-spinner {\n",
              "    border: 2px solid var(--fill-color);\n",
              "    border-color: transparent;\n",
              "    border-bottom-color: var(--fill-color);\n",
              "    animation:\n",
              "      spin 1s steps(1) infinite;\n",
              "  }\n",
              "\n",
              "  @keyframes spin {\n",
              "    0% {\n",
              "      border-color: transparent;\n",
              "      border-bottom-color: var(--fill-color);\n",
              "      border-left-color: var(--fill-color);\n",
              "    }\n",
              "    20% {\n",
              "      border-color: transparent;\n",
              "      border-left-color: var(--fill-color);\n",
              "      border-top-color: var(--fill-color);\n",
              "    }\n",
              "    30% {\n",
              "      border-color: transparent;\n",
              "      border-left-color: var(--fill-color);\n",
              "      border-top-color: var(--fill-color);\n",
              "      border-right-color: var(--fill-color);\n",
              "    }\n",
              "    40% {\n",
              "      border-color: transparent;\n",
              "      border-right-color: var(--fill-color);\n",
              "      border-top-color: var(--fill-color);\n",
              "    }\n",
              "    60% {\n",
              "      border-color: transparent;\n",
              "      border-right-color: var(--fill-color);\n",
              "    }\n",
              "    80% {\n",
              "      border-color: transparent;\n",
              "      border-right-color: var(--fill-color);\n",
              "      border-bottom-color: var(--fill-color);\n",
              "    }\n",
              "    90% {\n",
              "      border-color: transparent;\n",
              "      border-bottom-color: var(--fill-color);\n",
              "    }\n",
              "  }\n",
              "</style>\n",
              "\n",
              "  <script>\n",
              "    async function quickchart(key) {\n",
              "      const quickchartButtonEl =\n",
              "        document.querySelector('#' + key + ' button');\n",
              "      quickchartButtonEl.disabled = true;  // To prevent multiple clicks.\n",
              "      quickchartButtonEl.classList.add('colab-df-spinner');\n",
              "      try {\n",
              "        const charts = await google.colab.kernel.invokeFunction(\n",
              "            'suggestCharts', [key], {});\n",
              "      } catch (error) {\n",
              "        console.error('Error during call to suggestCharts:', error);\n",
              "      }\n",
              "      quickchartButtonEl.classList.remove('colab-df-spinner');\n",
              "      quickchartButtonEl.classList.add('colab-df-quickchart-complete');\n",
              "    }\n",
              "    (() => {\n",
              "      let quickchartButtonEl =\n",
              "        document.querySelector('#df-bfdba664-f649-4028-9542-5afd49b6a482 button');\n",
              "      quickchartButtonEl.style.display =\n",
              "        google.colab.kernel.accessAllowed ? 'block' : 'none';\n",
              "    })();\n",
              "  </script>\n",
              "</div>\n",
              "\n",
              "    </div>\n",
              "  </div>\n"
            ],
            "application/vnd.google.colaboratory.intrinsic+json": {
              "type": "dataframe",
              "variable_name": "combined_df"
            }
          },
          "metadata": {},
          "execution_count": 2
        }
      ]
    },
    {
      "cell_type": "markdown",
      "source": [
        "Ustalenie atrybutu dyskretnego jako celu"
      ],
      "metadata": {
        "id": "xgv9RkLA_ep1"
      }
    },
    {
      "cell_type": "markdown",
      "source": [
        "Jako cel klasyfikacji wybrano atrybut \"satisfaction\", który ma dwie klasy: \"satisfied\" i \"neutral or dissatisfied\"."
      ],
      "metadata": {
        "id": "oeui_nxMBU2w"
      }
    },
    {
      "cell_type": "markdown",
      "source": [
        "#Przygotowanie danych (przekształcenia, eliminacja błędów, zmiana rozkładu klas)"
      ],
      "metadata": {
        "id": "IRPXydRF7GVt"
      }
    },
    {
      "cell_type": "markdown",
      "source": [
        "- Wczytanie danych i dokonanie ich wstępnej analizy"
      ],
      "metadata": {
        "id": "a7aF7ExQBpyk"
      }
    },
    {
      "cell_type": "markdown",
      "source": [
        "Sprawdzenie liczby elementów i liczby kolumn w zbiorach przed usunięciem danych."
      ],
      "metadata": {
        "id": "rcnxe30lFBPd"
      }
    },
    {
      "cell_type": "code",
      "source": [
        "print(\"Liczba elementów w całym zbiorze wynosi: \", combined_df.shape[0])\n",
        "print(\"Liczba kolumn w całym zbiorze wynosi: \", combined_df.shape[1])"
      ],
      "metadata": {
        "colab": {
          "base_uri": "https://localhost:8080/"
        },
        "id": "qj7HXCdiEve7",
        "outputId": "219da7a3-c365-4c4d-892d-894518eb4703"
      },
      "execution_count": 3,
      "outputs": [
        {
          "output_type": "stream",
          "name": "stdout",
          "text": [
            "Liczba elementów w całym zbiorze wynosi:  129880\n",
            "Liczba kolumn w całym zbiorze wynosi:  25\n"
          ]
        }
      ]
    },
    {
      "cell_type": "markdown",
      "source": [
        "\n",
        "Zmiana ewentualnie występujących \"?\" na wartości NaN."
      ],
      "metadata": {
        "id": "wWtNvWhwFPVE"
      }
    },
    {
      "cell_type": "code",
      "source": [
        "combined_df = pd.read_csv('CombinedLab.csv' , na_values='?')"
      ],
      "metadata": {
        "id": "pAMeHSLoCE3p"
      },
      "execution_count": 4,
      "outputs": []
    },
    {
      "cell_type": "markdown",
      "source": [
        "Sprawdzenie informacji o wartościach w zbiorze \"combined_df\"."
      ],
      "metadata": {
        "id": "39YtYfr5F88c"
      }
    },
    {
      "cell_type": "code",
      "source": [
        "combined_df.info()"
      ],
      "metadata": {
        "colab": {
          "base_uri": "https://localhost:8080/"
        },
        "id": "o9PWy3HAFwTu",
        "outputId": "e333f511-93ba-4493-e742-177cddbd7bca"
      },
      "execution_count": 5,
      "outputs": [
        {
          "output_type": "stream",
          "name": "stdout",
          "text": [
            "<class 'pandas.core.frame.DataFrame'>\n",
            "RangeIndex: 129880 entries, 0 to 129879\n",
            "Data columns (total 25 columns):\n",
            " #   Column                             Non-Null Count   Dtype  \n",
            "---  ------                             --------------   -----  \n",
            " 0   Unnamed: 0                         129880 non-null  int64  \n",
            " 1   id                                 129880 non-null  int64  \n",
            " 2   Gender                             129880 non-null  object \n",
            " 3   Customer Type                      129880 non-null  object \n",
            " 4   Age                                129880 non-null  int64  \n",
            " 5   Type of Travel                     129880 non-null  object \n",
            " 6   Class                              129880 non-null  object \n",
            " 7   Flight Distance                    129880 non-null  int64  \n",
            " 8   Inflight wifi service              129880 non-null  int64  \n",
            " 9   Departure/Arrival time convenient  129880 non-null  int64  \n",
            " 10  Ease of Online booking             129880 non-null  int64  \n",
            " 11  Gate location                      129880 non-null  int64  \n",
            " 12  Food and drink                     129880 non-null  int64  \n",
            " 13  Online boarding                    129880 non-null  int64  \n",
            " 14  Seat comfort                       129880 non-null  int64  \n",
            " 15  Inflight entertainment             129880 non-null  int64  \n",
            " 16  On-board service                   129880 non-null  int64  \n",
            " 17  Leg room service                   129880 non-null  int64  \n",
            " 18  Baggage handling                   129880 non-null  int64  \n",
            " 19  Checkin service                    129880 non-null  int64  \n",
            " 20  Inflight service                   129880 non-null  int64  \n",
            " 21  Cleanliness                        129880 non-null  int64  \n",
            " 22  Departure Delay in Minutes         129880 non-null  int64  \n",
            " 23  Arrival Delay in Minutes           129487 non-null  float64\n",
            " 24  satisfaction                       129880 non-null  object \n",
            "dtypes: float64(1), int64(19), object(5)\n",
            "memory usage: 24.8+ MB\n"
          ]
        }
      ]
    },
    {
      "cell_type": "markdown",
      "source": [
        "Sprawdzenie informacji o kolumnach w zbiorze \"combined_df\"."
      ],
      "metadata": {
        "id": "E4dePH60GbRu"
      }
    },
    {
      "cell_type": "code",
      "source": [
        "combined_df.columns"
      ],
      "metadata": {
        "colab": {
          "base_uri": "https://localhost:8080/"
        },
        "id": "sz_rKpgPGhLI",
        "outputId": "9c6832da-011b-4eda-b955-ec15c9844dc2"
      },
      "execution_count": 6,
      "outputs": [
        {
          "output_type": "execute_result",
          "data": {
            "text/plain": [
              "Index(['Unnamed: 0', 'id', 'Gender', 'Customer Type', 'Age', 'Type of Travel',\n",
              "       'Class', 'Flight Distance', 'Inflight wifi service',\n",
              "       'Departure/Arrival time convenient', 'Ease of Online booking',\n",
              "       'Gate location', 'Food and drink', 'Online boarding', 'Seat comfort',\n",
              "       'Inflight entertainment', 'On-board service', 'Leg room service',\n",
              "       'Baggage handling', 'Checkin service', 'Inflight service',\n",
              "       'Cleanliness', 'Departure Delay in Minutes', 'Arrival Delay in Minutes',\n",
              "       'satisfaction'],\n",
              "      dtype='object')"
            ]
          },
          "metadata": {},
          "execution_count": 6
        }
      ]
    },
    {
      "cell_type": "markdown",
      "source": [
        "W tym secie danych znajdują się wartości typu kategorialnych oraz typu numerycznych. Zaobserwowano, że wszystkie wartości numeryczne są typu \"int64\". Poniżej przedstawione są wartości typu kategorialnych."
      ],
      "metadata": {
        "id": "MziEIs6QIvZj"
      }
    },
    {
      "cell_type": "code",
      "source": [
        "categorical = [var for var in combined_df.columns if combined_df[var].dtype=='O']\n",
        "\n",
        "print('W całym zbiorze znajduje się {} kategorialnych zmiennych \\n'.format(len(categorical)))\n",
        "\n",
        "print('Możemy wymienić takie wartości kategorialne jak:\\n\\n', categorical)"
      ],
      "metadata": {
        "colab": {
          "base_uri": "https://localhost:8080/"
        },
        "id": "AfnCwFOaIGXg",
        "outputId": "5924cc82-eeac-4f14-a4ef-34507d10d3f3"
      },
      "execution_count": 7,
      "outputs": [
        {
          "output_type": "stream",
          "name": "stdout",
          "text": [
            "W całym zbiorze znajduje się 5 kategorialnych zmiennych \n",
            "\n",
            "Możemy wymienić takie wartości kategorialne jak:\n",
            "\n",
            " ['Gender', 'Customer Type', 'Type of Travel', 'Class', 'satisfaction']\n"
          ]
        }
      ]
    },
    {
      "cell_type": "code",
      "source": [
        "combined_df.isnull().sum()"
      ],
      "metadata": {
        "colab": {
          "base_uri": "https://localhost:8080/",
          "height": 868
        },
        "id": "dA_r-7H8J2FA",
        "outputId": "fabbc82f-be9b-4b05-aa07-c184bb063f64"
      },
      "execution_count": 8,
      "outputs": [
        {
          "output_type": "execute_result",
          "data": {
            "text/plain": [
              "Unnamed: 0                             0\n",
              "id                                     0\n",
              "Gender                                 0\n",
              "Customer Type                          0\n",
              "Age                                    0\n",
              "Type of Travel                         0\n",
              "Class                                  0\n",
              "Flight Distance                        0\n",
              "Inflight wifi service                  0\n",
              "Departure/Arrival time convenient      0\n",
              "Ease of Online booking                 0\n",
              "Gate location                          0\n",
              "Food and drink                         0\n",
              "Online boarding                        0\n",
              "Seat comfort                           0\n",
              "Inflight entertainment                 0\n",
              "On-board service                       0\n",
              "Leg room service                       0\n",
              "Baggage handling                       0\n",
              "Checkin service                        0\n",
              "Inflight service                       0\n",
              "Cleanliness                            0\n",
              "Departure Delay in Minutes             0\n",
              "Arrival Delay in Minutes             393\n",
              "satisfaction                           0\n",
              "dtype: int64"
            ],
            "text/html": [
              "<div>\n",
              "<style scoped>\n",
              "    .dataframe tbody tr th:only-of-type {\n",
              "        vertical-align: middle;\n",
              "    }\n",
              "\n",
              "    .dataframe tbody tr th {\n",
              "        vertical-align: top;\n",
              "    }\n",
              "\n",
              "    .dataframe thead th {\n",
              "        text-align: right;\n",
              "    }\n",
              "</style>\n",
              "<table border=\"1\" class=\"dataframe\">\n",
              "  <thead>\n",
              "    <tr style=\"text-align: right;\">\n",
              "      <th></th>\n",
              "      <th>0</th>\n",
              "    </tr>\n",
              "  </thead>\n",
              "  <tbody>\n",
              "    <tr>\n",
              "      <th>Unnamed: 0</th>\n",
              "      <td>0</td>\n",
              "    </tr>\n",
              "    <tr>\n",
              "      <th>id</th>\n",
              "      <td>0</td>\n",
              "    </tr>\n",
              "    <tr>\n",
              "      <th>Gender</th>\n",
              "      <td>0</td>\n",
              "    </tr>\n",
              "    <tr>\n",
              "      <th>Customer Type</th>\n",
              "      <td>0</td>\n",
              "    </tr>\n",
              "    <tr>\n",
              "      <th>Age</th>\n",
              "      <td>0</td>\n",
              "    </tr>\n",
              "    <tr>\n",
              "      <th>Type of Travel</th>\n",
              "      <td>0</td>\n",
              "    </tr>\n",
              "    <tr>\n",
              "      <th>Class</th>\n",
              "      <td>0</td>\n",
              "    </tr>\n",
              "    <tr>\n",
              "      <th>Flight Distance</th>\n",
              "      <td>0</td>\n",
              "    </tr>\n",
              "    <tr>\n",
              "      <th>Inflight wifi service</th>\n",
              "      <td>0</td>\n",
              "    </tr>\n",
              "    <tr>\n",
              "      <th>Departure/Arrival time convenient</th>\n",
              "      <td>0</td>\n",
              "    </tr>\n",
              "    <tr>\n",
              "      <th>Ease of Online booking</th>\n",
              "      <td>0</td>\n",
              "    </tr>\n",
              "    <tr>\n",
              "      <th>Gate location</th>\n",
              "      <td>0</td>\n",
              "    </tr>\n",
              "    <tr>\n",
              "      <th>Food and drink</th>\n",
              "      <td>0</td>\n",
              "    </tr>\n",
              "    <tr>\n",
              "      <th>Online boarding</th>\n",
              "      <td>0</td>\n",
              "    </tr>\n",
              "    <tr>\n",
              "      <th>Seat comfort</th>\n",
              "      <td>0</td>\n",
              "    </tr>\n",
              "    <tr>\n",
              "      <th>Inflight entertainment</th>\n",
              "      <td>0</td>\n",
              "    </tr>\n",
              "    <tr>\n",
              "      <th>On-board service</th>\n",
              "      <td>0</td>\n",
              "    </tr>\n",
              "    <tr>\n",
              "      <th>Leg room service</th>\n",
              "      <td>0</td>\n",
              "    </tr>\n",
              "    <tr>\n",
              "      <th>Baggage handling</th>\n",
              "      <td>0</td>\n",
              "    </tr>\n",
              "    <tr>\n",
              "      <th>Checkin service</th>\n",
              "      <td>0</td>\n",
              "    </tr>\n",
              "    <tr>\n",
              "      <th>Inflight service</th>\n",
              "      <td>0</td>\n",
              "    </tr>\n",
              "    <tr>\n",
              "      <th>Cleanliness</th>\n",
              "      <td>0</td>\n",
              "    </tr>\n",
              "    <tr>\n",
              "      <th>Departure Delay in Minutes</th>\n",
              "      <td>0</td>\n",
              "    </tr>\n",
              "    <tr>\n",
              "      <th>Arrival Delay in Minutes</th>\n",
              "      <td>393</td>\n",
              "    </tr>\n",
              "    <tr>\n",
              "      <th>satisfaction</th>\n",
              "      <td>0</td>\n",
              "    </tr>\n",
              "  </tbody>\n",
              "</table>\n",
              "</div><br><label><b>dtype:</b> int64</label>"
            ]
          },
          "metadata": {},
          "execution_count": 8
        }
      ]
    },
    {
      "cell_type": "markdown",
      "source": [
        "Można zaobserwować, że w tym secie danych występują puste pola w kolumnie \"Arrival Delay in Minutes\" w liczbie 393. Wartości te na potrzeby projektu zostały usunięte ze względu na dużą ilość danych)."
      ],
      "metadata": {
        "id": "N7U1v7a5J7rU"
      }
    },
    {
      "cell_type": "code",
      "source": [
        "combined_df = combined_df.dropna()\n",
        "\n",
        "combined_unique_id = combined_df['id'].nunique()\n",
        "print(\"Liczba unikalnych id w zbiorze treningowym wynosi: \", combined_unique_id)\n",
        "\n",
        "print(\"Liczba kolumn w całym zbiorze wynosi: \", combined_df.shape[1])\n",
        "\n",
        "combined_df = combined_df.drop(columns=[\"Unnamed: 0\", \"id\"])\n",
        "print(\"Liczba elementów w całym zbiorze wynosi: \", combined_df.shape[0])\n",
        "print(\"Liczba kolumn w całym zbiorze wynosi: \", combined_df.shape[1])"
      ],
      "metadata": {
        "colab": {
          "base_uri": "https://localhost:8080/"
        },
        "id": "H5X78wyVNz_2",
        "outputId": "67937a56-8f20-4ce0-ae82-1f084f0ebba7"
      },
      "execution_count": 9,
      "outputs": [
        {
          "output_type": "stream",
          "name": "stdout",
          "text": [
            "Liczba unikalnych id w zbiorze treningowym wynosi:  129487\n",
            "Liczba kolumn w całym zbiorze wynosi:  25\n",
            "Liczba elementów w całym zbiorze wynosi:  129487\n",
            "Liczba kolumn w całym zbiorze wynosi:  23\n"
          ]
        }
      ]
    },
    {
      "cell_type": "code",
      "source": [
        "combined_df.info()"
      ],
      "metadata": {
        "colab": {
          "base_uri": "https://localhost:8080/"
        },
        "id": "WlinEq4JC80k",
        "outputId": "a9944d0c-7e00-4693-ab5f-cfb44b77efb8"
      },
      "execution_count": 10,
      "outputs": [
        {
          "output_type": "stream",
          "name": "stdout",
          "text": [
            "<class 'pandas.core.frame.DataFrame'>\n",
            "Index: 129487 entries, 0 to 129879\n",
            "Data columns (total 23 columns):\n",
            " #   Column                             Non-Null Count   Dtype  \n",
            "---  ------                             --------------   -----  \n",
            " 0   Gender                             129487 non-null  object \n",
            " 1   Customer Type                      129487 non-null  object \n",
            " 2   Age                                129487 non-null  int64  \n",
            " 3   Type of Travel                     129487 non-null  object \n",
            " 4   Class                              129487 non-null  object \n",
            " 5   Flight Distance                    129487 non-null  int64  \n",
            " 6   Inflight wifi service              129487 non-null  int64  \n",
            " 7   Departure/Arrival time convenient  129487 non-null  int64  \n",
            " 8   Ease of Online booking             129487 non-null  int64  \n",
            " 9   Gate location                      129487 non-null  int64  \n",
            " 10  Food and drink                     129487 non-null  int64  \n",
            " 11  Online boarding                    129487 non-null  int64  \n",
            " 12  Seat comfort                       129487 non-null  int64  \n",
            " 13  Inflight entertainment             129487 non-null  int64  \n",
            " 14  On-board service                   129487 non-null  int64  \n",
            " 15  Leg room service                   129487 non-null  int64  \n",
            " 16  Baggage handling                   129487 non-null  int64  \n",
            " 17  Checkin service                    129487 non-null  int64  \n",
            " 18  Inflight service                   129487 non-null  int64  \n",
            " 19  Cleanliness                        129487 non-null  int64  \n",
            " 20  Departure Delay in Minutes         129487 non-null  int64  \n",
            " 21  Arrival Delay in Minutes           129487 non-null  float64\n",
            " 22  satisfaction                       129487 non-null  object \n",
            "dtypes: float64(1), int64(17), object(5)\n",
            "memory usage: 23.7+ MB\n"
          ]
        }
      ]
    },
    {
      "cell_type": "markdown",
      "source": [
        "Można zaobserwować, że na początku liczba elementów w całym zbiorze wynosiła \"129880\" a po usunięciu pustych pól liczba elementów zmieniła się na \"129487\"."
      ],
      "metadata": {
        "id": "pfdwzD74XdRD"
      }
    },
    {
      "cell_type": "markdown",
      "source": [
        "Sprawdzono również dane pod względem powtórzeń id. Nie znaleziono żadnych powtórzeń."
      ],
      "metadata": {
        "id": "lQxhvmjzgVm9"
      }
    },
    {
      "cell_type": "markdown",
      "source": [
        "Utworzenie oraz zdefiniowanie nowych atrybutów: \"avg_rating\" roaz \"avg_rating_services_on_board\"."
      ],
      "metadata": {
        "id": "hXBTjTnBahI_"
      }
    },
    {
      "cell_type": "code",
      "source": [
        "selected_columns = ['Inflight wifi service', 'Departure/Arrival time convenient', 'Ease of Online booking', 'Gate location', 'Food and drink', 'Online boarding', 'Seat comfort', 'Inflight entertainment', 'On-board service', 'Leg room service', 'Baggage handling', 'Checkin service', 'Inflight service', 'Cleanliness']\n",
        "data_subset = combined_df[selected_columns].copy()\n",
        "combined_df['avg_rating'] = data_subset[selected_columns].mean(axis=1)\n",
        "\n",
        "sele_columns = ['Inflight wifi service', 'Food and drink', 'Seat comfort', 'Inflight entertainment', 'On-board service', 'Leg room service', 'Inflight service', 'Cleanliness']\n",
        "data_subset = combined_df[selected_columns].copy()\n",
        "combined_df['avg_rating_services_on_board'] = data_subset[selected_columns].mean(axis=1)"
      ],
      "metadata": {
        "id": "mlLuZpQdU530"
      },
      "execution_count": 11,
      "outputs": []
    },
    {
      "cell_type": "code",
      "source": [
        "combined_df.head()"
      ],
      "metadata": {
        "colab": {
          "base_uri": "https://localhost:8080/",
          "height": 394
        },
        "id": "Yjs_AeRYWUd1",
        "outputId": "11fdd47a-ecbb-4bc6-e72b-b0a4401fcc6f"
      },
      "execution_count": 12,
      "outputs": [
        {
          "output_type": "execute_result",
          "data": {
            "text/plain": [
              "   Gender      Customer Type  Age   Type of Travel     Class  Flight Distance  \\\n",
              "0  Female     Loyal Customer   52  Business travel       Eco              160   \n",
              "1  Female     Loyal Customer   36  Business travel  Business             2863   \n",
              "2    Male  disloyal Customer   20  Business travel       Eco              192   \n",
              "3    Male     Loyal Customer   44  Business travel  Business             3377   \n",
              "4  Female     Loyal Customer   49  Business travel       Eco             1182   \n",
              "\n",
              "   Inflight wifi service  Departure/Arrival time convenient  \\\n",
              "0                      5                                  4   \n",
              "1                      1                                  1   \n",
              "2                      2                                  0   \n",
              "3                      0                                  0   \n",
              "4                      2                                  3   \n",
              "\n",
              "   Ease of Online booking  Gate location  ...  Leg room service  \\\n",
              "0                       3              4  ...                 5   \n",
              "1                       3              1  ...                 4   \n",
              "2                       2              4  ...                 1   \n",
              "3                       0              2  ...                 1   \n",
              "4                       4              3  ...                 2   \n",
              "\n",
              "   Baggage handling  Checkin service  Inflight service  Cleanliness  \\\n",
              "0                 5                2                 5            5   \n",
              "1                 4                3                 4            5   \n",
              "2                 3                2                 2            2   \n",
              "3                 1                3                 1            4   \n",
              "4                 2                4                 2            4   \n",
              "\n",
              "   Departure Delay in Minutes  Arrival Delay in Minutes  \\\n",
              "0                          50                      44.0   \n",
              "1                           0                       0.0   \n",
              "2                           0                       0.0   \n",
              "3                           0                       6.0   \n",
              "4                           0                      20.0   \n",
              "\n",
              "              satisfaction  avg_rating  avg_rating_services_on_board  \n",
              "0                satisfied    4.142857                      4.142857  \n",
              "1                satisfied    3.428571                      3.428571  \n",
              "2  neutral or dissatisfied    2.142857                      2.142857  \n",
              "3                satisfied    1.785714                      1.785714  \n",
              "4                satisfied    2.642857                      2.642857  \n",
              "\n",
              "[5 rows x 25 columns]"
            ],
            "text/html": [
              "\n",
              "  <div id=\"df-631e6f93-1043-41e0-a0e8-80b0739bda0c\" class=\"colab-df-container\">\n",
              "    <div>\n",
              "<style scoped>\n",
              "    .dataframe tbody tr th:only-of-type {\n",
              "        vertical-align: middle;\n",
              "    }\n",
              "\n",
              "    .dataframe tbody tr th {\n",
              "        vertical-align: top;\n",
              "    }\n",
              "\n",
              "    .dataframe thead th {\n",
              "        text-align: right;\n",
              "    }\n",
              "</style>\n",
              "<table border=\"1\" class=\"dataframe\">\n",
              "  <thead>\n",
              "    <tr style=\"text-align: right;\">\n",
              "      <th></th>\n",
              "      <th>Gender</th>\n",
              "      <th>Customer Type</th>\n",
              "      <th>Age</th>\n",
              "      <th>Type of Travel</th>\n",
              "      <th>Class</th>\n",
              "      <th>Flight Distance</th>\n",
              "      <th>Inflight wifi service</th>\n",
              "      <th>Departure/Arrival time convenient</th>\n",
              "      <th>Ease of Online booking</th>\n",
              "      <th>Gate location</th>\n",
              "      <th>...</th>\n",
              "      <th>Leg room service</th>\n",
              "      <th>Baggage handling</th>\n",
              "      <th>Checkin service</th>\n",
              "      <th>Inflight service</th>\n",
              "      <th>Cleanliness</th>\n",
              "      <th>Departure Delay in Minutes</th>\n",
              "      <th>Arrival Delay in Minutes</th>\n",
              "      <th>satisfaction</th>\n",
              "      <th>avg_rating</th>\n",
              "      <th>avg_rating_services_on_board</th>\n",
              "    </tr>\n",
              "  </thead>\n",
              "  <tbody>\n",
              "    <tr>\n",
              "      <th>0</th>\n",
              "      <td>Female</td>\n",
              "      <td>Loyal Customer</td>\n",
              "      <td>52</td>\n",
              "      <td>Business travel</td>\n",
              "      <td>Eco</td>\n",
              "      <td>160</td>\n",
              "      <td>5</td>\n",
              "      <td>4</td>\n",
              "      <td>3</td>\n",
              "      <td>4</td>\n",
              "      <td>...</td>\n",
              "      <td>5</td>\n",
              "      <td>5</td>\n",
              "      <td>2</td>\n",
              "      <td>5</td>\n",
              "      <td>5</td>\n",
              "      <td>50</td>\n",
              "      <td>44.0</td>\n",
              "      <td>satisfied</td>\n",
              "      <td>4.142857</td>\n",
              "      <td>4.142857</td>\n",
              "    </tr>\n",
              "    <tr>\n",
              "      <th>1</th>\n",
              "      <td>Female</td>\n",
              "      <td>Loyal Customer</td>\n",
              "      <td>36</td>\n",
              "      <td>Business travel</td>\n",
              "      <td>Business</td>\n",
              "      <td>2863</td>\n",
              "      <td>1</td>\n",
              "      <td>1</td>\n",
              "      <td>3</td>\n",
              "      <td>1</td>\n",
              "      <td>...</td>\n",
              "      <td>4</td>\n",
              "      <td>4</td>\n",
              "      <td>3</td>\n",
              "      <td>4</td>\n",
              "      <td>5</td>\n",
              "      <td>0</td>\n",
              "      <td>0.0</td>\n",
              "      <td>satisfied</td>\n",
              "      <td>3.428571</td>\n",
              "      <td>3.428571</td>\n",
              "    </tr>\n",
              "    <tr>\n",
              "      <th>2</th>\n",
              "      <td>Male</td>\n",
              "      <td>disloyal Customer</td>\n",
              "      <td>20</td>\n",
              "      <td>Business travel</td>\n",
              "      <td>Eco</td>\n",
              "      <td>192</td>\n",
              "      <td>2</td>\n",
              "      <td>0</td>\n",
              "      <td>2</td>\n",
              "      <td>4</td>\n",
              "      <td>...</td>\n",
              "      <td>1</td>\n",
              "      <td>3</td>\n",
              "      <td>2</td>\n",
              "      <td>2</td>\n",
              "      <td>2</td>\n",
              "      <td>0</td>\n",
              "      <td>0.0</td>\n",
              "      <td>neutral or dissatisfied</td>\n",
              "      <td>2.142857</td>\n",
              "      <td>2.142857</td>\n",
              "    </tr>\n",
              "    <tr>\n",
              "      <th>3</th>\n",
              "      <td>Male</td>\n",
              "      <td>Loyal Customer</td>\n",
              "      <td>44</td>\n",
              "      <td>Business travel</td>\n",
              "      <td>Business</td>\n",
              "      <td>3377</td>\n",
              "      <td>0</td>\n",
              "      <td>0</td>\n",
              "      <td>0</td>\n",
              "      <td>2</td>\n",
              "      <td>...</td>\n",
              "      <td>1</td>\n",
              "      <td>1</td>\n",
              "      <td>3</td>\n",
              "      <td>1</td>\n",
              "      <td>4</td>\n",
              "      <td>0</td>\n",
              "      <td>6.0</td>\n",
              "      <td>satisfied</td>\n",
              "      <td>1.785714</td>\n",
              "      <td>1.785714</td>\n",
              "    </tr>\n",
              "    <tr>\n",
              "      <th>4</th>\n",
              "      <td>Female</td>\n",
              "      <td>Loyal Customer</td>\n",
              "      <td>49</td>\n",
              "      <td>Business travel</td>\n",
              "      <td>Eco</td>\n",
              "      <td>1182</td>\n",
              "      <td>2</td>\n",
              "      <td>3</td>\n",
              "      <td>4</td>\n",
              "      <td>3</td>\n",
              "      <td>...</td>\n",
              "      <td>2</td>\n",
              "      <td>2</td>\n",
              "      <td>4</td>\n",
              "      <td>2</td>\n",
              "      <td>4</td>\n",
              "      <td>0</td>\n",
              "      <td>20.0</td>\n",
              "      <td>satisfied</td>\n",
              "      <td>2.642857</td>\n",
              "      <td>2.642857</td>\n",
              "    </tr>\n",
              "  </tbody>\n",
              "</table>\n",
              "<p>5 rows × 25 columns</p>\n",
              "</div>\n",
              "    <div class=\"colab-df-buttons\">\n",
              "\n",
              "  <div class=\"colab-df-container\">\n",
              "    <button class=\"colab-df-convert\" onclick=\"convertToInteractive('df-631e6f93-1043-41e0-a0e8-80b0739bda0c')\"\n",
              "            title=\"Convert this dataframe to an interactive table.\"\n",
              "            style=\"display:none;\">\n",
              "\n",
              "  <svg xmlns=\"http://www.w3.org/2000/svg\" height=\"24px\" viewBox=\"0 -960 960 960\">\n",
              "    <path d=\"M120-120v-720h720v720H120Zm60-500h600v-160H180v160Zm220 220h160v-160H400v160Zm0 220h160v-160H400v160ZM180-400h160v-160H180v160Zm440 0h160v-160H620v160ZM180-180h160v-160H180v160Zm440 0h160v-160H620v160Z\"/>\n",
              "  </svg>\n",
              "    </button>\n",
              "\n",
              "  <style>\n",
              "    .colab-df-container {\n",
              "      display:flex;\n",
              "      gap: 12px;\n",
              "    }\n",
              "\n",
              "    .colab-df-convert {\n",
              "      background-color: #E8F0FE;\n",
              "      border: none;\n",
              "      border-radius: 50%;\n",
              "      cursor: pointer;\n",
              "      display: none;\n",
              "      fill: #1967D2;\n",
              "      height: 32px;\n",
              "      padding: 0 0 0 0;\n",
              "      width: 32px;\n",
              "    }\n",
              "\n",
              "    .colab-df-convert:hover {\n",
              "      background-color: #E2EBFA;\n",
              "      box-shadow: 0px 1px 2px rgba(60, 64, 67, 0.3), 0px 1px 3px 1px rgba(60, 64, 67, 0.15);\n",
              "      fill: #174EA6;\n",
              "    }\n",
              "\n",
              "    .colab-df-buttons div {\n",
              "      margin-bottom: 4px;\n",
              "    }\n",
              "\n",
              "    [theme=dark] .colab-df-convert {\n",
              "      background-color: #3B4455;\n",
              "      fill: #D2E3FC;\n",
              "    }\n",
              "\n",
              "    [theme=dark] .colab-df-convert:hover {\n",
              "      background-color: #434B5C;\n",
              "      box-shadow: 0px 1px 3px 1px rgba(0, 0, 0, 0.15);\n",
              "      filter: drop-shadow(0px 1px 2px rgba(0, 0, 0, 0.3));\n",
              "      fill: #FFFFFF;\n",
              "    }\n",
              "  </style>\n",
              "\n",
              "    <script>\n",
              "      const buttonEl =\n",
              "        document.querySelector('#df-631e6f93-1043-41e0-a0e8-80b0739bda0c button.colab-df-convert');\n",
              "      buttonEl.style.display =\n",
              "        google.colab.kernel.accessAllowed ? 'block' : 'none';\n",
              "\n",
              "      async function convertToInteractive(key) {\n",
              "        const element = document.querySelector('#df-631e6f93-1043-41e0-a0e8-80b0739bda0c');\n",
              "        const dataTable =\n",
              "          await google.colab.kernel.invokeFunction('convertToInteractive',\n",
              "                                                    [key], {});\n",
              "        if (!dataTable) return;\n",
              "\n",
              "        const docLinkHtml = 'Like what you see? Visit the ' +\n",
              "          '<a target=\"_blank\" href=https://colab.research.google.com/notebooks/data_table.ipynb>data table notebook</a>'\n",
              "          + ' to learn more about interactive tables.';\n",
              "        element.innerHTML = '';\n",
              "        dataTable['output_type'] = 'display_data';\n",
              "        await google.colab.output.renderOutput(dataTable, element);\n",
              "        const docLink = document.createElement('div');\n",
              "        docLink.innerHTML = docLinkHtml;\n",
              "        element.appendChild(docLink);\n",
              "      }\n",
              "    </script>\n",
              "  </div>\n",
              "\n",
              "\n",
              "<div id=\"df-53f986cd-69fe-4991-a56a-936999bbbb2b\">\n",
              "  <button class=\"colab-df-quickchart\" onclick=\"quickchart('df-53f986cd-69fe-4991-a56a-936999bbbb2b')\"\n",
              "            title=\"Suggest charts\"\n",
              "            style=\"display:none;\">\n",
              "\n",
              "<svg xmlns=\"http://www.w3.org/2000/svg\" height=\"24px\"viewBox=\"0 0 24 24\"\n",
              "     width=\"24px\">\n",
              "    <g>\n",
              "        <path d=\"M19 3H5c-1.1 0-2 .9-2 2v14c0 1.1.9 2 2 2h14c1.1 0 2-.9 2-2V5c0-1.1-.9-2-2-2zM9 17H7v-7h2v7zm4 0h-2V7h2v10zm4 0h-2v-4h2v4z\"/>\n",
              "    </g>\n",
              "</svg>\n",
              "  </button>\n",
              "\n",
              "<style>\n",
              "  .colab-df-quickchart {\n",
              "      --bg-color: #E8F0FE;\n",
              "      --fill-color: #1967D2;\n",
              "      --hover-bg-color: #E2EBFA;\n",
              "      --hover-fill-color: #174EA6;\n",
              "      --disabled-fill-color: #AAA;\n",
              "      --disabled-bg-color: #DDD;\n",
              "  }\n",
              "\n",
              "  [theme=dark] .colab-df-quickchart {\n",
              "      --bg-color: #3B4455;\n",
              "      --fill-color: #D2E3FC;\n",
              "      --hover-bg-color: #434B5C;\n",
              "      --hover-fill-color: #FFFFFF;\n",
              "      --disabled-bg-color: #3B4455;\n",
              "      --disabled-fill-color: #666;\n",
              "  }\n",
              "\n",
              "  .colab-df-quickchart {\n",
              "    background-color: var(--bg-color);\n",
              "    border: none;\n",
              "    border-radius: 50%;\n",
              "    cursor: pointer;\n",
              "    display: none;\n",
              "    fill: var(--fill-color);\n",
              "    height: 32px;\n",
              "    padding: 0;\n",
              "    width: 32px;\n",
              "  }\n",
              "\n",
              "  .colab-df-quickchart:hover {\n",
              "    background-color: var(--hover-bg-color);\n",
              "    box-shadow: 0 1px 2px rgba(60, 64, 67, 0.3), 0 1px 3px 1px rgba(60, 64, 67, 0.15);\n",
              "    fill: var(--button-hover-fill-color);\n",
              "  }\n",
              "\n",
              "  .colab-df-quickchart-complete:disabled,\n",
              "  .colab-df-quickchart-complete:disabled:hover {\n",
              "    background-color: var(--disabled-bg-color);\n",
              "    fill: var(--disabled-fill-color);\n",
              "    box-shadow: none;\n",
              "  }\n",
              "\n",
              "  .colab-df-spinner {\n",
              "    border: 2px solid var(--fill-color);\n",
              "    border-color: transparent;\n",
              "    border-bottom-color: var(--fill-color);\n",
              "    animation:\n",
              "      spin 1s steps(1) infinite;\n",
              "  }\n",
              "\n",
              "  @keyframes spin {\n",
              "    0% {\n",
              "      border-color: transparent;\n",
              "      border-bottom-color: var(--fill-color);\n",
              "      border-left-color: var(--fill-color);\n",
              "    }\n",
              "    20% {\n",
              "      border-color: transparent;\n",
              "      border-left-color: var(--fill-color);\n",
              "      border-top-color: var(--fill-color);\n",
              "    }\n",
              "    30% {\n",
              "      border-color: transparent;\n",
              "      border-left-color: var(--fill-color);\n",
              "      border-top-color: var(--fill-color);\n",
              "      border-right-color: var(--fill-color);\n",
              "    }\n",
              "    40% {\n",
              "      border-color: transparent;\n",
              "      border-right-color: var(--fill-color);\n",
              "      border-top-color: var(--fill-color);\n",
              "    }\n",
              "    60% {\n",
              "      border-color: transparent;\n",
              "      border-right-color: var(--fill-color);\n",
              "    }\n",
              "    80% {\n",
              "      border-color: transparent;\n",
              "      border-right-color: var(--fill-color);\n",
              "      border-bottom-color: var(--fill-color);\n",
              "    }\n",
              "    90% {\n",
              "      border-color: transparent;\n",
              "      border-bottom-color: var(--fill-color);\n",
              "    }\n",
              "  }\n",
              "</style>\n",
              "\n",
              "  <script>\n",
              "    async function quickchart(key) {\n",
              "      const quickchartButtonEl =\n",
              "        document.querySelector('#' + key + ' button');\n",
              "      quickchartButtonEl.disabled = true;  // To prevent multiple clicks.\n",
              "      quickchartButtonEl.classList.add('colab-df-spinner');\n",
              "      try {\n",
              "        const charts = await google.colab.kernel.invokeFunction(\n",
              "            'suggestCharts', [key], {});\n",
              "      } catch (error) {\n",
              "        console.error('Error during call to suggestCharts:', error);\n",
              "      }\n",
              "      quickchartButtonEl.classList.remove('colab-df-spinner');\n",
              "      quickchartButtonEl.classList.add('colab-df-quickchart-complete');\n",
              "    }\n",
              "    (() => {\n",
              "      let quickchartButtonEl =\n",
              "        document.querySelector('#df-53f986cd-69fe-4991-a56a-936999bbbb2b button');\n",
              "      quickchartButtonEl.style.display =\n",
              "        google.colab.kernel.accessAllowed ? 'block' : 'none';\n",
              "    })();\n",
              "  </script>\n",
              "</div>\n",
              "\n",
              "    </div>\n",
              "  </div>\n"
            ],
            "application/vnd.google.colaboratory.intrinsic+json": {
              "type": "dataframe",
              "variable_name": "combined_df"
            }
          },
          "metadata": {},
          "execution_count": 12
        }
      ]
    },
    {
      "cell_type": "code",
      "source": [
        "X = combined_df.drop(['satisfaction'], axis=1)\n",
        "\n",
        "y = combined_df['satisfaction']"
      ],
      "metadata": {
        "id": "tWYvATUmal5Z"
      },
      "execution_count": 13,
      "outputs": []
    },
    {
      "cell_type": "markdown",
      "source": [
        "Podział danych na dane treningowe oraz testowe (0.20 oznacza, że cały plik został podzielony na 20% danych testowych a reszta na dane treningowe)"
      ],
      "metadata": {
        "id": "EcGpKETUcIDp"
      }
    },
    {
      "cell_type": "code",
      "source": [
        "from sklearn.model_selection import train_test_split\n",
        "\n",
        "X_train, X_test, y_train, y_test = train_test_split(X, y, test_size = 0.20, random_state = 0)"
      ],
      "metadata": {
        "id": "0N_AZZxPcMcn"
      },
      "execution_count": 14,
      "outputs": []
    },
    {
      "cell_type": "code",
      "source": [
        "X_train.shape, y_train.shape, X_test.shape, y_test.shape"
      ],
      "metadata": {
        "colab": {
          "base_uri": "https://localhost:8080/"
        },
        "id": "GWfQiVotc84f",
        "outputId": "2ef08ee1-62f9-47ca-c0d6-295e8f16e05f"
      },
      "execution_count": 15,
      "outputs": [
        {
          "output_type": "execute_result",
          "data": {
            "text/plain": [
              "((103589, 24), (103589,), (25898, 24), (25898,))"
            ]
          },
          "metadata": {},
          "execution_count": 15
        }
      ]
    },
    {
      "cell_type": "code",
      "source": [
        "categorical = [col for col in X_train.columns if X_train[col].dtypes == 'O']\n",
        "\n",
        "categorical"
      ],
      "metadata": {
        "colab": {
          "base_uri": "https://localhost:8080/"
        },
        "id": "1O8Szc8tjOow",
        "outputId": "da95c859-6f4f-41a6-ac10-beabe973e6d4"
      },
      "execution_count": 16,
      "outputs": [
        {
          "output_type": "execute_result",
          "data": {
            "text/plain": [
              "['Gender', 'Customer Type', 'Type of Travel', 'Class']"
            ]
          },
          "metadata": {},
          "execution_count": 16
        }
      ]
    },
    {
      "cell_type": "code",
      "source": [
        "numerical = [col for col in X_train.columns if X_train[col].dtypes != 'O']\n",
        "\n",
        "numerical"
      ],
      "metadata": {
        "colab": {
          "base_uri": "https://localhost:8080/"
        },
        "id": "aQmpxL2EkJxq",
        "outputId": "b829f7a0-481c-4a4c-9aae-346412588fc4"
      },
      "execution_count": 17,
      "outputs": [
        {
          "output_type": "execute_result",
          "data": {
            "text/plain": [
              "['Age',\n",
              " 'Flight Distance',\n",
              " 'Inflight wifi service',\n",
              " 'Departure/Arrival time convenient',\n",
              " 'Ease of Online booking',\n",
              " 'Gate location',\n",
              " 'Food and drink',\n",
              " 'Online boarding',\n",
              " 'Seat comfort',\n",
              " 'Inflight entertainment',\n",
              " 'On-board service',\n",
              " 'Leg room service',\n",
              " 'Baggage handling',\n",
              " 'Checkin service',\n",
              " 'Inflight service',\n",
              " 'Cleanliness',\n",
              " 'Departure Delay in Minutes',\n",
              " 'Arrival Delay in Minutes',\n",
              " 'avg_rating',\n",
              " 'avg_rating_services_on_board']"
            ]
          },
          "metadata": {},
          "execution_count": 17
        }
      ]
    },
    {
      "cell_type": "markdown",
      "source": [
        "Powyżej zostały wykonane takie operacje jak:\n",
        "- sprawdzenie ilości wartości w zbiorze treningowym oraz testowym,\n",
        "- sprawdzenie wartości kategorycznych i numerycznych."
      ],
      "metadata": {
        "id": "W6Hu3a3gNc1D"
      }
    },
    {
      "cell_type": "markdown",
      "source": [
        "#Kodowanie one-hot dla wartości atrybutów kategorialnych w zbiorze."
      ],
      "metadata": {
        "id": "vfl5qqCaRouO"
      }
    },
    {
      "cell_type": "code",
      "source": [
        "!pip install category-encoders\n",
        "import category_encoders as ce"
      ],
      "metadata": {
        "colab": {
          "base_uri": "https://localhost:8080/"
        },
        "id": "ndEoVnHkRvh0",
        "outputId": "1175031e-1bb3-4878-fd90-466d5bf12099"
      },
      "execution_count": 18,
      "outputs": [
        {
          "output_type": "stream",
          "name": "stdout",
          "text": [
            "Collecting category-encoders\n",
            "  Downloading category_encoders-2.8.0-py3-none-any.whl.metadata (7.9 kB)\n",
            "Requirement already satisfied: numpy>=1.14.0 in /usr/local/lib/python3.11/dist-packages (from category-encoders) (1.26.4)\n",
            "Requirement already satisfied: pandas>=1.0.5 in /usr/local/lib/python3.11/dist-packages (from category-encoders) (2.2.2)\n",
            "Requirement already satisfied: patsy>=0.5.1 in /usr/local/lib/python3.11/dist-packages (from category-encoders) (1.0.1)\n",
            "Requirement already satisfied: scikit-learn>=1.6.0 in /usr/local/lib/python3.11/dist-packages (from category-encoders) (1.6.1)\n",
            "Requirement already satisfied: scipy>=1.0.0 in /usr/local/lib/python3.11/dist-packages (from category-encoders) (1.13.1)\n",
            "Requirement already satisfied: statsmodels>=0.9.0 in /usr/local/lib/python3.11/dist-packages (from category-encoders) (0.14.4)\n",
            "Requirement already satisfied: python-dateutil>=2.8.2 in /usr/local/lib/python3.11/dist-packages (from pandas>=1.0.5->category-encoders) (2.8.2)\n",
            "Requirement already satisfied: pytz>=2020.1 in /usr/local/lib/python3.11/dist-packages (from pandas>=1.0.5->category-encoders) (2025.1)\n",
            "Requirement already satisfied: tzdata>=2022.7 in /usr/local/lib/python3.11/dist-packages (from pandas>=1.0.5->category-encoders) (2025.1)\n",
            "Requirement already satisfied: joblib>=1.2.0 in /usr/local/lib/python3.11/dist-packages (from scikit-learn>=1.6.0->category-encoders) (1.4.2)\n",
            "Requirement already satisfied: threadpoolctl>=3.1.0 in /usr/local/lib/python3.11/dist-packages (from scikit-learn>=1.6.0->category-encoders) (3.5.0)\n",
            "Requirement already satisfied: packaging>=21.3 in /usr/local/lib/python3.11/dist-packages (from statsmodels>=0.9.0->category-encoders) (24.2)\n",
            "Requirement already satisfied: six>=1.5 in /usr/local/lib/python3.11/dist-packages (from python-dateutil>=2.8.2->pandas>=1.0.5->category-encoders) (1.17.0)\n",
            "Downloading category_encoders-2.8.0-py3-none-any.whl (85 kB)\n",
            "\u001b[2K   \u001b[90m━━━━━━━━━━━━━━━━━━━━━━━━━━━━━━━━━━━━━━━━\u001b[0m \u001b[32m85.7/85.7 kB\u001b[0m \u001b[31m2.6 MB/s\u001b[0m eta \u001b[36m0:00:00\u001b[0m\n",
            "\u001b[?25hInstalling collected packages: category-encoders\n",
            "Successfully installed category-encoders-2.8.0\n"
          ]
        }
      ]
    },
    {
      "cell_type": "code",
      "source": [
        "X_train[categorical].isnull().sum()\n",
        "X_train.isnull().sum()"
      ],
      "metadata": {
        "colab": {
          "base_uri": "https://localhost:8080/",
          "height": 837
        },
        "id": "RiP03aj0NqNh",
        "outputId": "e7c4a841-f940-4254-a405-452bcd20f9a1"
      },
      "execution_count": 19,
      "outputs": [
        {
          "output_type": "execute_result",
          "data": {
            "text/plain": [
              "Gender                               0\n",
              "Customer Type                        0\n",
              "Age                                  0\n",
              "Type of Travel                       0\n",
              "Class                                0\n",
              "Flight Distance                      0\n",
              "Inflight wifi service                0\n",
              "Departure/Arrival time convenient    0\n",
              "Ease of Online booking               0\n",
              "Gate location                        0\n",
              "Food and drink                       0\n",
              "Online boarding                      0\n",
              "Seat comfort                         0\n",
              "Inflight entertainment               0\n",
              "On-board service                     0\n",
              "Leg room service                     0\n",
              "Baggage handling                     0\n",
              "Checkin service                      0\n",
              "Inflight service                     0\n",
              "Cleanliness                          0\n",
              "Departure Delay in Minutes           0\n",
              "Arrival Delay in Minutes             0\n",
              "avg_rating                           0\n",
              "avg_rating_services_on_board         0\n",
              "dtype: int64"
            ],
            "text/html": [
              "<div>\n",
              "<style scoped>\n",
              "    .dataframe tbody tr th:only-of-type {\n",
              "        vertical-align: middle;\n",
              "    }\n",
              "\n",
              "    .dataframe tbody tr th {\n",
              "        vertical-align: top;\n",
              "    }\n",
              "\n",
              "    .dataframe thead th {\n",
              "        text-align: right;\n",
              "    }\n",
              "</style>\n",
              "<table border=\"1\" class=\"dataframe\">\n",
              "  <thead>\n",
              "    <tr style=\"text-align: right;\">\n",
              "      <th></th>\n",
              "      <th>0</th>\n",
              "    </tr>\n",
              "  </thead>\n",
              "  <tbody>\n",
              "    <tr>\n",
              "      <th>Gender</th>\n",
              "      <td>0</td>\n",
              "    </tr>\n",
              "    <tr>\n",
              "      <th>Customer Type</th>\n",
              "      <td>0</td>\n",
              "    </tr>\n",
              "    <tr>\n",
              "      <th>Age</th>\n",
              "      <td>0</td>\n",
              "    </tr>\n",
              "    <tr>\n",
              "      <th>Type of Travel</th>\n",
              "      <td>0</td>\n",
              "    </tr>\n",
              "    <tr>\n",
              "      <th>Class</th>\n",
              "      <td>0</td>\n",
              "    </tr>\n",
              "    <tr>\n",
              "      <th>Flight Distance</th>\n",
              "      <td>0</td>\n",
              "    </tr>\n",
              "    <tr>\n",
              "      <th>Inflight wifi service</th>\n",
              "      <td>0</td>\n",
              "    </tr>\n",
              "    <tr>\n",
              "      <th>Departure/Arrival time convenient</th>\n",
              "      <td>0</td>\n",
              "    </tr>\n",
              "    <tr>\n",
              "      <th>Ease of Online booking</th>\n",
              "      <td>0</td>\n",
              "    </tr>\n",
              "    <tr>\n",
              "      <th>Gate location</th>\n",
              "      <td>0</td>\n",
              "    </tr>\n",
              "    <tr>\n",
              "      <th>Food and drink</th>\n",
              "      <td>0</td>\n",
              "    </tr>\n",
              "    <tr>\n",
              "      <th>Online boarding</th>\n",
              "      <td>0</td>\n",
              "    </tr>\n",
              "    <tr>\n",
              "      <th>Seat comfort</th>\n",
              "      <td>0</td>\n",
              "    </tr>\n",
              "    <tr>\n",
              "      <th>Inflight entertainment</th>\n",
              "      <td>0</td>\n",
              "    </tr>\n",
              "    <tr>\n",
              "      <th>On-board service</th>\n",
              "      <td>0</td>\n",
              "    </tr>\n",
              "    <tr>\n",
              "      <th>Leg room service</th>\n",
              "      <td>0</td>\n",
              "    </tr>\n",
              "    <tr>\n",
              "      <th>Baggage handling</th>\n",
              "      <td>0</td>\n",
              "    </tr>\n",
              "    <tr>\n",
              "      <th>Checkin service</th>\n",
              "      <td>0</td>\n",
              "    </tr>\n",
              "    <tr>\n",
              "      <th>Inflight service</th>\n",
              "      <td>0</td>\n",
              "    </tr>\n",
              "    <tr>\n",
              "      <th>Cleanliness</th>\n",
              "      <td>0</td>\n",
              "    </tr>\n",
              "    <tr>\n",
              "      <th>Departure Delay in Minutes</th>\n",
              "      <td>0</td>\n",
              "    </tr>\n",
              "    <tr>\n",
              "      <th>Arrival Delay in Minutes</th>\n",
              "      <td>0</td>\n",
              "    </tr>\n",
              "    <tr>\n",
              "      <th>avg_rating</th>\n",
              "      <td>0</td>\n",
              "    </tr>\n",
              "    <tr>\n",
              "      <th>avg_rating_services_on_board</th>\n",
              "      <td>0</td>\n",
              "    </tr>\n",
              "  </tbody>\n",
              "</table>\n",
              "</div><br><label><b>dtype:</b> int64</label>"
            ]
          },
          "metadata": {},
          "execution_count": 19
        }
      ]
    },
    {
      "cell_type": "markdown",
      "source": [
        "Szybkie sprawdzenie czy wartości kategoryczne nie zawierają pustych pól."
      ],
      "metadata": {
        "id": "NLrSky4KNp_X"
      }
    },
    {
      "cell_type": "code",
      "source": [
        "encoder = ce.OneHotEncoder(cols=categorical)\n",
        "\n",
        "X_train = encoder.fit_transform(X_train)\n",
        "\n",
        "X_test = encoder.transform(X_test)\n"
      ],
      "metadata": {
        "id": "OTGoe17zR30k"
      },
      "execution_count": 20,
      "outputs": []
    },
    {
      "cell_type": "code",
      "source": [
        "X_train.head(10)"
      ],
      "metadata": {
        "colab": {
          "base_uri": "https://localhost:8080/",
          "height": 464
        },
        "id": "uNLIR2NieOG_",
        "outputId": "1c70656e-1418-424a-c2ed-9c701503b6c3"
      },
      "execution_count": 21,
      "outputs": [
        {
          "output_type": "execute_result",
          "data": {
            "text/plain": [
              "        Gender_1  Gender_2  Customer Type_1  Customer Type_2  Age  \\\n",
              "41716          1         0                1                0   29   \n",
              "121071         0         1                1                0   43   \n",
              "43279          0         1                1                0   25   \n",
              "76578          0         1                1                0   33   \n",
              "61338          0         1                1                0   37   \n",
              "56557          0         1                1                0   30   \n",
              "90205          0         1                1                0   54   \n",
              "11554          0         1                1                0   59   \n",
              "49249          0         1                0                1   25   \n",
              "31349          0         1                1                0   18   \n",
              "\n",
              "        Type of Travel_1  Type of Travel_2  Class_1  Class_2  Class_3  ...  \\\n",
              "41716                  1                 0        1        0        0  ...   \n",
              "121071                 0                 1        0        1        0  ...   \n",
              "43279                  1                 0        1        0        0  ...   \n",
              "76578                  1                 0        1        0        0  ...   \n",
              "61338                  0                 1        0        0        1  ...   \n",
              "56557                  0                 1        0        1        0  ...   \n",
              "90205                  1                 0        1        0        0  ...   \n",
              "11554                  0                 1        1        0        0  ...   \n",
              "49249                  0                 1        0        1        0  ...   \n",
              "31349                  0                 1        0        1        0  ...   \n",
              "\n",
              "        On-board service  Leg room service  Baggage handling  Checkin service  \\\n",
              "41716                  3                 2                 3                4   \n",
              "121071                 5                 5                 5                3   \n",
              "43279                  4                 5                 3                4   \n",
              "76578                  2                 4                 1                3   \n",
              "61338                  1                 5                 1                4   \n",
              "56557                  1                 2                 3                2   \n",
              "90205                  2                 3                 2                5   \n",
              "11554                  1                 1                 1                2   \n",
              "49249                  4                 5                 4                4   \n",
              "31349                  4                 1                 2                2   \n",
              "\n",
              "        Inflight service  Cleanliness  Departure Delay in Minutes  \\\n",
              "41716                  5            4                          12   \n",
              "121071                 5            2                           0   \n",
              "43279                  1            4                           5   \n",
              "76578                  2            5                          15   \n",
              "61338                  5            4                           4   \n",
              "56557                  4            3                          13   \n",
              "90205                  2            5                           3   \n",
              "11554                  1            1                          14   \n",
              "49249                  4            2                          11   \n",
              "31349                  3            1                           0   \n",
              "\n",
              "        Arrival Delay in Minutes  avg_rating  avg_rating_services_on_board  \n",
              "41716                        0.0    3.642857                      3.642857  \n",
              "121071                       0.0    3.571429                      3.571429  \n",
              "43279                        0.0    3.285714                      3.285714  \n",
              "76578                       15.0    3.214286                      3.214286  \n",
              "61338                        0.0    3.714286                      3.714286  \n",
              "56557                       10.0    2.785714                      2.785714  \n",
              "90205                        3.0    3.357143                      3.357143  \n",
              "11554                       19.0    2.285714                      2.285714  \n",
              "49249                        7.0    3.357143                      3.357143  \n",
              "31349                        0.0    1.785714                      1.785714  \n",
              "\n",
              "[10 rows x 29 columns]"
            ],
            "text/html": [
              "\n",
              "  <div id=\"df-62b059f1-fc37-45c3-9041-5eb7841fa9ae\" class=\"colab-df-container\">\n",
              "    <div>\n",
              "<style scoped>\n",
              "    .dataframe tbody tr th:only-of-type {\n",
              "        vertical-align: middle;\n",
              "    }\n",
              "\n",
              "    .dataframe tbody tr th {\n",
              "        vertical-align: top;\n",
              "    }\n",
              "\n",
              "    .dataframe thead th {\n",
              "        text-align: right;\n",
              "    }\n",
              "</style>\n",
              "<table border=\"1\" class=\"dataframe\">\n",
              "  <thead>\n",
              "    <tr style=\"text-align: right;\">\n",
              "      <th></th>\n",
              "      <th>Gender_1</th>\n",
              "      <th>Gender_2</th>\n",
              "      <th>Customer Type_1</th>\n",
              "      <th>Customer Type_2</th>\n",
              "      <th>Age</th>\n",
              "      <th>Type of Travel_1</th>\n",
              "      <th>Type of Travel_2</th>\n",
              "      <th>Class_1</th>\n",
              "      <th>Class_2</th>\n",
              "      <th>Class_3</th>\n",
              "      <th>...</th>\n",
              "      <th>On-board service</th>\n",
              "      <th>Leg room service</th>\n",
              "      <th>Baggage handling</th>\n",
              "      <th>Checkin service</th>\n",
              "      <th>Inflight service</th>\n",
              "      <th>Cleanliness</th>\n",
              "      <th>Departure Delay in Minutes</th>\n",
              "      <th>Arrival Delay in Minutes</th>\n",
              "      <th>avg_rating</th>\n",
              "      <th>avg_rating_services_on_board</th>\n",
              "    </tr>\n",
              "  </thead>\n",
              "  <tbody>\n",
              "    <tr>\n",
              "      <th>41716</th>\n",
              "      <td>1</td>\n",
              "      <td>0</td>\n",
              "      <td>1</td>\n",
              "      <td>0</td>\n",
              "      <td>29</td>\n",
              "      <td>1</td>\n",
              "      <td>0</td>\n",
              "      <td>1</td>\n",
              "      <td>0</td>\n",
              "      <td>0</td>\n",
              "      <td>...</td>\n",
              "      <td>3</td>\n",
              "      <td>2</td>\n",
              "      <td>3</td>\n",
              "      <td>4</td>\n",
              "      <td>5</td>\n",
              "      <td>4</td>\n",
              "      <td>12</td>\n",
              "      <td>0.0</td>\n",
              "      <td>3.642857</td>\n",
              "      <td>3.642857</td>\n",
              "    </tr>\n",
              "    <tr>\n",
              "      <th>121071</th>\n",
              "      <td>0</td>\n",
              "      <td>1</td>\n",
              "      <td>1</td>\n",
              "      <td>0</td>\n",
              "      <td>43</td>\n",
              "      <td>0</td>\n",
              "      <td>1</td>\n",
              "      <td>0</td>\n",
              "      <td>1</td>\n",
              "      <td>0</td>\n",
              "      <td>...</td>\n",
              "      <td>5</td>\n",
              "      <td>5</td>\n",
              "      <td>5</td>\n",
              "      <td>3</td>\n",
              "      <td>5</td>\n",
              "      <td>2</td>\n",
              "      <td>0</td>\n",
              "      <td>0.0</td>\n",
              "      <td>3.571429</td>\n",
              "      <td>3.571429</td>\n",
              "    </tr>\n",
              "    <tr>\n",
              "      <th>43279</th>\n",
              "      <td>0</td>\n",
              "      <td>1</td>\n",
              "      <td>1</td>\n",
              "      <td>0</td>\n",
              "      <td>25</td>\n",
              "      <td>1</td>\n",
              "      <td>0</td>\n",
              "      <td>1</td>\n",
              "      <td>0</td>\n",
              "      <td>0</td>\n",
              "      <td>...</td>\n",
              "      <td>4</td>\n",
              "      <td>5</td>\n",
              "      <td>3</td>\n",
              "      <td>4</td>\n",
              "      <td>1</td>\n",
              "      <td>4</td>\n",
              "      <td>5</td>\n",
              "      <td>0.0</td>\n",
              "      <td>3.285714</td>\n",
              "      <td>3.285714</td>\n",
              "    </tr>\n",
              "    <tr>\n",
              "      <th>76578</th>\n",
              "      <td>0</td>\n",
              "      <td>1</td>\n",
              "      <td>1</td>\n",
              "      <td>0</td>\n",
              "      <td>33</td>\n",
              "      <td>1</td>\n",
              "      <td>0</td>\n",
              "      <td>1</td>\n",
              "      <td>0</td>\n",
              "      <td>0</td>\n",
              "      <td>...</td>\n",
              "      <td>2</td>\n",
              "      <td>4</td>\n",
              "      <td>1</td>\n",
              "      <td>3</td>\n",
              "      <td>2</td>\n",
              "      <td>5</td>\n",
              "      <td>15</td>\n",
              "      <td>15.0</td>\n",
              "      <td>3.214286</td>\n",
              "      <td>3.214286</td>\n",
              "    </tr>\n",
              "    <tr>\n",
              "      <th>61338</th>\n",
              "      <td>0</td>\n",
              "      <td>1</td>\n",
              "      <td>1</td>\n",
              "      <td>0</td>\n",
              "      <td>37</td>\n",
              "      <td>0</td>\n",
              "      <td>1</td>\n",
              "      <td>0</td>\n",
              "      <td>0</td>\n",
              "      <td>1</td>\n",
              "      <td>...</td>\n",
              "      <td>1</td>\n",
              "      <td>5</td>\n",
              "      <td>1</td>\n",
              "      <td>4</td>\n",
              "      <td>5</td>\n",
              "      <td>4</td>\n",
              "      <td>4</td>\n",
              "      <td>0.0</td>\n",
              "      <td>3.714286</td>\n",
              "      <td>3.714286</td>\n",
              "    </tr>\n",
              "    <tr>\n",
              "      <th>56557</th>\n",
              "      <td>0</td>\n",
              "      <td>1</td>\n",
              "      <td>1</td>\n",
              "      <td>0</td>\n",
              "      <td>30</td>\n",
              "      <td>0</td>\n",
              "      <td>1</td>\n",
              "      <td>0</td>\n",
              "      <td>1</td>\n",
              "      <td>0</td>\n",
              "      <td>...</td>\n",
              "      <td>1</td>\n",
              "      <td>2</td>\n",
              "      <td>3</td>\n",
              "      <td>2</td>\n",
              "      <td>4</td>\n",
              "      <td>3</td>\n",
              "      <td>13</td>\n",
              "      <td>10.0</td>\n",
              "      <td>2.785714</td>\n",
              "      <td>2.785714</td>\n",
              "    </tr>\n",
              "    <tr>\n",
              "      <th>90205</th>\n",
              "      <td>0</td>\n",
              "      <td>1</td>\n",
              "      <td>1</td>\n",
              "      <td>0</td>\n",
              "      <td>54</td>\n",
              "      <td>1</td>\n",
              "      <td>0</td>\n",
              "      <td>1</td>\n",
              "      <td>0</td>\n",
              "      <td>0</td>\n",
              "      <td>...</td>\n",
              "      <td>2</td>\n",
              "      <td>3</td>\n",
              "      <td>2</td>\n",
              "      <td>5</td>\n",
              "      <td>2</td>\n",
              "      <td>5</td>\n",
              "      <td>3</td>\n",
              "      <td>3.0</td>\n",
              "      <td>3.357143</td>\n",
              "      <td>3.357143</td>\n",
              "    </tr>\n",
              "    <tr>\n",
              "      <th>11554</th>\n",
              "      <td>0</td>\n",
              "      <td>1</td>\n",
              "      <td>1</td>\n",
              "      <td>0</td>\n",
              "      <td>59</td>\n",
              "      <td>0</td>\n",
              "      <td>1</td>\n",
              "      <td>1</td>\n",
              "      <td>0</td>\n",
              "      <td>0</td>\n",
              "      <td>...</td>\n",
              "      <td>1</td>\n",
              "      <td>1</td>\n",
              "      <td>1</td>\n",
              "      <td>2</td>\n",
              "      <td>1</td>\n",
              "      <td>1</td>\n",
              "      <td>14</td>\n",
              "      <td>19.0</td>\n",
              "      <td>2.285714</td>\n",
              "      <td>2.285714</td>\n",
              "    </tr>\n",
              "    <tr>\n",
              "      <th>49249</th>\n",
              "      <td>0</td>\n",
              "      <td>1</td>\n",
              "      <td>0</td>\n",
              "      <td>1</td>\n",
              "      <td>25</td>\n",
              "      <td>0</td>\n",
              "      <td>1</td>\n",
              "      <td>0</td>\n",
              "      <td>1</td>\n",
              "      <td>0</td>\n",
              "      <td>...</td>\n",
              "      <td>4</td>\n",
              "      <td>5</td>\n",
              "      <td>4</td>\n",
              "      <td>4</td>\n",
              "      <td>4</td>\n",
              "      <td>2</td>\n",
              "      <td>11</td>\n",
              "      <td>7.0</td>\n",
              "      <td>3.357143</td>\n",
              "      <td>3.357143</td>\n",
              "    </tr>\n",
              "    <tr>\n",
              "      <th>31349</th>\n",
              "      <td>0</td>\n",
              "      <td>1</td>\n",
              "      <td>1</td>\n",
              "      <td>0</td>\n",
              "      <td>18</td>\n",
              "      <td>0</td>\n",
              "      <td>1</td>\n",
              "      <td>0</td>\n",
              "      <td>1</td>\n",
              "      <td>0</td>\n",
              "      <td>...</td>\n",
              "      <td>4</td>\n",
              "      <td>1</td>\n",
              "      <td>2</td>\n",
              "      <td>2</td>\n",
              "      <td>3</td>\n",
              "      <td>1</td>\n",
              "      <td>0</td>\n",
              "      <td>0.0</td>\n",
              "      <td>1.785714</td>\n",
              "      <td>1.785714</td>\n",
              "    </tr>\n",
              "  </tbody>\n",
              "</table>\n",
              "<p>10 rows × 29 columns</p>\n",
              "</div>\n",
              "    <div class=\"colab-df-buttons\">\n",
              "\n",
              "  <div class=\"colab-df-container\">\n",
              "    <button class=\"colab-df-convert\" onclick=\"convertToInteractive('df-62b059f1-fc37-45c3-9041-5eb7841fa9ae')\"\n",
              "            title=\"Convert this dataframe to an interactive table.\"\n",
              "            style=\"display:none;\">\n",
              "\n",
              "  <svg xmlns=\"http://www.w3.org/2000/svg\" height=\"24px\" viewBox=\"0 -960 960 960\">\n",
              "    <path d=\"M120-120v-720h720v720H120Zm60-500h600v-160H180v160Zm220 220h160v-160H400v160Zm0 220h160v-160H400v160ZM180-400h160v-160H180v160Zm440 0h160v-160H620v160ZM180-180h160v-160H180v160Zm440 0h160v-160H620v160Z\"/>\n",
              "  </svg>\n",
              "    </button>\n",
              "\n",
              "  <style>\n",
              "    .colab-df-container {\n",
              "      display:flex;\n",
              "      gap: 12px;\n",
              "    }\n",
              "\n",
              "    .colab-df-convert {\n",
              "      background-color: #E8F0FE;\n",
              "      border: none;\n",
              "      border-radius: 50%;\n",
              "      cursor: pointer;\n",
              "      display: none;\n",
              "      fill: #1967D2;\n",
              "      height: 32px;\n",
              "      padding: 0 0 0 0;\n",
              "      width: 32px;\n",
              "    }\n",
              "\n",
              "    .colab-df-convert:hover {\n",
              "      background-color: #E2EBFA;\n",
              "      box-shadow: 0px 1px 2px rgba(60, 64, 67, 0.3), 0px 1px 3px 1px rgba(60, 64, 67, 0.15);\n",
              "      fill: #174EA6;\n",
              "    }\n",
              "\n",
              "    .colab-df-buttons div {\n",
              "      margin-bottom: 4px;\n",
              "    }\n",
              "\n",
              "    [theme=dark] .colab-df-convert {\n",
              "      background-color: #3B4455;\n",
              "      fill: #D2E3FC;\n",
              "    }\n",
              "\n",
              "    [theme=dark] .colab-df-convert:hover {\n",
              "      background-color: #434B5C;\n",
              "      box-shadow: 0px 1px 3px 1px rgba(0, 0, 0, 0.15);\n",
              "      filter: drop-shadow(0px 1px 2px rgba(0, 0, 0, 0.3));\n",
              "      fill: #FFFFFF;\n",
              "    }\n",
              "  </style>\n",
              "\n",
              "    <script>\n",
              "      const buttonEl =\n",
              "        document.querySelector('#df-62b059f1-fc37-45c3-9041-5eb7841fa9ae button.colab-df-convert');\n",
              "      buttonEl.style.display =\n",
              "        google.colab.kernel.accessAllowed ? 'block' : 'none';\n",
              "\n",
              "      async function convertToInteractive(key) {\n",
              "        const element = document.querySelector('#df-62b059f1-fc37-45c3-9041-5eb7841fa9ae');\n",
              "        const dataTable =\n",
              "          await google.colab.kernel.invokeFunction('convertToInteractive',\n",
              "                                                    [key], {});\n",
              "        if (!dataTable) return;\n",
              "\n",
              "        const docLinkHtml = 'Like what you see? Visit the ' +\n",
              "          '<a target=\"_blank\" href=https://colab.research.google.com/notebooks/data_table.ipynb>data table notebook</a>'\n",
              "          + ' to learn more about interactive tables.';\n",
              "        element.innerHTML = '';\n",
              "        dataTable['output_type'] = 'display_data';\n",
              "        await google.colab.output.renderOutput(dataTable, element);\n",
              "        const docLink = document.createElement('div');\n",
              "        docLink.innerHTML = docLinkHtml;\n",
              "        element.appendChild(docLink);\n",
              "      }\n",
              "    </script>\n",
              "  </div>\n",
              "\n",
              "\n",
              "<div id=\"df-dd917bc6-af2f-492e-87f3-55b592942170\">\n",
              "  <button class=\"colab-df-quickchart\" onclick=\"quickchart('df-dd917bc6-af2f-492e-87f3-55b592942170')\"\n",
              "            title=\"Suggest charts\"\n",
              "            style=\"display:none;\">\n",
              "\n",
              "<svg xmlns=\"http://www.w3.org/2000/svg\" height=\"24px\"viewBox=\"0 0 24 24\"\n",
              "     width=\"24px\">\n",
              "    <g>\n",
              "        <path d=\"M19 3H5c-1.1 0-2 .9-2 2v14c0 1.1.9 2 2 2h14c1.1 0 2-.9 2-2V5c0-1.1-.9-2-2-2zM9 17H7v-7h2v7zm4 0h-2V7h2v10zm4 0h-2v-4h2v4z\"/>\n",
              "    </g>\n",
              "</svg>\n",
              "  </button>\n",
              "\n",
              "<style>\n",
              "  .colab-df-quickchart {\n",
              "      --bg-color: #E8F0FE;\n",
              "      --fill-color: #1967D2;\n",
              "      --hover-bg-color: #E2EBFA;\n",
              "      --hover-fill-color: #174EA6;\n",
              "      --disabled-fill-color: #AAA;\n",
              "      --disabled-bg-color: #DDD;\n",
              "  }\n",
              "\n",
              "  [theme=dark] .colab-df-quickchart {\n",
              "      --bg-color: #3B4455;\n",
              "      --fill-color: #D2E3FC;\n",
              "      --hover-bg-color: #434B5C;\n",
              "      --hover-fill-color: #FFFFFF;\n",
              "      --disabled-bg-color: #3B4455;\n",
              "      --disabled-fill-color: #666;\n",
              "  }\n",
              "\n",
              "  .colab-df-quickchart {\n",
              "    background-color: var(--bg-color);\n",
              "    border: none;\n",
              "    border-radius: 50%;\n",
              "    cursor: pointer;\n",
              "    display: none;\n",
              "    fill: var(--fill-color);\n",
              "    height: 32px;\n",
              "    padding: 0;\n",
              "    width: 32px;\n",
              "  }\n",
              "\n",
              "  .colab-df-quickchart:hover {\n",
              "    background-color: var(--hover-bg-color);\n",
              "    box-shadow: 0 1px 2px rgba(60, 64, 67, 0.3), 0 1px 3px 1px rgba(60, 64, 67, 0.15);\n",
              "    fill: var(--button-hover-fill-color);\n",
              "  }\n",
              "\n",
              "  .colab-df-quickchart-complete:disabled,\n",
              "  .colab-df-quickchart-complete:disabled:hover {\n",
              "    background-color: var(--disabled-bg-color);\n",
              "    fill: var(--disabled-fill-color);\n",
              "    box-shadow: none;\n",
              "  }\n",
              "\n",
              "  .colab-df-spinner {\n",
              "    border: 2px solid var(--fill-color);\n",
              "    border-color: transparent;\n",
              "    border-bottom-color: var(--fill-color);\n",
              "    animation:\n",
              "      spin 1s steps(1) infinite;\n",
              "  }\n",
              "\n",
              "  @keyframes spin {\n",
              "    0% {\n",
              "      border-color: transparent;\n",
              "      border-bottom-color: var(--fill-color);\n",
              "      border-left-color: var(--fill-color);\n",
              "    }\n",
              "    20% {\n",
              "      border-color: transparent;\n",
              "      border-left-color: var(--fill-color);\n",
              "      border-top-color: var(--fill-color);\n",
              "    }\n",
              "    30% {\n",
              "      border-color: transparent;\n",
              "      border-left-color: var(--fill-color);\n",
              "      border-top-color: var(--fill-color);\n",
              "      border-right-color: var(--fill-color);\n",
              "    }\n",
              "    40% {\n",
              "      border-color: transparent;\n",
              "      border-right-color: var(--fill-color);\n",
              "      border-top-color: var(--fill-color);\n",
              "    }\n",
              "    60% {\n",
              "      border-color: transparent;\n",
              "      border-right-color: var(--fill-color);\n",
              "    }\n",
              "    80% {\n",
              "      border-color: transparent;\n",
              "      border-right-color: var(--fill-color);\n",
              "      border-bottom-color: var(--fill-color);\n",
              "    }\n",
              "    90% {\n",
              "      border-color: transparent;\n",
              "      border-bottom-color: var(--fill-color);\n",
              "    }\n",
              "  }\n",
              "</style>\n",
              "\n",
              "  <script>\n",
              "    async function quickchart(key) {\n",
              "      const quickchartButtonEl =\n",
              "        document.querySelector('#' + key + ' button');\n",
              "      quickchartButtonEl.disabled = true;  // To prevent multiple clicks.\n",
              "      quickchartButtonEl.classList.add('colab-df-spinner');\n",
              "      try {\n",
              "        const charts = await google.colab.kernel.invokeFunction(\n",
              "            'suggestCharts', [key], {});\n",
              "      } catch (error) {\n",
              "        console.error('Error during call to suggestCharts:', error);\n",
              "      }\n",
              "      quickchartButtonEl.classList.remove('colab-df-spinner');\n",
              "      quickchartButtonEl.classList.add('colab-df-quickchart-complete');\n",
              "    }\n",
              "    (() => {\n",
              "      let quickchartButtonEl =\n",
              "        document.querySelector('#df-dd917bc6-af2f-492e-87f3-55b592942170 button');\n",
              "      quickchartButtonEl.style.display =\n",
              "        google.colab.kernel.accessAllowed ? 'block' : 'none';\n",
              "    })();\n",
              "  </script>\n",
              "</div>\n",
              "\n",
              "    </div>\n",
              "  </div>\n"
            ],
            "application/vnd.google.colaboratory.intrinsic+json": {
              "type": "dataframe",
              "variable_name": "X_train"
            }
          },
          "metadata": {},
          "execution_count": 21
        }
      ]
    },
    {
      "cell_type": "code",
      "source": [
        "X_test.head(10)"
      ],
      "metadata": {
        "colab": {
          "base_uri": "https://localhost:8080/",
          "height": 464
        },
        "id": "o5dJwe9eekxy",
        "outputId": "acfbfacd-e80e-4d2d-ed8b-04a5879afc74"
      },
      "execution_count": 22,
      "outputs": [
        {
          "output_type": "execute_result",
          "data": {
            "text/plain": [
              "        Gender_1  Gender_2  Customer Type_1  Customer Type_2  Age  \\\n",
              "43166          0         1                0                1   21   \n",
              "125242         0         1                1                0   32   \n",
              "28475          0         1                1                0   11   \n",
              "124206         0         1                1                0   63   \n",
              "39394          1         0                1                0   42   \n",
              "106841         0         1                0                1   33   \n",
              "97952          0         1                1                0   58   \n",
              "78524          1         0                0                1   16   \n",
              "57115          0         1                1                0   39   \n",
              "1909           0         1                1                0   31   \n",
              "\n",
              "        Type of Travel_1  Type of Travel_2  Class_1  Class_2  Class_3  ...  \\\n",
              "43166                  0                 1        1        0        0  ...   \n",
              "125242                 0                 1        0        1        0  ...   \n",
              "28475                  1                 0        1        0        0  ...   \n",
              "124206                 1                 0        1        0        0  ...   \n",
              "39394                  0                 1        1        0        0  ...   \n",
              "106841                 0                 1        0        1        0  ...   \n",
              "97952                  1                 0        1        0        0  ...   \n",
              "78524                  0                 1        1        0        0  ...   \n",
              "57115                  0                 1        0        1        0  ...   \n",
              "1909                   0                 1        0        1        0  ...   \n",
              "\n",
              "        On-board service  Leg room service  Baggage handling  Checkin service  \\\n",
              "43166                  4                 2                 4                4   \n",
              "125242                 2                 2                 2                1   \n",
              "28475                  1                 2                 3                2   \n",
              "124206                 2                 3                 2                5   \n",
              "39394                  1                 4                 3                1   \n",
              "106841                 5                 3                 4                4   \n",
              "97952                  3                 2                 2                4   \n",
              "78524                  1                 2                 4                1   \n",
              "57115                  4                 4                 4                3   \n",
              "1909                   5                 5                 4                5   \n",
              "\n",
              "        Inflight service  Cleanliness  Departure Delay in Minutes  \\\n",
              "43166                  4            3                          79   \n",
              "125242                 3            5                           0   \n",
              "28475                  4            2                           0   \n",
              "124206                 2            4                           0   \n",
              "39394                  3            2                           0   \n",
              "106841                 4            2                           3   \n",
              "97952                  3            4                          14   \n",
              "78524                  3            3                          33   \n",
              "57115                  4            5                           0   \n",
              "1909                   5            4                           0   \n",
              "\n",
              "        Arrival Delay in Minutes  avg_rating  avg_rating_services_on_board  \n",
              "43166                       77.0    2.928571                      2.928571  \n",
              "125242                      12.0    3.500000                      3.500000  \n",
              "28475                        0.0    2.285714                      2.285714  \n",
              "124206                       0.0    3.357143                      3.357143  \n",
              "39394                        0.0    2.571429                      2.571429  \n",
              "106841                       0.0    2.642857                      2.642857  \n",
              "97952                       41.0    2.928571                      2.928571  \n",
              "78524                       30.0    3.000000                      3.000000  \n",
              "57115                        0.0    4.428571                      4.428571  \n",
              "1909                         0.0    3.714286                      3.714286  \n",
              "\n",
              "[10 rows x 29 columns]"
            ],
            "text/html": [
              "\n",
              "  <div id=\"df-ae812444-4580-4b22-85c9-f46448571b84\" class=\"colab-df-container\">\n",
              "    <div>\n",
              "<style scoped>\n",
              "    .dataframe tbody tr th:only-of-type {\n",
              "        vertical-align: middle;\n",
              "    }\n",
              "\n",
              "    .dataframe tbody tr th {\n",
              "        vertical-align: top;\n",
              "    }\n",
              "\n",
              "    .dataframe thead th {\n",
              "        text-align: right;\n",
              "    }\n",
              "</style>\n",
              "<table border=\"1\" class=\"dataframe\">\n",
              "  <thead>\n",
              "    <tr style=\"text-align: right;\">\n",
              "      <th></th>\n",
              "      <th>Gender_1</th>\n",
              "      <th>Gender_2</th>\n",
              "      <th>Customer Type_1</th>\n",
              "      <th>Customer Type_2</th>\n",
              "      <th>Age</th>\n",
              "      <th>Type of Travel_1</th>\n",
              "      <th>Type of Travel_2</th>\n",
              "      <th>Class_1</th>\n",
              "      <th>Class_2</th>\n",
              "      <th>Class_3</th>\n",
              "      <th>...</th>\n",
              "      <th>On-board service</th>\n",
              "      <th>Leg room service</th>\n",
              "      <th>Baggage handling</th>\n",
              "      <th>Checkin service</th>\n",
              "      <th>Inflight service</th>\n",
              "      <th>Cleanliness</th>\n",
              "      <th>Departure Delay in Minutes</th>\n",
              "      <th>Arrival Delay in Minutes</th>\n",
              "      <th>avg_rating</th>\n",
              "      <th>avg_rating_services_on_board</th>\n",
              "    </tr>\n",
              "  </thead>\n",
              "  <tbody>\n",
              "    <tr>\n",
              "      <th>43166</th>\n",
              "      <td>0</td>\n",
              "      <td>1</td>\n",
              "      <td>0</td>\n",
              "      <td>1</td>\n",
              "      <td>21</td>\n",
              "      <td>0</td>\n",
              "      <td>1</td>\n",
              "      <td>1</td>\n",
              "      <td>0</td>\n",
              "      <td>0</td>\n",
              "      <td>...</td>\n",
              "      <td>4</td>\n",
              "      <td>2</td>\n",
              "      <td>4</td>\n",
              "      <td>4</td>\n",
              "      <td>4</td>\n",
              "      <td>3</td>\n",
              "      <td>79</td>\n",
              "      <td>77.0</td>\n",
              "      <td>2.928571</td>\n",
              "      <td>2.928571</td>\n",
              "    </tr>\n",
              "    <tr>\n",
              "      <th>125242</th>\n",
              "      <td>0</td>\n",
              "      <td>1</td>\n",
              "      <td>1</td>\n",
              "      <td>0</td>\n",
              "      <td>32</td>\n",
              "      <td>0</td>\n",
              "      <td>1</td>\n",
              "      <td>0</td>\n",
              "      <td>1</td>\n",
              "      <td>0</td>\n",
              "      <td>...</td>\n",
              "      <td>2</td>\n",
              "      <td>2</td>\n",
              "      <td>2</td>\n",
              "      <td>1</td>\n",
              "      <td>3</td>\n",
              "      <td>5</td>\n",
              "      <td>0</td>\n",
              "      <td>12.0</td>\n",
              "      <td>3.500000</td>\n",
              "      <td>3.500000</td>\n",
              "    </tr>\n",
              "    <tr>\n",
              "      <th>28475</th>\n",
              "      <td>0</td>\n",
              "      <td>1</td>\n",
              "      <td>1</td>\n",
              "      <td>0</td>\n",
              "      <td>11</td>\n",
              "      <td>1</td>\n",
              "      <td>0</td>\n",
              "      <td>1</td>\n",
              "      <td>0</td>\n",
              "      <td>0</td>\n",
              "      <td>...</td>\n",
              "      <td>1</td>\n",
              "      <td>2</td>\n",
              "      <td>3</td>\n",
              "      <td>2</td>\n",
              "      <td>4</td>\n",
              "      <td>2</td>\n",
              "      <td>0</td>\n",
              "      <td>0.0</td>\n",
              "      <td>2.285714</td>\n",
              "      <td>2.285714</td>\n",
              "    </tr>\n",
              "    <tr>\n",
              "      <th>124206</th>\n",
              "      <td>0</td>\n",
              "      <td>1</td>\n",
              "      <td>1</td>\n",
              "      <td>0</td>\n",
              "      <td>63</td>\n",
              "      <td>1</td>\n",
              "      <td>0</td>\n",
              "      <td>1</td>\n",
              "      <td>0</td>\n",
              "      <td>0</td>\n",
              "      <td>...</td>\n",
              "      <td>2</td>\n",
              "      <td>3</td>\n",
              "      <td>2</td>\n",
              "      <td>5</td>\n",
              "      <td>2</td>\n",
              "      <td>4</td>\n",
              "      <td>0</td>\n",
              "      <td>0.0</td>\n",
              "      <td>3.357143</td>\n",
              "      <td>3.357143</td>\n",
              "    </tr>\n",
              "    <tr>\n",
              "      <th>39394</th>\n",
              "      <td>1</td>\n",
              "      <td>0</td>\n",
              "      <td>1</td>\n",
              "      <td>0</td>\n",
              "      <td>42</td>\n",
              "      <td>0</td>\n",
              "      <td>1</td>\n",
              "      <td>1</td>\n",
              "      <td>0</td>\n",
              "      <td>0</td>\n",
              "      <td>...</td>\n",
              "      <td>1</td>\n",
              "      <td>4</td>\n",
              "      <td>3</td>\n",
              "      <td>1</td>\n",
              "      <td>3</td>\n",
              "      <td>2</td>\n",
              "      <td>0</td>\n",
              "      <td>0.0</td>\n",
              "      <td>2.571429</td>\n",
              "      <td>2.571429</td>\n",
              "    </tr>\n",
              "    <tr>\n",
              "      <th>106841</th>\n",
              "      <td>0</td>\n",
              "      <td>1</td>\n",
              "      <td>0</td>\n",
              "      <td>1</td>\n",
              "      <td>33</td>\n",
              "      <td>0</td>\n",
              "      <td>1</td>\n",
              "      <td>0</td>\n",
              "      <td>1</td>\n",
              "      <td>0</td>\n",
              "      <td>...</td>\n",
              "      <td>5</td>\n",
              "      <td>3</td>\n",
              "      <td>4</td>\n",
              "      <td>4</td>\n",
              "      <td>4</td>\n",
              "      <td>2</td>\n",
              "      <td>3</td>\n",
              "      <td>0.0</td>\n",
              "      <td>2.642857</td>\n",
              "      <td>2.642857</td>\n",
              "    </tr>\n",
              "    <tr>\n",
              "      <th>97952</th>\n",
              "      <td>0</td>\n",
              "      <td>1</td>\n",
              "      <td>1</td>\n",
              "      <td>0</td>\n",
              "      <td>58</td>\n",
              "      <td>1</td>\n",
              "      <td>0</td>\n",
              "      <td>1</td>\n",
              "      <td>0</td>\n",
              "      <td>0</td>\n",
              "      <td>...</td>\n",
              "      <td>3</td>\n",
              "      <td>2</td>\n",
              "      <td>2</td>\n",
              "      <td>4</td>\n",
              "      <td>3</td>\n",
              "      <td>4</td>\n",
              "      <td>14</td>\n",
              "      <td>41.0</td>\n",
              "      <td>2.928571</td>\n",
              "      <td>2.928571</td>\n",
              "    </tr>\n",
              "    <tr>\n",
              "      <th>78524</th>\n",
              "      <td>1</td>\n",
              "      <td>0</td>\n",
              "      <td>0</td>\n",
              "      <td>1</td>\n",
              "      <td>16</td>\n",
              "      <td>0</td>\n",
              "      <td>1</td>\n",
              "      <td>1</td>\n",
              "      <td>0</td>\n",
              "      <td>0</td>\n",
              "      <td>...</td>\n",
              "      <td>1</td>\n",
              "      <td>2</td>\n",
              "      <td>4</td>\n",
              "      <td>1</td>\n",
              "      <td>3</td>\n",
              "      <td>3</td>\n",
              "      <td>33</td>\n",
              "      <td>30.0</td>\n",
              "      <td>3.000000</td>\n",
              "      <td>3.000000</td>\n",
              "    </tr>\n",
              "    <tr>\n",
              "      <th>57115</th>\n",
              "      <td>0</td>\n",
              "      <td>1</td>\n",
              "      <td>1</td>\n",
              "      <td>0</td>\n",
              "      <td>39</td>\n",
              "      <td>0</td>\n",
              "      <td>1</td>\n",
              "      <td>0</td>\n",
              "      <td>1</td>\n",
              "      <td>0</td>\n",
              "      <td>...</td>\n",
              "      <td>4</td>\n",
              "      <td>4</td>\n",
              "      <td>4</td>\n",
              "      <td>3</td>\n",
              "      <td>4</td>\n",
              "      <td>5</td>\n",
              "      <td>0</td>\n",
              "      <td>0.0</td>\n",
              "      <td>4.428571</td>\n",
              "      <td>4.428571</td>\n",
              "    </tr>\n",
              "    <tr>\n",
              "      <th>1909</th>\n",
              "      <td>0</td>\n",
              "      <td>1</td>\n",
              "      <td>1</td>\n",
              "      <td>0</td>\n",
              "      <td>31</td>\n",
              "      <td>0</td>\n",
              "      <td>1</td>\n",
              "      <td>0</td>\n",
              "      <td>1</td>\n",
              "      <td>0</td>\n",
              "      <td>...</td>\n",
              "      <td>5</td>\n",
              "      <td>5</td>\n",
              "      <td>4</td>\n",
              "      <td>5</td>\n",
              "      <td>5</td>\n",
              "      <td>4</td>\n",
              "      <td>0</td>\n",
              "      <td>0.0</td>\n",
              "      <td>3.714286</td>\n",
              "      <td>3.714286</td>\n",
              "    </tr>\n",
              "  </tbody>\n",
              "</table>\n",
              "<p>10 rows × 29 columns</p>\n",
              "</div>\n",
              "    <div class=\"colab-df-buttons\">\n",
              "\n",
              "  <div class=\"colab-df-container\">\n",
              "    <button class=\"colab-df-convert\" onclick=\"convertToInteractive('df-ae812444-4580-4b22-85c9-f46448571b84')\"\n",
              "            title=\"Convert this dataframe to an interactive table.\"\n",
              "            style=\"display:none;\">\n",
              "\n",
              "  <svg xmlns=\"http://www.w3.org/2000/svg\" height=\"24px\" viewBox=\"0 -960 960 960\">\n",
              "    <path d=\"M120-120v-720h720v720H120Zm60-500h600v-160H180v160Zm220 220h160v-160H400v160Zm0 220h160v-160H400v160ZM180-400h160v-160H180v160Zm440 0h160v-160H620v160ZM180-180h160v-160H180v160Zm440 0h160v-160H620v160Z\"/>\n",
              "  </svg>\n",
              "    </button>\n",
              "\n",
              "  <style>\n",
              "    .colab-df-container {\n",
              "      display:flex;\n",
              "      gap: 12px;\n",
              "    }\n",
              "\n",
              "    .colab-df-convert {\n",
              "      background-color: #E8F0FE;\n",
              "      border: none;\n",
              "      border-radius: 50%;\n",
              "      cursor: pointer;\n",
              "      display: none;\n",
              "      fill: #1967D2;\n",
              "      height: 32px;\n",
              "      padding: 0 0 0 0;\n",
              "      width: 32px;\n",
              "    }\n",
              "\n",
              "    .colab-df-convert:hover {\n",
              "      background-color: #E2EBFA;\n",
              "      box-shadow: 0px 1px 2px rgba(60, 64, 67, 0.3), 0px 1px 3px 1px rgba(60, 64, 67, 0.15);\n",
              "      fill: #174EA6;\n",
              "    }\n",
              "\n",
              "    .colab-df-buttons div {\n",
              "      margin-bottom: 4px;\n",
              "    }\n",
              "\n",
              "    [theme=dark] .colab-df-convert {\n",
              "      background-color: #3B4455;\n",
              "      fill: #D2E3FC;\n",
              "    }\n",
              "\n",
              "    [theme=dark] .colab-df-convert:hover {\n",
              "      background-color: #434B5C;\n",
              "      box-shadow: 0px 1px 3px 1px rgba(0, 0, 0, 0.15);\n",
              "      filter: drop-shadow(0px 1px 2px rgba(0, 0, 0, 0.3));\n",
              "      fill: #FFFFFF;\n",
              "    }\n",
              "  </style>\n",
              "\n",
              "    <script>\n",
              "      const buttonEl =\n",
              "        document.querySelector('#df-ae812444-4580-4b22-85c9-f46448571b84 button.colab-df-convert');\n",
              "      buttonEl.style.display =\n",
              "        google.colab.kernel.accessAllowed ? 'block' : 'none';\n",
              "\n",
              "      async function convertToInteractive(key) {\n",
              "        const element = document.querySelector('#df-ae812444-4580-4b22-85c9-f46448571b84');\n",
              "        const dataTable =\n",
              "          await google.colab.kernel.invokeFunction('convertToInteractive',\n",
              "                                                    [key], {});\n",
              "        if (!dataTable) return;\n",
              "\n",
              "        const docLinkHtml = 'Like what you see? Visit the ' +\n",
              "          '<a target=\"_blank\" href=https://colab.research.google.com/notebooks/data_table.ipynb>data table notebook</a>'\n",
              "          + ' to learn more about interactive tables.';\n",
              "        element.innerHTML = '';\n",
              "        dataTable['output_type'] = 'display_data';\n",
              "        await google.colab.output.renderOutput(dataTable, element);\n",
              "        const docLink = document.createElement('div');\n",
              "        docLink.innerHTML = docLinkHtml;\n",
              "        element.appendChild(docLink);\n",
              "      }\n",
              "    </script>\n",
              "  </div>\n",
              "\n",
              "\n",
              "<div id=\"df-1b99e5ef-bd89-4ae3-b0c3-3adf7cd339da\">\n",
              "  <button class=\"colab-df-quickchart\" onclick=\"quickchart('df-1b99e5ef-bd89-4ae3-b0c3-3adf7cd339da')\"\n",
              "            title=\"Suggest charts\"\n",
              "            style=\"display:none;\">\n",
              "\n",
              "<svg xmlns=\"http://www.w3.org/2000/svg\" height=\"24px\"viewBox=\"0 0 24 24\"\n",
              "     width=\"24px\">\n",
              "    <g>\n",
              "        <path d=\"M19 3H5c-1.1 0-2 .9-2 2v14c0 1.1.9 2 2 2h14c1.1 0 2-.9 2-2V5c0-1.1-.9-2-2-2zM9 17H7v-7h2v7zm4 0h-2V7h2v10zm4 0h-2v-4h2v4z\"/>\n",
              "    </g>\n",
              "</svg>\n",
              "  </button>\n",
              "\n",
              "<style>\n",
              "  .colab-df-quickchart {\n",
              "      --bg-color: #E8F0FE;\n",
              "      --fill-color: #1967D2;\n",
              "      --hover-bg-color: #E2EBFA;\n",
              "      --hover-fill-color: #174EA6;\n",
              "      --disabled-fill-color: #AAA;\n",
              "      --disabled-bg-color: #DDD;\n",
              "  }\n",
              "\n",
              "  [theme=dark] .colab-df-quickchart {\n",
              "      --bg-color: #3B4455;\n",
              "      --fill-color: #D2E3FC;\n",
              "      --hover-bg-color: #434B5C;\n",
              "      --hover-fill-color: #FFFFFF;\n",
              "      --disabled-bg-color: #3B4455;\n",
              "      --disabled-fill-color: #666;\n",
              "  }\n",
              "\n",
              "  .colab-df-quickchart {\n",
              "    background-color: var(--bg-color);\n",
              "    border: none;\n",
              "    border-radius: 50%;\n",
              "    cursor: pointer;\n",
              "    display: none;\n",
              "    fill: var(--fill-color);\n",
              "    height: 32px;\n",
              "    padding: 0;\n",
              "    width: 32px;\n",
              "  }\n",
              "\n",
              "  .colab-df-quickchart:hover {\n",
              "    background-color: var(--hover-bg-color);\n",
              "    box-shadow: 0 1px 2px rgba(60, 64, 67, 0.3), 0 1px 3px 1px rgba(60, 64, 67, 0.15);\n",
              "    fill: var(--button-hover-fill-color);\n",
              "  }\n",
              "\n",
              "  .colab-df-quickchart-complete:disabled,\n",
              "  .colab-df-quickchart-complete:disabled:hover {\n",
              "    background-color: var(--disabled-bg-color);\n",
              "    fill: var(--disabled-fill-color);\n",
              "    box-shadow: none;\n",
              "  }\n",
              "\n",
              "  .colab-df-spinner {\n",
              "    border: 2px solid var(--fill-color);\n",
              "    border-color: transparent;\n",
              "    border-bottom-color: var(--fill-color);\n",
              "    animation:\n",
              "      spin 1s steps(1) infinite;\n",
              "  }\n",
              "\n",
              "  @keyframes spin {\n",
              "    0% {\n",
              "      border-color: transparent;\n",
              "      border-bottom-color: var(--fill-color);\n",
              "      border-left-color: var(--fill-color);\n",
              "    }\n",
              "    20% {\n",
              "      border-color: transparent;\n",
              "      border-left-color: var(--fill-color);\n",
              "      border-top-color: var(--fill-color);\n",
              "    }\n",
              "    30% {\n",
              "      border-color: transparent;\n",
              "      border-left-color: var(--fill-color);\n",
              "      border-top-color: var(--fill-color);\n",
              "      border-right-color: var(--fill-color);\n",
              "    }\n",
              "    40% {\n",
              "      border-color: transparent;\n",
              "      border-right-color: var(--fill-color);\n",
              "      border-top-color: var(--fill-color);\n",
              "    }\n",
              "    60% {\n",
              "      border-color: transparent;\n",
              "      border-right-color: var(--fill-color);\n",
              "    }\n",
              "    80% {\n",
              "      border-color: transparent;\n",
              "      border-right-color: var(--fill-color);\n",
              "      border-bottom-color: var(--fill-color);\n",
              "    }\n",
              "    90% {\n",
              "      border-color: transparent;\n",
              "      border-bottom-color: var(--fill-color);\n",
              "    }\n",
              "  }\n",
              "</style>\n",
              "\n",
              "  <script>\n",
              "    async function quickchart(key) {\n",
              "      const quickchartButtonEl =\n",
              "        document.querySelector('#' + key + ' button');\n",
              "      quickchartButtonEl.disabled = true;  // To prevent multiple clicks.\n",
              "      quickchartButtonEl.classList.add('colab-df-spinner');\n",
              "      try {\n",
              "        const charts = await google.colab.kernel.invokeFunction(\n",
              "            'suggestCharts', [key], {});\n",
              "      } catch (error) {\n",
              "        console.error('Error during call to suggestCharts:', error);\n",
              "      }\n",
              "      quickchartButtonEl.classList.remove('colab-df-spinner');\n",
              "      quickchartButtonEl.classList.add('colab-df-quickchart-complete');\n",
              "    }\n",
              "    (() => {\n",
              "      let quickchartButtonEl =\n",
              "        document.querySelector('#df-1b99e5ef-bd89-4ae3-b0c3-3adf7cd339da button');\n",
              "      quickchartButtonEl.style.display =\n",
              "        google.colab.kernel.accessAllowed ? 'block' : 'none';\n",
              "    })();\n",
              "  </script>\n",
              "</div>\n",
              "\n",
              "    </div>\n",
              "  </div>\n"
            ],
            "application/vnd.google.colaboratory.intrinsic+json": {
              "type": "dataframe",
              "variable_name": "X_test"
            }
          },
          "metadata": {},
          "execution_count": 22
        }
      ]
    },
    {
      "cell_type": "code",
      "source": [
        "X_train.shape, X_test.shape"
      ],
      "metadata": {
        "colab": {
          "base_uri": "https://localhost:8080/"
        },
        "id": "vewX9WBMnemm",
        "outputId": "3e05c7be-00b8-4584-d8e6-20a4c685e151"
      },
      "execution_count": 23,
      "outputs": [
        {
          "output_type": "execute_result",
          "data": {
            "text/plain": [
              "((103589, 29), (25898, 29))"
            ]
          },
          "metadata": {},
          "execution_count": 23
        }
      ]
    },
    {
      "cell_type": "code",
      "source": [
        "y_train.shape, y_test.shape\n"
      ],
      "metadata": {
        "colab": {
          "base_uri": "https://localhost:8080/"
        },
        "id": "zTrOsfUfsEoN",
        "outputId": "1b178e2f-672c-4d6c-96ff-cda5d92689f6"
      },
      "execution_count": 24,
      "outputs": [
        {
          "output_type": "execute_result",
          "data": {
            "text/plain": [
              "((103589,), (25898,))"
            ]
          },
          "metadata": {},
          "execution_count": 24
        }
      ]
    },
    {
      "cell_type": "markdown",
      "source": [
        "Przygotowane zostały dane treningowe oraz testowe do budowania modelu."
      ],
      "metadata": {
        "id": "wkz7MXsSWQwO"
      }
    },
    {
      "cell_type": "markdown",
      "source": [
        "Wartości kategoryczne zostały podzielone metodą one-hot na poniższe:\n",
        "\n",
        "\n",
        "*   Gender_1 - Male\n",
        "*   Gender_2 - Female\n",
        "*   Customer Type_1 - Loyal Customer\n",
        "*   Customer Type_2 - disloyal Customer\n",
        "*   Type of Traves_1 - Personal Travel\n",
        "*   Type of Traves_2 - Business travel\n",
        "*   Class_1 - Eco Plus\n",
        "*   Class_2 - Business\n",
        "*   Class_3 - Eco\n",
        "\n",
        "\n",
        "\n",
        "\n",
        "\n",
        "\n",
        "\n",
        "\n"
      ],
      "metadata": {
        "id": "pWJlxEYoUTO1"
      }
    },
    {
      "cell_type": "markdown",
      "source": [
        "#Wybranie algorytmów selekcji atrybutów."
      ],
      "metadata": {
        "id": "Bb6l9-1ak2Bq"
      }
    },
    {
      "cell_type": "markdown",
      "source": [
        "Do selekcji atrybutów został wybrany algorytm PCA (Principal Component Analysis). Jest on metodą analizy danych, która zmniejsza wymiarowość danych, jednocześnie zachowując jak najwięcej zmienności w danych. Żeby z niej skorzystać została wykorzystana biblioteka scikit-learn."
      ],
      "metadata": {
        "id": "8vaSQzRVUQ-V"
      }
    },
    {
      "cell_type": "code",
      "source": [
        "from sklearn.decomposition import PCA\n",
        "from sklearn.preprocessing import StandardScaler"
      ],
      "metadata": {
        "id": "lrZj896dVo8f"
      },
      "execution_count": 25,
      "outputs": []
    },
    {
      "cell_type": "markdown",
      "source": [
        "Następnie dane są standaryzowane za pomocą StandardScaler'a."
      ],
      "metadata": {
        "id": "4e-AfBM7WiV6"
      }
    },
    {
      "cell_type": "code",
      "source": [
        "scaler = StandardScaler()\n",
        "X_train_pca = scaler.fit_transform(X_train)\n",
        "X_test_pca = scaler.transform(X_test)"
      ],
      "metadata": {
        "id": "07pHehKav-_R"
      },
      "execution_count": 26,
      "outputs": []
    },
    {
      "cell_type": "markdown",
      "source": [
        "Następnie zostaje utworzony obiekt PCA, w którym zostaje określona liczba komponentów, na które zostaną zredukowane dane, następnie model zostaje dopasowany do danych i dane zostają przekształcone."
      ],
      "metadata": {
        "id": "yQu5vXCuZCV3"
      }
    },
    {
      "cell_type": "code",
      "source": [
        "pca = PCA(n_components=2)\n",
        "pca_comp = pca.fit_transform(X_train_pca)\n",
        "comp_df = pd.DataFrame(data=pca_comp, columns=['PCA1', 'PCA2'])"
      ],
      "metadata": {
        "id": "F7X0kKSEZpq6"
      },
      "execution_count": 27,
      "outputs": []
    },
    {
      "cell_type": "markdown",
      "source": [
        "Następnie wizualizujemy wynik z algorytmu PCA."
      ],
      "metadata": {
        "id": "9m9QRYFYanqM"
      }
    },
    {
      "cell_type": "code",
      "source": [
        "plt.scatter(comp_df['PCA1'], comp_df['PCA2'], color='blue', edgecolor='black')\n",
        "plt.xlabel('Komponent PCA 1')\n",
        "plt.ylabel('Komponent PCA 2')\n",
        "plt.title('Wizualizacja PCA')\n",
        "plt.show()"
      ],
      "metadata": {
        "colab": {
          "base_uri": "https://localhost:8080/",
          "height": 472
        },
        "id": "ocmO9nogax03",
        "outputId": "4644cb3b-e2a7-4f6f-c67a-f877666aec60"
      },
      "execution_count": 28,
      "outputs": [
        {
          "output_type": "display_data",
          "data": {
            "text/plain": [
              "<Figure size 640x480 with 1 Axes>"
            ],
            "image/png": "[encoded data removed]"
          },
          "metadata": {}
        }
      ]
    },
    {
      "cell_type": "markdown",
      "source": [
        "# Wybór algorytmów klasyfikacji."
      ],
      "metadata": {
        "id": "zSZBsnnzfTUL"
      }
    },
    {
      "cell_type": "markdown",
      "source": [
        "W celu poprawnego sklasyfikowania danych została użyta metoda drzewa decyzyjnego oraz algorytm Naive Bayes."
      ],
      "metadata": {
        "id": "DP93bIURfi7-"
      }
    },
    {
      "cell_type": "markdown",
      "source": [
        "#NAIVE BAYES"
      ],
      "metadata": {
        "id": "uPGGuWTamSkw"
      }
    },
    {
      "cell_type": "code",
      "source": [
        "cols = X_train.columns\n"
      ],
      "metadata": {
        "id": "tflrUj6N1o8s"
      },
      "execution_count": 29,
      "outputs": []
    },
    {
      "cell_type": "code",
      "source": [
        "from sklearn.preprocessing import RobustScaler\n",
        "\n",
        "scaler = RobustScaler()\n",
        "\n",
        "X_train_bayes = scaler.fit_transform(X_train)\n",
        "\n",
        "X_test_bayes = scaler.transform(X_test)"
      ],
      "metadata": {
        "id": "c0RocLNw2JdE"
      },
      "execution_count": 30,
      "outputs": []
    },
    {
      "cell_type": "code",
      "source": [
        "X_train_bayes = pd.DataFrame(X_train_bayes, columns=[cols])"
      ],
      "metadata": {
        "id": "XQ2yd0Zj2P7B"
      },
      "execution_count": 31,
      "outputs": []
    },
    {
      "cell_type": "code",
      "source": [
        "X_test_bayes = pd.DataFrame(X_test_bayes, columns=[cols])"
      ],
      "metadata": {
        "id": "4VeRKNrD2foy"
      },
      "execution_count": 32,
      "outputs": []
    },
    {
      "cell_type": "code",
      "source": [
        "X_train_bayes.head()"
      ],
      "metadata": {
        "colab": {
          "base_uri": "https://localhost:8080/",
          "height": 308
        },
        "id": "opBHP-az_NmL",
        "outputId": "a5dc6b1d-3730-41a4-fddb-ba35e10654e1"
      },
      "execution_count": 33,
      "outputs": [
        {
          "output_type": "execute_result",
          "data": {
            "text/plain": [
              "  Gender_1 Gender_2 Customer Type_1 Customer Type_2       Age  \\\n",
              "0      1.0     -1.0             0.0             0.0 -0.458333   \n",
              "1      0.0      0.0             0.0             0.0  0.125000   \n",
              "2      0.0      0.0             0.0             0.0 -0.625000   \n",
              "3      0.0      0.0             0.0             0.0 -0.291667   \n",
              "4      0.0      0.0             0.0             0.0 -0.125000   \n",
              "\n",
              "  Type of Travel_1 Type of Travel_2 Class_1 Class_2 Class_3  ...  \\\n",
              "0              1.0             -1.0     1.0     0.0     0.0  ...   \n",
              "1              0.0              0.0     0.0     1.0     0.0  ...   \n",
              "2              1.0             -1.0     1.0     0.0     0.0  ...   \n",
              "3              1.0             -1.0     1.0     0.0     0.0  ...   \n",
              "4              0.0              0.0     0.0     0.0     1.0  ...   \n",
              "\n",
              "  On-board service Leg room service Baggage handling Checkin service  \\\n",
              "0             -0.5             -1.0             -0.5             1.0   \n",
              "1              0.5              0.5              0.5             0.0   \n",
              "2              0.0              0.5             -0.5             1.0   \n",
              "3             -1.0              0.0             -1.5             0.0   \n",
              "4             -1.5              0.5             -1.5             1.0   \n",
              "\n",
              "  Inflight service Cleanliness Departure Delay in Minutes  \\\n",
              "0              0.5         0.5                   1.000000   \n",
              "1              0.5        -0.5                   0.000000   \n",
              "2             -1.5         0.5                   0.416667   \n",
              "3             -1.0         1.0                   1.250000   \n",
              "4              0.5         0.5                   0.333333   \n",
              "\n",
              "  Arrival Delay in Minutes avg_rating avg_rating_services_on_board  \n",
              "0                 0.000000   0.461538                     0.461538  \n",
              "1                 0.000000   0.384615                     0.384615  \n",
              "2                 0.000000   0.076923                     0.076923  \n",
              "3                 1.153846   0.000000                     0.000000  \n",
              "4                 0.000000   0.538462                     0.538462  \n",
              "\n",
              "[5 rows x 29 columns]"
            ],
            "text/html": [
              "\n",
              "  <div id=\"df-a01932a1-1ac4-412d-bc69-d11ffc8b526d\" class=\"colab-df-container\">\n",
              "    <div>\n",
              "<style scoped>\n",
              "    .dataframe tbody tr th:only-of-type {\n",
              "        vertical-align: middle;\n",
              "    }\n",
              "\n",
              "    .dataframe tbody tr th {\n",
              "        vertical-align: top;\n",
              "    }\n",
              "\n",
              "    .dataframe thead tr th {\n",
              "        text-align: left;\n",
              "    }\n",
              "</style>\n",
              "<table border=\"1\" class=\"dataframe\">\n",
              "  <thead>\n",
              "    <tr>\n",
              "      <th></th>\n",
              "      <th>Gender_1</th>\n",
              "      <th>Gender_2</th>\n",
              "      <th>Customer Type_1</th>\n",
              "      <th>Customer Type_2</th>\n",
              "      <th>Age</th>\n",
              "      <th>Type of Travel_1</th>\n",
              "      <th>Type of Travel_2</th>\n",
              "      <th>Class_1</th>\n",
              "      <th>Class_2</th>\n",
              "      <th>Class_3</th>\n",
              "      <th>...</th>\n",
              "      <th>On-board service</th>\n",
              "      <th>Leg room service</th>\n",
              "      <th>Baggage handling</th>\n",
              "      <th>Checkin service</th>\n",
              "      <th>Inflight service</th>\n",
              "      <th>Cleanliness</th>\n",
              "      <th>Departure Delay in Minutes</th>\n",
              "      <th>Arrival Delay in Minutes</th>\n",
              "      <th>avg_rating</th>\n",
              "      <th>avg_rating_services_on_board</th>\n",
              "    </tr>\n",
              "  </thead>\n",
              "  <tbody>\n",
              "    <tr>\n",
              "      <th>0</th>\n",
              "      <td>1.0</td>\n",
              "      <td>-1.0</td>\n",
              "      <td>0.0</td>\n",
              "      <td>0.0</td>\n",
              "      <td>-0.458333</td>\n",
              "      <td>1.0</td>\n",
              "      <td>-1.0</td>\n",
              "      <td>1.0</td>\n",
              "      <td>0.0</td>\n",
              "      <td>0.0</td>\n",
              "      <td>...</td>\n",
              "      <td>-0.5</td>\n",
              "      <td>-1.0</td>\n",
              "      <td>-0.5</td>\n",
              "      <td>1.0</td>\n",
              "      <td>0.5</td>\n",
              "      <td>0.5</td>\n",
              "      <td>1.000000</td>\n",
              "      <td>0.000000</td>\n",
              "      <td>0.461538</td>\n",
              "      <td>0.461538</td>\n",
              "    </tr>\n",
              "    <tr>\n",
              "      <th>1</th>\n",
              "      <td>0.0</td>\n",
              "      <td>0.0</td>\n",
              "      <td>0.0</td>\n",
              "      <td>0.0</td>\n",
              "      <td>0.125000</td>\n",
              "      <td>0.0</td>\n",
              "      <td>0.0</td>\n",
              "      <td>0.0</td>\n",
              "      <td>1.0</td>\n",
              "      <td>0.0</td>\n",
              "      <td>...</td>\n",
              "      <td>0.5</td>\n",
              "      <td>0.5</td>\n",
              "      <td>0.5</td>\n",
              "      <td>0.0</td>\n",
              "      <td>0.5</td>\n",
              "      <td>-0.5</td>\n",
              "      <td>0.000000</td>\n",
              "      <td>0.000000</td>\n",
              "      <td>0.384615</td>\n",
              "      <td>0.384615</td>\n",
              "    </tr>\n",
              "    <tr>\n",
              "      <th>2</th>\n",
              "      <td>0.0</td>\n",
              "      <td>0.0</td>\n",
              "      <td>0.0</td>\n",
              "      <td>0.0</td>\n",
              "      <td>-0.625000</td>\n",
              "      <td>1.0</td>\n",
              "      <td>-1.0</td>\n",
              "      <td>1.0</td>\n",
              "      <td>0.0</td>\n",
              "      <td>0.0</td>\n",
              "      <td>...</td>\n",
              "      <td>0.0</td>\n",
              "      <td>0.5</td>\n",
              "      <td>-0.5</td>\n",
              "      <td>1.0</td>\n",
              "      <td>-1.5</td>\n",
              "      <td>0.5</td>\n",
              "      <td>0.416667</td>\n",
              "      <td>0.000000</td>\n",
              "      <td>0.076923</td>\n",
              "      <td>0.076923</td>\n",
              "    </tr>\n",
              "    <tr>\n",
              "      <th>3</th>\n",
              "      <td>0.0</td>\n",
              "      <td>0.0</td>\n",
              "      <td>0.0</td>\n",
              "      <td>0.0</td>\n",
              "      <td>-0.291667</td>\n",
              "      <td>1.0</td>\n",
              "      <td>-1.0</td>\n",
              "      <td>1.0</td>\n",
              "      <td>0.0</td>\n",
              "      <td>0.0</td>\n",
              "      <td>...</td>\n",
              "      <td>-1.0</td>\n",
              "      <td>0.0</td>\n",
              "      <td>-1.5</td>\n",
              "      <td>0.0</td>\n",
              "      <td>-1.0</td>\n",
              "      <td>1.0</td>\n",
              "      <td>1.250000</td>\n",
              "      <td>1.153846</td>\n",
              "      <td>0.000000</td>\n",
              "      <td>0.000000</td>\n",
              "    </tr>\n",
              "    <tr>\n",
              "      <th>4</th>\n",
              "      <td>0.0</td>\n",
              "      <td>0.0</td>\n",
              "      <td>0.0</td>\n",
              "      <td>0.0</td>\n",
              "      <td>-0.125000</td>\n",
              "      <td>0.0</td>\n",
              "      <td>0.0</td>\n",
              "      <td>0.0</td>\n",
              "      <td>0.0</td>\n",
              "      <td>1.0</td>\n",
              "      <td>...</td>\n",
              "      <td>-1.5</td>\n",
              "      <td>0.5</td>\n",
              "      <td>-1.5</td>\n",
              "      <td>1.0</td>\n",
              "      <td>0.5</td>\n",
              "      <td>0.5</td>\n",
              "      <td>0.333333</td>\n",
              "      <td>0.000000</td>\n",
              "      <td>0.538462</td>\n",
              "      <td>0.538462</td>\n",
              "    </tr>\n",
              "  </tbody>\n",
              "</table>\n",
              "<p>5 rows × 29 columns</p>\n",
              "</div>\n",
              "    <div class=\"colab-df-buttons\">\n",
              "\n",
              "  <div class=\"colab-df-container\">\n",
              "    <button class=\"colab-df-convert\" onclick=\"convertToInteractive('df-a01932a1-1ac4-412d-bc69-d11ffc8b526d')\"\n",
              "            title=\"Convert this dataframe to an interactive table.\"\n",
              "            style=\"display:none;\">\n",
              "\n",
              "  <svg xmlns=\"http://www.w3.org/2000/svg\" height=\"24px\" viewBox=\"0 -960 960 960\">\n",
              "    <path d=\"M120-120v-720h720v720H120Zm60-500h600v-160H180v160Zm220 220h160v-160H400v160Zm0 220h160v-160H400v160ZM180-400h160v-160H180v160Zm440 0h160v-160H620v160ZM180-180h160v-160H180v160Zm440 0h160v-160H620v160Z\"/>\n",
              "  </svg>\n",
              "    </button>\n",
              "\n",
              "  <style>\n",
              "    .colab-df-container {\n",
              "      display:flex;\n",
              "      gap: 12px;\n",
              "    }\n",
              "\n",
              "    .colab-df-convert {\n",
              "      background-color: #E8F0FE;\n",
              "      border: none;\n",
              "      border-radius: 50%;\n",
              "      cursor: pointer;\n",
              "      display: none;\n",
              "      fill: #1967D2;\n",
              "      height: 32px;\n",
              "      padding: 0 0 0 0;\n",
              "      width: 32px;\n",
              "    }\n",
              "\n",
              "    .colab-df-convert:hover {\n",
              "      background-color: #E2EBFA;\n",
              "      box-shadow: 0px 1px 2px rgba(60, 64, 67, 0.3), 0px 1px 3px 1px rgba(60, 64, 67, 0.15);\n",
              "      fill: #174EA6;\n",
              "    }\n",
              "\n",
              "    .colab-df-buttons div {\n",
              "      margin-bottom: 4px;\n",
              "    }\n",
              "\n",
              "    [theme=dark] .colab-df-convert {\n",
              "      background-color: #3B4455;\n",
              "      fill: #D2E3FC;\n",
              "    }\n",
              "\n",
              "    [theme=dark] .colab-df-convert:hover {\n",
              "      background-color: #434B5C;\n",
              "      box-shadow: 0px 1px 3px 1px rgba(0, 0, 0, 0.15);\n",
              "      filter: drop-shadow(0px 1px 2px rgba(0, 0, 0, 0.3));\n",
              "      fill: #FFFFFF;\n",
              "    }\n",
              "  </style>\n",
              "\n",
              "    <script>\n",
              "      const buttonEl =\n",
              "        document.querySelector('#df-a01932a1-1ac4-412d-bc69-d11ffc8b526d button.colab-df-convert');\n",
              "      buttonEl.style.display =\n",
              "        google.colab.kernel.accessAllowed ? 'block' : 'none';\n",
              "\n",
              "      async function convertToInteractive(key) {\n",
              "        const element = document.querySelector('#df-a01932a1-1ac4-412d-bc69-d11ffc8b526d');\n",
              "        const dataTable =\n",
              "          await google.colab.kernel.invokeFunction('convertToInteractive',\n",
              "                                                    [key], {});\n",
              "        if (!dataTable) return;\n",
              "\n",
              "        const docLinkHtml = 'Like what you see? Visit the ' +\n",
              "          '<a target=\"_blank\" href=https://colab.research.google.com/notebooks/data_table.ipynb>data table notebook</a>'\n",
              "          + ' to learn more about interactive tables.';\n",
              "        element.innerHTML = '';\n",
              "        dataTable['output_type'] = 'display_data';\n",
              "        await google.colab.output.renderOutput(dataTable, element);\n",
              "        const docLink = document.createElement('div');\n",
              "        docLink.innerHTML = docLinkHtml;\n",
              "        element.appendChild(docLink);\n",
              "      }\n",
              "    </script>\n",
              "  </div>\n",
              "\n",
              "\n",
              "<div id=\"df-fd5dc4db-e3bc-4503-b85d-7779aa2a9daa\">\n",
              "  <button class=\"colab-df-quickchart\" onclick=\"quickchart('df-fd5dc4db-e3bc-4503-b85d-7779aa2a9daa')\"\n",
              "            title=\"Suggest charts\"\n",
              "            style=\"display:none;\">\n",
              "\n",
              "<svg xmlns=\"http://www.w3.org/2000/svg\" height=\"24px\"viewBox=\"0 0 24 24\"\n",
              "     width=\"24px\">\n",
              "    <g>\n",
              "        <path d=\"M19 3H5c-1.1 0-2 .9-2 2v14c0 1.1.9 2 2 2h14c1.1 0 2-.9 2-2V5c0-1.1-.9-2-2-2zM9 17H7v-7h2v7zm4 0h-2V7h2v10zm4 0h-2v-4h2v4z\"/>\n",
              "    </g>\n",
              "</svg>\n",
              "  </button>\n",
              "\n",
              "<style>\n",
              "  .colab-df-quickchart {\n",
              "      --bg-color: #E8F0FE;\n",
              "      --fill-color: #1967D2;\n",
              "      --hover-bg-color: #E2EBFA;\n",
              "      --hover-fill-color: #174EA6;\n",
              "      --disabled-fill-color: #AAA;\n",
              "      --disabled-bg-color: #DDD;\n",
              "  }\n",
              "\n",
              "  [theme=dark] .colab-df-quickchart {\n",
              "      --bg-color: #3B4455;\n",
              "      --fill-color: #D2E3FC;\n",
              "      --hover-bg-color: #434B5C;\n",
              "      --hover-fill-color: #FFFFFF;\n",
              "      --disabled-bg-color: #3B4455;\n",
              "      --disabled-fill-color: #666;\n",
              "  }\n",
              "\n",
              "  .colab-df-quickchart {\n",
              "    background-color: var(--bg-color);\n",
              "    border: none;\n",
              "    border-radius: 50%;\n",
              "    cursor: pointer;\n",
              "    display: none;\n",
              "    fill: var(--fill-color);\n",
              "    height: 32px;\n",
              "    padding: 0;\n",
              "    width: 32px;\n",
              "  }\n",
              "\n",
              "  .colab-df-quickchart:hover {\n",
              "    background-color: var(--hover-bg-color);\n",
              "    box-shadow: 0 1px 2px rgba(60, 64, 67, 0.3), 0 1px 3px 1px rgba(60, 64, 67, 0.15);\n",
              "    fill: var(--button-hover-fill-color);\n",
              "  }\n",
              "\n",
              "  .colab-df-quickchart-complete:disabled,\n",
              "  .colab-df-quickchart-complete:disabled:hover {\n",
              "    background-color: var(--disabled-bg-color);\n",
              "    fill: var(--disabled-fill-color);\n",
              "    box-shadow: none;\n",
              "  }\n",
              "\n",
              "  .colab-df-spinner {\n",
              "    border: 2px solid var(--fill-color);\n",
              "    border-color: transparent;\n",
              "    border-bottom-color: var(--fill-color);\n",
              "    animation:\n",
              "      spin 1s steps(1) infinite;\n",
              "  }\n",
              "\n",
              "  @keyframes spin {\n",
              "    0% {\n",
              "      border-color: transparent;\n",
              "      border-bottom-color: var(--fill-color);\n",
              "      border-left-color: var(--fill-color);\n",
              "    }\n",
              "    20% {\n",
              "      border-color: transparent;\n",
              "      border-left-color: var(--fill-color);\n",
              "      border-top-color: var(--fill-color);\n",
              "    }\n",
              "    30% {\n",
              "      border-color: transparent;\n",
              "      border-left-color: var(--fill-color);\n",
              "      border-top-color: var(--fill-color);\n",
              "      border-right-color: var(--fill-color);\n",
              "    }\n",
              "    40% {\n",
              "      border-color: transparent;\n",
              "      border-right-color: var(--fill-color);\n",
              "      border-top-color: var(--fill-color);\n",
              "    }\n",
              "    60% {\n",
              "      border-color: transparent;\n",
              "      border-right-color: var(--fill-color);\n",
              "    }\n",
              "    80% {\n",
              "      border-color: transparent;\n",
              "      border-right-color: var(--fill-color);\n",
              "      border-bottom-color: var(--fill-color);\n",
              "    }\n",
              "    90% {\n",
              "      border-color: transparent;\n",
              "      border-bottom-color: var(--fill-color);\n",
              "    }\n",
              "  }\n",
              "</style>\n",
              "\n",
              "  <script>\n",
              "    async function quickchart(key) {\n",
              "      const quickchartButtonEl =\n",
              "        document.querySelector('#' + key + ' button');\n",
              "      quickchartButtonEl.disabled = true;  // To prevent multiple clicks.\n",
              "      quickchartButtonEl.classList.add('colab-df-spinner');\n",
              "      try {\n",
              "        const charts = await google.colab.kernel.invokeFunction(\n",
              "            'suggestCharts', [key], {});\n",
              "      } catch (error) {\n",
              "        console.error('Error during call to suggestCharts:', error);\n",
              "      }\n",
              "      quickchartButtonEl.classList.remove('colab-df-spinner');\n",
              "      quickchartButtonEl.classList.add('colab-df-quickchart-complete');\n",
              "    }\n",
              "    (() => {\n",
              "      let quickchartButtonEl =\n",
              "        document.querySelector('#df-fd5dc4db-e3bc-4503-b85d-7779aa2a9daa button');\n",
              "      quickchartButtonEl.style.display =\n",
              "        google.colab.kernel.accessAllowed ? 'block' : 'none';\n",
              "    })();\n",
              "  </script>\n",
              "</div>\n",
              "\n",
              "    </div>\n",
              "  </div>\n"
            ],
            "application/vnd.google.colaboratory.intrinsic+json": {
              "type": "dataframe",
              "variable_name": "X_train_bayes"
            }
          },
          "metadata": {},
          "execution_count": 33
        }
      ]
    },
    {
      "cell_type": "markdown",
      "source": [
        "Powyżej został przygotowany zestaw X_train_bayes, który zostanie wykorzystany w algorytmie Naive Bayes."
      ],
      "metadata": {
        "id": "lFwEo_HtOl9Y"
      }
    },
    {
      "cell_type": "code",
      "source": [
        "from sklearn.naive_bayes import GaussianNB\n",
        "\n",
        "gnb = GaussianNB()\n",
        "gnb.fit(X_train_bayes, y_train)"
      ],
      "metadata": {
        "colab": {
          "base_uri": "https://localhost:8080/",
          "height": 80
        },
        "id": "ilobrHKZ_X5n",
        "outputId": "3a33797c-d1e9-4971-dac6-b556f45030ce"
      },
      "execution_count": 34,
      "outputs": [
        {
          "output_type": "execute_result",
          "data": {
            "text/plain": [
              "GaussianNB()"
            ],
            "text/html": [
              "<style>#sk-container-id-1 {\n",
              "  /* Definition of color scheme common for light and dark mode */\n",
              "  --sklearn-color-text: #000;\n",
              "  --sklearn-color-text-muted: #666;\n",
              "  --sklearn-color-line: gray;\n",
              "  /* Definition of color scheme for unfitted estimators */\n",
              "  --sklearn-color-unfitted-level-0: #fff5e6;\n",
              "  --sklearn-color-unfitted-level-1: #f6e4d2;\n",
              "  --sklearn-color-unfitted-level-2: #ffe0b3;\n",
              "  --sklearn-color-unfitted-level-3: chocolate;\n",
              "  /* Definition of color scheme for fitted estimators */\n",
              "  --sklearn-color-fitted-level-0: #f0f8ff;\n",
              "  --sklearn-color-fitted-level-1: #d4ebff;\n",
              "  --sklearn-color-fitted-level-2: #b3dbfd;\n",
              "  --sklearn-color-fitted-level-3: cornflowerblue;\n",
              "\n",
              "  /* Specific color for light theme */\n",
              "  --sklearn-color-text-on-default-background: var(--sg-text-color, var(--theme-code-foreground, var(--jp-content-font-color1, black)));\n",
              "  --sklearn-color-background: var(--sg-background-color, var(--theme-background, var(--jp-layout-color0, white)));\n",
              "  --sklearn-color-border-box: var(--sg-text-color, var(--theme-code-foreground, var(--jp-content-font-color1, black)));\n",
              "  --sklearn-color-icon: #696969;\n",
              "\n",
              "  @media (prefers-color-scheme: dark) {\n",
              "    /* Redefinition of color scheme for dark theme */\n",
              "    --sklearn-color-text-on-default-background: var(--sg-text-color, var(--theme-code-foreground, var(--jp-content-font-color1, white)));\n",
              "    --sklearn-color-background: var(--sg-background-color, var(--theme-background, var(--jp-layout-color0, #111)));\n",
              "    --sklearn-color-border-box: var(--sg-text-color, var(--theme-code-foreground, var(--jp-content-font-color1, white)));\n",
              "    --sklearn-color-icon: #878787;\n",
              "  }\n",
              "}\n",
              "\n",
              "#sk-container-id-1 {\n",
              "  color: var(--sklearn-color-text);\n",
              "}\n",
              "\n",
              "#sk-container-id-1 pre {\n",
              "  padding: 0;\n",
              "}\n",
              "\n",
              "#sk-container-id-1 input.sk-hidden--visually {\n",
              "  border: 0;\n",
              "  clip: rect(1px 1px 1px 1px);\n",
              "  clip: rect(1px, 1px, 1px, 1px);\n",
              "  height: 1px;\n",
              "  margin: -1px;\n",
              "  overflow: hidden;\n",
              "  padding: 0;\n",
              "  position: absolute;\n",
              "  width: 1px;\n",
              "}\n",
              "\n",
              "#sk-container-id-1 div.sk-dashed-wrapped {\n",
              "  border: 1px dashed var(--sklearn-color-line);\n",
              "  margin: 0 0.4em 0.5em 0.4em;\n",
              "  box-sizing: border-box;\n",
              "  padding-bottom: 0.4em;\n",
              "  background-color: var(--sklearn-color-background);\n",
              "}\n",
              "\n",
              "#sk-container-id-1 div.sk-container {\n",
              "  /* jupyter's `normalize.less` sets `[hidden] { display: none; }`\n",
              "     but bootstrap.min.css set `[hidden] { display: none !important; }`\n",
              "     so we also need the `!important` here to be able to override the\n",
              "     default hidden behavior on the sphinx rendered scikit-learn.org.\n",
              "     See: https://github.com/scikit-learn/scikit-learn/issues/21755 */\n",
              "  display: inline-block !important;\n",
              "  position: relative;\n",
              "}\n",
              "\n",
              "#sk-container-id-1 div.sk-text-repr-fallback {\n",
              "  display: none;\n",
              "}\n",
              "\n",
              "div.sk-parallel-item,\n",
              "div.sk-serial,\n",
              "div.sk-item {\n",
              "  /* draw centered vertical line to link estimators */\n",
              "  background-image: linear-gradient(var(--sklearn-color-text-on-default-background), var(--sklearn-color-text-on-default-background));\n",
              "  background-size: 2px 100%;\n",
              "  background-repeat: no-repeat;\n",
              "  background-position: center center;\n",
              "}\n",
              "\n",
              "/* Parallel-specific style estimator block */\n",
              "\n",
              "#sk-container-id-1 div.sk-parallel-item::after {\n",
              "  content: \"\";\n",
              "  width: 100%;\n",
              "  border-bottom: 2px solid var(--sklearn-color-text-on-default-background);\n",
              "  flex-grow: 1;\n",
              "}\n",
              "\n",
              "#sk-container-id-1 div.sk-parallel {\n",
              "  display: flex;\n",
              "  align-items: stretch;\n",
              "  justify-content: center;\n",
              "  background-color: var(--sklearn-color-background);\n",
              "  position: relative;\n",
              "}\n",
              "\n",
              "#sk-container-id-1 div.sk-parallel-item {\n",
              "  display: flex;\n",
              "  flex-direction: column;\n",
              "}\n",
              "\n",
              "#sk-container-id-1 div.sk-parallel-item:first-child::after {\n",
              "  align-self: flex-end;\n",
              "  width: 50%;\n",
              "}\n",
              "\n",
              "#sk-container-id-1 div.sk-parallel-item:last-child::after {\n",
              "  align-self: flex-start;\n",
              "  width: 50%;\n",
              "}\n",
              "\n",
              "#sk-container-id-1 div.sk-parallel-item:only-child::after {\n",
              "  width: 0;\n",
              "}\n",
              "\n",
              "/* Serial-specific style estimator block */\n",
              "\n",
              "#sk-container-id-1 div.sk-serial {\n",
              "  display: flex;\n",
              "  flex-direction: column;\n",
              "  align-items: center;\n",
              "  background-color: var(--sklearn-color-background);\n",
              "  padding-right: 1em;\n",
              "  padding-left: 1em;\n",
              "}\n",
              "\n",
              "\n",
              "/* Toggleable style: style used for estimator/Pipeline/ColumnTransformer box that is\n",
              "clickable and can be expanded/collapsed.\n",
              "- Pipeline and ColumnTransformer use this feature and define the default style\n",
              "- Estimators will overwrite some part of the style using the `sk-estimator` class\n",
              "*/\n",
              "\n",
              "/* Pipeline and ColumnTransformer style (default) */\n",
              "\n",
              "#sk-container-id-1 div.sk-toggleable {\n",
              "  /* Default theme specific background. It is overwritten whether we have a\n",
              "  specific estimator or a Pipeline/ColumnTransformer */\n",
              "  background-color: var(--sklearn-color-background);\n",
              "}\n",
              "\n",
              "/* Toggleable label */\n",
              "#sk-container-id-1 label.sk-toggleable__label {\n",
              "  cursor: pointer;\n",
              "  display: flex;\n",
              "  width: 100%;\n",
              "  margin-bottom: 0;\n",
              "  padding: 0.5em;\n",
              "  box-sizing: border-box;\n",
              "  text-align: center;\n",
              "  align-items: start;\n",
              "  justify-content: space-between;\n",
              "  gap: 0.5em;\n",
              "}\n",
              "\n",
              "#sk-container-id-1 label.sk-toggleable__label .caption {\n",
              "  font-size: 0.6rem;\n",
              "  font-weight: lighter;\n",
              "  color: var(--sklearn-color-text-muted);\n",
              "}\n",
              "\n",
              "#sk-container-id-1 label.sk-toggleable__label-arrow:before {\n",
              "  /* Arrow on the left of the label */\n",
              "  content: \"▸\";\n",
              "  float: left;\n",
              "  margin-right: 0.25em;\n",
              "  color: var(--sklearn-color-icon);\n",
              "}\n",
              "\n",
              "#sk-container-id-1 label.sk-toggleable__label-arrow:hover:before {\n",
              "  color: var(--sklearn-color-text);\n",
              "}\n",
              "\n",
              "/* Toggleable content - dropdown */\n",
              "\n",
              "#sk-container-id-1 div.sk-toggleable__content {\n",
              "  max-height: 0;\n",
              "  max-width: 0;\n",
              "  overflow: hidden;\n",
              "  text-align: left;\n",
              "  /* unfitted */\n",
              "  background-color: var(--sklearn-color-unfitted-level-0);\n",
              "}\n",
              "\n",
              "#sk-container-id-1 div.sk-toggleable__content.fitted {\n",
              "  /* fitted */\n",
              "  background-color: var(--sklearn-color-fitted-level-0);\n",
              "}\n",
              "\n",
              "#sk-container-id-1 div.sk-toggleable__content pre {\n",
              "  margin: 0.2em;\n",
              "  border-radius: 0.25em;\n",
              "  color: var(--sklearn-color-text);\n",
              "  /* unfitted */\n",
              "  background-color: var(--sklearn-color-unfitted-level-0);\n",
              "}\n",
              "\n",
              "#sk-container-id-1 div.sk-toggleable__content.fitted pre {\n",
              "  /* unfitted */\n",
              "  background-color: var(--sklearn-color-fitted-level-0);\n",
              "}\n",
              "\n",
              "#sk-container-id-1 input.sk-toggleable__control:checked~div.sk-toggleable__content {\n",
              "  /* Expand drop-down */\n",
              "  max-height: 200px;\n",
              "  max-width: 100%;\n",
              "  overflow: auto;\n",
              "}\n",
              "\n",
              "#sk-container-id-1 input.sk-toggleable__control:checked~label.sk-toggleable__label-arrow:before {\n",
              "  content: \"▾\";\n",
              "}\n",
              "\n",
              "/* Pipeline/ColumnTransformer-specific style */\n",
              "\n",
              "#sk-container-id-1 div.sk-label input.sk-toggleable__control:checked~label.sk-toggleable__label {\n",
              "  color: var(--sklearn-color-text);\n",
              "  background-color: var(--sklearn-color-unfitted-level-2);\n",
              "}\n",
              "\n",
              "#sk-container-id-1 div.sk-label.fitted input.sk-toggleable__control:checked~label.sk-toggleable__label {\n",
              "  background-color: var(--sklearn-color-fitted-level-2);\n",
              "}\n",
              "\n",
              "/* Estimator-specific style */\n",
              "\n",
              "/* Colorize estimator box */\n",
              "#sk-container-id-1 div.sk-estimator input.sk-toggleable__control:checked~label.sk-toggleable__label {\n",
              "  /* unfitted */\n",
              "  background-color: var(--sklearn-color-unfitted-level-2);\n",
              "}\n",
              "\n",
              "#sk-container-id-1 div.sk-estimator.fitted input.sk-toggleable__control:checked~label.sk-toggleable__label {\n",
              "  /* fitted */\n",
              "  background-color: var(--sklearn-color-fitted-level-2);\n",
              "}\n",
              "\n",
              "#sk-container-id-1 div.sk-label label.sk-toggleable__label,\n",
              "#sk-container-id-1 div.sk-label label {\n",
              "  /* The background is the default theme color */\n",
              "  color: var(--sklearn-color-text-on-default-background);\n",
              "}\n",
              "\n",
              "/* On hover, darken the color of the background */\n",
              "#sk-container-id-1 div.sk-label:hover label.sk-toggleable__label {\n",
              "  color: var(--sklearn-color-text);\n",
              "  background-color: var(--sklearn-color-unfitted-level-2);\n",
              "}\n",
              "\n",
              "/* Label box, darken color on hover, fitted */\n",
              "#sk-container-id-1 div.sk-label.fitted:hover label.sk-toggleable__label.fitted {\n",
              "  color: var(--sklearn-color-text);\n",
              "  background-color: var(--sklearn-color-fitted-level-2);\n",
              "}\n",
              "\n",
              "/* Estimator label */\n",
              "\n",
              "#sk-container-id-1 div.sk-label label {\n",
              "  font-family: monospace;\n",
              "  font-weight: bold;\n",
              "  display: inline-block;\n",
              "  line-height: 1.2em;\n",
              "}\n",
              "\n",
              "#sk-container-id-1 div.sk-label-container {\n",
              "  text-align: center;\n",
              "}\n",
              "\n",
              "/* Estimator-specific */\n",
              "#sk-container-id-1 div.sk-estimator {\n",
              "  font-family: monospace;\n",
              "  border: 1px dotted var(--sklearn-color-border-box);\n",
              "  border-radius: 0.25em;\n",
              "  box-sizing: border-box;\n",
              "  margin-bottom: 0.5em;\n",
              "  /* unfitted */\n",
              "  background-color: var(--sklearn-color-unfitted-level-0);\n",
              "}\n",
              "\n",
              "#sk-container-id-1 div.sk-estimator.fitted {\n",
              "  /* fitted */\n",
              "  background-color: var(--sklearn-color-fitted-level-0);\n",
              "}\n",
              "\n",
              "/* on hover */\n",
              "#sk-container-id-1 div.sk-estimator:hover {\n",
              "  /* unfitted */\n",
              "  background-color: var(--sklearn-color-unfitted-level-2);\n",
              "}\n",
              "\n",
              "#sk-container-id-1 div.sk-estimator.fitted:hover {\n",
              "  /* fitted */\n",
              "  background-color: var(--sklearn-color-fitted-level-2);\n",
              "}\n",
              "\n",
              "/* Specification for estimator info (e.g. \"i\" and \"?\") */\n",
              "\n",
              "/* Common style for \"i\" and \"?\" */\n",
              "\n",
              ".sk-estimator-doc-link,\n",
              "a:link.sk-estimator-doc-link,\n",
              "a:visited.sk-estimator-doc-link {\n",
              "  float: right;\n",
              "  font-size: smaller;\n",
              "  line-height: 1em;\n",
              "  font-family: monospace;\n",
              "  background-color: var(--sklearn-color-background);\n",
              "  border-radius: 1em;\n",
              "  height: 1em;\n",
              "  width: 1em;\n",
              "  text-decoration: none !important;\n",
              "  margin-left: 0.5em;\n",
              "  text-align: center;\n",
              "  /* unfitted */\n",
              "  border: var(--sklearn-color-unfitted-level-1) 1pt solid;\n",
              "  color: var(--sklearn-color-unfitted-level-1);\n",
              "}\n",
              "\n",
              ".sk-estimator-doc-link.fitted,\n",
              "a:link.sk-estimator-doc-link.fitted,\n",
              "a:visited.sk-estimator-doc-link.fitted {\n",
              "  /* fitted */\n",
              "  border: var(--sklearn-color-fitted-level-1) 1pt solid;\n",
              "  color: var(--sklearn-color-fitted-level-1);\n",
              "}\n",
              "\n",
              "/* On hover */\n",
              "div.sk-estimator:hover .sk-estimator-doc-link:hover,\n",
              ".sk-estimator-doc-link:hover,\n",
              "div.sk-label-container:hover .sk-estimator-doc-link:hover,\n",
              ".sk-estimator-doc-link:hover {\n",
              "  /* unfitted */\n",
              "  background-color: var(--sklearn-color-unfitted-level-3);\n",
              "  color: var(--sklearn-color-background);\n",
              "  text-decoration: none;\n",
              "}\n",
              "\n",
              "div.sk-estimator.fitted:hover .sk-estimator-doc-link.fitted:hover,\n",
              ".sk-estimator-doc-link.fitted:hover,\n",
              "div.sk-label-container:hover .sk-estimator-doc-link.fitted:hover,\n",
              ".sk-estimator-doc-link.fitted:hover {\n",
              "  /* fitted */\n",
              "  background-color: var(--sklearn-color-fitted-level-3);\n",
              "  color: var(--sklearn-color-background);\n",
              "  text-decoration: none;\n",
              "}\n",
              "\n",
              "/* Span, style for the box shown on hovering the info icon */\n",
              ".sk-estimator-doc-link span {\n",
              "  display: none;\n",
              "  z-index: 9999;\n",
              "  position: relative;\n",
              "  font-weight: normal;\n",
              "  right: .2ex;\n",
              "  padding: .5ex;\n",
              "  margin: .5ex;\n",
              "  width: min-content;\n",
              "  min-width: 20ex;\n",
              "  max-width: 50ex;\n",
              "  color: var(--sklearn-color-text);\n",
              "  box-shadow: 2pt 2pt 4pt #999;\n",
              "  /* unfitted */\n",
              "  background: var(--sklearn-color-unfitted-level-0);\n",
              "  border: .5pt solid var(--sklearn-color-unfitted-level-3);\n",
              "}\n",
              "\n",
              ".sk-estimator-doc-link.fitted span {\n",
              "  /* fitted */\n",
              "  background: var(--sklearn-color-fitted-level-0);\n",
              "  border: var(--sklearn-color-fitted-level-3);\n",
              "}\n",
              "\n",
              ".sk-estimator-doc-link:hover span {\n",
              "  display: block;\n",
              "}\n",
              "\n",
              "/* \"?\"-specific style due to the `<a>` HTML tag */\n",
              "\n",
              "#sk-container-id-1 a.estimator_doc_link {\n",
              "  float: right;\n",
              "  font-size: 1rem;\n",
              "  line-height: 1em;\n",
              "  font-family: monospace;\n",
              "  background-color: var(--sklearn-color-background);\n",
              "  border-radius: 1rem;\n",
              "  height: 1rem;\n",
              "  width: 1rem;\n",
              "  text-decoration: none;\n",
              "  /* unfitted */\n",
              "  color: var(--sklearn-color-unfitted-level-1);\n",
              "  border: var(--sklearn-color-unfitted-level-1) 1pt solid;\n",
              "}\n",
              "\n",
              "#sk-container-id-1 a.estimator_doc_link.fitted {\n",
              "  /* fitted */\n",
              "  border: var(--sklearn-color-fitted-level-1) 1pt solid;\n",
              "  color: var(--sklearn-color-fitted-level-1);\n",
              "}\n",
              "\n",
              "/* On hover */\n",
              "#sk-container-id-1 a.estimator_doc_link:hover {\n",
              "  /* unfitted */\n",
              "  background-color: var(--sklearn-color-unfitted-level-3);\n",
              "  color: var(--sklearn-color-background);\n",
              "  text-decoration: none;\n",
              "}\n",
              "\n",
              "#sk-container-id-1 a.estimator_doc_link.fitted:hover {\n",
              "  /* fitted */\n",
              "  background-color: var(--sklearn-color-fitted-level-3);\n",
              "}\n",
              "</style><div id=\"sk-container-id-1\" class=\"sk-top-container\"><div class=\"sk-text-repr-fallback\"><pre>GaussianNB()</pre><b>In a Jupyter environment, please rerun this cell to show the HTML representation or trust the notebook. <br />On GitHub, the HTML representation is unable to render, please try loading this page with nbviewer.org.</b></div><div class=\"sk-container\" hidden><div class=\"sk-item\"><div class=\"sk-estimator fitted sk-toggleable\"><input class=\"sk-toggleable__control sk-hidden--visually\" id=\"sk-estimator-id-1\" type=\"checkbox\" checked><label for=\"sk-estimator-id-1\" class=\"sk-toggleable__label fitted sk-toggleable__label-arrow\"><div><div>GaussianNB</div></div><div><a class=\"sk-estimator-doc-link fitted\" rel=\"noreferrer\" target=\"_blank\" href=\"https://scikit-learn.org/1.6/modules/generated/sklearn.naive_bayes.GaussianNB.html\">?<span>Documentation for GaussianNB</span></a><span class=\"sk-estimator-doc-link fitted\">i<span>Fitted</span></span></div></label><div class=\"sk-toggleable__content fitted\"><pre>GaussianNB()</pre></div> </div></div></div></div>"
            ]
          },
          "metadata": {},
          "execution_count": 34
        }
      ]
    },
    {
      "cell_type": "markdown",
      "source": [
        "Zostaje przygotowany algorytm Naive Bayes"
      ],
      "metadata": {
        "id": "2p5yS7WZO5UT"
      }
    },
    {
      "cell_type": "code",
      "source": [
        "y_pred = gnb.predict(X_test_bayes)\n",
        "\n",
        "y_pred"
      ],
      "metadata": {
        "colab": {
          "base_uri": "https://localhost:8080/"
        },
        "id": "qtCoHBcRBtq8",
        "outputId": "c4cb95c7-f06e-4200-e359-90ed5caecbda"
      },
      "execution_count": 35,
      "outputs": [
        {
          "output_type": "execute_result",
          "data": {
            "text/plain": [
              "array(['neutral or dissatisfied', 'satisfied', 'neutral or dissatisfied',\n",
              "       ..., 'neutral or dissatisfied', 'neutral or dissatisfied',\n",
              "       'neutral or dissatisfied'], dtype='<U23')"
            ]
          },
          "metadata": {},
          "execution_count": 35
        }
      ]
    },
    {
      "cell_type": "markdown",
      "source": [
        "Przewidywane wyniki działania klasyfikatora Naive Bayes"
      ],
      "metadata": {
        "id": "9-vvJoyCO9X-"
      }
    },
    {
      "cell_type": "markdown",
      "source": [
        "Poniżej przedstawione zostały wyniki skuteczności modelu oraz wyniki skuteczności setu treningowego."
      ],
      "metadata": {
        "id": "tMIaD_FOPUgU"
      }
    },
    {
      "cell_type": "code",
      "source": [
        "from sklearn.metrics import accuracy_score\n",
        "\n",
        "print('Skuteczność modelu wynosi: {0:0.4f}'. format(accuracy_score(y_test, y_pred)))"
      ],
      "metadata": {
        "colab": {
          "base_uri": "https://localhost:8080/"
        },
        "id": "zjgQBPzvFv5d",
        "outputId": "07a60fd8-1e37-43c3-edb5-ff1afb819784"
      },
      "execution_count": 36,
      "outputs": [
        {
          "output_type": "stream",
          "name": "stdout",
          "text": [
            "Skuteczność modelu wynosi: 0.8566\n"
          ]
        }
      ]
    },
    {
      "cell_type": "code",
      "source": [
        "y_pred_train = gnb.predict(X_train_bayes)\n",
        "\n",
        "y_pred_train"
      ],
      "metadata": {
        "colab": {
          "base_uri": "https://localhost:8080/"
        },
        "id": "RVSOc7wUF0oc",
        "outputId": "3f5a6a73-b495-401a-e7ba-fbfa092332f5"
      },
      "execution_count": 37,
      "outputs": [
        {
          "output_type": "execute_result",
          "data": {
            "text/plain": [
              "array(['neutral or dissatisfied', 'satisfied', 'neutral or dissatisfied',\n",
              "       ..., 'neutral or dissatisfied', 'satisfied',\n",
              "       'neutral or dissatisfied'], dtype='<U23')"
            ]
          },
          "metadata": {},
          "execution_count": 37
        }
      ]
    },
    {
      "cell_type": "code",
      "source": [
        "print('Skuteczność setu treningowego: {0:0.4f}'. format(accuracy_score(y_train, y_pred_train)))"
      ],
      "metadata": {
        "colab": {
          "base_uri": "https://localhost:8080/"
        },
        "id": "8YriSosgF4nU",
        "outputId": "09f53223-51c8-488f-bbff-2c73ea0c5fd1"
      },
      "execution_count": 38,
      "outputs": [
        {
          "output_type": "stream",
          "name": "stdout",
          "text": [
            "Skuteczność setu treningowego: 0.8568\n"
          ]
        }
      ]
    },
    {
      "cell_type": "code",
      "source": [
        "print('Wynik dla setu treningowego: {:.4f}'.format(gnb.score(X_train_bayes, y_train)))\n",
        "\n",
        "print('Wynik dla setu testowego: {:.4f}'.format(gnb.score(X_test_bayes, y_test)))"
      ],
      "metadata": {
        "colab": {
          "base_uri": "https://localhost:8080/"
        },
        "id": "MuYB_P_GF9bN",
        "outputId": "138c0eeb-1115-405a-e5cf-666ab20d85e7"
      },
      "execution_count": 39,
      "outputs": [
        {
          "output_type": "stream",
          "name": "stdout",
          "text": [
            "Wynik dla setu treningowego: 0.8568\n",
            "Wynik dla setu testowego: 0.8566\n"
          ]
        }
      ]
    },
    {
      "cell_type": "markdown",
      "source": [
        "Możemy zaobserwować, że skuteczność setu treningowego wynosi 0.8568, gdy wynik dla setu testowego wynosi 0.8566. Możemy wywnioskować poprzez zbliżenie tych wartości, że nie doszło do przeładowania modelu."
      ],
      "metadata": {
        "id": "H4jQozKIP-la"
      }
    },
    {
      "cell_type": "markdown",
      "source": [
        "Poniżej przedstawiona została ilość wartości \"satisfaction\"."
      ],
      "metadata": {
        "id": "Z2hBH4J5PydM"
      }
    },
    {
      "cell_type": "code",
      "source": [
        "y_test.value_counts()"
      ],
      "metadata": {
        "colab": {
          "base_uri": "https://localhost:8080/",
          "height": 178
        },
        "id": "KLtUyOyrGB75",
        "outputId": "f139d635-8c83-48fc-926e-6fdefd8c7267"
      },
      "execution_count": 40,
      "outputs": [
        {
          "output_type": "execute_result",
          "data": {
            "text/plain": [
              "satisfaction\n",
              "neutral or dissatisfied    14570\n",
              "satisfied                  11328\n",
              "Name: count, dtype: int64"
            ],
            "text/html": [
              "<div>\n",
              "<style scoped>\n",
              "    .dataframe tbody tr th:only-of-type {\n",
              "        vertical-align: middle;\n",
              "    }\n",
              "\n",
              "    .dataframe tbody tr th {\n",
              "        vertical-align: top;\n",
              "    }\n",
              "\n",
              "    .dataframe thead th {\n",
              "        text-align: right;\n",
              "    }\n",
              "</style>\n",
              "<table border=\"1\" class=\"dataframe\">\n",
              "  <thead>\n",
              "    <tr style=\"text-align: right;\">\n",
              "      <th></th>\n",
              "      <th>count</th>\n",
              "    </tr>\n",
              "    <tr>\n",
              "      <th>satisfaction</th>\n",
              "      <th></th>\n",
              "    </tr>\n",
              "  </thead>\n",
              "  <tbody>\n",
              "    <tr>\n",
              "      <th>neutral or dissatisfied</th>\n",
              "      <td>14570</td>\n",
              "    </tr>\n",
              "    <tr>\n",
              "      <th>satisfied</th>\n",
              "      <td>11328</td>\n",
              "    </tr>\n",
              "  </tbody>\n",
              "</table>\n",
              "</div><br><label><b>dtype:</b> int64</label>"
            ]
          },
          "metadata": {},
          "execution_count": 40
        }
      ]
    },
    {
      "cell_type": "code",
      "source": [
        "null_accuracy = (14570/(14570+11328))\n",
        "\n",
        "print('Null accuracy score: {0:0.4f}'. format(null_accuracy))"
      ],
      "metadata": {
        "colab": {
          "base_uri": "https://localhost:8080/"
        },
        "id": "3L_e4FW8GG75",
        "outputId": "67aede4c-f2cb-49f9-ddbc-4539f9c529bb"
      },
      "execution_count": 41,
      "outputs": [
        {
          "output_type": "stream",
          "name": "stdout",
          "text": [
            "Null accuracy score: 0.5626\n"
          ]
        }
      ]
    },
    {
      "cell_type": "markdown",
      "source": [
        "Zostaje utworzona macierz, której zadaniem jest przedstawienie wydajności modelu klasyfikacyjnego."
      ],
      "metadata": {
        "id": "wrJtlacYQmE1"
      }
    },
    {
      "cell_type": "code",
      "source": [
        "from sklearn.metrics import confusion_matrix\n",
        "\n",
        "cm = confusion_matrix(y_test, y_pred)\n",
        "\n",
        "print('Macierz modelu\\n\\n', cm)\n",
        "\n",
        "TP = cm[0,0]\n",
        "TN = cm[1,1]\n",
        "FP = cm[0,1]\n",
        "FN = cm[1,0]\n",
        "\n",
        "print('\\nTrue Positives(TP) = ', TP)\n",
        "\n",
        "print('\\nTrue Negatives(TN) = ', TN)\n",
        "\n",
        "print('\\nFalse Positives(FP) = ', FP)\n",
        "\n",
        "print('\\nFalse Negatives(FN) = ', FN)"
      ],
      "metadata": {
        "colab": {
          "base_uri": "https://localhost:8080/"
        },
        "id": "srFhAxNmGVMz",
        "outputId": "be65da3c-fc4b-4274-fd3a-5e42144d4171"
      },
      "execution_count": 42,
      "outputs": [
        {
          "output_type": "stream",
          "name": "stdout",
          "text": [
            "Macierz modelu\n",
            "\n",
            " [[13006  1564]\n",
            " [ 2151  9177]]\n",
            "\n",
            "True Positives(TP) =  13006\n",
            "\n",
            "True Negatives(TN) =  9177\n",
            "\n",
            "False Positives(FP) =  1564\n",
            "\n",
            "False Negatives(FN) =  2151\n"
          ]
        }
      ]
    },
    {
      "cell_type": "markdown",
      "source": [
        "Objaśnienie wyżej przedstawionych wartości:\n",
        "- True Positives (TP): występuje gdy przewidujemy, że dana obserwacja należy do określonej klasy i rzeczywiście do niej należy.\n",
        "- True Negatives (TN): występuje gdy przewidujemy, że dana obserwacja nie należy do określonej klasy i rzeczywiście do niej nie należy.\n",
        "- False Positivies (FP): występuje gdy przewidujemy, że dana obserwacja należy do określonej klasy, ale obserwacja do niej nie należy. (Bład typu I).\n",
        "- False Negatives (FN): występuje gdy przewidujemy, że dana obserwacja nie należy do określonej klasy, ale obserwacja do niej należy. (Bład typu II).\n"
      ],
      "metadata": {
        "id": "y0MVRuCAQ7za"
      }
    },
    {
      "cell_type": "code",
      "source": [
        "import seaborn as sns\n",
        "cm_matrix = pd.DataFrame(data=cm, columns=['Actual Positive:1', 'Actual Negative:0'],\n",
        "                                 index=['Predict Positive:1', 'Predict Negative:0'])\n",
        "\n",
        "sns.heatmap(cm_matrix, annot=True, fmt='d', cmap='viridis')"
      ],
      "metadata": {
        "colab": {
          "base_uri": "https://localhost:8080/",
          "height": 447
        },
        "id": "LR18c9WuGbRX",
        "outputId": "0a0ccfc9-c479-4742-da08-dd7486ed3841"
      },
      "execution_count": 43,
      "outputs": [
        {
          "output_type": "execute_result",
          "data": {
            "text/plain": [
              "<Axes: >"
            ]
          },
          "metadata": {},
          "execution_count": 43
        },
        {
          "output_type": "display_data",
          "data": {
            "text/plain": [
              "<Figure size 640x480 with 2 Axes>"
            ],
            "image/png": "[encoded data removed]"
          },
          "metadata": {}
        }
      ]
    },
    {
      "cell_type": "markdown",
      "source": [
        "Wizualne przedstawienie wcześniejszych wartości"
      ],
      "metadata": {
        "id": "NxyreE8nRzpy"
      }
    },
    {
      "cell_type": "markdown",
      "source": [
        "Raport klasyfikacji poniżej został wykorzystany w celu przedstawienia wartości takich jak: precision, recall czy f1-score."
      ],
      "metadata": {
        "id": "nDnM0VmHSJ4f"
      }
    },
    {
      "cell_type": "code",
      "source": [
        "from sklearn.metrics import classification_report\n",
        "\n",
        "print(classification_report(y_test, y_pred))"
      ],
      "metadata": {
        "colab": {
          "base_uri": "https://localhost:8080/"
        },
        "id": "0cQr66ObG9MD",
        "outputId": "140ba91e-b106-494b-c091-55fe2a20f583"
      },
      "execution_count": 44,
      "outputs": [
        {
          "output_type": "stream",
          "name": "stdout",
          "text": [
            "                         precision    recall  f1-score   support\n",
            "\n",
            "neutral or dissatisfied       0.86      0.89      0.88     14570\n",
            "              satisfied       0.85      0.81      0.83     11328\n",
            "\n",
            "               accuracy                           0.86     25898\n",
            "              macro avg       0.86      0.85      0.85     25898\n",
            "           weighted avg       0.86      0.86      0.86     25898\n",
            "\n"
          ]
        }
      ]
    },
    {
      "cell_type": "code",
      "source": [
        "classification_accuracy = (TP + TN) / float(TP + TN + FP + FN)\n",
        "\n",
        "print('Skuteczność klasyfikacji: {0:0.4f}'.format(classification_accuracy))"
      ],
      "metadata": {
        "colab": {
          "base_uri": "https://localhost:8080/"
        },
        "id": "WWJo7U97HQTs",
        "outputId": "0a850d76-2472-40ae-c5f7-2a0c5f18bb45"
      },
      "execution_count": 45,
      "outputs": [
        {
          "output_type": "stream",
          "name": "stdout",
          "text": [
            "Skuteczność klasyfikacji: 0.8566\n"
          ]
        }
      ]
    },
    {
      "cell_type": "code",
      "source": [
        "classification_error = (FP + FN) / float(TP + TN + FP + FN)\n",
        "\n",
        "print('Błędy klasyfikacji: {0:0.4f}'.format(classification_error))"
      ],
      "metadata": {
        "colab": {
          "base_uri": "https://localhost:8080/"
        },
        "id": "enHCotfTHTfB",
        "outputId": "f088e11f-05c9-4fad-ab41-98b3923d56ed"
      },
      "execution_count": 46,
      "outputs": [
        {
          "output_type": "stream",
          "name": "stdout",
          "text": [
            "Błędy klasyfikacji: 0.1434\n"
          ]
        }
      ]
    },
    {
      "cell_type": "code",
      "source": [
        "precision = TP / float(TP + FP)\n",
        "\n",
        "\n",
        "print('Precision: {0:0.4f}'.format(precision))"
      ],
      "metadata": {
        "colab": {
          "base_uri": "https://localhost:8080/"
        },
        "id": "rS_Qq6pPHV_x",
        "outputId": "4b6c1b6e-8a10-41b8-dfbb-750904ce62d9"
      },
      "execution_count": 47,
      "outputs": [
        {
          "output_type": "stream",
          "name": "stdout",
          "text": [
            "Precision: 0.8927\n"
          ]
        }
      ]
    },
    {
      "cell_type": "code",
      "source": [
        "recall = TP / float(TP + FN)\n",
        "\n",
        "print('Recall: {0:0.4f}'.format(recall))"
      ],
      "metadata": {
        "colab": {
          "base_uri": "https://localhost:8080/"
        },
        "id": "U5nThQjOHY6b",
        "outputId": "22d6c588-fb01-40cb-f27b-b7f8a737b5f7"
      },
      "execution_count": 48,
      "outputs": [
        {
          "output_type": "stream",
          "name": "stdout",
          "text": [
            "Recall: 0.8581\n"
          ]
        }
      ]
    },
    {
      "cell_type": "code",
      "source": [
        "true_positive_rate = TP / float(TP + FN)\n",
        "\n",
        "\n",
        "print('True Positive Rate: {0:0.4f}'.format(true_positive_rate))"
      ],
      "metadata": {
        "colab": {
          "base_uri": "https://localhost:8080/"
        },
        "id": "5YLy-Ql3HdCG",
        "outputId": "fef65e76-471a-43b3-cda5-217b54d067c0"
      },
      "execution_count": 49,
      "outputs": [
        {
          "output_type": "stream",
          "name": "stdout",
          "text": [
            "True Positive Rate: 0.8581\n"
          ]
        }
      ]
    },
    {
      "cell_type": "code",
      "source": [
        "false_positive_rate = FP / float(FP + TN)\n",
        "\n",
        "\n",
        "print('False Positive Rate : {0:0.4f}'.format(false_positive_rate))"
      ],
      "metadata": {
        "colab": {
          "base_uri": "https://localhost:8080/"
        },
        "id": "xWJwIl8GHeNT",
        "outputId": "c35ddc5a-dc28-4cc4-96b2-97a4a9e84750"
      },
      "execution_count": 50,
      "outputs": [
        {
          "output_type": "stream",
          "name": "stdout",
          "text": [
            "False Positive Rate : 0.1456\n"
          ]
        }
      ]
    },
    {
      "cell_type": "code",
      "source": [
        "specificity = TN / (TN + FP)\n",
        "\n",
        "print('Specificity : {0:0.4f}'.format(specificity))"
      ],
      "metadata": {
        "colab": {
          "base_uri": "https://localhost:8080/"
        },
        "id": "qOl8o3E_Hh14",
        "outputId": "28beb0e7-8aca-433c-99fa-cdfd19c71c09"
      },
      "execution_count": 51,
      "outputs": [
        {
          "output_type": "stream",
          "name": "stdout",
          "text": [
            "Specificity : 0.8544\n"
          ]
        }
      ]
    },
    {
      "cell_type": "code",
      "source": [
        "y_pred_prob = gnb.predict_proba(X_test_bayes)[0:10]\n",
        "\n",
        "y_pred_prob"
      ],
      "metadata": {
        "colab": {
          "base_uri": "https://localhost:8080/"
        },
        "id": "TsjoXg8qHzFw",
        "outputId": "639c87dd-0eff-4ca0-c095-7cca0b618e58"
      },
      "execution_count": 52,
      "outputs": [
        {
          "output_type": "execute_result",
          "data": {
            "text/plain": [
              "array([[9.99993017e-01, 6.98261570e-06],\n",
              "       [7.53746315e-06, 9.99992463e-01],\n",
              "       [1.00000000e+00, 3.76440997e-12],\n",
              "       [9.99998483e-01, 1.51653342e-06],\n",
              "       [9.99985435e-01, 1.45648502e-05],\n",
              "       [9.99459320e-01, 5.40679735e-04],\n",
              "       [9.99999833e-01, 1.66980999e-07],\n",
              "       [9.99925782e-01, 7.42181642e-05],\n",
              "       [1.52683764e-09, 9.99999998e-01],\n",
              "       [3.16623895e-06, 9.99996834e-01]])"
            ]
          },
          "metadata": {},
          "execution_count": 52
        }
      ]
    },
    {
      "cell_type": "code",
      "source": [
        "y_pred_prob_df = pd.DataFrame(data=y_pred_prob, columns=['Prob of - neutral or dissatisfied', 'Prob of - satisfied'])\n",
        "\n",
        "y_pred_prob_df"
      ],
      "metadata": {
        "colab": {
          "base_uri": "https://localhost:8080/",
          "height": 363
        },
        "id": "DCFq3-mpH2gF",
        "outputId": "2ef14105-9f0a-4cfa-ce40-bdf1a449452c"
      },
      "execution_count": 53,
      "outputs": [
        {
          "output_type": "execute_result",
          "data": {
            "text/plain": [
              "   Prob of - neutral or dissatisfied  Prob of - satisfied\n",
              "0                       9.999930e-01         6.982616e-06\n",
              "1                       7.537463e-06         9.999925e-01\n",
              "2                       1.000000e+00         3.764410e-12\n",
              "3                       9.999985e-01         1.516533e-06\n",
              "4                       9.999854e-01         1.456485e-05\n",
              "5                       9.994593e-01         5.406797e-04\n",
              "6                       9.999998e-01         1.669810e-07\n",
              "7                       9.999258e-01         7.421816e-05\n",
              "8                       1.526838e-09         1.000000e+00\n",
              "9                       3.166239e-06         9.999968e-01"
            ],
            "text/html": [
              "\n",
              "  <div id=\"df-05650641-be98-40eb-9528-edbb3f9e849d\" class=\"colab-df-container\">\n",
              "    <div>\n",
              "<style scoped>\n",
              "    .dataframe tbody tr th:only-of-type {\n",
              "        vertical-align: middle;\n",
              "    }\n",
              "\n",
              "    .dataframe tbody tr th {\n",
              "        vertical-align: top;\n",
              "    }\n",
              "\n",
              "    .dataframe thead th {\n",
              "        text-align: right;\n",
              "    }\n",
              "</style>\n",
              "<table border=\"1\" class=\"dataframe\">\n",
              "  <thead>\n",
              "    <tr style=\"text-align: right;\">\n",
              "      <th></th>\n",
              "      <th>Prob of - neutral or dissatisfied</th>\n",
              "      <th>Prob of - satisfied</th>\n",
              "    </tr>\n",
              "  </thead>\n",
              "  <tbody>\n",
              "    <tr>\n",
              "      <th>0</th>\n",
              "      <td>9.999930e-01</td>\n",
              "      <td>6.982616e-06</td>\n",
              "    </tr>\n",
              "    <tr>\n",
              "      <th>1</th>\n",
              "      <td>7.537463e-06</td>\n",
              "      <td>9.999925e-01</td>\n",
              "    </tr>\n",
              "    <tr>\n",
              "      <th>2</th>\n",
              "      <td>1.000000e+00</td>\n",
              "      <td>3.764410e-12</td>\n",
              "    </tr>\n",
              "    <tr>\n",
              "      <th>3</th>\n",
              "      <td>9.999985e-01</td>\n",
              "      <td>1.516533e-06</td>\n",
              "    </tr>\n",
              "    <tr>\n",
              "      <th>4</th>\n",
              "      <td>9.999854e-01</td>\n",
              "      <td>1.456485e-05</td>\n",
              "    </tr>\n",
              "    <tr>\n",
              "      <th>5</th>\n",
              "      <td>9.994593e-01</td>\n",
              "      <td>5.406797e-04</td>\n",
              "    </tr>\n",
              "    <tr>\n",
              "      <th>6</th>\n",
              "      <td>9.999998e-01</td>\n",
              "      <td>1.669810e-07</td>\n",
              "    </tr>\n",
              "    <tr>\n",
              "      <th>7</th>\n",
              "      <td>9.999258e-01</td>\n",
              "      <td>7.421816e-05</td>\n",
              "    </tr>\n",
              "    <tr>\n",
              "      <th>8</th>\n",
              "      <td>1.526838e-09</td>\n",
              "      <td>1.000000e+00</td>\n",
              "    </tr>\n",
              "    <tr>\n",
              "      <th>9</th>\n",
              "      <td>3.166239e-06</td>\n",
              "      <td>9.999968e-01</td>\n",
              "    </tr>\n",
              "  </tbody>\n",
              "</table>\n",
              "</div>\n",
              "    <div class=\"colab-df-buttons\">\n",
              "\n",
              "  <div class=\"colab-df-container\">\n",
              "    <button class=\"colab-df-convert\" onclick=\"convertToInteractive('df-05650641-be98-40eb-9528-edbb3f9e849d')\"\n",
              "            title=\"Convert this dataframe to an interactive table.\"\n",
              "            style=\"display:none;\">\n",
              "\n",
              "  <svg xmlns=\"http://www.w3.org/2000/svg\" height=\"24px\" viewBox=\"0 -960 960 960\">\n",
              "    <path d=\"M120-120v-720h720v720H120Zm60-500h600v-160H180v160Zm220 220h160v-160H400v160Zm0 220h160v-160H400v160ZM180-400h160v-160H180v160Zm440 0h160v-160H620v160ZM180-180h160v-160H180v160Zm440 0h160v-160H620v160Z\"/>\n",
              "  </svg>\n",
              "    </button>\n",
              "\n",
              "  <style>\n",
              "    .colab-df-container {\n",
              "      display:flex;\n",
              "      gap: 12px;\n",
              "    }\n",
              "\n",
              "    .colab-df-convert {\n",
              "      background-color: #E8F0FE;\n",
              "      border: none;\n",
              "      border-radius: 50%;\n",
              "      cursor: pointer;\n",
              "      display: none;\n",
              "      fill: #1967D2;\n",
              "      height: 32px;\n",
              "      padding: 0 0 0 0;\n",
              "      width: 32px;\n",
              "    }\n",
              "\n",
              "    .colab-df-convert:hover {\n",
              "      background-color: #E2EBFA;\n",
              "      box-shadow: 0px 1px 2px rgba(60, 64, 67, 0.3), 0px 1px 3px 1px rgba(60, 64, 67, 0.15);\n",
              "      fill: #174EA6;\n",
              "    }\n",
              "\n",
              "    .colab-df-buttons div {\n",
              "      margin-bottom: 4px;\n",
              "    }\n",
              "\n",
              "    [theme=dark] .colab-df-convert {\n",
              "      background-color: #3B4455;\n",
              "      fill: #D2E3FC;\n",
              "    }\n",
              "\n",
              "    [theme=dark] .colab-df-convert:hover {\n",
              "      background-color: #434B5C;\n",
              "      box-shadow: 0px 1px 3px 1px rgba(0, 0, 0, 0.15);\n",
              "      filter: drop-shadow(0px 1px 2px rgba(0, 0, 0, 0.3));\n",
              "      fill: #FFFFFF;\n",
              "    }\n",
              "  </style>\n",
              "\n",
              "    <script>\n",
              "      const buttonEl =\n",
              "        document.querySelector('#df-05650641-be98-40eb-9528-edbb3f9e849d button.colab-df-convert');\n",
              "      buttonEl.style.display =\n",
              "        google.colab.kernel.accessAllowed ? 'block' : 'none';\n",
              "\n",
              "      async function convertToInteractive(key) {\n",
              "        const element = document.querySelector('#df-05650641-be98-40eb-9528-edbb3f9e849d');\n",
              "        const dataTable =\n",
              "          await google.colab.kernel.invokeFunction('convertToInteractive',\n",
              "                                                    [key], {});\n",
              "        if (!dataTable) return;\n",
              "\n",
              "        const docLinkHtml = 'Like what you see? Visit the ' +\n",
              "          '<a target=\"_blank\" href=https://colab.research.google.com/notebooks/data_table.ipynb>data table notebook</a>'\n",
              "          + ' to learn more about interactive tables.';\n",
              "        element.innerHTML = '';\n",
              "        dataTable['output_type'] = 'display_data';\n",
              "        await google.colab.output.renderOutput(dataTable, element);\n",
              "        const docLink = document.createElement('div');\n",
              "        docLink.innerHTML = docLinkHtml;\n",
              "        element.appendChild(docLink);\n",
              "      }\n",
              "    </script>\n",
              "  </div>\n",
              "\n",
              "\n",
              "<div id=\"df-a4fdfec5-a363-4a07-b4dd-8a1877b64b4f\">\n",
              "  <button class=\"colab-df-quickchart\" onclick=\"quickchart('df-a4fdfec5-a363-4a07-b4dd-8a1877b64b4f')\"\n",
              "            title=\"Suggest charts\"\n",
              "            style=\"display:none;\">\n",
              "\n",
              "<svg xmlns=\"http://www.w3.org/2000/svg\" height=\"24px\"viewBox=\"0 0 24 24\"\n",
              "     width=\"24px\">\n",
              "    <g>\n",
              "        <path d=\"M19 3H5c-1.1 0-2 .9-2 2v14c0 1.1.9 2 2 2h14c1.1 0 2-.9 2-2V5c0-1.1-.9-2-2-2zM9 17H7v-7h2v7zm4 0h-2V7h2v10zm4 0h-2v-4h2v4z\"/>\n",
              "    </g>\n",
              "</svg>\n",
              "  </button>\n",
              "\n",
              "<style>\n",
              "  .colab-df-quickchart {\n",
              "      --bg-color: #E8F0FE;\n",
              "      --fill-color: #1967D2;\n",
              "      --hover-bg-color: #E2EBFA;\n",
              "      --hover-fill-color: #174EA6;\n",
              "      --disabled-fill-color: #AAA;\n",
              "      --disabled-bg-color: #DDD;\n",
              "  }\n",
              "\n",
              "  [theme=dark] .colab-df-quickchart {\n",
              "      --bg-color: #3B4455;\n",
              "      --fill-color: #D2E3FC;\n",
              "      --hover-bg-color: #434B5C;\n",
              "      --hover-fill-color: #FFFFFF;\n",
              "      --disabled-bg-color: #3B4455;\n",
              "      --disabled-fill-color: #666;\n",
              "  }\n",
              "\n",
              "  .colab-df-quickchart {\n",
              "    background-color: var(--bg-color);\n",
              "    border: none;\n",
              "    border-radius: 50%;\n",
              "    cursor: pointer;\n",
              "    display: none;\n",
              "    fill: var(--fill-color);\n",
              "    height: 32px;\n",
              "    padding: 0;\n",
              "    width: 32px;\n",
              "  }\n",
              "\n",
              "  .colab-df-quickchart:hover {\n",
              "    background-color: var(--hover-bg-color);\n",
              "    box-shadow: 0 1px 2px rgba(60, 64, 67, 0.3), 0 1px 3px 1px rgba(60, 64, 67, 0.15);\n",
              "    fill: var(--button-hover-fill-color);\n",
              "  }\n",
              "\n",
              "  .colab-df-quickchart-complete:disabled,\n",
              "  .colab-df-quickchart-complete:disabled:hover {\n",
              "    background-color: var(--disabled-bg-color);\n",
              "    fill: var(--disabled-fill-color);\n",
              "    box-shadow: none;\n",
              "  }\n",
              "\n",
              "  .colab-df-spinner {\n",
              "    border: 2px solid var(--fill-color);\n",
              "    border-color: transparent;\n",
              "    border-bottom-color: var(--fill-color);\n",
              "    animation:\n",
              "      spin 1s steps(1) infinite;\n",
              "  }\n",
              "\n",
              "  @keyframes spin {\n",
              "    0% {\n",
              "      border-color: transparent;\n",
              "      border-bottom-color: var(--fill-color);\n",
              "      border-left-color: var(--fill-color);\n",
              "    }\n",
              "    20% {\n",
              "      border-color: transparent;\n",
              "      border-left-color: var(--fill-color);\n",
              "      border-top-color: var(--fill-color);\n",
              "    }\n",
              "    30% {\n",
              "      border-color: transparent;\n",
              "      border-left-color: var(--fill-color);\n",
              "      border-top-color: var(--fill-color);\n",
              "      border-right-color: var(--fill-color);\n",
              "    }\n",
              "    40% {\n",
              "      border-color: transparent;\n",
              "      border-right-color: var(--fill-color);\n",
              "      border-top-color: var(--fill-color);\n",
              "    }\n",
              "    60% {\n",
              "      border-color: transparent;\n",
              "      border-right-color: var(--fill-color);\n",
              "    }\n",
              "    80% {\n",
              "      border-color: transparent;\n",
              "      border-right-color: var(--fill-color);\n",
              "      border-bottom-color: var(--fill-color);\n",
              "    }\n",
              "    90% {\n",
              "      border-color: transparent;\n",
              "      border-bottom-color: var(--fill-color);\n",
              "    }\n",
              "  }\n",
              "</style>\n",
              "\n",
              "  <script>\n",
              "    async function quickchart(key) {\n",
              "      const quickchartButtonEl =\n",
              "        document.querySelector('#' + key + ' button');\n",
              "      quickchartButtonEl.disabled = true;  // To prevent multiple clicks.\n",
              "      quickchartButtonEl.classList.add('colab-df-spinner');\n",
              "      try {\n",
              "        const charts = await google.colab.kernel.invokeFunction(\n",
              "            'suggestCharts', [key], {});\n",
              "      } catch (error) {\n",
              "        console.error('Error during call to suggestCharts:', error);\n",
              "      }\n",
              "      quickchartButtonEl.classList.remove('colab-df-spinner');\n",
              "      quickchartButtonEl.classList.add('colab-df-quickchart-complete');\n",
              "    }\n",
              "    (() => {\n",
              "      let quickchartButtonEl =\n",
              "        document.querySelector('#df-a4fdfec5-a363-4a07-b4dd-8a1877b64b4f button');\n",
              "      quickchartButtonEl.style.display =\n",
              "        google.colab.kernel.accessAllowed ? 'block' : 'none';\n",
              "    })();\n",
              "  </script>\n",
              "</div>\n",
              "\n",
              "  <div id=\"id_820df5b7-1161-47cb-ad38-b7ed4ed2698e\">\n",
              "    <style>\n",
              "      .colab-df-generate {\n",
              "        background-color: #E8F0FE;\n",
              "        border: none;\n",
              "        border-radius: 50%;\n",
              "        cursor: pointer;\n",
              "        display: none;\n",
              "        fill: #1967D2;\n",
              "        height: 32px;\n",
              "        padding: 0 0 0 0;\n",
              "        width: 32px;\n",
              "      }\n",
              "\n",
              "      .colab-df-generate:hover {\n",
              "        background-color: #E2EBFA;\n",
              "        box-shadow: 0px 1px 2px rgba(60, 64, 67, 0.3), 0px 1px 3px 1px rgba(60, 64, 67, 0.15);\n",
              "        fill: #174EA6;\n",
              "      }\n",
              "\n",
              "      [theme=dark] .colab-df-generate {\n",
              "        background-color: #3B4455;\n",
              "        fill: #D2E3FC;\n",
              "      }\n",
              "\n",
              "      [theme=dark] .colab-df-generate:hover {\n",
              "        background-color: #434B5C;\n",
              "        box-shadow: 0px 1px 3px 1px rgba(0, 0, 0, 0.15);\n",
              "        filter: drop-shadow(0px 1px 2px rgba(0, 0, 0, 0.3));\n",
              "        fill: #FFFFFF;\n",
              "      }\n",
              "    </style>\n",
              "    <button class=\"colab-df-generate\" onclick=\"generateWithVariable('y_pred_prob_df')\"\n",
              "            title=\"Generate code using this dataframe.\"\n",
              "            style=\"display:none;\">\n",
              "\n",
              "  <svg xmlns=\"http://www.w3.org/2000/svg\" height=\"24px\"viewBox=\"0 0 24 24\"\n",
              "       width=\"24px\">\n",
              "    <path d=\"M7,19H8.4L18.45,9,17,7.55,7,17.6ZM5,21V16.75L18.45,3.32a2,2,0,0,1,2.83,0l1.4,1.43a1.91,1.91,0,0,1,.58,1.4,1.91,1.91,0,0,1-.58,1.4L9.25,21ZM18.45,9,17,7.55Zm-12,3A5.31,5.31,0,0,0,4.9,8.1,5.31,5.31,0,0,0,1,6.5,5.31,5.31,0,0,0,4.9,4.9,5.31,5.31,0,0,0,6.5,1,5.31,5.31,0,0,0,8.1,4.9,5.31,5.31,0,0,0,12,6.5,5.46,5.46,0,0,0,6.5,12Z\"/>\n",
              "  </svg>\n",
              "    </button>\n",
              "    <script>\n",
              "      (() => {\n",
              "      const buttonEl =\n",
              "        document.querySelector('#id_820df5b7-1161-47cb-ad38-b7ed4ed2698e button.colab-df-generate');\n",
              "      buttonEl.style.display =\n",
              "        google.colab.kernel.accessAllowed ? 'block' : 'none';\n",
              "\n",
              "      buttonEl.onclick = () => {\n",
              "        google.colab.notebook.generateWithVariable('y_pred_prob_df');\n",
              "      }\n",
              "      })();\n",
              "    </script>\n",
              "  </div>\n",
              "\n",
              "    </div>\n",
              "  </div>\n"
            ],
            "application/vnd.google.colaboratory.intrinsic+json": {
              "type": "dataframe",
              "variable_name": "y_pred_prob_df",
              "summary": "{\n  \"name\": \"y_pred_prob_df\",\n  \"rows\": 10,\n  \"fields\": [\n    {\n      \"column\": \"Prob of - neutral or dissatisfied\",\n      \"properties\": {\n        \"dtype\": \"number\",\n        \"std\": 0.48300016035839594,\n        \"min\": 1.5268376430986125e-09,\n        \"max\": 0.9999999999962341,\n        \"num_unique_values\": 10,\n        \"samples\": [\n          1.5268376430986125e-09,\n          7.5374631506496325e-06,\n          0.9994593202645098\n        ],\n        \"semantic_type\": \"\",\n        \"description\": \"\"\n      }\n    },\n    {\n      \"column\": \"Prob of - satisfied\",\n      \"properties\": {\n        \"dtype\": \"number\",\n        \"std\": 0.48300016035839566,\n        \"min\": 3.764409974435342e-12,\n        \"max\": 0.9999999984731609,\n        \"num_unique_values\": 10,\n        \"samples\": [\n          0.9999999984731609,\n          0.9999924625368479,\n          0.0005406797354887037\n        ],\n        \"semantic_type\": \"\",\n        \"description\": \"\"\n      }\n    }\n  ]\n}"
            }
          },
          "metadata": {},
          "execution_count": 53
        }
      ]
    },
    {
      "cell_type": "markdown",
      "source": [
        "Powyżej zostały przedstawione wartości takie jak:\n",
        "- skutecznosć klasyfikacji\n",
        "- błędy klasyfikacji\n",
        "- precision\n",
        "- recall\n",
        "- wartość True Positive\n",
        "- wartość False Positive\n",
        "- specyfikacja\n"
      ],
      "metadata": {
        "id": "gk4OK_RFSsyv"
      }
    },
    {
      "cell_type": "code",
      "source": [
        "gnb.predict_proba(X_test_bayes)[0:10, 1]"
      ],
      "metadata": {
        "colab": {
          "base_uri": "https://localhost:8080/"
        },
        "id": "X8V-1u1JIAWN",
        "outputId": "a3193853-bc75-4f4d-f51c-d381150ff2ab"
      },
      "execution_count": 54,
      "outputs": [
        {
          "output_type": "execute_result",
          "data": {
            "text/plain": [
              "array([6.98261570e-06, 9.99992463e-01, 3.76440997e-12, 1.51653342e-06,\n",
              "       1.45648502e-05, 5.40679735e-04, 1.66980999e-07, 7.42181642e-05,\n",
              "       9.99999998e-01, 9.99996834e-01])"
            ]
          },
          "metadata": {},
          "execution_count": 54
        }
      ]
    },
    {
      "cell_type": "code",
      "source": [
        "y_pred1 = gnb.predict_proba(X_test_bayes)[:, 1]"
      ],
      "metadata": {
        "id": "FBSnAc-gIC5t"
      },
      "execution_count": 55,
      "outputs": []
    },
    {
      "cell_type": "code",
      "source": [
        "plt.rcParams['font.size'] = 12\n",
        "plt.hist(y_pred1, bins = 10)\n",
        "plt.title('Histogram przewidywanych prawdopodobieństw \"satistaction\"')\n",
        "plt.xlim(0,1)\n",
        "plt.xlabel('Przewidywane prawdopodobieństwo satisfaction')\n",
        "plt.ylabel('Częstotliwość')"
      ],
      "metadata": {
        "colab": {
          "base_uri": "https://localhost:8080/",
          "height": 499
        },
        "id": "thYXm-eDID-X",
        "outputId": "4ffb05c8-01f2-4d34-ebb4-fc2710a35b34"
      },
      "execution_count": 56,
      "outputs": [
        {
          "output_type": "execute_result",
          "data": {
            "text/plain": [
              "Text(0, 0.5, 'Częstotliwość')"
            ]
          },
          "metadata": {},
          "execution_count": 56
        },
        {
          "output_type": "display_data",
          "data": {
            "text/plain": [
              "<Figure size 640x480 with 1 Axes>"
            ],
            "image/png": "[encoded data removed]"
          },
          "metadata": {}
        }
      ]
    },
    {
      "cell_type": "markdown",
      "source": [
        "Z tego histogramu można odczytać, że:\n",
        "- lewa kolumna zawiera około 14000 wyników wskazujących, że klient był usatysfakcjonowany,\n",
        "- prawa kolumna zawiera około 10000 wyników wskazujących, że klient był nie nieusatysfakcjonowany lub był neutralny,\n",
        "- kolumny pomiędzy przedstawia pozostałe wartości."
      ],
      "metadata": {
        "id": "oVn2yq2ET7kx"
      }
    },
    {
      "cell_type": "markdown",
      "source": [
        "# KRZYWA ROC"
      ],
      "metadata": {
        "id": "oZubMsfNUrBr"
      }
    },
    {
      "cell_type": "markdown",
      "source": [
        "Krzywa ROC wykorzystywana jest do wizualnego pomiaru wydajności modelu klasyfikacyjnego. Jest to wykres, który przedstawia wydajność modelu klasyfikacyjnego na różnych poziomach progowych klasyfikacji. Przedstawia ona \"True Positive Rate\" (TPR) w stosunku do \"False Positive Rate (FPR).\n",
        "- True Positive Rate (TPR): stosunek TP + FN\n",
        "- False Positive Rate (FPR): stosunek FP + TN"
      ],
      "metadata": {
        "id": "sprF6UBVUttG"
      }
    },
    {
      "cell_type": "code",
      "source": [
        "from sklearn.metrics import roc_curve\n",
        "\n",
        "fpr, tpr, thresholds = roc_curve(y_test, y_pred1, pos_label = 'satisfied')\n",
        "\n",
        "plt.figure(figsize=(6,4))\n",
        "\n",
        "plt.plot(fpr, tpr, linewidth=2)\n",
        "\n",
        "plt.plot([0,1], [0,1], 'k--' )\n",
        "\n",
        "plt.rcParams['font.size'] = 12\n",
        "\n",
        "plt.title('Krzywa ROC dla klasyfikatora Naive Bayes dla przewidywania wartości satisfaction')\n",
        "\n",
        "plt.xlabel('False Positive Rate (stosunek FP + TN)')\n",
        "\n",
        "plt.ylabel('True Positive Rate (stosunek TP + FN)')\n",
        "\n",
        "plt.show()"
      ],
      "metadata": {
        "colab": {
          "base_uri": "https://localhost:8080/",
          "height": 420
        },
        "id": "a6ABWkbdIMX6",
        "outputId": "4192c45b-ff90-429d-a70f-54289747a9c4"
      },
      "execution_count": 57,
      "outputs": [
        {
          "output_type": "display_data",
          "data": {
            "text/plain": [
              "<Figure size 600x400 with 1 Axes>"
            ],
            "image/png": "[encoded data removed]"
          },
          "metadata": {}
        }
      ]
    },
    {
      "cell_type": "markdown",
      "source": [
        "Poniżej przedstawiona została wartość ROC AUC, która odpowiada obszarowi znajdującemu się pod krzywą (procent wykresu ROC, który znajduje się pod krzywą). Jest to technika porównywania wydajności klasyfikatora."
      ],
      "metadata": {
        "id": "3ivsGwo8WOl6"
      }
    },
    {
      "cell_type": "code",
      "source": [
        "from sklearn.metrics import roc_auc_score\n",
        "\n",
        "ROC_AUC = roc_auc_score(y_test, y_pred1)\n",
        "\n",
        "print('ROC AUC : {:.4f}'.format(ROC_AUC))"
      ],
      "metadata": {
        "colab": {
          "base_uri": "https://localhost:8080/"
        },
        "id": "De6l2pCIITJx",
        "outputId": "ed86fef8-7d39-43bf-f985-d1d94dc85e2c"
      },
      "execution_count": null,
      "outputs": [
        {
          "output_type": "stream",
          "name": "stdout",
          "text": [
            "ROC AUC : 0.9171\n"
          ]
        }
      ]
    },
    {
      "cell_type": "code",
      "source": [
        "from sklearn.model_selection import cross_val_score\n",
        "\n",
        "Cross_validated_ROC_AUC = cross_val_score(gnb, X_train_bayes, y_train, cv=5, scoring='roc_auc').mean()\n",
        "\n",
        "print('Cross validated ROC AUC : {:.4f}'.format(Cross_validated_ROC_AUC))"
      ],
      "metadata": {
        "colab": {
          "base_uri": "https://localhost:8080/"
        },
        "id": "1-fNXBKvIaVv",
        "outputId": "5a43013b-bfa4-490a-aa98-efa7ad337758"
      },
      "execution_count": null,
      "outputs": [
        {
          "output_type": "stream",
          "name": "stdout",
          "text": [
            "Cross validated ROC AUC : 0.9183\n"
          ]
        }
      ]
    },
    {
      "cell_type": "markdown",
      "source": [
        "Zaobserwować mozna, że nasza wartość zbliża się do 1, więc klasyfikator wykonuje dobrą robotę."
      ],
      "metadata": {
        "id": "qWt38KEoW9f1"
      }
    },
    {
      "cell_type": "markdown",
      "source": [
        "#K-krotna walidacja krzyżowa (k-Fold Cross Validation)"
      ],
      "metadata": {
        "id": "c0cPA2oGW_fA"
      }
    },
    {
      "cell_type": "code",
      "source": [
        "from sklearn.model_selection import cross_val_score\n",
        "\n",
        "scores = cross_val_score(gnb, X_train_bayes, y_train, cv = 10, scoring='accuracy')\n",
        "\n",
        "print('Wyniki walidacji krzyżowej (10 przykładów):{}'.format(scores))"
      ],
      "metadata": {
        "colab": {
          "base_uri": "https://localhost:8080/"
        },
        "id": "8OXIoxGTIegt",
        "outputId": "decea15c-8ba0-42cb-9f1c-2aed2016721b"
      },
      "execution_count": null,
      "outputs": [
        {
          "output_type": "stream",
          "name": "stdout",
          "text": [
            "Wyniki walidacji krzyżowej (10 przykładów):[0.85307462 0.85674293 0.8597355  0.85365383 0.85616372 0.8575152\n",
            " 0.85712907 0.86137658 0.85268848 0.86030122]\n"
          ]
        }
      ]
    },
    {
      "cell_type": "markdown",
      "source": [
        "Podsumowanie dokładności walidacji krzyżowej poprzez obliczenie jej średniej."
      ],
      "metadata": {
        "id": "MWJsa1Igb9Mj"
      }
    },
    {
      "cell_type": "code",
      "source": [
        "print('Średni wynik walidacji krzyżowej: {:.4f}'.format(scores.mean()))"
      ],
      "metadata": {
        "colab": {
          "base_uri": "https://localhost:8080/"
        },
        "id": "rp6lz2CGItsV",
        "outputId": "c757e9fa-b4fd-4903-dd6a-4fa312b9a82c"
      },
      "execution_count": null,
      "outputs": [
        {
          "output_type": "stream",
          "name": "stdout",
          "text": [
            "Średni wynik walidacji krzyżowej: 0.8568\n"
          ]
        }
      ]
    },
    {
      "cell_type": "markdown",
      "source": [
        "#DRZEWO DECYZYJNE"
      ],
      "metadata": {
        "id": "uSRYNVkCJCGT"
      }
    },
    {
      "cell_type": "markdown",
      "source": [
        "Implementacja bibliotek oraz utworzenie modelu drzewa decyzyjnego."
      ],
      "metadata": {
        "id": "7TpbQ6igcJT6"
      }
    },
    {
      "cell_type": "code",
      "source": [
        "from sklearn.tree import DecisionTreeClassifier\n",
        "\n",
        "tree = DecisionTreeClassifier()\n",
        "tree.fit(X_train, y_train)"
      ],
      "metadata": {
        "colab": {
          "base_uri": "https://localhost:8080/",
          "height": 75
        },
        "id": "3Ctz3wglPSxj",
        "outputId": "76e1d1ce-7bac-4e06-dda0-a3c2bd8dc7b7"
      },
      "execution_count": null,
      "outputs": [
        {
          "output_type": "execute_result",
          "data": {
            "text/plain": [
              "DecisionTreeClassifier()"
            ],
            "text/html": [
              "<style>#sk-container-id-2 {color: black;background-color: white;}#sk-container-id-2 pre{padding: 0;}#sk-container-id-2 div.sk-toggleable {background-color: white;}#sk-container-id-2 label.sk-toggleable__label {cursor: pointer;display: block;width: 100%;margin-bottom: 0;padding: 0.3em;box-sizing: border-box;text-align: center;}#sk-container-id-2 label.sk-toggleable__label-arrow:before {content: \"▸\";float: left;margin-right: 0.25em;color: #696969;}#sk-container-id-2 label.sk-toggleable__label-arrow:hover:before {color: black;}#sk-container-id-2 div.sk-estimator:hover label.sk-toggleable__label-arrow:before {color: black;}#sk-container-id-2 div.sk-toggleable__content {max-height: 0;max-width: 0;overflow: hidden;text-align: left;background-color: #f0f8ff;}#sk-container-id-2 div.sk-toggleable__content pre {margin: 0.2em;color: black;border-radius: 0.25em;background-color: #f0f8ff;}#sk-container-id-2 input.sk-toggleable__control:checked~div.sk-toggleable__content {max-height: 200px;max-width: 100%;overflow: auto;}#sk-container-id-2 input.sk-toggleable__control:checked~label.sk-toggleable__label-arrow:before {content: \"▾\";}#sk-container-id-2 div.sk-estimator input.sk-toggleable__control:checked~label.sk-toggleable__label {background-color: #d4ebff;}#sk-container-id-2 div.sk-label input.sk-toggleable__control:checked~label.sk-toggleable__label {background-color: #d4ebff;}#sk-container-id-2 input.sk-hidden--visually {border: 0;clip: rect(1px 1px 1px 1px);clip: rect(1px, 1px, 1px, 1px);height: 1px;margin: -1px;overflow: hidden;padding: 0;position: absolute;width: 1px;}#sk-container-id-2 div.sk-estimator {font-family: monospace;background-color: #f0f8ff;border: 1px dotted black;border-radius: 0.25em;box-sizing: border-box;margin-bottom: 0.5em;}#sk-container-id-2 div.sk-estimator:hover {background-color: #d4ebff;}#sk-container-id-2 div.sk-parallel-item::after {content: \"\";width: 100%;border-bottom: 1px solid gray;flex-grow: 1;}#sk-container-id-2 div.sk-label:hover label.sk-toggleable__label {background-color: #d4ebff;}#sk-container-id-2 div.sk-serial::before {content: \"\";position: absolute;border-left: 1px solid gray;box-sizing: border-box;top: 0;bottom: 0;left: 50%;z-index: 0;}#sk-container-id-2 div.sk-serial {display: flex;flex-direction: column;align-items: center;background-color: white;padding-right: 0.2em;padding-left: 0.2em;position: relative;}#sk-container-id-2 div.sk-item {position: relative;z-index: 1;}#sk-container-id-2 div.sk-parallel {display: flex;align-items: stretch;justify-content: center;background-color: white;position: relative;}#sk-container-id-2 div.sk-item::before, #sk-container-id-2 div.sk-parallel-item::before {content: \"\";position: absolute;border-left: 1px solid gray;box-sizing: border-box;top: 0;bottom: 0;left: 50%;z-index: -1;}#sk-container-id-2 div.sk-parallel-item {display: flex;flex-direction: column;z-index: 1;position: relative;background-color: white;}#sk-container-id-2 div.sk-parallel-item:first-child::after {align-self: flex-end;width: 50%;}#sk-container-id-2 div.sk-parallel-item:last-child::after {align-self: flex-start;width: 50%;}#sk-container-id-2 div.sk-parallel-item:only-child::after {width: 0;}#sk-container-id-2 div.sk-dashed-wrapped {border: 1px dashed gray;margin: 0 0.4em 0.5em 0.4em;box-sizing: border-box;padding-bottom: 0.4em;background-color: white;}#sk-container-id-2 div.sk-label label {font-family: monospace;font-weight: bold;display: inline-block;line-height: 1.2em;}#sk-container-id-2 div.sk-label-container {text-align: center;}#sk-container-id-2 div.sk-container {/* jupyter's `normalize.less` sets `[hidden] { display: none; }` but bootstrap.min.css set `[hidden] { display: none !important; }` so we also need the `!important` here to be able to override the default hidden behavior on the sphinx rendered scikit-learn.org. See: https://github.com/scikit-learn/scikit-learn/issues/21755 */display: inline-block !important;position: relative;}#sk-container-id-2 div.sk-text-repr-fallback {display: none;}</style><div id=\"sk-container-id-2\" class=\"sk-top-container\"><div class=\"sk-text-repr-fallback\"><pre>DecisionTreeClassifier()</pre><b>In a Jupyter environment, please rerun this cell to show the HTML representation or trust the notebook. <br />On GitHub, the HTML representation is unable to render, please try loading this page with nbviewer.org.</b></div><div class=\"sk-container\" hidden><div class=\"sk-item\"><div class=\"sk-estimator sk-toggleable\"><input class=\"sk-toggleable__control sk-hidden--visually\" id=\"sk-estimator-id-2\" type=\"checkbox\" checked><label for=\"sk-estimator-id-2\" class=\"sk-toggleable__label sk-toggleable__label-arrow\">DecisionTreeClassifier</label><div class=\"sk-toggleable__content\"><pre>DecisionTreeClassifier()</pre></div></div></div></div></div>"
            ]
          },
          "metadata": {},
          "execution_count": 66
        }
      ]
    },
    {
      "cell_type": "markdown",
      "source": [
        "Głębokość drzewa:"
      ],
      "metadata": {
        "id": "8_jApW9gcR3p"
      }
    },
    {
      "cell_type": "code",
      "source": [
        "tree.tree_.max_depth"
      ],
      "metadata": {
        "colab": {
          "base_uri": "https://localhost:8080/"
        },
        "id": "stNhCYp-PxtE",
        "outputId": "8f90404f-fc41-47df-f4e0-f5e8ea44348a"
      },
      "execution_count": null,
      "outputs": [
        {
          "output_type": "execute_result",
          "data": {
            "text/plain": [
              "37"
            ]
          },
          "metadata": {},
          "execution_count": 67
        }
      ]
    },
    {
      "cell_type": "markdown",
      "source": [
        "Poniżej przedstawione zostały dwie wartości:\n",
        "- validation_prediction: prognoza dla pierwszej osoby, która pojawiła się w zbiorze X_test\n",
        "- training_prediction: prognoza dla pierwszej osoby, która pojawiła się w zbiorze X_train"
      ],
      "metadata": {
        "id": "jOC3KSLicaeC"
      }
    },
    {
      "cell_type": "code",
      "source": [
        "validation_prediction = tree.predict(X_test)\n",
        "training_prediction = tree.predict(X_train)"
      ],
      "metadata": {
        "id": "lFu4pZthQDga"
      },
      "execution_count": null,
      "outputs": []
    },
    {
      "cell_type": "code",
      "source": [
        "print('Accuracy training set: ', accuracy_score(y_true=y_train, y_pred=training_prediction))\n",
        "print('Accuracy validation set: ', accuracy_score(y_true=y_test, y_pred=validation_prediction))"
      ],
      "metadata": {
        "colab": {
          "base_uri": "https://localhost:8080/"
        },
        "id": "UkcXgbR8QN2o",
        "outputId": "3ad22ee6-8829-4b06-bfc4-5c0619d2e995"
      },
      "execution_count": null,
      "outputs": [
        {
          "output_type": "stream",
          "name": "stdout",
          "text": [
            "Accuracy training set:  1.0\n",
            "Accuracy validation set:  0.9438952814889181\n"
          ]
        }
      ]
    },
    {
      "cell_type": "markdown",
      "source": [
        "Powyżej można wyczytać, że dokładność zbioru treningowego wynosi 100%, a skuteczność zbioru walidacyjnego ma dokładność. Można więc stwierdzić, że model bardzo dobrze przewiduje rejestry zbioru treningowego oraz dobrze radzi sobie ze zbiorem walidacyjnym."
      ],
      "metadata": {
        "id": "-9mkLGaYcysq"
      }
    },
    {
      "cell_type": "markdown",
      "source": [
        "Poniżej przygotowana została wizualizacja drzewa decyzyjnego"
      ],
      "metadata": {
        "id": "JR1ON3WqeY1p"
      }
    },
    {
      "cell_type": "code",
      "source": [
        "!pip install graphviz"
      ],
      "metadata": {
        "colab": {
          "base_uri": "https://localhost:8080/"
        },
        "id": "VuVSPx4DSRkX",
        "outputId": "7b30bdae-14b5-445e-92c1-47cf25e5d769"
      },
      "execution_count": null,
      "outputs": [
        {
          "output_type": "stream",
          "name": "stdout",
          "text": [
            "Requirement already satisfied: graphviz in /usr/local/lib/python3.10/dist-packages (0.20.3)\n"
          ]
        }
      ]
    },
    {
      "cell_type": "code",
      "source": [
        "import graphviz\n",
        "from sklearn.tree import export_graphviz\n",
        "\n",
        "feature_names = X_train.columns\n",
        "\n",
        "tree = DecisionTreeClassifier(max_depth=8, min_samples_leaf=10, min_samples_split=50)\n",
        "tree.fit(X_train, y_train)\n",
        "\n",
        "dot_data = export_graphviz(tree, out_file=None,\n",
        "                         feature_names=feature_names,\n",
        "                         class_names=True,\n",
        "                         filled=True, rounded=True,\n",
        "                         special_characters=True)\n",
        "\n",
        "graph = graphviz.Source(dot_data)\n",
        "graph"
      ],
      "metadata": {
        "colab": {
          "base_uri": "https://localhost:8080/",
          "height": 1000
        },
        "id": "4owAc5F7SXYM",
        "outputId": "16d49434-f73f-4f7c-abf7-abed058ebd41"
      },
      "execution_count": null,
      "outputs": [
        {
          "output_type": "execute_result",
          "data": {
            "image/svg+xml": "<?xml version=\"1.0\" encoding=\"UTF-8\" standalone=\"no\"?>\n<!DOCTYPE svg PUBLIC \"-//W3C//DTD SVG 1.1//EN\"\n \"http://www.w3.org/Graphics/SVG/1.1/DTD/svg11.dtd\">\n<!-- Generated by graphviz version 2.43.0 (0)\n -->\n<!-- Title: Tree Pages: 1 -->\n<svg width=\"12232pt\" height=\"984pt\"\n viewBox=\"0.00 0.00 12232.00 984.00\" xmlns=\"http://www.w3.org/2000/svg\" xmlns:xlink=\"http://www.w3.org/1999/xlink\">\n<g id=\"graph0\" class=\"graph\" transform=\"scale(1 1) rotate(0) translate(4 980)\">\n<title>Tree</title>\n<polygon fill=\"white\" stroke=\"transparent\" points=\"-4,4 -4,-980 12228,-980 12228,4 -4,4\"/>\n<!-- 0 -->\n<g id=\"node1\" class=\"node\">\n<title>0</title>\n<path fill=\"#f9e2d1\" stroke=\"black\" d=\"M3930,-976C3930,-976 3799,-976 3799,-976 3793,-976 3787,-970 3787,-964 3787,-964 3787,-910 3787,-910 3787,-904 3793,-898 3799,-898 3799,-898 3930,-898 3930,-898 3936,-898 3942,-904 3942,-910 3942,-910 3942,-964 3942,-964 3942,-970 3936,-976 3930,-976\"/>\n<text text-anchor=\"start\" x=\"3799.5\" y=\"-961.8\" font-family=\"Helvetica,sans-Serif\" font-size=\"14.00\">Online boarding ≤ 3.5</text>\n<text text-anchor=\"start\" x=\"3829\" y=\"-947.8\" font-family=\"Helvetica,sans-Serif\" font-size=\"14.00\">gini = 0.491</text>\n<text text-anchor=\"start\" x=\"3808.5\" y=\"-933.8\" font-family=\"Helvetica,sans-Serif\" font-size=\"14.00\">samples = 103589</text>\n<text text-anchor=\"start\" x=\"3795\" y=\"-919.8\" font-family=\"Helvetica,sans-Serif\" font-size=\"14.00\">value = [58655, 44934]</text>\n<text text-anchor=\"start\" x=\"3834\" y=\"-905.8\" font-family=\"Helvetica,sans-Serif\" font-size=\"14.00\">class = y</text>\n<text text-anchor=\"start\" x=\"3888\" y=\"-905.8\" font-family=\"Helvetica,sans-Serif\" baseline-shift=\"sub\" font-size=\"14.00\">0</text>\n</g>\n<!-- 1 -->\n<g id=\"node2\" class=\"node\">\n<title>1</title>\n<path fill=\"#ea975c\" stroke=\"black\" d=\"M2983.5,-862C2983.5,-862 2847.5,-862 2847.5,-862 2841.5,-862 2835.5,-856 2835.5,-850 2835.5,-850 2835.5,-796 2835.5,-796 2835.5,-790 2841.5,-784 2847.5,-784 2847.5,-784 2983.5,-784 2983.5,-784 2989.5,-784 2995.5,-790 2995.5,-796 2995.5,-796 2995.5,-850 2995.5,-850 2995.5,-856 2989.5,-862 2983.5,-862\"/>\n<text text-anchor=\"start\" x=\"2843.5\" y=\"-847.8\" font-family=\"Helvetica,sans-Serif\" font-size=\"14.00\">Inflight wifi service ≤ 0.5</text>\n<text text-anchor=\"start\" x=\"2880\" y=\"-833.8\" font-family=\"Helvetica,sans-Serif\" font-size=\"14.00\">gini = 0.253</text>\n<text text-anchor=\"start\" x=\"2863\" y=\"-819.8\" font-family=\"Helvetica,sans-Serif\" font-size=\"14.00\">samples = 52168</text>\n<text text-anchor=\"start\" x=\"2850\" y=\"-805.8\" font-family=\"Helvetica,sans-Serif\" font-size=\"14.00\">value = [44418, 7750]</text>\n<text text-anchor=\"start\" x=\"2885\" y=\"-791.8\" font-family=\"Helvetica,sans-Serif\" font-size=\"14.00\">class = y</text>\n<text text-anchor=\"start\" x=\"2939\" y=\"-791.8\" font-family=\"Helvetica,sans-Serif\" baseline-shift=\"sub\" font-size=\"14.00\">0</text>\n</g>\n<!-- 0&#45;&gt;1 -->\n<g id=\"edge1\" class=\"edge\">\n<title>0&#45;&gt;1</title>\n<path fill=\"none\" stroke=\"black\" d=\"M3786.84,-926.83C3612.53,-906.26 3190.98,-856.51 3005.57,-834.63\"/>\n<polygon fill=\"black\" stroke=\"black\" points=\"3005.92,-831.15 2995.57,-833.45 3005.1,-838.1 3005.92,-831.15\"/>\n<text text-anchor=\"middle\" x=\"3011.06\" y=\"-849.38\" font-family=\"Helvetica,sans-Serif\" font-size=\"14.00\">True</text>\n</g>\n<!-- 96 -->\n<g id=\"node97\" class=\"node\">\n<title>96</title>\n<path fill=\"#85c3ef\" stroke=\"black\" d=\"M5632,-862C5632,-862 5501,-862 5501,-862 5495,-862 5489,-856 5489,-850 5489,-850 5489,-796 5489,-796 5489,-790 5495,-784 5501,-784 5501,-784 5632,-784 5632,-784 5638,-784 5644,-790 5644,-796 5644,-796 5644,-850 5644,-850 5644,-856 5638,-862 5632,-862\"/>\n<text text-anchor=\"start\" x=\"5499\" y=\"-847.8\" font-family=\"Helvetica,sans-Serif\" font-size=\"14.00\">Type of Travel_2 ≤ 0.5</text>\n<text text-anchor=\"start\" x=\"5538.5\" y=\"-833.8\" font-family=\"Helvetica,sans-Serif\" font-size=\"14.00\">gini = 0.4</text>\n<text text-anchor=\"start\" x=\"5514\" y=\"-819.8\" font-family=\"Helvetica,sans-Serif\" font-size=\"14.00\">samples = 51421</text>\n<text text-anchor=\"start\" x=\"5497\" y=\"-805.8\" font-family=\"Helvetica,sans-Serif\" font-size=\"14.00\">value = [14237, 37184]</text>\n<text text-anchor=\"start\" x=\"5536\" y=\"-791.8\" font-family=\"Helvetica,sans-Serif\" font-size=\"14.00\">class = y</text>\n<text text-anchor=\"start\" x=\"5590\" y=\"-791.8\" font-family=\"Helvetica,sans-Serif\" baseline-shift=\"sub\" font-size=\"14.00\">1</text>\n</g>\n<!-- 0&#45;&gt;96 -->\n<g id=\"edge96\" class=\"edge\">\n<title>0&#45;&gt;96</title>\n<path fill=\"none\" stroke=\"black\" d=\"M3942.05,-930.9C4222.43,-912.45 5182.47,-849.27 5478.72,-829.78\"/>\n<polygon fill=\"black\" stroke=\"black\" points=\"5479.23,-833.25 5488.98,-829.1 5478.77,-826.27 5479.23,-833.25\"/>\n<text text-anchor=\"middle\" x=\"5472.5\" y=\"-844.2\" font-family=\"Helvetica,sans-Serif\" font-size=\"14.00\">False</text>\n</g>\n<!-- 2 -->\n<g id=\"node3\" class=\"node\">\n<title>2</title>\n<path fill=\"#3a9de5\" stroke=\"black\" d=\"M2334.5,-748C2334.5,-748 2218.5,-748 2218.5,-748 2212.5,-748 2206.5,-742 2206.5,-736 2206.5,-736 2206.5,-682 2206.5,-682 2206.5,-676 2212.5,-670 2218.5,-670 2218.5,-670 2334.5,-670 2334.5,-670 2340.5,-670 2346.5,-676 2346.5,-682 2346.5,-682 2346.5,-736 2346.5,-736 2346.5,-742 2340.5,-748 2334.5,-748\"/>\n<text text-anchor=\"start\" x=\"2214.5\" y=\"-733.8\" font-family=\"Helvetica,sans-Serif\" font-size=\"14.00\">Food and drink ≤ 0.5</text>\n<text text-anchor=\"start\" x=\"2244.5\" y=\"-719.8\" font-family=\"Helvetica,sans-Serif\" font-size=\"14.00\">gini = 0.01</text>\n<text text-anchor=\"start\" x=\"2228\" y=\"-705.8\" font-family=\"Helvetica,sans-Serif\" font-size=\"14.00\">samples = 1797</text>\n<text text-anchor=\"start\" x=\"2226\" y=\"-691.8\" font-family=\"Helvetica,sans-Serif\" font-size=\"14.00\">value = [9, 1788]</text>\n<text text-anchor=\"start\" x=\"2246\" y=\"-677.8\" font-family=\"Helvetica,sans-Serif\" font-size=\"14.00\">class = y</text>\n<text text-anchor=\"start\" x=\"2300\" y=\"-677.8\" font-family=\"Helvetica,sans-Serif\" baseline-shift=\"sub\" font-size=\"14.00\">1</text>\n</g>\n<!-- 1&#45;&gt;2 -->\n<g id=\"edge2\" class=\"edge\">\n<title>1&#45;&gt;2</title>\n<path fill=\"none\" stroke=\"black\" d=\"M2835.22,-807.93C2712.47,-786.41 2479.48,-745.58 2356.75,-724.07\"/>\n<polygon fill=\"black\" stroke=\"black\" points=\"2357.12,-720.58 2346.67,-722.3 2355.91,-727.47 2357.12,-720.58\"/>\n</g>\n<!-- 5 -->\n<g id=\"node6\" class=\"node\">\n<title>5</title>\n<path fill=\"#e89254\" stroke=\"black\" d=\"M2983.5,-748C2983.5,-748 2847.5,-748 2847.5,-748 2841.5,-748 2835.5,-742 2835.5,-736 2835.5,-736 2835.5,-682 2835.5,-682 2835.5,-676 2841.5,-670 2847.5,-670 2847.5,-670 2983.5,-670 2983.5,-670 2989.5,-670 2995.5,-676 2995.5,-682 2995.5,-682 2995.5,-736 2995.5,-736 2995.5,-742 2989.5,-748 2983.5,-748\"/>\n<text text-anchor=\"start\" x=\"2843.5\" y=\"-733.8\" font-family=\"Helvetica,sans-Serif\" font-size=\"14.00\">Inflight wifi service ≤ 3.5</text>\n<text text-anchor=\"start\" x=\"2880\" y=\"-719.8\" font-family=\"Helvetica,sans-Serif\" font-size=\"14.00\">gini = 0.209</text>\n<text text-anchor=\"start\" x=\"2863\" y=\"-705.8\" font-family=\"Helvetica,sans-Serif\" font-size=\"14.00\">samples = 50371</text>\n<text text-anchor=\"start\" x=\"2850\" y=\"-691.8\" font-family=\"Helvetica,sans-Serif\" font-size=\"14.00\">value = [44409, 5962]</text>\n<text text-anchor=\"start\" x=\"2885\" y=\"-677.8\" font-family=\"Helvetica,sans-Serif\" font-size=\"14.00\">class = y</text>\n<text text-anchor=\"start\" x=\"2939\" y=\"-677.8\" font-family=\"Helvetica,sans-Serif\" baseline-shift=\"sub\" font-size=\"14.00\">0</text>\n</g>\n<!-- 1&#45;&gt;5 -->\n<g id=\"edge5\" class=\"edge\">\n<title>1&#45;&gt;5</title>\n<path fill=\"none\" stroke=\"black\" d=\"M2915.5,-783.77C2915.5,-775.57 2915.5,-766.8 2915.5,-758.28\"/>\n<polygon fill=\"black\" stroke=\"black\" points=\"2919,-758.06 2915.5,-748.06 2912,-758.06 2919,-758.06\"/>\n</g>\n<!-- 3 -->\n<g id=\"node4\" class=\"node\">\n<title>3</title>\n<path fill=\"#86c3ef\" stroke=\"black\" d=\"M2187.5,-627C2187.5,-627 2109.5,-627 2109.5,-627 2103.5,-627 2097.5,-621 2097.5,-615 2097.5,-615 2097.5,-575 2097.5,-575 2097.5,-569 2103.5,-563 2109.5,-563 2109.5,-563 2187.5,-563 2187.5,-563 2193.5,-563 2199.5,-569 2199.5,-575 2199.5,-575 2199.5,-615 2199.5,-615 2199.5,-621 2193.5,-627 2187.5,-627\"/>\n<text text-anchor=\"start\" x=\"2113\" y=\"-612.8\" font-family=\"Helvetica,sans-Serif\" font-size=\"14.00\">gini = 0.404</text>\n<text text-anchor=\"start\" x=\"2107.5\" y=\"-598.8\" font-family=\"Helvetica,sans-Serif\" font-size=\"14.00\">samples = 32</text>\n<text text-anchor=\"start\" x=\"2105.5\" y=\"-584.8\" font-family=\"Helvetica,sans-Serif\" font-size=\"14.00\">value = [9, 23]</text>\n<text text-anchor=\"start\" x=\"2118\" y=\"-570.8\" font-family=\"Helvetica,sans-Serif\" font-size=\"14.00\">class = y</text>\n<text text-anchor=\"start\" x=\"2172\" y=\"-570.8\" font-family=\"Helvetica,sans-Serif\" baseline-shift=\"sub\" font-size=\"14.00\">1</text>\n</g>\n<!-- 2&#45;&gt;3 -->\n<g id=\"edge3\" class=\"edge\">\n<title>2&#45;&gt;3</title>\n<path fill=\"none\" stroke=\"black\" d=\"M2232.81,-669.77C2219.49,-658.12 2204.86,-645.32 2191.58,-633.7\"/>\n<polygon fill=\"black\" stroke=\"black\" points=\"2193.77,-630.96 2183.94,-627.01 2189.16,-636.23 2193.77,-630.96\"/>\n</g>\n<!-- 4 -->\n<g id=\"node5\" class=\"node\">\n<title>4</title>\n<path fill=\"#399de5\" stroke=\"black\" d=\"M2323,-627C2323,-627 2230,-627 2230,-627 2224,-627 2218,-621 2218,-615 2218,-615 2218,-575 2218,-575 2218,-569 2224,-563 2230,-563 2230,-563 2323,-563 2323,-563 2329,-563 2335,-569 2335,-575 2335,-575 2335,-615 2335,-615 2335,-621 2329,-627 2323,-627\"/>\n<text text-anchor=\"start\" x=\"2248.5\" y=\"-612.8\" font-family=\"Helvetica,sans-Serif\" font-size=\"14.00\">gini = 0.0</text>\n<text text-anchor=\"start\" x=\"2228\" y=\"-598.8\" font-family=\"Helvetica,sans-Serif\" font-size=\"14.00\">samples = 1765</text>\n<text text-anchor=\"start\" x=\"2226\" y=\"-584.8\" font-family=\"Helvetica,sans-Serif\" font-size=\"14.00\">value = [0, 1765]</text>\n<text text-anchor=\"start\" x=\"2246\" y=\"-570.8\" font-family=\"Helvetica,sans-Serif\" font-size=\"14.00\">class = y</text>\n<text text-anchor=\"start\" x=\"2300\" y=\"-570.8\" font-family=\"Helvetica,sans-Serif\" baseline-shift=\"sub\" font-size=\"14.00\">1</text>\n</g>\n<!-- 2&#45;&gt;4 -->\n<g id=\"edge4\" class=\"edge\">\n<title>2&#45;&gt;4</title>\n<path fill=\"none\" stroke=\"black\" d=\"M2276.5,-669.77C2276.5,-659.31 2276.5,-647.94 2276.5,-637.32\"/>\n<polygon fill=\"black\" stroke=\"black\" points=\"2280,-637.01 2276.5,-627.01 2273,-637.01 2280,-637.01\"/>\n</g>\n<!-- 6 -->\n<g id=\"node7\" class=\"node\">\n<title>6</title>\n<path fill=\"#e78a47\" stroke=\"black\" d=\"M2488,-634C2488,-634 2365,-634 2365,-634 2359,-634 2353,-628 2353,-622 2353,-622 2353,-568 2353,-568 2353,-562 2359,-556 2365,-556 2365,-556 2488,-556 2488,-556 2494,-556 2500,-562 2500,-568 2500,-568 2500,-622 2500,-622 2500,-628 2494,-634 2488,-634\"/>\n<text text-anchor=\"start\" x=\"2385\" y=\"-619.8\" font-family=\"Helvetica,sans-Serif\" font-size=\"14.00\">Class_2 ≤ 0.5</text>\n<text text-anchor=\"start\" x=\"2394.5\" y=\"-605.8\" font-family=\"Helvetica,sans-Serif\" font-size=\"14.00\">gini = 0.12</text>\n<text text-anchor=\"start\" x=\"2374\" y=\"-591.8\" font-family=\"Helvetica,sans-Serif\" font-size=\"14.00\">samples = 45630</text>\n<text text-anchor=\"start\" x=\"2361\" y=\"-577.8\" font-family=\"Helvetica,sans-Serif\" font-size=\"14.00\">value = [42700, 2930]</text>\n<text text-anchor=\"start\" x=\"2396\" y=\"-563.8\" font-family=\"Helvetica,sans-Serif\" font-size=\"14.00\">class = y</text>\n<text text-anchor=\"start\" x=\"2450\" y=\"-563.8\" font-family=\"Helvetica,sans-Serif\" baseline-shift=\"sub\" font-size=\"14.00\">0</text>\n</g>\n<!-- 5&#45;&gt;6 -->\n<g id=\"edge6\" class=\"edge\">\n<title>5&#45;&gt;6</title>\n<path fill=\"none\" stroke=\"black\" d=\"M2835.3,-689.63C2745.72,-669.11 2601.38,-636.05 2510.35,-615.2\"/>\n<polygon fill=\"black\" stroke=\"black\" points=\"2510.87,-611.73 2500.34,-612.91 2509.3,-618.56 2510.87,-611.73\"/>\n</g>\n<!-- 51 -->\n<g id=\"node52\" class=\"node\">\n<title>51</title>\n<path fill=\"#a9d4f4\" stroke=\"black\" d=\"M3455.5,-634C3455.5,-634 3319.5,-634 3319.5,-634 3313.5,-634 3307.5,-628 3307.5,-622 3307.5,-622 3307.5,-568 3307.5,-568 3307.5,-562 3313.5,-556 3319.5,-556 3319.5,-556 3455.5,-556 3455.5,-556 3461.5,-556 3467.5,-562 3467.5,-568 3467.5,-568 3467.5,-622 3467.5,-622 3467.5,-628 3461.5,-634 3455.5,-634\"/>\n<text text-anchor=\"start\" x=\"3315.5\" y=\"-619.8\" font-family=\"Helvetica,sans-Serif\" font-size=\"14.00\">Inflight wifi service ≤ 4.5</text>\n<text text-anchor=\"start\" x=\"3352\" y=\"-605.8\" font-family=\"Helvetica,sans-Serif\" font-size=\"14.00\">gini = 0.461</text>\n<text text-anchor=\"start\" x=\"3339\" y=\"-591.8\" font-family=\"Helvetica,sans-Serif\" font-size=\"14.00\">samples = 4741</text>\n<text text-anchor=\"start\" x=\"3325.5\" y=\"-577.8\" font-family=\"Helvetica,sans-Serif\" font-size=\"14.00\">value = [1709, 3032]</text>\n<text text-anchor=\"start\" x=\"3357\" y=\"-563.8\" font-family=\"Helvetica,sans-Serif\" font-size=\"14.00\">class = y</text>\n<text text-anchor=\"start\" x=\"3411\" y=\"-563.8\" font-family=\"Helvetica,sans-Serif\" baseline-shift=\"sub\" font-size=\"14.00\">1</text>\n</g>\n<!-- 5&#45;&gt;51 -->\n<g id=\"edge51\" class=\"edge\">\n<title>5&#45;&gt;51</title>\n<path fill=\"none\" stroke=\"black\" d=\"M2995.57,-689C3079.27,-669.14 3210.34,-638.04 3297.55,-617.34\"/>\n<polygon fill=\"black\" stroke=\"black\" points=\"3298.51,-620.71 3307.43,-615 3296.9,-613.9 3298.51,-620.71\"/>\n</g>\n<!-- 7 -->\n<g id=\"node8\" class=\"node\">\n<title>7</title>\n<path fill=\"#e5833c\" stroke=\"black\" d=\"M911,-520C911,-520 744,-520 744,-520 738,-520 732,-514 732,-508 732,-508 732,-454 732,-454 732,-448 738,-442 744,-442 744,-442 911,-442 911,-442 917,-442 923,-448 923,-454 923,-454 923,-508 923,-508 923,-514 917,-520 911,-520\"/>\n<text text-anchor=\"start\" x=\"740\" y=\"-505.8\" font-family=\"Helvetica,sans-Serif\" font-size=\"14.00\">Ease of Online booking ≤ 3.5</text>\n<text text-anchor=\"start\" x=\"792\" y=\"-491.8\" font-family=\"Helvetica,sans-Serif\" font-size=\"14.00\">gini = 0.031</text>\n<text text-anchor=\"start\" x=\"775\" y=\"-477.8\" font-family=\"Helvetica,sans-Serif\" font-size=\"14.00\">samples = 32807</text>\n<text text-anchor=\"start\" x=\"765.5\" y=\"-463.8\" font-family=\"Helvetica,sans-Serif\" font-size=\"14.00\">value = [32289, 518]</text>\n<text text-anchor=\"start\" x=\"797\" y=\"-449.8\" font-family=\"Helvetica,sans-Serif\" font-size=\"14.00\">class = y</text>\n<text text-anchor=\"start\" x=\"851\" y=\"-449.8\" font-family=\"Helvetica,sans-Serif\" baseline-shift=\"sub\" font-size=\"14.00\">0</text>\n</g>\n<!-- 6&#45;&gt;7 -->\n<g id=\"edge7\" class=\"edge\">\n<title>6&#45;&gt;7</title>\n<path fill=\"none\" stroke=\"black\" d=\"M2352.79,-558.57C2349.68,-557.62 2346.58,-556.75 2343.5,-556 2207.65,-522.89 1254.89,-493.81 933.26,-484.84\"/>\n<polygon fill=\"black\" stroke=\"black\" points=\"933.1,-481.34 923.01,-484.56 932.91,-488.33 933.1,-481.34\"/>\n</g>\n<!-- 26 -->\n<g id=\"node27\" class=\"node\">\n<title>26</title>\n<path fill=\"#eb9e67\" stroke=\"black\" d=\"M2143,-520C2143,-520 1990,-520 1990,-520 1984,-520 1978,-514 1978,-508 1978,-508 1978,-454 1978,-454 1978,-448 1984,-442 1990,-442 1990,-442 2143,-442 2143,-442 2149,-442 2155,-448 2155,-454 2155,-454 2155,-508 2155,-508 2155,-514 2149,-520 2143,-520\"/>\n<text text-anchor=\"start\" x=\"1986\" y=\"-505.8\" font-family=\"Helvetica,sans-Serif\" font-size=\"14.00\">Inflight entertainment ≤ 3.5</text>\n<text text-anchor=\"start\" x=\"2031\" y=\"-491.8\" font-family=\"Helvetica,sans-Serif\" font-size=\"14.00\">gini = 0.305</text>\n<text text-anchor=\"start\" x=\"2014\" y=\"-477.8\" font-family=\"Helvetica,sans-Serif\" font-size=\"14.00\">samples = 12823</text>\n<text text-anchor=\"start\" x=\"2001\" y=\"-463.8\" font-family=\"Helvetica,sans-Serif\" font-size=\"14.00\">value = [10411, 2412]</text>\n<text text-anchor=\"start\" x=\"2036\" y=\"-449.8\" font-family=\"Helvetica,sans-Serif\" font-size=\"14.00\">class = y</text>\n<text text-anchor=\"start\" x=\"2090\" y=\"-449.8\" font-family=\"Helvetica,sans-Serif\" baseline-shift=\"sub\" font-size=\"14.00\">0</text>\n</g>\n<!-- 6&#45;&gt;26 -->\n<g id=\"edge26\" class=\"edge\">\n<title>6&#45;&gt;26</title>\n<path fill=\"none\" stroke=\"black\" d=\"M2352.55,-559.39C2349.51,-558.21 2346.48,-557.07 2343.5,-556 2285.4,-535.11 2218.58,-517.09 2165.12,-504.07\"/>\n<polygon fill=\"black\" stroke=\"black\" points=\"2165.85,-500.64 2155.3,-501.69 2164.2,-507.44 2165.85,-500.64\"/>\n</g>\n<!-- 8 -->\n<g id=\"node9\" class=\"node\">\n<title>8</title>\n<path fill=\"#e5823b\" stroke=\"black\" d=\"M607,-406C607,-406 480,-406 480,-406 474,-406 468,-400 468,-394 468,-394 468,-340 468,-340 468,-334 474,-328 480,-328 480,-328 607,-328 607,-328 613,-328 619,-334 619,-340 619,-340 619,-394 619,-394 619,-400 613,-406 607,-406\"/>\n<text text-anchor=\"start\" x=\"476\" y=\"-391.8\" font-family=\"Helvetica,sans-Serif\" font-size=\"14.00\">Type of Travel_1 ≤ 0.5</text>\n<text text-anchor=\"start\" x=\"511.5\" y=\"-377.8\" font-family=\"Helvetica,sans-Serif\" font-size=\"14.00\">gini = 0.02</text>\n<text text-anchor=\"start\" x=\"491\" y=\"-363.8\" font-family=\"Helvetica,sans-Serif\" font-size=\"14.00\">samples = 30475</text>\n<text text-anchor=\"start\" x=\"481.5\" y=\"-349.8\" font-family=\"Helvetica,sans-Serif\" font-size=\"14.00\">value = [30160, 315]</text>\n<text text-anchor=\"start\" x=\"513\" y=\"-335.8\" font-family=\"Helvetica,sans-Serif\" font-size=\"14.00\">class = y</text>\n<text text-anchor=\"start\" x=\"567\" y=\"-335.8\" font-family=\"Helvetica,sans-Serif\" baseline-shift=\"sub\" font-size=\"14.00\">0</text>\n</g>\n<!-- 7&#45;&gt;8 -->\n<g id=\"edge8\" class=\"edge\">\n<title>7&#45;&gt;8</title>\n<path fill=\"none\" stroke=\"black\" d=\"M731.75,-442.24C698.33,-429.06 661.08,-414.37 628.59,-401.56\"/>\n<polygon fill=\"black\" stroke=\"black\" points=\"629.7,-398.23 619.11,-397.82 627.13,-404.74 629.7,-398.23\"/>\n</g>\n<!-- 17 -->\n<g id=\"node18\" class=\"node\">\n<title>17</title>\n<path fill=\"#e78d4c\" stroke=\"black\" d=\"M888.5,-406C888.5,-406 766.5,-406 766.5,-406 760.5,-406 754.5,-400 754.5,-394 754.5,-394 754.5,-340 754.5,-340 754.5,-334 760.5,-328 766.5,-328 766.5,-328 888.5,-328 888.5,-328 894.5,-328 900.5,-334 900.5,-340 900.5,-340 900.5,-394 900.5,-394 900.5,-400 894.5,-406 888.5,-406\"/>\n<text text-anchor=\"start\" x=\"762.5\" y=\"-391.8\" font-family=\"Helvetica,sans-Serif\" font-size=\"14.00\">Checkin service ≤ 4.5</text>\n<text text-anchor=\"start\" x=\"792\" y=\"-377.8\" font-family=\"Helvetica,sans-Serif\" font-size=\"14.00\">gini = 0.159</text>\n<text text-anchor=\"start\" x=\"779\" y=\"-363.8\" font-family=\"Helvetica,sans-Serif\" font-size=\"14.00\">samples = 2332</text>\n<text text-anchor=\"start\" x=\"769.5\" y=\"-349.8\" font-family=\"Helvetica,sans-Serif\" font-size=\"14.00\">value = [2129, 203]</text>\n<text text-anchor=\"start\" x=\"797\" y=\"-335.8\" font-family=\"Helvetica,sans-Serif\" font-size=\"14.00\">class = y</text>\n<text text-anchor=\"start\" x=\"851\" y=\"-335.8\" font-family=\"Helvetica,sans-Serif\" baseline-shift=\"sub\" font-size=\"14.00\">0</text>\n</g>\n<!-- 7&#45;&gt;17 -->\n<g id=\"edge17\" class=\"edge\">\n<title>7&#45;&gt;17</title>\n<path fill=\"none\" stroke=\"black\" d=\"M827.5,-441.77C827.5,-433.57 827.5,-424.8 827.5,-416.28\"/>\n<polygon fill=\"black\" stroke=\"black\" points=\"831,-416.06 827.5,-406.06 824,-416.06 831,-416.06\"/>\n</g>\n<!-- 9 -->\n<g id=\"node10\" class=\"node\">\n<title>9</title>\n<path fill=\"#e6853f\" stroke=\"black\" d=\"M442.5,-292C442.5,-292 308.5,-292 308.5,-292 302.5,-292 296.5,-286 296.5,-280 296.5,-280 296.5,-226 296.5,-226 296.5,-220 302.5,-214 308.5,-214 308.5,-214 442.5,-214 442.5,-214 448.5,-214 454.5,-220 454.5,-226 454.5,-226 454.5,-280 454.5,-280 454.5,-286 448.5,-292 442.5,-292\"/>\n<text text-anchor=\"start\" x=\"304.5\" y=\"-277.8\" font-family=\"Helvetica,sans-Serif\" font-size=\"14.00\">Customer Type_1 ≤ 0.5</text>\n<text text-anchor=\"start\" x=\"340\" y=\"-263.8\" font-family=\"Helvetica,sans-Serif\" font-size=\"14.00\">gini = 0.053</text>\n<text text-anchor=\"start\" x=\"323\" y=\"-249.8\" font-family=\"Helvetica,sans-Serif\" font-size=\"14.00\">samples = 11500</text>\n<text text-anchor=\"start\" x=\"313.5\" y=\"-235.8\" font-family=\"Helvetica,sans-Serif\" font-size=\"14.00\">value = [11185, 315]</text>\n<text text-anchor=\"start\" x=\"345\" y=\"-221.8\" font-family=\"Helvetica,sans-Serif\" font-size=\"14.00\">class = y</text>\n<text text-anchor=\"start\" x=\"399\" y=\"-221.8\" font-family=\"Helvetica,sans-Serif\" baseline-shift=\"sub\" font-size=\"14.00\">0</text>\n</g>\n<!-- 8&#45;&gt;9 -->\n<g id=\"edge9\" class=\"edge\">\n<title>8&#45;&gt;9</title>\n<path fill=\"none\" stroke=\"black\" d=\"M486.15,-327.77C471.69,-318.13 456.05,-307.7 441.22,-297.81\"/>\n<polygon fill=\"black\" stroke=\"black\" points=\"442.85,-294.69 432.59,-292.06 438.97,-300.52 442.85,-294.69\"/>\n</g>\n<!-- 16 -->\n<g id=\"node17\" class=\"node\">\n<title>16</title>\n<path fill=\"#e58139\" stroke=\"black\" d=\"M594,-285C594,-285 493,-285 493,-285 487,-285 481,-279 481,-273 481,-273 481,-233 481,-233 481,-227 487,-221 493,-221 493,-221 594,-221 594,-221 600,-221 606,-227 606,-233 606,-233 606,-273 606,-273 606,-279 600,-285 594,-285\"/>\n<text text-anchor=\"start\" x=\"515.5\" y=\"-270.8\" font-family=\"Helvetica,sans-Serif\" font-size=\"14.00\">gini = 0.0</text>\n<text text-anchor=\"start\" x=\"491\" y=\"-256.8\" font-family=\"Helvetica,sans-Serif\" font-size=\"14.00\">samples = 18975</text>\n<text text-anchor=\"start\" x=\"489\" y=\"-242.8\" font-family=\"Helvetica,sans-Serif\" font-size=\"14.00\">value = [18975, 0]</text>\n<text text-anchor=\"start\" x=\"513\" y=\"-228.8\" font-family=\"Helvetica,sans-Serif\" font-size=\"14.00\">class = y</text>\n<text text-anchor=\"start\" x=\"567\" y=\"-228.8\" font-family=\"Helvetica,sans-Serif\" baseline-shift=\"sub\" font-size=\"14.00\">0</text>\n</g>\n<!-- 8&#45;&gt;16 -->\n<g id=\"edge16\" class=\"edge\">\n<title>8&#45;&gt;16</title>\n<path fill=\"none\" stroke=\"black\" d=\"M543.5,-327.77C543.5,-317.31 543.5,-305.94 543.5,-295.32\"/>\n<polygon fill=\"black\" stroke=\"black\" points=\"547,-295.01 543.5,-285.01 540,-295.01 547,-295.01\"/>\n</g>\n<!-- 10 -->\n<g id=\"node11\" class=\"node\">\n<title>10</title>\n<path fill=\"#e5823a\" stroke=\"black\" d=\"M263,-178C263,-178 132,-178 132,-178 126,-178 120,-172 120,-166 120,-166 120,-112 120,-112 120,-106 126,-100 132,-100 132,-100 263,-100 263,-100 269,-100 275,-106 275,-112 275,-112 275,-166 275,-166 275,-172 269,-178 263,-178\"/>\n<text text-anchor=\"start\" x=\"128\" y=\"-163.8\" font-family=\"Helvetica,sans-Serif\" font-size=\"14.00\">Flight Distance ≤ 984.5</text>\n<text text-anchor=\"start\" x=\"162\" y=\"-149.8\" font-family=\"Helvetica,sans-Serif\" font-size=\"14.00\">gini = 0.009</text>\n<text text-anchor=\"start\" x=\"149\" y=\"-135.8\" font-family=\"Helvetica,sans-Serif\" font-size=\"14.00\">samples = 8207</text>\n<text text-anchor=\"start\" x=\"143\" y=\"-121.8\" font-family=\"Helvetica,sans-Serif\" font-size=\"14.00\">value = [8169, 38]</text>\n<text text-anchor=\"start\" x=\"167\" y=\"-107.8\" font-family=\"Helvetica,sans-Serif\" font-size=\"14.00\">class = y</text>\n<text text-anchor=\"start\" x=\"221\" y=\"-107.8\" font-family=\"Helvetica,sans-Serif\" baseline-shift=\"sub\" font-size=\"14.00\">0</text>\n</g>\n<!-- 9&#45;&gt;10 -->\n<g id=\"edge10\" class=\"edge\">\n<title>9&#45;&gt;10</title>\n<path fill=\"none\" stroke=\"black\" d=\"M314.74,-213.77C299.27,-204.04 282.54,-193.51 266.69,-183.53\"/>\n<polygon fill=\"black\" stroke=\"black\" points=\"268.31,-180.42 257.99,-178.06 264.59,-186.35 268.31,-180.42\"/>\n</g>\n<!-- 13 -->\n<g id=\"node14\" class=\"node\">\n<title>13</title>\n<path fill=\"#e78d4b\" stroke=\"black\" d=\"M436.5,-178C436.5,-178 314.5,-178 314.5,-178 308.5,-178 302.5,-172 302.5,-166 302.5,-166 302.5,-112 302.5,-112 302.5,-106 308.5,-100 314.5,-100 314.5,-100 436.5,-100 436.5,-100 442.5,-100 448.5,-106 448.5,-112 448.5,-112 448.5,-166 448.5,-166 448.5,-172 442.5,-178 436.5,-178\"/>\n<text text-anchor=\"start\" x=\"310.5\" y=\"-163.8\" font-family=\"Helvetica,sans-Serif\" font-size=\"14.00\">Checkin service ≤ 4.5</text>\n<text text-anchor=\"start\" x=\"340\" y=\"-149.8\" font-family=\"Helvetica,sans-Serif\" font-size=\"14.00\">gini = 0.154</text>\n<text text-anchor=\"start\" x=\"327\" y=\"-135.8\" font-family=\"Helvetica,sans-Serif\" font-size=\"14.00\">samples = 3293</text>\n<text text-anchor=\"start\" x=\"317.5\" y=\"-121.8\" font-family=\"Helvetica,sans-Serif\" font-size=\"14.00\">value = [3016, 277]</text>\n<text text-anchor=\"start\" x=\"345\" y=\"-107.8\" font-family=\"Helvetica,sans-Serif\" font-size=\"14.00\">class = y</text>\n<text text-anchor=\"start\" x=\"399\" y=\"-107.8\" font-family=\"Helvetica,sans-Serif\" baseline-shift=\"sub\" font-size=\"14.00\">0</text>\n</g>\n<!-- 9&#45;&gt;13 -->\n<g id=\"edge13\" class=\"edge\">\n<title>9&#45;&gt;13</title>\n<path fill=\"none\" stroke=\"black\" d=\"M375.5,-213.77C375.5,-205.57 375.5,-196.8 375.5,-188.28\"/>\n<polygon fill=\"black\" stroke=\"black\" points=\"379,-188.06 375.5,-178.06 372,-188.06 379,-188.06\"/>\n</g>\n<!-- 11 -->\n<g id=\"node12\" class=\"node\">\n<title>11</title>\n<path fill=\"#e58139\" stroke=\"black\" d=\"M105,-64C105,-64 12,-64 12,-64 6,-64 0,-58 0,-52 0,-52 0,-12 0,-12 0,-6 6,0 12,0 12,0 105,0 105,0 111,0 117,-6 117,-12 117,-12 117,-52 117,-52 117,-58 111,-64 105,-64\"/>\n<text text-anchor=\"start\" x=\"23\" y=\"-49.8\" font-family=\"Helvetica,sans-Serif\" font-size=\"14.00\">gini = 0.001</text>\n<text text-anchor=\"start\" x=\"10\" y=\"-35.8\" font-family=\"Helvetica,sans-Serif\" font-size=\"14.00\">samples = 6405</text>\n<text text-anchor=\"start\" x=\"8\" y=\"-21.8\" font-family=\"Helvetica,sans-Serif\" font-size=\"14.00\">value = [6401, 4]</text>\n<text text-anchor=\"start\" x=\"28\" y=\"-7.8\" font-family=\"Helvetica,sans-Serif\" font-size=\"14.00\">class = y</text>\n<text text-anchor=\"start\" x=\"82\" y=\"-7.8\" font-family=\"Helvetica,sans-Serif\" baseline-shift=\"sub\" font-size=\"14.00\">0</text>\n</g>\n<!-- 10&#45;&gt;11 -->\n<g id=\"edge11\" class=\"edge\">\n<title>10&#45;&gt;11</title>\n<path fill=\"none\" stroke=\"black\" d=\"M146.92,-99.8C134.19,-90.18 120.54,-79.86 107.86,-70.29\"/>\n<polygon fill=\"black\" stroke=\"black\" points=\"109.78,-67.35 99.69,-64.12 105.56,-72.94 109.78,-67.35\"/>\n</g>\n<!-- 12 -->\n<g id=\"node13\" class=\"node\">\n<title>12</title>\n<path fill=\"#e6833d\" stroke=\"black\" d=\"M248,-64C248,-64 147,-64 147,-64 141,-64 135,-58 135,-52 135,-52 135,-12 135,-12 135,-6 141,0 147,0 147,0 248,0 248,0 254,0 260,-6 260,-12 260,-12 260,-52 260,-52 260,-58 254,-64 248,-64\"/>\n<text text-anchor=\"start\" x=\"162\" y=\"-49.8\" font-family=\"Helvetica,sans-Serif\" font-size=\"14.00\">gini = 0.037</text>\n<text text-anchor=\"start\" x=\"149\" y=\"-35.8\" font-family=\"Helvetica,sans-Serif\" font-size=\"14.00\">samples = 1802</text>\n<text text-anchor=\"start\" x=\"143\" y=\"-21.8\" font-family=\"Helvetica,sans-Serif\" font-size=\"14.00\">value = [1768, 34]</text>\n<text text-anchor=\"start\" x=\"167\" y=\"-7.8\" font-family=\"Helvetica,sans-Serif\" font-size=\"14.00\">class = y</text>\n<text text-anchor=\"start\" x=\"221\" y=\"-7.8\" font-family=\"Helvetica,sans-Serif\" baseline-shift=\"sub\" font-size=\"14.00\">0</text>\n</g>\n<!-- 10&#45;&gt;12 -->\n<g id=\"edge12\" class=\"edge\">\n<title>10&#45;&gt;12</title>\n<path fill=\"none\" stroke=\"black\" d=\"M197.5,-99.8C197.5,-91.46 197.5,-82.6 197.5,-74.15\"/>\n<polygon fill=\"black\" stroke=\"black\" points=\"201,-74.12 197.5,-64.12 194,-74.12 201,-74.12\"/>\n</g>\n<!-- 14 -->\n<g id=\"node15\" class=\"node\">\n<title>14</title>\n<path fill=\"#e78a47\" stroke=\"black\" d=\"M398.5,-64C398.5,-64 290.5,-64 290.5,-64 284.5,-64 278.5,-58 278.5,-52 278.5,-52 278.5,-12 278.5,-12 278.5,-6 284.5,0 290.5,0 290.5,0 398.5,0 398.5,0 404.5,0 410.5,-6 410.5,-12 410.5,-12 410.5,-52 410.5,-52 410.5,-58 404.5,-64 398.5,-64\"/>\n<text text-anchor=\"start\" x=\"309\" y=\"-49.8\" font-family=\"Helvetica,sans-Serif\" font-size=\"14.00\">gini = 0.125</text>\n<text text-anchor=\"start\" x=\"296\" y=\"-35.8\" font-family=\"Helvetica,sans-Serif\" font-size=\"14.00\">samples = 3231</text>\n<text text-anchor=\"start\" x=\"286.5\" y=\"-21.8\" font-family=\"Helvetica,sans-Serif\" font-size=\"14.00\">value = [3015, 216]</text>\n<text text-anchor=\"start\" x=\"314\" y=\"-7.8\" font-family=\"Helvetica,sans-Serif\" font-size=\"14.00\">class = y</text>\n<text text-anchor=\"start\" x=\"368\" y=\"-7.8\" font-family=\"Helvetica,sans-Serif\" baseline-shift=\"sub\" font-size=\"14.00\">0</text>\n</g>\n<!-- 13&#45;&gt;14 -->\n<g id=\"edge14\" class=\"edge\">\n<title>13&#45;&gt;14</title>\n<path fill=\"none\" stroke=\"black\" d=\"M364.22,-99.8C361.73,-91.37 359.09,-82.41 356.57,-73.88\"/>\n<polygon fill=\"black\" stroke=\"black\" points=\"359.88,-72.72 353.69,-64.12 353.16,-74.7 359.88,-72.72\"/>\n</g>\n<!-- 15 -->\n<g id=\"node16\" class=\"node\">\n<title>15</title>\n<path fill=\"#3c9fe5\" stroke=\"black\" d=\"M518.5,-64C518.5,-64 440.5,-64 440.5,-64 434.5,-64 428.5,-58 428.5,-52 428.5,-52 428.5,-12 428.5,-12 428.5,-6 434.5,0 440.5,0 440.5,0 518.5,0 518.5,0 524.5,0 530.5,-6 530.5,-12 530.5,-12 530.5,-52 530.5,-52 530.5,-58 524.5,-64 518.5,-64\"/>\n<text text-anchor=\"start\" x=\"444\" y=\"-49.8\" font-family=\"Helvetica,sans-Serif\" font-size=\"14.00\">gini = 0.032</text>\n<text text-anchor=\"start\" x=\"438.5\" y=\"-35.8\" font-family=\"Helvetica,sans-Serif\" font-size=\"14.00\">samples = 62</text>\n<text text-anchor=\"start\" x=\"436.5\" y=\"-21.8\" font-family=\"Helvetica,sans-Serif\" font-size=\"14.00\">value = [1, 61]</text>\n<text text-anchor=\"start\" x=\"449\" y=\"-7.8\" font-family=\"Helvetica,sans-Serif\" font-size=\"14.00\">class = y</text>\n<text text-anchor=\"start\" x=\"503\" y=\"-7.8\" font-family=\"Helvetica,sans-Serif\" baseline-shift=\"sub\" font-size=\"14.00\">1</text>\n</g>\n<!-- 13&#45;&gt;15 -->\n<g id=\"edge15\" class=\"edge\">\n<title>13&#45;&gt;15</title>\n<path fill=\"none\" stroke=\"black\" d=\"M413.34,-99.8C422.51,-90.54 432.31,-80.65 441.48,-71.38\"/>\n<polygon fill=\"black\" stroke=\"black\" points=\"444.13,-73.69 448.68,-64.12 439.16,-68.76 444.13,-73.69\"/>\n</g>\n<!-- 18 -->\n<g id=\"node19\" class=\"node\">\n<title>18</title>\n<path fill=\"#e78a48\" stroke=\"black\" d=\"M789,-292C789,-292 654,-292 654,-292 648,-292 642,-286 642,-280 642,-280 642,-226 642,-226 642,-220 648,-214 654,-214 654,-214 789,-214 789,-214 795,-214 801,-220 801,-226 801,-226 801,-280 801,-280 801,-286 795,-292 789,-292\"/>\n<text text-anchor=\"start\" x=\"650\" y=\"-277.8\" font-family=\"Helvetica,sans-Serif\" font-size=\"14.00\">Baggage handling ≤ 4.5</text>\n<text text-anchor=\"start\" x=\"686\" y=\"-263.8\" font-family=\"Helvetica,sans-Serif\" font-size=\"14.00\">gini = 0.128</text>\n<text text-anchor=\"start\" x=\"673\" y=\"-249.8\" font-family=\"Helvetica,sans-Serif\" font-size=\"14.00\">samples = 2278</text>\n<text text-anchor=\"start\" x=\"663.5\" y=\"-235.8\" font-family=\"Helvetica,sans-Serif\" font-size=\"14.00\">value = [2122, 156]</text>\n<text text-anchor=\"start\" x=\"691\" y=\"-221.8\" font-family=\"Helvetica,sans-Serif\" font-size=\"14.00\">class = y</text>\n<text text-anchor=\"start\" x=\"745\" y=\"-221.8\" font-family=\"Helvetica,sans-Serif\" baseline-shift=\"sub\" font-size=\"14.00\">0</text>\n</g>\n<!-- 17&#45;&gt;18 -->\n<g id=\"edge18\" class=\"edge\">\n<title>17&#45;&gt;18</title>\n<path fill=\"none\" stroke=\"black\" d=\"M791.32,-327.77C782.7,-318.67 773.43,-308.87 764.54,-299.48\"/>\n<polygon fill=\"black\" stroke=\"black\" points=\"766.94,-296.92 757.52,-292.06 761.85,-301.73 766.94,-296.92\"/>\n</g>\n<!-- 23 -->\n<g id=\"node24\" class=\"node\">\n<title>23</title>\n<path fill=\"#56ace9\" stroke=\"black\" d=\"M1022,-292C1022,-292 831,-292 831,-292 825,-292 819,-286 819,-280 819,-280 819,-226 819,-226 819,-220 825,-214 831,-214 831,-214 1022,-214 1022,-214 1028,-214 1034,-220 1034,-226 1034,-226 1034,-280 1034,-280 1034,-286 1028,-292 1022,-292\"/>\n<text text-anchor=\"start\" x=\"827\" y=\"-277.8\" font-family=\"Helvetica,sans-Serif\" font-size=\"14.00\">Departure Delay in Minutes ≤ 1.5</text>\n<text text-anchor=\"start\" x=\"891\" y=\"-263.8\" font-family=\"Helvetica,sans-Serif\" font-size=\"14.00\">gini = 0.226</text>\n<text text-anchor=\"start\" x=\"885.5\" y=\"-249.8\" font-family=\"Helvetica,sans-Serif\" font-size=\"14.00\">samples = 54</text>\n<text text-anchor=\"start\" x=\"883.5\" y=\"-235.8\" font-family=\"Helvetica,sans-Serif\" font-size=\"14.00\">value = [7, 47]</text>\n<text text-anchor=\"start\" x=\"896\" y=\"-221.8\" font-family=\"Helvetica,sans-Serif\" font-size=\"14.00\">class = y</text>\n<text text-anchor=\"start\" x=\"950\" y=\"-221.8\" font-family=\"Helvetica,sans-Serif\" baseline-shift=\"sub\" font-size=\"14.00\">1</text>\n</g>\n<!-- 17&#45;&gt;23 -->\n<g id=\"edge23\" class=\"edge\">\n<title>17&#45;&gt;23</title>\n<path fill=\"none\" stroke=\"black\" d=\"M861.29,-327.77C869.26,-318.76 877.83,-309.06 886.05,-299.76\"/>\n<polygon fill=\"black\" stroke=\"black\" points=\"888.86,-301.87 892.86,-292.06 883.61,-297.23 888.86,-301.87\"/>\n</g>\n<!-- 19 -->\n<g id=\"node20\" class=\"node\">\n<title>19</title>\n<path fill=\"#e78946\" stroke=\"black\" d=\"M671,-178C671,-178 558,-178 558,-178 552,-178 546,-172 546,-166 546,-166 546,-112 546,-112 546,-106 552,-100 558,-100 558,-100 671,-100 671,-100 677,-100 683,-106 683,-112 683,-112 683,-166 683,-166 683,-172 677,-178 671,-178\"/>\n<text text-anchor=\"start\" x=\"554\" y=\"-163.8\" font-family=\"Helvetica,sans-Serif\" font-size=\"14.00\">Inflight service ≤ 4.5</text>\n<text text-anchor=\"start\" x=\"579\" y=\"-149.8\" font-family=\"Helvetica,sans-Serif\" font-size=\"14.00\">gini = 0.112</text>\n<text text-anchor=\"start\" x=\"566\" y=\"-135.8\" font-family=\"Helvetica,sans-Serif\" font-size=\"14.00\">samples = 2242</text>\n<text text-anchor=\"start\" x=\"556.5\" y=\"-121.8\" font-family=\"Helvetica,sans-Serif\" font-size=\"14.00\">value = [2108, 134]</text>\n<text text-anchor=\"start\" x=\"584\" y=\"-107.8\" font-family=\"Helvetica,sans-Serif\" font-size=\"14.00\">class = y</text>\n<text text-anchor=\"start\" x=\"638\" y=\"-107.8\" font-family=\"Helvetica,sans-Serif\" baseline-shift=\"sub\" font-size=\"14.00\">0</text>\n</g>\n<!-- 18&#45;&gt;19 -->\n<g id=\"edge19\" class=\"edge\">\n<title>18&#45;&gt;19</title>\n<path fill=\"none\" stroke=\"black\" d=\"M684.98,-213.77C676.28,-204.67 666.92,-194.87 657.95,-185.48\"/>\n<polygon fill=\"black\" stroke=\"black\" points=\"660.3,-182.87 650.86,-178.06 655.24,-187.71 660.3,-182.87\"/>\n</g>\n<!-- 22 -->\n<g id=\"node23\" class=\"node\">\n<title>22</title>\n<path fill=\"#b7dbf6\" stroke=\"black\" d=\"M799.5,-171C799.5,-171 713.5,-171 713.5,-171 707.5,-171 701.5,-165 701.5,-159 701.5,-159 701.5,-119 701.5,-119 701.5,-113 707.5,-107 713.5,-107 713.5,-107 799.5,-107 799.5,-107 805.5,-107 811.5,-113 811.5,-119 811.5,-119 811.5,-159 811.5,-159 811.5,-165 805.5,-171 799.5,-171\"/>\n<text text-anchor=\"start\" x=\"721\" y=\"-156.8\" font-family=\"Helvetica,sans-Serif\" font-size=\"14.00\">gini = 0.475</text>\n<text text-anchor=\"start\" x=\"715.5\" y=\"-142.8\" font-family=\"Helvetica,sans-Serif\" font-size=\"14.00\">samples = 36</text>\n<text text-anchor=\"start\" x=\"709.5\" y=\"-128.8\" font-family=\"Helvetica,sans-Serif\" font-size=\"14.00\">value = [14, 22]</text>\n<text text-anchor=\"start\" x=\"726\" y=\"-114.8\" font-family=\"Helvetica,sans-Serif\" font-size=\"14.00\">class = y</text>\n<text text-anchor=\"start\" x=\"780\" y=\"-114.8\" font-family=\"Helvetica,sans-Serif\" baseline-shift=\"sub\" font-size=\"14.00\">1</text>\n</g>\n<!-- 18&#45;&gt;22 -->\n<g id=\"edge22\" class=\"edge\">\n<title>18&#45;&gt;22</title>\n<path fill=\"none\" stroke=\"black\" d=\"M733.45,-213.77C736.78,-203.1 740.42,-191.46 743.8,-180.65\"/>\n<polygon fill=\"black\" stroke=\"black\" points=\"747.17,-181.6 746.81,-171.01 740.49,-179.51 747.17,-181.6\"/>\n</g>\n<!-- 20 -->\n<g id=\"node21\" class=\"node\">\n<title>20</title>\n<path fill=\"#e78845\" stroke=\"black\" d=\"M668.5,-64C668.5,-64 560.5,-64 560.5,-64 554.5,-64 548.5,-58 548.5,-52 548.5,-52 548.5,-12 548.5,-12 548.5,-6 554.5,0 560.5,0 560.5,0 668.5,0 668.5,0 674.5,0 680.5,-6 680.5,-12 680.5,-12 680.5,-52 680.5,-52 680.5,-58 674.5,-64 668.5,-64\"/>\n<text text-anchor=\"start\" x=\"579\" y=\"-49.8\" font-family=\"Helvetica,sans-Serif\" font-size=\"14.00\">gini = 0.104</text>\n<text text-anchor=\"start\" x=\"566\" y=\"-35.8\" font-family=\"Helvetica,sans-Serif\" font-size=\"14.00\">samples = 2227</text>\n<text text-anchor=\"start\" x=\"556.5\" y=\"-21.8\" font-family=\"Helvetica,sans-Serif\" font-size=\"14.00\">value = [2104, 123]</text>\n<text text-anchor=\"start\" x=\"584\" y=\"-7.8\" font-family=\"Helvetica,sans-Serif\" font-size=\"14.00\">class = y</text>\n<text text-anchor=\"start\" x=\"638\" y=\"-7.8\" font-family=\"Helvetica,sans-Serif\" baseline-shift=\"sub\" font-size=\"14.00\">0</text>\n</g>\n<!-- 19&#45;&gt;20 -->\n<g id=\"edge20\" class=\"edge\">\n<title>19&#45;&gt;20</title>\n<path fill=\"none\" stroke=\"black\" d=\"M614.5,-99.8C614.5,-91.46 614.5,-82.6 614.5,-74.15\"/>\n<polygon fill=\"black\" stroke=\"black\" points=\"618,-74.12 614.5,-64.12 611,-74.12 618,-74.12\"/>\n</g>\n<!-- 21 -->\n<g id=\"node22\" class=\"node\">\n<title>21</title>\n<path fill=\"#81c1ee\" stroke=\"black\" d=\"M788.5,-64C788.5,-64 710.5,-64 710.5,-64 704.5,-64 698.5,-58 698.5,-52 698.5,-52 698.5,-12 698.5,-12 698.5,-6 704.5,0 710.5,0 710.5,0 788.5,0 788.5,0 794.5,0 800.5,-6 800.5,-12 800.5,-12 800.5,-52 800.5,-52 800.5,-58 794.5,-64 788.5,-64\"/>\n<text text-anchor=\"start\" x=\"714\" y=\"-49.8\" font-family=\"Helvetica,sans-Serif\" font-size=\"14.00\">gini = 0.391</text>\n<text text-anchor=\"start\" x=\"708.5\" y=\"-35.8\" font-family=\"Helvetica,sans-Serif\" font-size=\"14.00\">samples = 15</text>\n<text text-anchor=\"start\" x=\"706.5\" y=\"-21.8\" font-family=\"Helvetica,sans-Serif\" font-size=\"14.00\">value = [4, 11]</text>\n<text text-anchor=\"start\" x=\"719\" y=\"-7.8\" font-family=\"Helvetica,sans-Serif\" font-size=\"14.00\">class = y</text>\n<text text-anchor=\"start\" x=\"773\" y=\"-7.8\" font-family=\"Helvetica,sans-Serif\" baseline-shift=\"sub\" font-size=\"14.00\">1</text>\n</g>\n<!-- 19&#45;&gt;21 -->\n<g id=\"edge21\" class=\"edge\">\n<title>19&#45;&gt;21</title>\n<path fill=\"none\" stroke=\"black\" d=\"M663.62,-99.8C675.99,-90.18 689.25,-79.86 701.56,-70.29\"/>\n<polygon fill=\"black\" stroke=\"black\" points=\"703.75,-73.02 709.49,-64.12 699.45,-67.49 703.75,-73.02\"/>\n</g>\n<!-- 24 -->\n<g id=\"node25\" class=\"node\">\n<title>24</title>\n<path fill=\"#3fa0e6\" stroke=\"black\" d=\"M919.5,-171C919.5,-171 841.5,-171 841.5,-171 835.5,-171 829.5,-165 829.5,-159 829.5,-159 829.5,-119 829.5,-119 829.5,-113 835.5,-107 841.5,-107 841.5,-107 919.5,-107 919.5,-107 925.5,-107 931.5,-113 931.5,-119 931.5,-119 931.5,-159 931.5,-159 931.5,-165 925.5,-171 919.5,-171\"/>\n<text text-anchor=\"start\" x=\"845\" y=\"-156.8\" font-family=\"Helvetica,sans-Serif\" font-size=\"14.00\">gini = 0.057</text>\n<text text-anchor=\"start\" x=\"839.5\" y=\"-142.8\" font-family=\"Helvetica,sans-Serif\" font-size=\"14.00\">samples = 34</text>\n<text text-anchor=\"start\" x=\"837.5\" y=\"-128.8\" font-family=\"Helvetica,sans-Serif\" font-size=\"14.00\">value = [1, 33]</text>\n<text text-anchor=\"start\" x=\"850\" y=\"-114.8\" font-family=\"Helvetica,sans-Serif\" font-size=\"14.00\">class = y</text>\n<text text-anchor=\"start\" x=\"904\" y=\"-114.8\" font-family=\"Helvetica,sans-Serif\" baseline-shift=\"sub\" font-size=\"14.00\">1</text>\n</g>\n<!-- 23&#45;&gt;24 -->\n<g id=\"edge24\" class=\"edge\">\n<title>23&#45;&gt;24</title>\n<path fill=\"none\" stroke=\"black\" d=\"M910.8,-213.77C906.37,-202.99 901.54,-191.22 897.06,-180.32\"/>\n<polygon fill=\"black\" stroke=\"black\" points=\"900.27,-178.93 893.24,-171.01 893.8,-181.59 900.27,-178.93\"/>\n</g>\n<!-- 25 -->\n<g id=\"node26\" class=\"node\">\n<title>25</title>\n<path fill=\"#8ec7f0\" stroke=\"black\" d=\"M1039.5,-171C1039.5,-171 961.5,-171 961.5,-171 955.5,-171 949.5,-165 949.5,-159 949.5,-159 949.5,-119 949.5,-119 949.5,-113 955.5,-107 961.5,-107 961.5,-107 1039.5,-107 1039.5,-107 1045.5,-107 1051.5,-113 1051.5,-119 1051.5,-119 1051.5,-159 1051.5,-159 1051.5,-165 1045.5,-171 1039.5,-171\"/>\n<text text-anchor=\"start\" x=\"968.5\" y=\"-156.8\" font-family=\"Helvetica,sans-Serif\" font-size=\"14.00\">gini = 0.42</text>\n<text text-anchor=\"start\" x=\"959.5\" y=\"-142.8\" font-family=\"Helvetica,sans-Serif\" font-size=\"14.00\">samples = 20</text>\n<text text-anchor=\"start\" x=\"957.5\" y=\"-128.8\" font-family=\"Helvetica,sans-Serif\" font-size=\"14.00\">value = [6, 14]</text>\n<text text-anchor=\"start\" x=\"970\" y=\"-114.8\" font-family=\"Helvetica,sans-Serif\" font-size=\"14.00\">class = y</text>\n<text text-anchor=\"start\" x=\"1024\" y=\"-114.8\" font-family=\"Helvetica,sans-Serif\" baseline-shift=\"sub\" font-size=\"14.00\">1</text>\n</g>\n<!-- 23&#45;&gt;25 -->\n<g id=\"edge25\" class=\"edge\">\n<title>23&#45;&gt;25</title>\n<path fill=\"none\" stroke=\"black\" d=\"M951.76,-213.77C959.03,-202.77 966.97,-190.75 974.29,-179.66\"/>\n<polygon fill=\"black\" stroke=\"black\" points=\"977.42,-181.28 980.01,-171.01 971.58,-177.42 977.42,-181.28\"/>\n</g>\n<!-- 27 -->\n<g id=\"node28\" class=\"node\">\n<title>27</title>\n<path fill=\"#e78b48\" stroke=\"black\" d=\"M1673.5,-406C1673.5,-406 1565.5,-406 1565.5,-406 1559.5,-406 1553.5,-400 1553.5,-394 1553.5,-394 1553.5,-340 1553.5,-340 1553.5,-334 1559.5,-328 1565.5,-328 1565.5,-328 1673.5,-328 1673.5,-328 1679.5,-328 1685.5,-334 1685.5,-340 1685.5,-340 1685.5,-394 1685.5,-394 1685.5,-400 1679.5,-406 1673.5,-406\"/>\n<text text-anchor=\"start\" x=\"1567.5\" y=\"-391.8\" font-family=\"Helvetica,sans-Serif\" font-size=\"14.00\">Cleanliness ≤ 4.5</text>\n<text text-anchor=\"start\" x=\"1584\" y=\"-377.8\" font-family=\"Helvetica,sans-Serif\" font-size=\"14.00\">gini = 0.133</text>\n<text text-anchor=\"start\" x=\"1571\" y=\"-363.8\" font-family=\"Helvetica,sans-Serif\" font-size=\"14.00\">samples = 8978</text>\n<text text-anchor=\"start\" x=\"1561.5\" y=\"-349.8\" font-family=\"Helvetica,sans-Serif\" font-size=\"14.00\">value = [8334, 644]</text>\n<text text-anchor=\"start\" x=\"1589\" y=\"-335.8\" font-family=\"Helvetica,sans-Serif\" font-size=\"14.00\">class = y</text>\n<text text-anchor=\"start\" x=\"1643\" y=\"-335.8\" font-family=\"Helvetica,sans-Serif\" baseline-shift=\"sub\" font-size=\"14.00\">0</text>\n</g>\n<!-- 26&#45;&gt;27 -->\n<g id=\"edge27\" class=\"edge\">\n<title>26&#45;&gt;27</title>\n<path fill=\"none\" stroke=\"black\" d=\"M1977.92,-457.81C1895.42,-437.13 1773.73,-406.64 1695.53,-387.05\"/>\n<polygon fill=\"black\" stroke=\"black\" points=\"1696.29,-383.63 1685.74,-384.6 1694.59,-390.42 1696.29,-383.63\"/>\n</g>\n<!-- 40 -->\n<g id=\"node41\" class=\"node\">\n<title>40</title>\n<path fill=\"#fbece2\" stroke=\"black\" d=\"M2133.5,-406C2133.5,-406 1999.5,-406 1999.5,-406 1993.5,-406 1987.5,-400 1987.5,-394 1987.5,-394 1987.5,-340 1987.5,-340 1987.5,-334 1993.5,-328 1999.5,-328 1999.5,-328 2133.5,-328 2133.5,-328 2139.5,-328 2145.5,-334 2145.5,-340 2145.5,-340 2145.5,-394 2145.5,-394 2145.5,-400 2139.5,-406 2133.5,-406\"/>\n<text text-anchor=\"start\" x=\"1995.5\" y=\"-391.8\" font-family=\"Helvetica,sans-Serif\" font-size=\"14.00\">Customer Type_2 ≤ 0.5</text>\n<text text-anchor=\"start\" x=\"2031\" y=\"-377.8\" font-family=\"Helvetica,sans-Serif\" font-size=\"14.00\">gini = 0.497</text>\n<text text-anchor=\"start\" x=\"2018\" y=\"-363.8\" font-family=\"Helvetica,sans-Serif\" font-size=\"14.00\">samples = 3845</text>\n<text text-anchor=\"start\" x=\"2004.5\" y=\"-349.8\" font-family=\"Helvetica,sans-Serif\" font-size=\"14.00\">value = [2077, 1768]</text>\n<text text-anchor=\"start\" x=\"2036\" y=\"-335.8\" font-family=\"Helvetica,sans-Serif\" font-size=\"14.00\">class = y</text>\n<text text-anchor=\"start\" x=\"2090\" y=\"-335.8\" font-family=\"Helvetica,sans-Serif\" baseline-shift=\"sub\" font-size=\"14.00\">0</text>\n</g>\n<!-- 26&#45;&gt;40 -->\n<g id=\"edge40\" class=\"edge\">\n<title>26&#45;&gt;40</title>\n<path fill=\"none\" stroke=\"black\" d=\"M2066.5,-441.77C2066.5,-433.57 2066.5,-424.8 2066.5,-416.28\"/>\n<polygon fill=\"black\" stroke=\"black\" points=\"2070,-416.06 2066.5,-406.06 2063,-416.06 2070,-416.06\"/>\n</g>\n<!-- 28 -->\n<g id=\"node29\" class=\"node\">\n<title>28</title>\n<path fill=\"#e78a47\" stroke=\"black\" d=\"M1383.5,-292C1383.5,-292 1275.5,-292 1275.5,-292 1269.5,-292 1263.5,-286 1263.5,-280 1263.5,-280 1263.5,-226 1263.5,-226 1263.5,-220 1269.5,-214 1275.5,-214 1275.5,-214 1383.5,-214 1383.5,-214 1389.5,-214 1395.5,-220 1395.5,-226 1395.5,-226 1395.5,-280 1395.5,-280 1395.5,-286 1389.5,-292 1383.5,-292\"/>\n<text text-anchor=\"start\" x=\"1272\" y=\"-277.8\" font-family=\"Helvetica,sans-Serif\" font-size=\"14.00\">Gate location ≤ 3.5</text>\n<text text-anchor=\"start\" x=\"1294\" y=\"-263.8\" font-family=\"Helvetica,sans-Serif\" font-size=\"14.00\">gini = 0.124</text>\n<text text-anchor=\"start\" x=\"1281\" y=\"-249.8\" font-family=\"Helvetica,sans-Serif\" font-size=\"14.00\">samples = 8899</text>\n<text text-anchor=\"start\" x=\"1271.5\" y=\"-235.8\" font-family=\"Helvetica,sans-Serif\" font-size=\"14.00\">value = [8306, 593]</text>\n<text text-anchor=\"start\" x=\"1299\" y=\"-221.8\" font-family=\"Helvetica,sans-Serif\" font-size=\"14.00\">class = y</text>\n<text text-anchor=\"start\" x=\"1353\" y=\"-221.8\" font-family=\"Helvetica,sans-Serif\" baseline-shift=\"sub\" font-size=\"14.00\">0</text>\n</g>\n<!-- 27&#45;&gt;28 -->\n<g id=\"edge28\" class=\"edge\">\n<title>27&#45;&gt;28</title>\n<path fill=\"none\" stroke=\"black\" d=\"M1553.33,-340.45C1509.24,-323.42 1451.18,-300.99 1405.24,-283.25\"/>\n<polygon fill=\"black\" stroke=\"black\" points=\"1406.22,-279.88 1395.63,-279.54 1403.7,-286.41 1406.22,-279.88\"/>\n</g>\n<!-- 35 -->\n<g id=\"node36\" class=\"node\">\n<title>35</title>\n<path fill=\"#a6d3f3\" stroke=\"black\" d=\"M1683,-292C1683,-292 1556,-292 1556,-292 1550,-292 1544,-286 1544,-280 1544,-280 1544,-226 1544,-226 1544,-220 1550,-214 1556,-214 1556,-214 1683,-214 1683,-214 1689,-214 1695,-220 1695,-226 1695,-226 1695,-280 1695,-280 1695,-286 1689,-292 1683,-292\"/>\n<text text-anchor=\"start\" x=\"1552\" y=\"-277.8\" font-family=\"Helvetica,sans-Serif\" font-size=\"14.00\">Type of Travel_1 ≤ 0.5</text>\n<text text-anchor=\"start\" x=\"1584\" y=\"-263.8\" font-family=\"Helvetica,sans-Serif\" font-size=\"14.00\">gini = 0.458</text>\n<text text-anchor=\"start\" x=\"1578.5\" y=\"-249.8\" font-family=\"Helvetica,sans-Serif\" font-size=\"14.00\">samples = 79</text>\n<text text-anchor=\"start\" x=\"1572.5\" y=\"-235.8\" font-family=\"Helvetica,sans-Serif\" font-size=\"14.00\">value = [28, 51]</text>\n<text text-anchor=\"start\" x=\"1589\" y=\"-221.8\" font-family=\"Helvetica,sans-Serif\" font-size=\"14.00\">class = y</text>\n<text text-anchor=\"start\" x=\"1643\" y=\"-221.8\" font-family=\"Helvetica,sans-Serif\" baseline-shift=\"sub\" font-size=\"14.00\">1</text>\n</g>\n<!-- 27&#45;&gt;35 -->\n<g id=\"edge35\" class=\"edge\">\n<title>27&#45;&gt;35</title>\n<path fill=\"none\" stroke=\"black\" d=\"M1619.5,-327.77C1619.5,-319.57 1619.5,-310.8 1619.5,-302.28\"/>\n<polygon fill=\"black\" stroke=\"black\" points=\"1623,-302.06 1619.5,-292.06 1616,-302.06 1623,-302.06\"/>\n</g>\n<!-- 29 -->\n<g id=\"node30\" class=\"node\">\n<title>29</title>\n<path fill=\"#e88f4f\" stroke=\"black\" d=\"M1203.5,-178C1203.5,-178 1081.5,-178 1081.5,-178 1075.5,-178 1069.5,-172 1069.5,-166 1069.5,-166 1069.5,-112 1069.5,-112 1069.5,-106 1075.5,-100 1081.5,-100 1081.5,-100 1203.5,-100 1203.5,-100 1209.5,-100 1215.5,-106 1215.5,-112 1215.5,-112 1215.5,-166 1215.5,-166 1215.5,-172 1209.5,-178 1203.5,-178\"/>\n<text text-anchor=\"start\" x=\"1077.5\" y=\"-163.8\" font-family=\"Helvetica,sans-Serif\" font-size=\"14.00\">Checkin service ≤ 4.5</text>\n<text text-anchor=\"start\" x=\"1107\" y=\"-149.8\" font-family=\"Helvetica,sans-Serif\" font-size=\"14.00\">gini = 0.182</text>\n<text text-anchor=\"start\" x=\"1094\" y=\"-135.8\" font-family=\"Helvetica,sans-Serif\" font-size=\"14.00\">samples = 5712</text>\n<text text-anchor=\"start\" x=\"1084.5\" y=\"-121.8\" font-family=\"Helvetica,sans-Serif\" font-size=\"14.00\">value = [5133, 579]</text>\n<text text-anchor=\"start\" x=\"1112\" y=\"-107.8\" font-family=\"Helvetica,sans-Serif\" font-size=\"14.00\">class = y</text>\n<text text-anchor=\"start\" x=\"1166\" y=\"-107.8\" font-family=\"Helvetica,sans-Serif\" baseline-shift=\"sub\" font-size=\"14.00\">0</text>\n</g>\n<!-- 28&#45;&gt;29 -->\n<g id=\"edge29\" class=\"edge\">\n<title>28&#45;&gt;29</title>\n<path fill=\"none\" stroke=\"black\" d=\"M1265.93,-213.93C1249.52,-204.1 1231.73,-193.45 1214.91,-183.37\"/>\n<polygon fill=\"black\" stroke=\"black\" points=\"1216.59,-180.29 1206.21,-178.16 1212.99,-186.3 1216.59,-180.29\"/>\n</g>\n<!-- 32 -->\n<g id=\"node33\" class=\"node\">\n<title>32</title>\n<path fill=\"#e5823a\" stroke=\"black\" d=\"M1396.5,-178C1396.5,-178 1262.5,-178 1262.5,-178 1256.5,-178 1250.5,-172 1250.5,-166 1250.5,-166 1250.5,-112 1250.5,-112 1250.5,-106 1256.5,-100 1262.5,-100 1262.5,-100 1396.5,-100 1396.5,-100 1402.5,-100 1408.5,-106 1408.5,-112 1408.5,-112 1408.5,-166 1408.5,-166 1408.5,-172 1402.5,-178 1396.5,-178\"/>\n<text text-anchor=\"start\" x=\"1258.5\" y=\"-163.8\" font-family=\"Helvetica,sans-Serif\" font-size=\"14.00\">Customer Type_1 ≤ 0.5</text>\n<text text-anchor=\"start\" x=\"1294\" y=\"-149.8\" font-family=\"Helvetica,sans-Serif\" font-size=\"14.00\">gini = 0.009</text>\n<text text-anchor=\"start\" x=\"1281\" y=\"-135.8\" font-family=\"Helvetica,sans-Serif\" font-size=\"14.00\">samples = 3187</text>\n<text text-anchor=\"start\" x=\"1275\" y=\"-121.8\" font-family=\"Helvetica,sans-Serif\" font-size=\"14.00\">value = [3173, 14]</text>\n<text text-anchor=\"start\" x=\"1299\" y=\"-107.8\" font-family=\"Helvetica,sans-Serif\" font-size=\"14.00\">class = y</text>\n<text text-anchor=\"start\" x=\"1353\" y=\"-107.8\" font-family=\"Helvetica,sans-Serif\" baseline-shift=\"sub\" font-size=\"14.00\">0</text>\n</g>\n<!-- 28&#45;&gt;32 -->\n<g id=\"edge32\" class=\"edge\">\n<title>28&#45;&gt;32</title>\n<path fill=\"none\" stroke=\"black\" d=\"M1329.5,-213.77C1329.5,-205.57 1329.5,-196.8 1329.5,-188.28\"/>\n<polygon fill=\"black\" stroke=\"black\" points=\"1333,-188.06 1329.5,-178.06 1326,-188.06 1333,-188.06\"/>\n</g>\n<!-- 30 -->\n<g id=\"node31\" class=\"node\">\n<title>30</title>\n<path fill=\"#e78d4b\" stroke=\"black\" d=\"M1044.5,-64C1044.5,-64 936.5,-64 936.5,-64 930.5,-64 924.5,-58 924.5,-52 924.5,-52 924.5,-12 924.5,-12 924.5,-6 930.5,0 936.5,0 936.5,0 1044.5,0 1044.5,0 1050.5,0 1056.5,-6 1056.5,-12 1056.5,-12 1056.5,-52 1056.5,-52 1056.5,-58 1050.5,-64 1044.5,-64\"/>\n<text text-anchor=\"start\" x=\"955\" y=\"-49.8\" font-family=\"Helvetica,sans-Serif\" font-size=\"14.00\">gini = 0.154</text>\n<text text-anchor=\"start\" x=\"942\" y=\"-35.8\" font-family=\"Helvetica,sans-Serif\" font-size=\"14.00\">samples = 5156</text>\n<text text-anchor=\"start\" x=\"932.5\" y=\"-21.8\" font-family=\"Helvetica,sans-Serif\" font-size=\"14.00\">value = [4722, 434]</text>\n<text text-anchor=\"start\" x=\"960\" y=\"-7.8\" font-family=\"Helvetica,sans-Serif\" font-size=\"14.00\">class = y</text>\n<text text-anchor=\"start\" x=\"1014\" y=\"-7.8\" font-family=\"Helvetica,sans-Serif\" baseline-shift=\"sub\" font-size=\"14.00\">0</text>\n</g>\n<!-- 29&#45;&gt;30 -->\n<g id=\"edge30\" class=\"edge\">\n<title>29&#45;&gt;30</title>\n<path fill=\"none\" stroke=\"black\" d=\"M1087.19,-99.8C1073.14,-90.08 1058.05,-79.67 1044.08,-70.01\"/>\n<polygon fill=\"black\" stroke=\"black\" points=\"1045.76,-66.92 1035.55,-64.12 1041.78,-72.68 1045.76,-66.92\"/>\n</g>\n<!-- 31 -->\n<g id=\"node32\" class=\"node\">\n<title>31</title>\n<path fill=\"#eead7f\" stroke=\"black\" d=\"M1188,-64C1188,-64 1087,-64 1087,-64 1081,-64 1075,-58 1075,-52 1075,-52 1075,-12 1075,-12 1075,-6 1081,0 1087,0 1087,0 1188,0 1188,0 1194,0 1200,-6 1200,-12 1200,-12 1200,-52 1200,-52 1200,-58 1194,-64 1188,-64\"/>\n<text text-anchor=\"start\" x=\"1102\" y=\"-49.8\" font-family=\"Helvetica,sans-Serif\" font-size=\"14.00\">gini = 0.386</text>\n<text text-anchor=\"start\" x=\"1092.5\" y=\"-35.8\" font-family=\"Helvetica,sans-Serif\" font-size=\"14.00\">samples = 556</text>\n<text text-anchor=\"start\" x=\"1083\" y=\"-21.8\" font-family=\"Helvetica,sans-Serif\" font-size=\"14.00\">value = [411, 145]</text>\n<text text-anchor=\"start\" x=\"1107\" y=\"-7.8\" font-family=\"Helvetica,sans-Serif\" font-size=\"14.00\">class = y</text>\n<text text-anchor=\"start\" x=\"1161\" y=\"-7.8\" font-family=\"Helvetica,sans-Serif\" baseline-shift=\"sub\" font-size=\"14.00\">0</text>\n</g>\n<!-- 29&#45;&gt;31 -->\n<g id=\"edge31\" class=\"edge\">\n<title>29&#45;&gt;31</title>\n<path fill=\"none\" stroke=\"black\" d=\"M1140.68,-99.8C1140.28,-91.46 1139.86,-82.6 1139.46,-74.15\"/>\n<polygon fill=\"black\" stroke=\"black\" points=\"1142.95,-73.94 1138.98,-64.12 1135.96,-74.27 1142.95,-73.94\"/>\n</g>\n<!-- 33 -->\n<g id=\"node34\" class=\"node\">\n<title>33</title>\n<path fill=\"#e5833c\" stroke=\"black\" d=\"M1323,-64C1323,-64 1230,-64 1230,-64 1224,-64 1218,-58 1218,-52 1218,-52 1218,-12 1218,-12 1218,-6 1224,0 1230,0 1230,0 1323,0 1323,0 1329,0 1335,-6 1335,-12 1335,-12 1335,-52 1335,-52 1335,-58 1329,-64 1323,-64\"/>\n<text text-anchor=\"start\" x=\"1241\" y=\"-49.8\" font-family=\"Helvetica,sans-Serif\" font-size=\"14.00\">gini = 0.033</text>\n<text text-anchor=\"start\" x=\"1231.5\" y=\"-35.8\" font-family=\"Helvetica,sans-Serif\" font-size=\"14.00\">samples = 766</text>\n<text text-anchor=\"start\" x=\"1226\" y=\"-21.8\" font-family=\"Helvetica,sans-Serif\" font-size=\"14.00\">value = [753, 13]</text>\n<text text-anchor=\"start\" x=\"1246\" y=\"-7.8\" font-family=\"Helvetica,sans-Serif\" font-size=\"14.00\">class = y</text>\n<text text-anchor=\"start\" x=\"1300\" y=\"-7.8\" font-family=\"Helvetica,sans-Serif\" baseline-shift=\"sub\" font-size=\"14.00\">0</text>\n</g>\n<!-- 32&#45;&gt;33 -->\n<g id=\"edge33\" class=\"edge\">\n<title>32&#45;&gt;33</title>\n<path fill=\"none\" stroke=\"black\" d=\"M1310.22,-99.8C1305.87,-91.18 1301.24,-82.02 1296.85,-73.32\"/>\n<polygon fill=\"black\" stroke=\"black\" points=\"1299.84,-71.47 1292.21,-64.12 1293.59,-74.62 1299.84,-71.47\"/>\n</g>\n<!-- 34 -->\n<g id=\"node35\" class=\"node\">\n<title>34</title>\n<path fill=\"#e58139\" stroke=\"black\" d=\"M1458,-64C1458,-64 1365,-64 1365,-64 1359,-64 1353,-58 1353,-52 1353,-52 1353,-12 1353,-12 1353,-6 1359,0 1365,0 1365,0 1458,0 1458,0 1464,0 1470,-6 1470,-12 1470,-12 1470,-52 1470,-52 1470,-58 1464,-64 1458,-64\"/>\n<text text-anchor=\"start\" x=\"1376\" y=\"-49.8\" font-family=\"Helvetica,sans-Serif\" font-size=\"14.00\">gini = 0.001</text>\n<text text-anchor=\"start\" x=\"1363\" y=\"-35.8\" font-family=\"Helvetica,sans-Serif\" font-size=\"14.00\">samples = 2421</text>\n<text text-anchor=\"start\" x=\"1361\" y=\"-21.8\" font-family=\"Helvetica,sans-Serif\" font-size=\"14.00\">value = [2420, 1]</text>\n<text text-anchor=\"start\" x=\"1381\" y=\"-7.8\" font-family=\"Helvetica,sans-Serif\" font-size=\"14.00\">class = y</text>\n<text text-anchor=\"start\" x=\"1435\" y=\"-7.8\" font-family=\"Helvetica,sans-Serif\" baseline-shift=\"sub\" font-size=\"14.00\">0</text>\n</g>\n<!-- 32&#45;&gt;34 -->\n<g id=\"edge34\" class=\"edge\">\n<title>32&#45;&gt;34</title>\n<path fill=\"none\" stroke=\"black\" d=\"M1359.34,-99.8C1366.35,-90.82 1373.83,-81.23 1380.88,-72.21\"/>\n<polygon fill=\"black\" stroke=\"black\" points=\"1383.8,-74.15 1387.2,-64.12 1378.29,-69.84 1383.8,-74.15\"/>\n</g>\n<!-- 36 -->\n<g id=\"node37\" class=\"node\">\n<title>36</title>\n<path fill=\"#50a9e8\" stroke=\"black\" d=\"M1623.5,-178C1623.5,-178 1447.5,-178 1447.5,-178 1441.5,-178 1435.5,-172 1435.5,-166 1435.5,-166 1435.5,-112 1435.5,-112 1435.5,-106 1441.5,-100 1447.5,-100 1447.5,-100 1623.5,-100 1623.5,-100 1629.5,-100 1635.5,-106 1635.5,-112 1635.5,-112 1635.5,-166 1635.5,-166 1635.5,-172 1629.5,-178 1623.5,-178\"/>\n<text text-anchor=\"start\" x=\"1443.5\" y=\"-163.8\" font-family=\"Helvetica,sans-Serif\" font-size=\"14.00\">Arrival Delay in Minutes ≤ 29.0</text>\n<text text-anchor=\"start\" x=\"1500\" y=\"-149.8\" font-family=\"Helvetica,sans-Serif\" font-size=\"14.00\">gini = 0.188</text>\n<text text-anchor=\"start\" x=\"1494.5\" y=\"-135.8\" font-family=\"Helvetica,sans-Serif\" font-size=\"14.00\">samples = 57</text>\n<text text-anchor=\"start\" x=\"1492.5\" y=\"-121.8\" font-family=\"Helvetica,sans-Serif\" font-size=\"14.00\">value = [6, 51]</text>\n<text text-anchor=\"start\" x=\"1505\" y=\"-107.8\" font-family=\"Helvetica,sans-Serif\" font-size=\"14.00\">class = y</text>\n<text text-anchor=\"start\" x=\"1559\" y=\"-107.8\" font-family=\"Helvetica,sans-Serif\" baseline-shift=\"sub\" font-size=\"14.00\">1</text>\n</g>\n<!-- 35&#45;&gt;36 -->\n<g id=\"edge36\" class=\"edge\">\n<title>35&#45;&gt;36</title>\n<path fill=\"none\" stroke=\"black\" d=\"M1590.83,-213.77C1584.2,-204.94 1577.09,-195.45 1570.24,-186.32\"/>\n<polygon fill=\"black\" stroke=\"black\" points=\"1572.84,-183.96 1564.04,-178.06 1567.24,-188.16 1572.84,-183.96\"/>\n</g>\n<!-- 39 -->\n<g id=\"node40\" class=\"node\">\n<title>39</title>\n<path fill=\"#e58139\" stroke=\"black\" d=\"M1743.5,-171C1743.5,-171 1665.5,-171 1665.5,-171 1659.5,-171 1653.5,-165 1653.5,-159 1653.5,-159 1653.5,-119 1653.5,-119 1653.5,-113 1659.5,-107 1665.5,-107 1665.5,-107 1743.5,-107 1743.5,-107 1749.5,-107 1755.5,-113 1755.5,-119 1755.5,-119 1755.5,-159 1755.5,-159 1755.5,-165 1749.5,-171 1743.5,-171\"/>\n<text text-anchor=\"start\" x=\"1676.5\" y=\"-156.8\" font-family=\"Helvetica,sans-Serif\" font-size=\"14.00\">gini = 0.0</text>\n<text text-anchor=\"start\" x=\"1663.5\" y=\"-142.8\" font-family=\"Helvetica,sans-Serif\" font-size=\"14.00\">samples = 22</text>\n<text text-anchor=\"start\" x=\"1661.5\" y=\"-128.8\" font-family=\"Helvetica,sans-Serif\" font-size=\"14.00\">value = [22, 0]</text>\n<text text-anchor=\"start\" x=\"1674\" y=\"-114.8\" font-family=\"Helvetica,sans-Serif\" font-size=\"14.00\">class = y</text>\n<text text-anchor=\"start\" x=\"1728\" y=\"-114.8\" font-family=\"Helvetica,sans-Serif\" baseline-shift=\"sub\" font-size=\"14.00\">0</text>\n</g>\n<!-- 35&#45;&gt;39 -->\n<g id=\"edge39\" class=\"edge\">\n<title>35&#45;&gt;39</title>\n<path fill=\"none\" stroke=\"black\" d=\"M1648.51,-213.77C1657.03,-202.55 1666.35,-190.27 1674.9,-179\"/>\n<polygon fill=\"black\" stroke=\"black\" points=\"1677.71,-181.09 1680.97,-171.01 1672.13,-176.86 1677.71,-181.09\"/>\n</g>\n<!-- 37 -->\n<g id=\"node38\" class=\"node\">\n<title>37</title>\n<path fill=\"#42a1e6\" stroke=\"black\" d=\"M1578.5,-64C1578.5,-64 1500.5,-64 1500.5,-64 1494.5,-64 1488.5,-58 1488.5,-52 1488.5,-52 1488.5,-12 1488.5,-12 1488.5,-6 1494.5,0 1500.5,0 1500.5,0 1578.5,0 1578.5,0 1584.5,0 1590.5,-6 1590.5,-12 1590.5,-12 1590.5,-52 1590.5,-52 1590.5,-58 1584.5,-64 1578.5,-64\"/>\n<text text-anchor=\"start\" x=\"1504\" y=\"-49.8\" font-family=\"Helvetica,sans-Serif\" font-size=\"14.00\">gini = 0.081</text>\n<text text-anchor=\"start\" x=\"1498.5\" y=\"-35.8\" font-family=\"Helvetica,sans-Serif\" font-size=\"14.00\">samples = 47</text>\n<text text-anchor=\"start\" x=\"1496.5\" y=\"-21.8\" font-family=\"Helvetica,sans-Serif\" font-size=\"14.00\">value = [2, 45]</text>\n<text text-anchor=\"start\" x=\"1509\" y=\"-7.8\" font-family=\"Helvetica,sans-Serif\" font-size=\"14.00\">class = y</text>\n<text text-anchor=\"start\" x=\"1563\" y=\"-7.8\" font-family=\"Helvetica,sans-Serif\" baseline-shift=\"sub\" font-size=\"14.00\">1</text>\n</g>\n<!-- 36&#45;&gt;37 -->\n<g id=\"edge37\" class=\"edge\">\n<title>36&#45;&gt;37</title>\n<path fill=\"none\" stroke=\"black\" d=\"M1536.96,-99.8C1537.27,-91.46 1537.61,-82.6 1537.93,-74.15\"/>\n<polygon fill=\"black\" stroke=\"black\" points=\"1541.43,-74.24 1538.31,-64.12 1534.44,-73.98 1541.43,-74.24\"/>\n</g>\n<!-- 38 -->\n<g id=\"node39\" class=\"node\">\n<title>38</title>\n<path fill=\"#bddef6\" stroke=\"black\" d=\"M1694.5,-64C1694.5,-64 1620.5,-64 1620.5,-64 1614.5,-64 1608.5,-58 1608.5,-52 1608.5,-52 1608.5,-12 1608.5,-12 1608.5,-6 1614.5,0 1620.5,0 1620.5,0 1694.5,0 1694.5,0 1700.5,0 1706.5,-6 1706.5,-12 1706.5,-12 1706.5,-52 1706.5,-52 1706.5,-58 1700.5,-64 1694.5,-64\"/>\n<text text-anchor=\"start\" x=\"1625.5\" y=\"-49.8\" font-family=\"Helvetica,sans-Serif\" font-size=\"14.00\">gini = 0.48</text>\n<text text-anchor=\"start\" x=\"1616.5\" y=\"-35.8\" font-family=\"Helvetica,sans-Serif\" font-size=\"14.00\">samples = 10</text>\n<text text-anchor=\"start\" x=\"1618\" y=\"-21.8\" font-family=\"Helvetica,sans-Serif\" font-size=\"14.00\">value = [4, 6]</text>\n<text text-anchor=\"start\" x=\"1627\" y=\"-7.8\" font-family=\"Helvetica,sans-Serif\" font-size=\"14.00\">class = y</text>\n<text text-anchor=\"start\" x=\"1681\" y=\"-7.8\" font-family=\"Helvetica,sans-Serif\" baseline-shift=\"sub\" font-size=\"14.00\">1</text>\n</g>\n<!-- 36&#45;&gt;38 -->\n<g id=\"edge38\" class=\"edge\">\n<title>36&#45;&gt;38</title>\n<path fill=\"none\" stroke=\"black\" d=\"M1579.89,-99.8C1590.85,-90.36 1602.59,-80.25 1613.54,-70.84\"/>\n<polygon fill=\"black\" stroke=\"black\" points=\"1616.05,-73.29 1621.34,-64.12 1611.48,-67.99 1616.05,-73.29\"/>\n</g>\n<!-- 41 -->\n<g id=\"node42\" class=\"node\">\n<title>41</title>\n<path fill=\"#7bbeee\" stroke=\"black\" d=\"M2052,-292C2052,-292 1925,-292 1925,-292 1919,-292 1913,-286 1913,-280 1913,-280 1913,-226 1913,-226 1913,-220 1919,-214 1925,-214 1925,-214 2052,-214 2052,-214 2058,-214 2064,-220 2064,-226 2064,-226 2064,-280 2064,-280 2064,-286 2058,-292 2052,-292\"/>\n<text text-anchor=\"start\" x=\"1921\" y=\"-277.8\" font-family=\"Helvetica,sans-Serif\" font-size=\"14.00\">Type of Travel_1 ≤ 0.5</text>\n<text text-anchor=\"start\" x=\"1953\" y=\"-263.8\" font-family=\"Helvetica,sans-Serif\" font-size=\"14.00\">gini = 0.376</text>\n<text text-anchor=\"start\" x=\"1940\" y=\"-249.8\" font-family=\"Helvetica,sans-Serif\" font-size=\"14.00\">samples = 2282</text>\n<text text-anchor=\"start\" x=\"1930.5\" y=\"-235.8\" font-family=\"Helvetica,sans-Serif\" font-size=\"14.00\">value = [573, 1709]</text>\n<text text-anchor=\"start\" x=\"1958\" y=\"-221.8\" font-family=\"Helvetica,sans-Serif\" font-size=\"14.00\">class = y</text>\n<text text-anchor=\"start\" x=\"2012\" y=\"-221.8\" font-family=\"Helvetica,sans-Serif\" baseline-shift=\"sub\" font-size=\"14.00\">1</text>\n</g>\n<!-- 40&#45;&gt;41 -->\n<g id=\"edge41\" class=\"edge\">\n<title>40&#45;&gt;41</title>\n<path fill=\"none\" stroke=\"black\" d=\"M2039.87,-327.77C2033.73,-318.94 2027.12,-309.45 2020.76,-300.32\"/>\n<polygon fill=\"black\" stroke=\"black\" points=\"2023.59,-298.26 2015.01,-292.06 2017.85,-302.26 2023.59,-298.26\"/>\n</g>\n<!-- 46 -->\n<g id=\"node47\" class=\"node\">\n<title>46</title>\n<path fill=\"#e68641\" stroke=\"black\" d=\"M2195,-292C2195,-292 2094,-292 2094,-292 2088,-292 2082,-286 2082,-280 2082,-280 2082,-226 2082,-226 2082,-220 2088,-214 2094,-214 2094,-214 2195,-214 2195,-214 2201,-214 2207,-220 2207,-226 2207,-226 2207,-280 2207,-280 2207,-286 2201,-292 2195,-292\"/>\n<text text-anchor=\"start\" x=\"2111.5\" y=\"-277.8\" font-family=\"Helvetica,sans-Serif\" font-size=\"14.00\">Age ≤ 36.5</text>\n<text text-anchor=\"start\" x=\"2109\" y=\"-263.8\" font-family=\"Helvetica,sans-Serif\" font-size=\"14.00\">gini = 0.073</text>\n<text text-anchor=\"start\" x=\"2096\" y=\"-249.8\" font-family=\"Helvetica,sans-Serif\" font-size=\"14.00\">samples = 1563</text>\n<text text-anchor=\"start\" x=\"2090\" y=\"-235.8\" font-family=\"Helvetica,sans-Serif\" font-size=\"14.00\">value = [1504, 59]</text>\n<text text-anchor=\"start\" x=\"2114\" y=\"-221.8\" font-family=\"Helvetica,sans-Serif\" font-size=\"14.00\">class = y</text>\n<text text-anchor=\"start\" x=\"2168\" y=\"-221.8\" font-family=\"Helvetica,sans-Serif\" baseline-shift=\"sub\" font-size=\"14.00\">0</text>\n</g>\n<!-- 40&#45;&gt;46 -->\n<g id=\"edge46\" class=\"edge\">\n<title>40&#45;&gt;46</title>\n<path fill=\"none\" stroke=\"black\" d=\"M2093.13,-327.77C2099.27,-318.94 2105.88,-309.45 2112.24,-300.32\"/>\n<polygon fill=\"black\" stroke=\"black\" points=\"2115.15,-302.26 2117.99,-292.06 2109.41,-298.26 2115.15,-302.26\"/>\n</g>\n<!-- 42 -->\n<g id=\"node43\" class=\"node\">\n<title>42</title>\n<path fill=\"#4fa8e8\" stroke=\"black\" d=\"M1917,-178C1917,-178 1786,-178 1786,-178 1780,-178 1774,-172 1774,-166 1774,-166 1774,-112 1774,-112 1774,-106 1780,-100 1786,-100 1786,-100 1917,-100 1917,-100 1923,-100 1929,-106 1929,-112 1929,-112 1929,-166 1929,-166 1929,-172 1923,-178 1917,-178\"/>\n<text text-anchor=\"start\" x=\"1782\" y=\"-163.8\" font-family=\"Helvetica,sans-Serif\" font-size=\"14.00\">Leg room service ≤ 3.5</text>\n<text text-anchor=\"start\" x=\"1816\" y=\"-149.8\" font-family=\"Helvetica,sans-Serif\" font-size=\"14.00\">gini = 0.182</text>\n<text text-anchor=\"start\" x=\"1803\" y=\"-135.8\" font-family=\"Helvetica,sans-Serif\" font-size=\"14.00\">samples = 1902</text>\n<text text-anchor=\"start\" x=\"1793.5\" y=\"-121.8\" font-family=\"Helvetica,sans-Serif\" font-size=\"14.00\">value = [193, 1709]</text>\n<text text-anchor=\"start\" x=\"1821\" y=\"-107.8\" font-family=\"Helvetica,sans-Serif\" font-size=\"14.00\">class = y</text>\n<text text-anchor=\"start\" x=\"1875\" y=\"-107.8\" font-family=\"Helvetica,sans-Serif\" baseline-shift=\"sub\" font-size=\"14.00\">1</text>\n</g>\n<!-- 41&#45;&gt;42 -->\n<g id=\"edge42\" class=\"edge\">\n<title>41&#45;&gt;42</title>\n<path fill=\"none\" stroke=\"black\" d=\"M1941.74,-213.77C1930.27,-204.4 1917.9,-194.29 1906.11,-184.64\"/>\n<polygon fill=\"black\" stroke=\"black\" points=\"1908.01,-181.68 1898.05,-178.06 1903.58,-187.1 1908.01,-181.68\"/>\n</g>\n<!-- 45 -->\n<g id=\"node46\" class=\"node\">\n<title>45</title>\n<path fill=\"#e58139\" stroke=\"black\" d=\"M2045.5,-171C2045.5,-171 1959.5,-171 1959.5,-171 1953.5,-171 1947.5,-165 1947.5,-159 1947.5,-159 1947.5,-119 1947.5,-119 1947.5,-113 1953.5,-107 1959.5,-107 1959.5,-107 2045.5,-107 2045.5,-107 2051.5,-107 2057.5,-113 2057.5,-119 2057.5,-119 2057.5,-159 2057.5,-159 2057.5,-165 2051.5,-171 2045.5,-171\"/>\n<text text-anchor=\"start\" x=\"1974.5\" y=\"-156.8\" font-family=\"Helvetica,sans-Serif\" font-size=\"14.00\">gini = 0.0</text>\n<text text-anchor=\"start\" x=\"1957.5\" y=\"-142.8\" font-family=\"Helvetica,sans-Serif\" font-size=\"14.00\">samples = 380</text>\n<text text-anchor=\"start\" x=\"1955.5\" y=\"-128.8\" font-family=\"Helvetica,sans-Serif\" font-size=\"14.00\">value = [380, 0]</text>\n<text text-anchor=\"start\" x=\"1972\" y=\"-114.8\" font-family=\"Helvetica,sans-Serif\" font-size=\"14.00\">class = y</text>\n<text text-anchor=\"start\" x=\"2026\" y=\"-114.8\" font-family=\"Helvetica,sans-Serif\" baseline-shift=\"sub\" font-size=\"14.00\">0</text>\n</g>\n<!-- 41&#45;&gt;45 -->\n<g id=\"edge45\" class=\"edge\">\n<title>41&#45;&gt;45</title>\n<path fill=\"none\" stroke=\"black\" d=\"M1993.28,-213.77C1994.6,-203.2 1996.04,-191.7 1997.38,-180.98\"/>\n<polygon fill=\"black\" stroke=\"black\" points=\"2000.86,-181.37 1998.62,-171.01 1993.91,-180.5 2000.86,-181.37\"/>\n</g>\n<!-- 43 -->\n<g id=\"node44\" class=\"node\">\n<title>43</title>\n<path fill=\"#eca26c\" stroke=\"black\" d=\"M1866,-64C1866,-64 1773,-64 1773,-64 1767,-64 1761,-58 1761,-52 1761,-52 1761,-12 1761,-12 1761,-6 1767,0 1773,0 1773,0 1866,0 1866,0 1872,0 1878,-6 1878,-12 1878,-12 1878,-52 1878,-52 1878,-58 1872,-64 1866,-64\"/>\n<text text-anchor=\"start\" x=\"1784\" y=\"-49.8\" font-family=\"Helvetica,sans-Serif\" font-size=\"14.00\">gini = 0.327</text>\n<text text-anchor=\"start\" x=\"1774.5\" y=\"-35.8\" font-family=\"Helvetica,sans-Serif\" font-size=\"14.00\">samples = 146</text>\n<text text-anchor=\"start\" x=\"1769\" y=\"-21.8\" font-family=\"Helvetica,sans-Serif\" font-size=\"14.00\">value = [116, 30]</text>\n<text text-anchor=\"start\" x=\"1789\" y=\"-7.8\" font-family=\"Helvetica,sans-Serif\" font-size=\"14.00\">class = y</text>\n<text text-anchor=\"start\" x=\"1843\" y=\"-7.8\" font-family=\"Helvetica,sans-Serif\" baseline-shift=\"sub\" font-size=\"14.00\">0</text>\n</g>\n<!-- 42&#45;&gt;43 -->\n<g id=\"edge43\" class=\"edge\">\n<title>42&#45;&gt;43</title>\n<path fill=\"none\" stroke=\"black\" d=\"M1839.86,-99.8C1837.29,-91.37 1834.56,-82.41 1831.96,-73.88\"/>\n<polygon fill=\"black\" stroke=\"black\" points=\"1835.25,-72.66 1828.98,-64.12 1828.55,-74.7 1835.25,-72.66\"/>\n</g>\n<!-- 44 -->\n<g id=\"node45\" class=\"node\">\n<title>44</title>\n<path fill=\"#42a1e6\" stroke=\"black\" d=\"M2009,-64C2009,-64 1908,-64 1908,-64 1902,-64 1896,-58 1896,-52 1896,-52 1896,-12 1896,-12 1896,-6 1902,0 1908,0 1908,0 2009,0 2009,0 2015,0 2021,-6 2021,-12 2021,-12 2021,-52 2021,-52 2021,-58 2015,-64 2009,-64\"/>\n<text text-anchor=\"start\" x=\"1923\" y=\"-49.8\" font-family=\"Helvetica,sans-Serif\" font-size=\"14.00\">gini = 0.084</text>\n<text text-anchor=\"start\" x=\"1910\" y=\"-35.8\" font-family=\"Helvetica,sans-Serif\" font-size=\"14.00\">samples = 1756</text>\n<text text-anchor=\"start\" x=\"1904\" y=\"-21.8\" font-family=\"Helvetica,sans-Serif\" font-size=\"14.00\">value = [77, 1679]</text>\n<text text-anchor=\"start\" x=\"1928\" y=\"-7.8\" font-family=\"Helvetica,sans-Serif\" font-size=\"14.00\">class = y</text>\n<text text-anchor=\"start\" x=\"1982\" y=\"-7.8\" font-family=\"Helvetica,sans-Serif\" baseline-shift=\"sub\" font-size=\"14.00\">1</text>\n</g>\n<!-- 42&#45;&gt;44 -->\n<g id=\"edge44\" class=\"edge\">\n<title>42&#45;&gt;44</title>\n<path fill=\"none\" stroke=\"black\" d=\"M1890.43,-99.8C1899.86,-90.54 1909.95,-80.65 1919.38,-71.38\"/>\n<polygon fill=\"black\" stroke=\"black\" points=\"1922.1,-73.62 1926.79,-64.12 1917.2,-68.62 1922.1,-73.62\"/>\n</g>\n<!-- 47 -->\n<g id=\"node48\" class=\"node\">\n<title>47</title>\n<path fill=\"#e58139\" stroke=\"black\" d=\"M2173.5,-171C2173.5,-171 2087.5,-171 2087.5,-171 2081.5,-171 2075.5,-165 2075.5,-159 2075.5,-159 2075.5,-119 2075.5,-119 2075.5,-113 2081.5,-107 2087.5,-107 2087.5,-107 2173.5,-107 2173.5,-107 2179.5,-107 2185.5,-113 2185.5,-119 2185.5,-119 2185.5,-159 2185.5,-159 2185.5,-165 2179.5,-171 2173.5,-171\"/>\n<text text-anchor=\"start\" x=\"2102.5\" y=\"-156.8\" font-family=\"Helvetica,sans-Serif\" font-size=\"14.00\">gini = 0.0</text>\n<text text-anchor=\"start\" x=\"2085.5\" y=\"-142.8\" font-family=\"Helvetica,sans-Serif\" font-size=\"14.00\">samples = 878</text>\n<text text-anchor=\"start\" x=\"2083.5\" y=\"-128.8\" font-family=\"Helvetica,sans-Serif\" font-size=\"14.00\">value = [878, 0]</text>\n<text text-anchor=\"start\" x=\"2100\" y=\"-114.8\" font-family=\"Helvetica,sans-Serif\" font-size=\"14.00\">class = y</text>\n<text text-anchor=\"start\" x=\"2154\" y=\"-114.8\" font-family=\"Helvetica,sans-Serif\" baseline-shift=\"sub\" font-size=\"14.00\">0</text>\n</g>\n<!-- 46&#45;&gt;47 -->\n<g id=\"edge47\" class=\"edge\">\n<title>46&#45;&gt;47</title>\n<path fill=\"none\" stroke=\"black\" d=\"M2139.72,-213.77C2138.4,-203.2 2136.96,-191.7 2135.62,-180.98\"/>\n<polygon fill=\"black\" stroke=\"black\" points=\"2139.09,-180.5 2134.38,-171.01 2132.14,-181.37 2139.09,-180.5\"/>\n</g>\n<!-- 48 -->\n<g id=\"node49\" class=\"node\">\n<title>48</title>\n<path fill=\"#e78d4c\" stroke=\"black\" d=\"M2351.5,-178C2351.5,-178 2215.5,-178 2215.5,-178 2209.5,-178 2203.5,-172 2203.5,-166 2203.5,-166 2203.5,-112 2203.5,-112 2203.5,-106 2209.5,-100 2215.5,-100 2215.5,-100 2351.5,-100 2351.5,-100 2357.5,-100 2363.5,-106 2363.5,-112 2363.5,-112 2363.5,-166 2363.5,-166 2363.5,-172 2357.5,-178 2351.5,-178\"/>\n<text text-anchor=\"start\" x=\"2211.5\" y=\"-163.8\" font-family=\"Helvetica,sans-Serif\" font-size=\"14.00\">Inflight wifi service ≤ 1.5</text>\n<text text-anchor=\"start\" x=\"2248\" y=\"-149.8\" font-family=\"Helvetica,sans-Serif\" font-size=\"14.00\">gini = 0.157</text>\n<text text-anchor=\"start\" x=\"2238.5\" y=\"-135.8\" font-family=\"Helvetica,sans-Serif\" font-size=\"14.00\">samples = 685</text>\n<text text-anchor=\"start\" x=\"2233\" y=\"-121.8\" font-family=\"Helvetica,sans-Serif\" font-size=\"14.00\">value = [626, 59]</text>\n<text text-anchor=\"start\" x=\"2253\" y=\"-107.8\" font-family=\"Helvetica,sans-Serif\" font-size=\"14.00\">class = y</text>\n<text text-anchor=\"start\" x=\"2307\" y=\"-107.8\" font-family=\"Helvetica,sans-Serif\" baseline-shift=\"sub\" font-size=\"14.00\">0</text>\n</g>\n<!-- 46&#45;&gt;48 -->\n<g id=\"edge48\" class=\"edge\">\n<title>46&#45;&gt;48</title>\n<path fill=\"none\" stroke=\"black\" d=\"M2191.95,-213.77C2203.69,-204.31 2216.37,-194.09 2228.44,-184.37\"/>\n<polygon fill=\"black\" stroke=\"black\" points=\"2230.68,-187.06 2236.27,-178.06 2226.28,-181.61 2230.68,-187.06\"/>\n</g>\n<!-- 49 -->\n<g id=\"node50\" class=\"node\">\n<title>49</title>\n<path fill=\"#e58139\" stroke=\"black\" d=\"M2167.5,-64C2167.5,-64 2081.5,-64 2081.5,-64 2075.5,-64 2069.5,-58 2069.5,-52 2069.5,-52 2069.5,-12 2069.5,-12 2069.5,-6 2075.5,0 2081.5,0 2081.5,0 2167.5,0 2167.5,0 2173.5,0 2179.5,-6 2179.5,-12 2179.5,-12 2179.5,-52 2179.5,-52 2179.5,-58 2173.5,-64 2167.5,-64\"/>\n<text text-anchor=\"start\" x=\"2096.5\" y=\"-49.8\" font-family=\"Helvetica,sans-Serif\" font-size=\"14.00\">gini = 0.0</text>\n<text text-anchor=\"start\" x=\"2079.5\" y=\"-35.8\" font-family=\"Helvetica,sans-Serif\" font-size=\"14.00\">samples = 154</text>\n<text text-anchor=\"start\" x=\"2077.5\" y=\"-21.8\" font-family=\"Helvetica,sans-Serif\" font-size=\"14.00\">value = [154, 0]</text>\n<text text-anchor=\"start\" x=\"2094\" y=\"-7.8\" font-family=\"Helvetica,sans-Serif\" font-size=\"14.00\">class = y</text>\n<text text-anchor=\"start\" x=\"2148\" y=\"-7.8\" font-family=\"Helvetica,sans-Serif\" baseline-shift=\"sub\" font-size=\"14.00\">0</text>\n</g>\n<!-- 48&#45;&gt;49 -->\n<g id=\"edge49\" class=\"edge\">\n<title>48&#45;&gt;49</title>\n<path fill=\"none\" stroke=\"black\" d=\"M2225.65,-99.8C2210.8,-89.99 2194.87,-79.47 2180.14,-69.74\"/>\n<polygon fill=\"black\" stroke=\"black\" points=\"2181.89,-66.71 2171.62,-64.12 2178.04,-72.55 2181.89,-66.71\"/>\n</g>\n<!-- 50 -->\n<g id=\"node51\" class=\"node\">\n<title>50</title>\n<path fill=\"#e89152\" stroke=\"black\" d=\"M2303,-64C2303,-64 2210,-64 2210,-64 2204,-64 2198,-58 2198,-52 2198,-52 2198,-12 2198,-12 2198,-6 2204,0 2210,0 2210,0 2303,0 2303,0 2309,0 2315,-6 2315,-12 2315,-12 2315,-52 2315,-52 2315,-58 2309,-64 2303,-64\"/>\n<text text-anchor=\"start\" x=\"2221\" y=\"-49.8\" font-family=\"Helvetica,sans-Serif\" font-size=\"14.00\">gini = 0.198</text>\n<text text-anchor=\"start\" x=\"2211.5\" y=\"-35.8\" font-family=\"Helvetica,sans-Serif\" font-size=\"14.00\">samples = 531</text>\n<text text-anchor=\"start\" x=\"2206\" y=\"-21.8\" font-family=\"Helvetica,sans-Serif\" font-size=\"14.00\">value = [472, 59]</text>\n<text text-anchor=\"start\" x=\"2226\" y=\"-7.8\" font-family=\"Helvetica,sans-Serif\" font-size=\"14.00\">class = y</text>\n<text text-anchor=\"start\" x=\"2280\" y=\"-7.8\" font-family=\"Helvetica,sans-Serif\" baseline-shift=\"sub\" font-size=\"14.00\">0</text>\n</g>\n<!-- 48&#45;&gt;50 -->\n<g id=\"edge50\" class=\"edge\">\n<title>48&#45;&gt;50</title>\n<path fill=\"none\" stroke=\"black\" d=\"M2273.68,-99.8C2271.51,-91.37 2269.2,-82.41 2267.01,-73.88\"/>\n<polygon fill=\"black\" stroke=\"black\" points=\"2270.38,-72.93 2264.5,-64.12 2263.6,-74.67 2270.38,-72.93\"/>\n</g>\n<!-- 52 -->\n<g id=\"node53\" class=\"node\">\n<title>52</title>\n<path fill=\"#fefaf7\" stroke=\"black\" d=\"M3445.5,-520C3445.5,-520 3329.5,-520 3329.5,-520 3323.5,-520 3317.5,-514 3317.5,-508 3317.5,-508 3317.5,-454 3317.5,-454 3317.5,-448 3323.5,-442 3329.5,-442 3329.5,-442 3445.5,-442 3445.5,-442 3451.5,-442 3457.5,-448 3457.5,-454 3457.5,-454 3457.5,-508 3457.5,-508 3457.5,-514 3451.5,-520 3445.5,-520\"/>\n<text text-anchor=\"start\" x=\"3330\" y=\"-505.8\" font-family=\"Helvetica,sans-Serif\" font-size=\"14.00\">Gate location ≤ 3.5</text>\n<text text-anchor=\"start\" x=\"3359.5\" y=\"-491.8\" font-family=\"Helvetica,sans-Serif\" font-size=\"14.00\">gini = 0.5</text>\n<text text-anchor=\"start\" x=\"3339\" y=\"-477.8\" font-family=\"Helvetica,sans-Serif\" font-size=\"14.00\">samples = 3282</text>\n<text text-anchor=\"start\" x=\"3325.5\" y=\"-463.8\" font-family=\"Helvetica,sans-Serif\" font-size=\"14.00\">value = [1675, 1607]</text>\n<text text-anchor=\"start\" x=\"3357\" y=\"-449.8\" font-family=\"Helvetica,sans-Serif\" font-size=\"14.00\">class = y</text>\n<text text-anchor=\"start\" x=\"3411\" y=\"-449.8\" font-family=\"Helvetica,sans-Serif\" baseline-shift=\"sub\" font-size=\"14.00\">0</text>\n</g>\n<!-- 51&#45;&gt;52 -->\n<g id=\"edge52\" class=\"edge\">\n<title>51&#45;&gt;52</title>\n<path fill=\"none\" stroke=\"black\" d=\"M3387.5,-555.77C3387.5,-547.57 3387.5,-538.8 3387.5,-530.28\"/>\n<polygon fill=\"black\" stroke=\"black\" points=\"3391,-530.06 3387.5,-520.06 3384,-530.06 3391,-530.06\"/>\n</g>\n<!-- 83 -->\n<g id=\"node84\" class=\"node\">\n<title>83</title>\n<path fill=\"#3e9fe6\" stroke=\"black\" d=\"M4545,-520C4545,-520 4378,-520 4378,-520 4372,-520 4366,-514 4366,-508 4366,-508 4366,-454 4366,-454 4366,-448 4372,-442 4378,-442 4378,-442 4545,-442 4545,-442 4551,-442 4557,-448 4557,-454 4557,-454 4557,-508 4557,-508 4557,-514 4551,-520 4545,-520\"/>\n<text text-anchor=\"start\" x=\"4374\" y=\"-505.8\" font-family=\"Helvetica,sans-Serif\" font-size=\"14.00\">Ease of Online booking ≤ 4.5</text>\n<text text-anchor=\"start\" x=\"4426\" y=\"-491.8\" font-family=\"Helvetica,sans-Serif\" font-size=\"14.00\">gini = 0.046</text>\n<text text-anchor=\"start\" x=\"4413\" y=\"-477.8\" font-family=\"Helvetica,sans-Serif\" font-size=\"14.00\">samples = 1459</text>\n<text text-anchor=\"start\" x=\"4407\" y=\"-463.8\" font-family=\"Helvetica,sans-Serif\" font-size=\"14.00\">value = [34, 1425]</text>\n<text text-anchor=\"start\" x=\"4431\" y=\"-449.8\" font-family=\"Helvetica,sans-Serif\" font-size=\"14.00\">class = y</text>\n<text text-anchor=\"start\" x=\"4485\" y=\"-449.8\" font-family=\"Helvetica,sans-Serif\" baseline-shift=\"sub\" font-size=\"14.00\">1</text>\n</g>\n<!-- 51&#45;&gt;83 -->\n<g id=\"edge83\" class=\"edge\">\n<title>51&#45;&gt;83</title>\n<path fill=\"none\" stroke=\"black\" d=\"M3467.79,-585.63C3658.94,-565.69 4141.04,-515.42 4355.64,-493.04\"/>\n<polygon fill=\"black\" stroke=\"black\" points=\"4356.07,-496.51 4365.66,-491.99 4355.35,-489.55 4356.07,-496.51\"/>\n</g>\n<!-- 53 -->\n<g id=\"node54\" class=\"node\">\n<title>53</title>\n<path fill=\"#f1bc96\" stroke=\"black\" d=\"M3175.5,-406C3175.5,-406 3067.5,-406 3067.5,-406 3061.5,-406 3055.5,-400 3055.5,-394 3055.5,-394 3055.5,-340 3055.5,-340 3055.5,-334 3061.5,-328 3067.5,-328 3067.5,-328 3175.5,-328 3175.5,-328 3181.5,-328 3187.5,-334 3187.5,-340 3187.5,-340 3187.5,-394 3187.5,-394 3187.5,-400 3181.5,-406 3175.5,-406\"/>\n<text text-anchor=\"start\" x=\"3080\" y=\"-391.8\" font-family=\"Helvetica,sans-Serif\" font-size=\"14.00\">Class_2 ≤ 0.5</text>\n<text text-anchor=\"start\" x=\"3086\" y=\"-377.8\" font-family=\"Helvetica,sans-Serif\" font-size=\"14.00\">gini = 0.435</text>\n<text text-anchor=\"start\" x=\"3073\" y=\"-363.8\" font-family=\"Helvetica,sans-Serif\" font-size=\"14.00\">samples = 1544</text>\n<text text-anchor=\"start\" x=\"3063.5\" y=\"-349.8\" font-family=\"Helvetica,sans-Serif\" font-size=\"14.00\">value = [1051, 493]</text>\n<text text-anchor=\"start\" x=\"3091\" y=\"-335.8\" font-family=\"Helvetica,sans-Serif\" font-size=\"14.00\">class = y</text>\n<text text-anchor=\"start\" x=\"3145\" y=\"-335.8\" font-family=\"Helvetica,sans-Serif\" baseline-shift=\"sub\" font-size=\"14.00\">0</text>\n</g>\n<!-- 52&#45;&gt;53 -->\n<g id=\"edge53\" class=\"edge\">\n<title>52&#45;&gt;53</title>\n<path fill=\"none\" stroke=\"black\" d=\"M3317.26,-450.43C3280.23,-434.83 3234.77,-415.69 3196.98,-399.78\"/>\n<polygon fill=\"black\" stroke=\"black\" points=\"3198.12,-396.47 3187.55,-395.81 3195.41,-402.92 3198.12,-396.47\"/>\n</g>\n<!-- 68 -->\n<g id=\"node69\" class=\"node\">\n<title>68</title>\n<path fill=\"#a8d4f4\" stroke=\"black\" d=\"M3713,-406C3713,-406 3586,-406 3586,-406 3580,-406 3574,-400 3574,-394 3574,-394 3574,-340 3574,-340 3574,-334 3580,-328 3586,-328 3586,-328 3713,-328 3713,-328 3719,-328 3725,-334 3725,-340 3725,-340 3725,-394 3725,-394 3725,-400 3719,-406 3713,-406\"/>\n<text text-anchor=\"start\" x=\"3582\" y=\"-391.8\" font-family=\"Helvetica,sans-Serif\" font-size=\"14.00\">Type of Travel_1 ≤ 0.5</text>\n<text text-anchor=\"start\" x=\"3617.5\" y=\"-377.8\" font-family=\"Helvetica,sans-Serif\" font-size=\"14.00\">gini = 0.46</text>\n<text text-anchor=\"start\" x=\"3601\" y=\"-363.8\" font-family=\"Helvetica,sans-Serif\" font-size=\"14.00\">samples = 1738</text>\n<text text-anchor=\"start\" x=\"3591.5\" y=\"-349.8\" font-family=\"Helvetica,sans-Serif\" font-size=\"14.00\">value = [624, 1114]</text>\n<text text-anchor=\"start\" x=\"3619\" y=\"-335.8\" font-family=\"Helvetica,sans-Serif\" font-size=\"14.00\">class = y</text>\n<text text-anchor=\"start\" x=\"3673\" y=\"-335.8\" font-family=\"Helvetica,sans-Serif\" baseline-shift=\"sub\" font-size=\"14.00\">1</text>\n</g>\n<!-- 52&#45;&gt;68 -->\n<g id=\"edge68\" class=\"edge\">\n<title>52&#45;&gt;68</title>\n<path fill=\"none\" stroke=\"black\" d=\"M3457.71,-449.99C3490.41,-436.01 3529.6,-419.26 3564.01,-404.55\"/>\n<polygon fill=\"black\" stroke=\"black\" points=\"3565.76,-407.61 3573.58,-400.46 3563,-401.17 3565.76,-407.61\"/>\n</g>\n<!-- 54 -->\n<g id=\"node55\" class=\"node\">\n<title>54</title>\n<path fill=\"#f7d9c3\" stroke=\"black\" d=\"M2818,-292C2818,-292 2691,-292 2691,-292 2685,-292 2679,-286 2679,-280 2679,-280 2679,-226 2679,-226 2679,-220 2685,-214 2691,-214 2691,-214 2818,-214 2818,-214 2824,-214 2830,-220 2830,-226 2830,-226 2830,-280 2830,-280 2830,-286 2824,-292 2818,-292\"/>\n<text text-anchor=\"start\" x=\"2687\" y=\"-277.8\" font-family=\"Helvetica,sans-Serif\" font-size=\"14.00\">Type of Travel_1 ≤ 0.5</text>\n<text text-anchor=\"start\" x=\"2719\" y=\"-263.8\" font-family=\"Helvetica,sans-Serif\" font-size=\"14.00\">gini = 0.484</text>\n<text text-anchor=\"start\" x=\"2706\" y=\"-249.8\" font-family=\"Helvetica,sans-Serif\" font-size=\"14.00\">samples = 1006</text>\n<text text-anchor=\"start\" x=\"2700\" y=\"-235.8\" font-family=\"Helvetica,sans-Serif\" font-size=\"14.00\">value = [593, 413]</text>\n<text text-anchor=\"start\" x=\"2724\" y=\"-221.8\" font-family=\"Helvetica,sans-Serif\" font-size=\"14.00\">class = y</text>\n<text text-anchor=\"start\" x=\"2778\" y=\"-221.8\" font-family=\"Helvetica,sans-Serif\" baseline-shift=\"sub\" font-size=\"14.00\">0</text>\n</g>\n<!-- 53&#45;&gt;54 -->\n<g id=\"edge54\" class=\"edge\">\n<title>53&#45;&gt;54</title>\n<path fill=\"none\" stroke=\"black\" d=\"M3055.46,-345.85C2995.2,-327.46 2905.78,-300.17 2840.06,-280.11\"/>\n<polygon fill=\"black\" stroke=\"black\" points=\"2840.72,-276.65 2830.14,-277.08 2838.68,-283.35 2840.72,-276.65\"/>\n</g>\n<!-- 61 -->\n<g id=\"node62\" class=\"node\">\n<title>61</title>\n<path fill=\"#ea975c\" stroke=\"black\" d=\"M3188.5,-292C3188.5,-292 3054.5,-292 3054.5,-292 3048.5,-292 3042.5,-286 3042.5,-280 3042.5,-280 3042.5,-226 3042.5,-226 3042.5,-220 3048.5,-214 3054.5,-214 3054.5,-214 3188.5,-214 3188.5,-214 3194.5,-214 3200.5,-220 3200.5,-226 3200.5,-226 3200.5,-280 3200.5,-280 3200.5,-286 3194.5,-292 3188.5,-292\"/>\n<text text-anchor=\"start\" x=\"3050.5\" y=\"-277.8\" font-family=\"Helvetica,sans-Serif\" font-size=\"14.00\">Customer Type_1 ≤ 0.5</text>\n<text text-anchor=\"start\" x=\"3086\" y=\"-263.8\" font-family=\"Helvetica,sans-Serif\" font-size=\"14.00\">gini = 0.253</text>\n<text text-anchor=\"start\" x=\"3076.5\" y=\"-249.8\" font-family=\"Helvetica,sans-Serif\" font-size=\"14.00\">samples = 538</text>\n<text text-anchor=\"start\" x=\"3071\" y=\"-235.8\" font-family=\"Helvetica,sans-Serif\" font-size=\"14.00\">value = [458, 80]</text>\n<text text-anchor=\"start\" x=\"3091\" y=\"-221.8\" font-family=\"Helvetica,sans-Serif\" font-size=\"14.00\">class = y</text>\n<text text-anchor=\"start\" x=\"3145\" y=\"-221.8\" font-family=\"Helvetica,sans-Serif\" baseline-shift=\"sub\" font-size=\"14.00\">0</text>\n</g>\n<!-- 53&#45;&gt;61 -->\n<g id=\"edge61\" class=\"edge\">\n<title>53&#45;&gt;61</title>\n<path fill=\"none\" stroke=\"black\" d=\"M3121.5,-327.77C3121.5,-319.57 3121.5,-310.8 3121.5,-302.28\"/>\n<polygon fill=\"black\" stroke=\"black\" points=\"3125,-302.06 3121.5,-292.06 3118,-302.06 3125,-302.06\"/>\n</g>\n<!-- 55 -->\n<g id=\"node56\" class=\"node\">\n<title>55</title>\n<path fill=\"#cee7f9\" stroke=\"black\" d=\"M2577,-178C2577,-178 2476,-178 2476,-178 2470,-178 2464,-172 2464,-166 2464,-166 2464,-112 2464,-112 2464,-106 2470,-100 2476,-100 2476,-100 2577,-100 2577,-100 2583,-100 2589,-106 2589,-112 2589,-112 2589,-166 2589,-166 2589,-172 2583,-178 2577,-178\"/>\n<text text-anchor=\"start\" x=\"2493.5\" y=\"-163.8\" font-family=\"Helvetica,sans-Serif\" font-size=\"14.00\">Age ≤ 40.5</text>\n<text text-anchor=\"start\" x=\"2494.5\" y=\"-149.8\" font-family=\"Helvetica,sans-Serif\" font-size=\"14.00\">gini = 0.49</text>\n<text text-anchor=\"start\" x=\"2481.5\" y=\"-135.8\" font-family=\"Helvetica,sans-Serif\" font-size=\"14.00\">samples = 465</text>\n<text text-anchor=\"start\" x=\"2472\" y=\"-121.8\" font-family=\"Helvetica,sans-Serif\" font-size=\"14.00\">value = [200, 265]</text>\n<text text-anchor=\"start\" x=\"2496\" y=\"-107.8\" font-family=\"Helvetica,sans-Serif\" font-size=\"14.00\">class = y</text>\n<text text-anchor=\"start\" x=\"2550\" y=\"-107.8\" font-family=\"Helvetica,sans-Serif\" baseline-shift=\"sub\" font-size=\"14.00\">1</text>\n</g>\n<!-- 54&#45;&gt;55 -->\n<g id=\"edge55\" class=\"edge\">\n<title>54&#45;&gt;55</title>\n<path fill=\"none\" stroke=\"black\" d=\"M2678.9,-214.86C2653.04,-202.16 2624.19,-187.99 2598.61,-175.42\"/>\n<polygon fill=\"black\" stroke=\"black\" points=\"2599.87,-172.14 2589.35,-170.87 2596.78,-178.42 2599.87,-172.14\"/>\n</g>\n<!-- 58 -->\n<g id=\"node59\" class=\"node\">\n<title>58</title>\n<path fill=\"#efb084\" stroke=\"black\" d=\"M2839,-178C2839,-178 2670,-178 2670,-178 2664,-178 2658,-172 2658,-166 2658,-166 2658,-112 2658,-112 2658,-106 2664,-100 2670,-100 2670,-100 2839,-100 2839,-100 2845,-100 2851,-106 2851,-112 2851,-112 2851,-166 2851,-166 2851,-172 2845,-178 2839,-178\"/>\n<text text-anchor=\"start\" x=\"2666\" y=\"-163.8\" font-family=\"Helvetica,sans-Serif\" font-size=\"14.00\">Arrival Delay in Minutes ≤ 5.5</text>\n<text text-anchor=\"start\" x=\"2719\" y=\"-149.8\" font-family=\"Helvetica,sans-Serif\" font-size=\"14.00\">gini = 0.397</text>\n<text text-anchor=\"start\" x=\"2709.5\" y=\"-135.8\" font-family=\"Helvetica,sans-Serif\" font-size=\"14.00\">samples = 541</text>\n<text text-anchor=\"start\" x=\"2700\" y=\"-121.8\" font-family=\"Helvetica,sans-Serif\" font-size=\"14.00\">value = [393, 148]</text>\n<text text-anchor=\"start\" x=\"2724\" y=\"-107.8\" font-family=\"Helvetica,sans-Serif\" font-size=\"14.00\">class = y</text>\n<text text-anchor=\"start\" x=\"2778\" y=\"-107.8\" font-family=\"Helvetica,sans-Serif\" baseline-shift=\"sub\" font-size=\"14.00\">0</text>\n</g>\n<!-- 54&#45;&gt;58 -->\n<g id=\"edge58\" class=\"edge\">\n<title>54&#45;&gt;58</title>\n<path fill=\"none\" stroke=\"black\" d=\"M2754.5,-213.77C2754.5,-205.57 2754.5,-196.8 2754.5,-188.28\"/>\n<polygon fill=\"black\" stroke=\"black\" points=\"2758,-188.06 2754.5,-178.06 2751,-188.06 2758,-188.06\"/>\n</g>\n<!-- 56 -->\n<g id=\"node57\" class=\"node\">\n<title>56</title>\n<path fill=\"#efb083\" stroke=\"black\" d=\"M2438,-64C2438,-64 2345,-64 2345,-64 2339,-64 2333,-58 2333,-52 2333,-52 2333,-12 2333,-12 2333,-6 2339,0 2345,0 2345,0 2438,0 2438,0 2444,0 2450,-6 2450,-12 2450,-12 2450,-52 2450,-52 2450,-58 2444,-64 2438,-64\"/>\n<text text-anchor=\"start\" x=\"2356\" y=\"-49.8\" font-family=\"Helvetica,sans-Serif\" font-size=\"14.00\">gini = 0.397</text>\n<text text-anchor=\"start\" x=\"2346.5\" y=\"-35.8\" font-family=\"Helvetica,sans-Serif\" font-size=\"14.00\">samples = 139</text>\n<text text-anchor=\"start\" x=\"2341\" y=\"-21.8\" font-family=\"Helvetica,sans-Serif\" font-size=\"14.00\">value = [101, 38]</text>\n<text text-anchor=\"start\" x=\"2361\" y=\"-7.8\" font-family=\"Helvetica,sans-Serif\" font-size=\"14.00\">class = y</text>\n<text text-anchor=\"start\" x=\"2415\" y=\"-7.8\" font-family=\"Helvetica,sans-Serif\" baseline-shift=\"sub\" font-size=\"14.00\">0</text>\n</g>\n<!-- 55&#45;&gt;56 -->\n<g id=\"edge56\" class=\"edge\">\n<title>55&#45;&gt;56</title>\n<path fill=\"none\" stroke=\"black\" d=\"M2477.38,-99.8C2465.01,-90.18 2451.75,-79.86 2439.44,-70.29\"/>\n<polygon fill=\"black\" stroke=\"black\" points=\"2441.55,-67.49 2431.51,-64.12 2437.25,-73.02 2441.55,-67.49\"/>\n</g>\n<!-- 57 -->\n<g id=\"node58\" class=\"node\">\n<title>57</title>\n<path fill=\"#8fc8f0\" stroke=\"black\" d=\"M2573,-64C2573,-64 2480,-64 2480,-64 2474,-64 2468,-58 2468,-52 2468,-52 2468,-12 2468,-12 2468,-6 2474,0 2480,0 2480,0 2573,0 2573,0 2579,0 2585,-6 2585,-12 2585,-12 2585,-52 2585,-52 2585,-58 2579,-64 2573,-64\"/>\n<text text-anchor=\"start\" x=\"2491\" y=\"-49.8\" font-family=\"Helvetica,sans-Serif\" font-size=\"14.00\">gini = 0.423</text>\n<text text-anchor=\"start\" x=\"2481.5\" y=\"-35.8\" font-family=\"Helvetica,sans-Serif\" font-size=\"14.00\">samples = 326</text>\n<text text-anchor=\"start\" x=\"2476\" y=\"-21.8\" font-family=\"Helvetica,sans-Serif\" font-size=\"14.00\">value = [99, 227]</text>\n<text text-anchor=\"start\" x=\"2496\" y=\"-7.8\" font-family=\"Helvetica,sans-Serif\" font-size=\"14.00\">class = y</text>\n<text text-anchor=\"start\" x=\"2550\" y=\"-7.8\" font-family=\"Helvetica,sans-Serif\" baseline-shift=\"sub\" font-size=\"14.00\">1</text>\n</g>\n<!-- 55&#45;&gt;57 -->\n<g id=\"edge57\" class=\"edge\">\n<title>55&#45;&gt;57</title>\n<path fill=\"none\" stroke=\"black\" d=\"M2526.5,-99.8C2526.5,-91.46 2526.5,-82.6 2526.5,-74.15\"/>\n<polygon fill=\"black\" stroke=\"black\" points=\"2530,-74.12 2526.5,-64.12 2523,-74.12 2530,-74.12\"/>\n</g>\n<!-- 59 -->\n<g id=\"node60\" class=\"node\">\n<title>59</title>\n<path fill=\"#f3c6a5\" stroke=\"black\" d=\"M2716,-64C2716,-64 2615,-64 2615,-64 2609,-64 2603,-58 2603,-52 2603,-52 2603,-12 2603,-12 2603,-6 2609,0 2615,0 2615,0 2716,0 2716,0 2722,0 2728,-6 2728,-12 2728,-12 2728,-52 2728,-52 2728,-58 2722,-64 2716,-64\"/>\n<text text-anchor=\"start\" x=\"2630\" y=\"-49.8\" font-family=\"Helvetica,sans-Serif\" font-size=\"14.00\">gini = 0.457</text>\n<text text-anchor=\"start\" x=\"2620.5\" y=\"-35.8\" font-family=\"Helvetica,sans-Serif\" font-size=\"14.00\">samples = 373</text>\n<text text-anchor=\"start\" x=\"2611\" y=\"-21.8\" font-family=\"Helvetica,sans-Serif\" font-size=\"14.00\">value = [241, 132]</text>\n<text text-anchor=\"start\" x=\"2635\" y=\"-7.8\" font-family=\"Helvetica,sans-Serif\" font-size=\"14.00\">class = y</text>\n<text text-anchor=\"start\" x=\"2689\" y=\"-7.8\" font-family=\"Helvetica,sans-Serif\" baseline-shift=\"sub\" font-size=\"14.00\">0</text>\n</g>\n<!-- 58&#45;&gt;59 -->\n<g id=\"edge59\" class=\"edge\">\n<title>58&#45;&gt;59</title>\n<path fill=\"none\" stroke=\"black\" d=\"M2722.12,-99.8C2714.43,-90.73 2706.22,-81.04 2698.5,-71.94\"/>\n<polygon fill=\"black\" stroke=\"black\" points=\"2701.01,-69.48 2691.88,-64.12 2695.67,-74.01 2701.01,-69.48\"/>\n</g>\n<!-- 60 -->\n<g id=\"node61\" class=\"node\">\n<title>60</title>\n<path fill=\"#e88e4e\" stroke=\"black\" d=\"M2851,-64C2851,-64 2758,-64 2758,-64 2752,-64 2746,-58 2746,-52 2746,-52 2746,-12 2746,-12 2746,-6 2752,0 2758,0 2758,0 2851,0 2851,0 2857,0 2863,-6 2863,-12 2863,-12 2863,-52 2863,-52 2863,-58 2857,-64 2851,-64\"/>\n<text text-anchor=\"start\" x=\"2769\" y=\"-49.8\" font-family=\"Helvetica,sans-Serif\" font-size=\"14.00\">gini = 0.172</text>\n<text text-anchor=\"start\" x=\"2759.5\" y=\"-35.8\" font-family=\"Helvetica,sans-Serif\" font-size=\"14.00\">samples = 168</text>\n<text text-anchor=\"start\" x=\"2754\" y=\"-21.8\" font-family=\"Helvetica,sans-Serif\" font-size=\"14.00\">value = [152, 16]</text>\n<text text-anchor=\"start\" x=\"2774\" y=\"-7.8\" font-family=\"Helvetica,sans-Serif\" font-size=\"14.00\">class = y</text>\n<text text-anchor=\"start\" x=\"2828\" y=\"-7.8\" font-family=\"Helvetica,sans-Serif\" baseline-shift=\"sub\" font-size=\"14.00\">0</text>\n</g>\n<!-- 58&#45;&gt;60 -->\n<g id=\"edge60\" class=\"edge\">\n<title>58&#45;&gt;60</title>\n<path fill=\"none\" stroke=\"black\" d=\"M2772.69,-99.8C2776.79,-91.18 2781.16,-82.02 2785.3,-73.32\"/>\n<polygon fill=\"black\" stroke=\"black\" points=\"2788.54,-74.65 2789.68,-64.12 2782.22,-71.64 2788.54,-74.65\"/>\n</g>\n<!-- 62 -->\n<g id=\"node63\" class=\"node\">\n<title>62</title>\n<path fill=\"#a2d1f3\" stroke=\"black\" d=\"M3089.5,-178C3089.5,-178 3003.5,-178 3003.5,-178 2997.5,-178 2991.5,-172 2991.5,-166 2991.5,-166 2991.5,-112 2991.5,-112 2991.5,-106 2997.5,-100 3003.5,-100 3003.5,-100 3089.5,-100 3089.5,-100 3095.5,-100 3101.5,-106 3101.5,-112 3101.5,-112 3101.5,-166 3101.5,-166 3101.5,-172 3095.5,-178 3089.5,-178\"/>\n<text text-anchor=\"start\" x=\"3013.5\" y=\"-163.8\" font-family=\"Helvetica,sans-Serif\" font-size=\"14.00\">Age ≤ 24.5</text>\n<text text-anchor=\"start\" x=\"3011\" y=\"-149.8\" font-family=\"Helvetica,sans-Serif\" font-size=\"14.00\">gini = 0.453</text>\n<text text-anchor=\"start\" x=\"3005.5\" y=\"-135.8\" font-family=\"Helvetica,sans-Serif\" font-size=\"14.00\">samples = 95</text>\n<text text-anchor=\"start\" x=\"2999.5\" y=\"-121.8\" font-family=\"Helvetica,sans-Serif\" font-size=\"14.00\">value = [33, 62]</text>\n<text text-anchor=\"start\" x=\"3016\" y=\"-107.8\" font-family=\"Helvetica,sans-Serif\" font-size=\"14.00\">class = y</text>\n<text text-anchor=\"start\" x=\"3070\" y=\"-107.8\" font-family=\"Helvetica,sans-Serif\" baseline-shift=\"sub\" font-size=\"14.00\">1</text>\n</g>\n<!-- 61&#45;&gt;62 -->\n<g id=\"edge62\" class=\"edge\">\n<title>61&#45;&gt;62</title>\n<path fill=\"none\" stroke=\"black\" d=\"M3095.9,-213.77C3090.05,-205.03 3083.76,-195.64 3077.7,-186.6\"/>\n<polygon fill=\"black\" stroke=\"black\" points=\"3080.46,-184.42 3071.99,-178.06 3074.64,-188.32 3080.46,-184.42\"/>\n</g>\n<!-- 65 -->\n<g id=\"node66\" class=\"node\">\n<title>65</title>\n<path fill=\"#e68641\" stroke=\"black\" d=\"M3259,-178C3259,-178 3132,-178 3132,-178 3126,-178 3120,-172 3120,-166 3120,-166 3120,-112 3120,-112 3120,-106 3126,-100 3132,-100 3132,-100 3259,-100 3259,-100 3265,-100 3271,-106 3271,-112 3271,-112 3271,-166 3271,-166 3271,-172 3265,-178 3259,-178\"/>\n<text text-anchor=\"start\" x=\"3128\" y=\"-163.8\" font-family=\"Helvetica,sans-Serif\" font-size=\"14.00\">Type of Travel_2 ≤ 0.5</text>\n<text text-anchor=\"start\" x=\"3160\" y=\"-149.8\" font-family=\"Helvetica,sans-Serif\" font-size=\"14.00\">gini = 0.078</text>\n<text text-anchor=\"start\" x=\"3150.5\" y=\"-135.8\" font-family=\"Helvetica,sans-Serif\" font-size=\"14.00\">samples = 443</text>\n<text text-anchor=\"start\" x=\"3145\" y=\"-121.8\" font-family=\"Helvetica,sans-Serif\" font-size=\"14.00\">value = [425, 18]</text>\n<text text-anchor=\"start\" x=\"3165\" y=\"-107.8\" font-family=\"Helvetica,sans-Serif\" font-size=\"14.00\">class = y</text>\n<text text-anchor=\"start\" x=\"3219\" y=\"-107.8\" font-family=\"Helvetica,sans-Serif\" baseline-shift=\"sub\" font-size=\"14.00\">0</text>\n</g>\n<!-- 61&#45;&gt;65 -->\n<g id=\"edge65\" class=\"edge\">\n<title>61&#45;&gt;65</title>\n<path fill=\"none\" stroke=\"black\" d=\"M3146.76,-213.77C3152.53,-205.03 3158.73,-195.64 3164.71,-186.6\"/>\n<polygon fill=\"black\" stroke=\"black\" points=\"3167.76,-188.33 3170.35,-178.06 3161.92,-184.47 3167.76,-188.33\"/>\n</g>\n<!-- 63 -->\n<g id=\"node64\" class=\"node\">\n<title>63</title>\n<path fill=\"#48a5e7\" stroke=\"black\" d=\"M2971.5,-64C2971.5,-64 2893.5,-64 2893.5,-64 2887.5,-64 2881.5,-58 2881.5,-52 2881.5,-52 2881.5,-12 2881.5,-12 2881.5,-6 2887.5,0 2893.5,0 2893.5,0 2971.5,0 2971.5,0 2977.5,0 2983.5,-6 2983.5,-12 2983.5,-12 2983.5,-52 2983.5,-52 2983.5,-58 2977.5,-64 2971.5,-64\"/>\n<text text-anchor=\"start\" x=\"2897\" y=\"-49.8\" font-family=\"Helvetica,sans-Serif\" font-size=\"14.00\">gini = 0.133</text>\n<text text-anchor=\"start\" x=\"2891.5\" y=\"-35.8\" font-family=\"Helvetica,sans-Serif\" font-size=\"14.00\">samples = 28</text>\n<text text-anchor=\"start\" x=\"2889.5\" y=\"-21.8\" font-family=\"Helvetica,sans-Serif\" font-size=\"14.00\">value = [2, 26]</text>\n<text text-anchor=\"start\" x=\"2902\" y=\"-7.8\" font-family=\"Helvetica,sans-Serif\" font-size=\"14.00\">class = y</text>\n<text text-anchor=\"start\" x=\"2956\" y=\"-7.8\" font-family=\"Helvetica,sans-Serif\" baseline-shift=\"sub\" font-size=\"14.00\">1</text>\n</g>\n<!-- 62&#45;&gt;63 -->\n<g id=\"edge63\" class=\"edge\">\n<title>62&#45;&gt;63</title>\n<path fill=\"none\" stroke=\"black\" d=\"M3005.02,-99.8C2994.87,-90.45 2984.02,-80.45 2973.88,-71.11\"/>\n<polygon fill=\"black\" stroke=\"black\" points=\"2976.01,-68.32 2966.28,-64.12 2971.27,-73.47 2976.01,-68.32\"/>\n</g>\n<!-- 64 -->\n<g id=\"node65\" class=\"node\">\n<title>64</title>\n<path fill=\"#e4f1fb\" stroke=\"black\" d=\"M3099.5,-64C3099.5,-64 3013.5,-64 3013.5,-64 3007.5,-64 3001.5,-58 3001.5,-52 3001.5,-52 3001.5,-12 3001.5,-12 3001.5,-6 3007.5,0 3013.5,0 3013.5,0 3099.5,0 3099.5,0 3105.5,0 3111.5,-6 3111.5,-12 3111.5,-12 3111.5,-52 3111.5,-52 3111.5,-58 3105.5,-64 3099.5,-64\"/>\n<text text-anchor=\"start\" x=\"3021\" y=\"-49.8\" font-family=\"Helvetica,sans-Serif\" font-size=\"14.00\">gini = 0.497</text>\n<text text-anchor=\"start\" x=\"3015.5\" y=\"-35.8\" font-family=\"Helvetica,sans-Serif\" font-size=\"14.00\">samples = 67</text>\n<text text-anchor=\"start\" x=\"3009.5\" y=\"-21.8\" font-family=\"Helvetica,sans-Serif\" font-size=\"14.00\">value = [31, 36]</text>\n<text text-anchor=\"start\" x=\"3026\" y=\"-7.8\" font-family=\"Helvetica,sans-Serif\" font-size=\"14.00\">class = y</text>\n<text text-anchor=\"start\" x=\"3080\" y=\"-7.8\" font-family=\"Helvetica,sans-Serif\" baseline-shift=\"sub\" font-size=\"14.00\">1</text>\n</g>\n<!-- 62&#45;&gt;64 -->\n<g id=\"edge64\" class=\"edge\">\n<title>62&#45;&gt;64</title>\n<path fill=\"none\" stroke=\"black\" d=\"M3050.14,-99.8C3050.93,-91.46 3051.78,-82.6 3052.58,-74.15\"/>\n<polygon fill=\"black\" stroke=\"black\" points=\"3056.07,-74.4 3053.54,-64.12 3049.1,-73.74 3056.07,-74.4\"/>\n</g>\n<!-- 66 -->\n<g id=\"node67\" class=\"node\">\n<title>66</title>\n<path fill=\"#f1bb94\" stroke=\"black\" d=\"M3227.5,-64C3227.5,-64 3141.5,-64 3141.5,-64 3135.5,-64 3129.5,-58 3129.5,-52 3129.5,-52 3129.5,-12 3129.5,-12 3129.5,-6 3135.5,0 3141.5,0 3141.5,0 3227.5,0 3227.5,0 3233.5,0 3239.5,-6 3239.5,-12 3239.5,-12 3239.5,-52 3239.5,-52 3239.5,-58 3233.5,-64 3227.5,-64\"/>\n<text text-anchor=\"start\" x=\"3149\" y=\"-49.8\" font-family=\"Helvetica,sans-Serif\" font-size=\"14.00\">gini = 0.432</text>\n<text text-anchor=\"start\" x=\"3143.5\" y=\"-35.8\" font-family=\"Helvetica,sans-Serif\" font-size=\"14.00\">samples = 57</text>\n<text text-anchor=\"start\" x=\"3137.5\" y=\"-21.8\" font-family=\"Helvetica,sans-Serif\" font-size=\"14.00\">value = [39, 18]</text>\n<text text-anchor=\"start\" x=\"3154\" y=\"-7.8\" font-family=\"Helvetica,sans-Serif\" font-size=\"14.00\">class = y</text>\n<text text-anchor=\"start\" x=\"3208\" y=\"-7.8\" font-family=\"Helvetica,sans-Serif\" baseline-shift=\"sub\" font-size=\"14.00\">0</text>\n</g>\n<!-- 65&#45;&gt;66 -->\n<g id=\"edge66\" class=\"edge\">\n<title>65&#45;&gt;66</title>\n<path fill=\"none\" stroke=\"black\" d=\"M3191.5,-99.8C3190.62,-91.46 3189.7,-82.6 3188.81,-74.15\"/>\n<polygon fill=\"black\" stroke=\"black\" points=\"3192.28,-73.7 3187.76,-64.12 3185.32,-74.43 3192.28,-73.7\"/>\n</g>\n<!-- 67 -->\n<g id=\"node68\" class=\"node\">\n<title>67</title>\n<path fill=\"#e58139\" stroke=\"black\" d=\"M3355.5,-64C3355.5,-64 3269.5,-64 3269.5,-64 3263.5,-64 3257.5,-58 3257.5,-52 3257.5,-52 3257.5,-12 3257.5,-12 3257.5,-6 3263.5,0 3269.5,0 3269.5,0 3355.5,0 3355.5,0 3361.5,0 3367.5,-6 3367.5,-12 3367.5,-12 3367.5,-52 3367.5,-52 3367.5,-58 3361.5,-64 3355.5,-64\"/>\n<text text-anchor=\"start\" x=\"3284.5\" y=\"-49.8\" font-family=\"Helvetica,sans-Serif\" font-size=\"14.00\">gini = 0.0</text>\n<text text-anchor=\"start\" x=\"3267.5\" y=\"-35.8\" font-family=\"Helvetica,sans-Serif\" font-size=\"14.00\">samples = 386</text>\n<text text-anchor=\"start\" x=\"3265.5\" y=\"-21.8\" font-family=\"Helvetica,sans-Serif\" font-size=\"14.00\">value = [386, 0]</text>\n<text text-anchor=\"start\" x=\"3282\" y=\"-7.8\" font-family=\"Helvetica,sans-Serif\" font-size=\"14.00\">class = y</text>\n<text text-anchor=\"start\" x=\"3336\" y=\"-7.8\" font-family=\"Helvetica,sans-Serif\" baseline-shift=\"sub\" font-size=\"14.00\">0</text>\n</g>\n<!-- 65&#45;&gt;67 -->\n<g id=\"edge67\" class=\"edge\">\n<title>65&#45;&gt;67</title>\n<path fill=\"none\" stroke=\"black\" d=\"M3238.07,-99.8C3248.59,-90.36 3259.84,-80.25 3270.34,-70.84\"/>\n<polygon fill=\"black\" stroke=\"black\" points=\"3272.72,-73.4 3277.83,-64.12 3268.05,-68.19 3272.72,-73.4\"/>\n</g>\n<!-- 69 -->\n<g id=\"node70\" class=\"node\">\n<title>69</title>\n<path fill=\"#83c2ef\" stroke=\"black\" d=\"M3703.5,-292C3703.5,-292 3595.5,-292 3595.5,-292 3589.5,-292 3583.5,-286 3583.5,-280 3583.5,-280 3583.5,-226 3583.5,-226 3583.5,-220 3589.5,-214 3595.5,-214 3595.5,-214 3703.5,-214 3703.5,-214 3709.5,-214 3715.5,-220 3715.5,-226 3715.5,-226 3715.5,-280 3715.5,-280 3715.5,-286 3709.5,-292 3703.5,-292\"/>\n<text text-anchor=\"start\" x=\"3592\" y=\"-277.8\" font-family=\"Helvetica,sans-Serif\" font-size=\"14.00\">Gate location ≤ 4.5</text>\n<text text-anchor=\"start\" x=\"3614\" y=\"-263.8\" font-family=\"Helvetica,sans-Serif\" font-size=\"14.00\">gini = 0.397</text>\n<text text-anchor=\"start\" x=\"3601\" y=\"-249.8\" font-family=\"Helvetica,sans-Serif\" font-size=\"14.00\">samples = 1438</text>\n<text text-anchor=\"start\" x=\"3591.5\" y=\"-235.8\" font-family=\"Helvetica,sans-Serif\" font-size=\"14.00\">value = [393, 1045]</text>\n<text text-anchor=\"start\" x=\"3619\" y=\"-221.8\" font-family=\"Helvetica,sans-Serif\" font-size=\"14.00\">class = y</text>\n<text text-anchor=\"start\" x=\"3673\" y=\"-221.8\" font-family=\"Helvetica,sans-Serif\" baseline-shift=\"sub\" font-size=\"14.00\">1</text>\n</g>\n<!-- 68&#45;&gt;69 -->\n<g id=\"edge69\" class=\"edge\">\n<title>68&#45;&gt;69</title>\n<path fill=\"none\" stroke=\"black\" d=\"M3649.5,-327.77C3649.5,-319.57 3649.5,-310.8 3649.5,-302.28\"/>\n<polygon fill=\"black\" stroke=\"black\" points=\"3653,-302.06 3649.5,-292.06 3646,-302.06 3653,-302.06\"/>\n</g>\n<!-- 76 -->\n<g id=\"node77\" class=\"node\">\n<title>76</title>\n<path fill=\"#eda774\" stroke=\"black\" d=\"M4108.5,-292C4108.5,-292 3910.5,-292 3910.5,-292 3904.5,-292 3898.5,-286 3898.5,-280 3898.5,-280 3898.5,-226 3898.5,-226 3898.5,-220 3904.5,-214 3910.5,-214 3910.5,-214 4108.5,-214 4108.5,-214 4114.5,-214 4120.5,-220 4120.5,-226 4120.5,-226 4120.5,-280 4120.5,-280 4120.5,-286 4114.5,-292 4108.5,-292\"/>\n<text text-anchor=\"start\" x=\"3906.5\" y=\"-277.8\" font-family=\"Helvetica,sans-Serif\" font-size=\"14.00\">Departure Delay in Minutes ≤ 13.0</text>\n<text text-anchor=\"start\" x=\"3974\" y=\"-263.8\" font-family=\"Helvetica,sans-Serif\" font-size=\"14.00\">gini = 0.354</text>\n<text text-anchor=\"start\" x=\"3964.5\" y=\"-249.8\" font-family=\"Helvetica,sans-Serif\" font-size=\"14.00\">samples = 300</text>\n<text text-anchor=\"start\" x=\"3959\" y=\"-235.8\" font-family=\"Helvetica,sans-Serif\" font-size=\"14.00\">value = [231, 69]</text>\n<text text-anchor=\"start\" x=\"3979\" y=\"-221.8\" font-family=\"Helvetica,sans-Serif\" font-size=\"14.00\">class = y</text>\n<text text-anchor=\"start\" x=\"4033\" y=\"-221.8\" font-family=\"Helvetica,sans-Serif\" baseline-shift=\"sub\" font-size=\"14.00\">0</text>\n</g>\n<!-- 68&#45;&gt;76 -->\n<g id=\"edge76\" class=\"edge\">\n<title>68&#45;&gt;76</title>\n<path fill=\"none\" stroke=\"black\" d=\"M3725.41,-342.38C3772.7,-327.67 3834.59,-308.42 3888.53,-291.64\"/>\n<polygon fill=\"black\" stroke=\"black\" points=\"3889.65,-294.95 3898.15,-288.64 3887.57,-288.27 3889.65,-294.95\"/>\n</g>\n<!-- 70 -->\n<g id=\"node71\" class=\"node\">\n<title>70</title>\n<path fill=\"#60b1ea\" stroke=\"black\" d=\"M3633,-178C3633,-178 3520,-178 3520,-178 3514,-178 3508,-172 3508,-166 3508,-166 3508,-112 3508,-112 3508,-106 3514,-100 3520,-100 3520,-100 3633,-100 3633,-100 3639,-100 3645,-106 3645,-112 3645,-112 3645,-166 3645,-166 3645,-172 3639,-178 3633,-178\"/>\n<text text-anchor=\"start\" x=\"3516\" y=\"-163.8\" font-family=\"Helvetica,sans-Serif\" font-size=\"14.00\">Inflight service ≤ 4.5</text>\n<text text-anchor=\"start\" x=\"3541\" y=\"-149.8\" font-family=\"Helvetica,sans-Serif\" font-size=\"14.00\">gini = 0.277</text>\n<text text-anchor=\"start\" x=\"3528\" y=\"-135.8\" font-family=\"Helvetica,sans-Serif\" font-size=\"14.00\">samples = 1144</text>\n<text text-anchor=\"start\" x=\"3522\" y=\"-121.8\" font-family=\"Helvetica,sans-Serif\" font-size=\"14.00\">value = [190, 954]</text>\n<text text-anchor=\"start\" x=\"3546\" y=\"-107.8\" font-family=\"Helvetica,sans-Serif\" font-size=\"14.00\">class = y</text>\n<text text-anchor=\"start\" x=\"3600\" y=\"-107.8\" font-family=\"Helvetica,sans-Serif\" baseline-shift=\"sub\" font-size=\"14.00\">1</text>\n</g>\n<!-- 69&#45;&gt;70 -->\n<g id=\"edge70\" class=\"edge\">\n<title>69&#45;&gt;70</title>\n<path fill=\"none\" stroke=\"black\" d=\"M3624.58,-213.77C3618.89,-205.03 3612.77,-195.64 3606.87,-186.6\"/>\n<polygon fill=\"black\" stroke=\"black\" points=\"3609.7,-184.52 3601.31,-178.06 3603.83,-188.35 3609.7,-184.52\"/>\n</g>\n<!-- 73 -->\n<g id=\"node74\" class=\"node\">\n<title>73</title>\n<path fill=\"#f1b992\" stroke=\"black\" d=\"M3768,-178C3768,-178 3675,-178 3675,-178 3669,-178 3663,-172 3663,-166 3663,-166 3663,-112 3663,-112 3663,-106 3669,-100 3675,-100 3675,-100 3768,-100 3768,-100 3774,-100 3780,-106 3780,-112 3780,-112 3780,-166 3780,-166 3780,-172 3774,-178 3768,-178\"/>\n<text text-anchor=\"start\" x=\"3680\" y=\"-163.8\" font-family=\"Helvetica,sans-Serif\" font-size=\"14.00\">Class_2 ≤ 0.5</text>\n<text text-anchor=\"start\" x=\"3686\" y=\"-149.8\" font-family=\"Helvetica,sans-Serif\" font-size=\"14.00\">gini = 0.427</text>\n<text text-anchor=\"start\" x=\"3676.5\" y=\"-135.8\" font-family=\"Helvetica,sans-Serif\" font-size=\"14.00\">samples = 294</text>\n<text text-anchor=\"start\" x=\"3671\" y=\"-121.8\" font-family=\"Helvetica,sans-Serif\" font-size=\"14.00\">value = [203, 91]</text>\n<text text-anchor=\"start\" x=\"3691\" y=\"-107.8\" font-family=\"Helvetica,sans-Serif\" font-size=\"14.00\">class = y</text>\n<text text-anchor=\"start\" x=\"3745\" y=\"-107.8\" font-family=\"Helvetica,sans-Serif\" baseline-shift=\"sub\" font-size=\"14.00\">0</text>\n</g>\n<!-- 69&#45;&gt;73 -->\n<g id=\"edge73\" class=\"edge\">\n<title>69&#45;&gt;73</title>\n<path fill=\"none\" stroke=\"black\" d=\"M3674.08,-213.77C3679.7,-205.03 3685.73,-195.64 3691.54,-186.6\"/>\n<polygon fill=\"black\" stroke=\"black\" points=\"3694.57,-188.36 3697.03,-178.06 3688.68,-184.58 3694.57,-188.36\"/>\n</g>\n<!-- 71 -->\n<g id=\"node72\" class=\"node\">\n<title>71</title>\n<path fill=\"#79bded\" stroke=\"black\" d=\"M3499,-64C3499,-64 3398,-64 3398,-64 3392,-64 3386,-58 3386,-52 3386,-52 3386,-12 3386,-12 3386,-6 3392,0 3398,0 3398,0 3499,0 3499,0 3505,0 3511,-6 3511,-12 3511,-12 3511,-52 3511,-52 3511,-58 3505,-64 3499,-64\"/>\n<text text-anchor=\"start\" x=\"3413\" y=\"-49.8\" font-family=\"Helvetica,sans-Serif\" font-size=\"14.00\">gini = 0.368</text>\n<text text-anchor=\"start\" x=\"3403.5\" y=\"-35.8\" font-family=\"Helvetica,sans-Serif\" font-size=\"14.00\">samples = 768</text>\n<text text-anchor=\"start\" x=\"3394\" y=\"-21.8\" font-family=\"Helvetica,sans-Serif\" font-size=\"14.00\">value = [187, 581]</text>\n<text text-anchor=\"start\" x=\"3418\" y=\"-7.8\" font-family=\"Helvetica,sans-Serif\" font-size=\"14.00\">class = y</text>\n<text text-anchor=\"start\" x=\"3472\" y=\"-7.8\" font-family=\"Helvetica,sans-Serif\" baseline-shift=\"sub\" font-size=\"14.00\">1</text>\n</g>\n<!-- 70&#45;&gt;71 -->\n<g id=\"edge71\" class=\"edge\">\n<title>70&#45;&gt;71</title>\n<path fill=\"none\" stroke=\"black\" d=\"M3529.93,-99.8C3518.31,-90.27 3505.87,-80.06 3494.29,-70.56\"/>\n<polygon fill=\"black\" stroke=\"black\" points=\"3496.38,-67.75 3486.43,-64.12 3491.95,-73.17 3496.38,-67.75\"/>\n</g>\n<!-- 72 -->\n<g id=\"node73\" class=\"node\">\n<title>72</title>\n<path fill=\"#3b9ee5\" stroke=\"black\" d=\"M3627.5,-64C3627.5,-64 3541.5,-64 3541.5,-64 3535.5,-64 3529.5,-58 3529.5,-52 3529.5,-52 3529.5,-12 3529.5,-12 3529.5,-6 3535.5,0 3541.5,0 3541.5,0 3627.5,0 3627.5,0 3633.5,0 3639.5,-6 3639.5,-12 3639.5,-12 3639.5,-52 3639.5,-52 3639.5,-58 3633.5,-64 3627.5,-64\"/>\n<text text-anchor=\"start\" x=\"3549\" y=\"-49.8\" font-family=\"Helvetica,sans-Serif\" font-size=\"14.00\">gini = 0.016</text>\n<text text-anchor=\"start\" x=\"3539.5\" y=\"-35.8\" font-family=\"Helvetica,sans-Serif\" font-size=\"14.00\">samples = 376</text>\n<text text-anchor=\"start\" x=\"3537.5\" y=\"-21.8\" font-family=\"Helvetica,sans-Serif\" font-size=\"14.00\">value = [3, 373]</text>\n<text text-anchor=\"start\" x=\"3554\" y=\"-7.8\" font-family=\"Helvetica,sans-Serif\" font-size=\"14.00\">class = y</text>\n<text text-anchor=\"start\" x=\"3608\" y=\"-7.8\" font-family=\"Helvetica,sans-Serif\" baseline-shift=\"sub\" font-size=\"14.00\">1</text>\n</g>\n<!-- 70&#45;&gt;72 -->\n<g id=\"edge72\" class=\"edge\">\n<title>70&#45;&gt;72</title>\n<path fill=\"none\" stroke=\"black\" d=\"M3579.41,-99.8C3580.05,-91.46 3580.72,-82.6 3581.36,-74.15\"/>\n<polygon fill=\"black\" stroke=\"black\" points=\"3584.86,-74.35 3582.13,-64.12 3577.88,-73.82 3584.86,-74.35\"/>\n</g>\n<!-- 74 -->\n<g id=\"node75\" class=\"node\">\n<title>74</title>\n<path fill=\"#e6f3fc\" stroke=\"black\" d=\"M3755.5,-64C3755.5,-64 3669.5,-64 3669.5,-64 3663.5,-64 3657.5,-58 3657.5,-52 3657.5,-52 3657.5,-12 3657.5,-12 3657.5,-6 3663.5,0 3669.5,0 3669.5,0 3755.5,0 3755.5,0 3761.5,0 3767.5,-6 3767.5,-12 3767.5,-12 3767.5,-52 3767.5,-52 3767.5,-58 3761.5,-64 3755.5,-64\"/>\n<text text-anchor=\"start\" x=\"3677\" y=\"-49.8\" font-family=\"Helvetica,sans-Serif\" font-size=\"14.00\">gini = 0.498</text>\n<text text-anchor=\"start\" x=\"3667.5\" y=\"-35.8\" font-family=\"Helvetica,sans-Serif\" font-size=\"14.00\">samples = 148</text>\n<text text-anchor=\"start\" x=\"3665.5\" y=\"-21.8\" font-family=\"Helvetica,sans-Serif\" font-size=\"14.00\">value = [69, 79]</text>\n<text text-anchor=\"start\" x=\"3682\" y=\"-7.8\" font-family=\"Helvetica,sans-Serif\" font-size=\"14.00\">class = y</text>\n<text text-anchor=\"start\" x=\"3736\" y=\"-7.8\" font-family=\"Helvetica,sans-Serif\" baseline-shift=\"sub\" font-size=\"14.00\">1</text>\n</g>\n<!-- 73&#45;&gt;74 -->\n<g id=\"edge74\" class=\"edge\">\n<title>73&#45;&gt;74</title>\n<path fill=\"none\" stroke=\"black\" d=\"M3718.23,-99.8C3717.51,-91.46 3716.75,-82.6 3716.03,-74.15\"/>\n<polygon fill=\"black\" stroke=\"black\" points=\"3719.51,-73.78 3715.17,-64.12 3712.53,-74.38 3719.51,-73.78\"/>\n</g>\n<!-- 75 -->\n<g id=\"node76\" class=\"node\">\n<title>75</title>\n<path fill=\"#e78c4b\" stroke=\"black\" d=\"M3891,-64C3891,-64 3798,-64 3798,-64 3792,-64 3786,-58 3786,-52 3786,-52 3786,-12 3786,-12 3786,-6 3792,0 3798,0 3798,0 3891,0 3891,0 3897,0 3903,-6 3903,-12 3903,-12 3903,-52 3903,-52 3903,-58 3897,-64 3891,-64\"/>\n<text text-anchor=\"start\" x=\"3809\" y=\"-49.8\" font-family=\"Helvetica,sans-Serif\" font-size=\"14.00\">gini = 0.151</text>\n<text text-anchor=\"start\" x=\"3799.5\" y=\"-35.8\" font-family=\"Helvetica,sans-Serif\" font-size=\"14.00\">samples = 146</text>\n<text text-anchor=\"start\" x=\"3794\" y=\"-21.8\" font-family=\"Helvetica,sans-Serif\" font-size=\"14.00\">value = [134, 12]</text>\n<text text-anchor=\"start\" x=\"3814\" y=\"-7.8\" font-family=\"Helvetica,sans-Serif\" font-size=\"14.00\">class = y</text>\n<text text-anchor=\"start\" x=\"3868\" y=\"-7.8\" font-family=\"Helvetica,sans-Serif\" baseline-shift=\"sub\" font-size=\"14.00\">0</text>\n</g>\n<!-- 73&#45;&gt;75 -->\n<g id=\"edge75\" class=\"edge\">\n<title>73&#45;&gt;75</title>\n<path fill=\"none\" stroke=\"black\" d=\"M3766.25,-99.8C3777.31,-90.36 3789.14,-80.25 3800.18,-70.84\"/>\n<polygon fill=\"black\" stroke=\"black\" points=\"3802.72,-73.27 3808.05,-64.12 3798.17,-67.95 3802.72,-73.27\"/>\n</g>\n<!-- 77 -->\n<g id=\"node78\" class=\"node\">\n<title>77</title>\n<path fill=\"#efb083\" stroke=\"black\" d=\"M4078.5,-178C4078.5,-178 3940.5,-178 3940.5,-178 3934.5,-178 3928.5,-172 3928.5,-166 3928.5,-166 3928.5,-112 3928.5,-112 3928.5,-106 3934.5,-100 3940.5,-100 3940.5,-100 4078.5,-100 4078.5,-100 4084.5,-100 4090.5,-106 4090.5,-112 4090.5,-112 4090.5,-166 4090.5,-166 4090.5,-172 4084.5,-178 4078.5,-178\"/>\n<text text-anchor=\"start\" x=\"3936.5\" y=\"-163.8\" font-family=\"Helvetica,sans-Serif\" font-size=\"14.00\">Flight Distance ≤ 1456.5</text>\n<text text-anchor=\"start\" x=\"3974\" y=\"-149.8\" font-family=\"Helvetica,sans-Serif\" font-size=\"14.00\">gini = 0.396</text>\n<text text-anchor=\"start\" x=\"3964.5\" y=\"-135.8\" font-family=\"Helvetica,sans-Serif\" font-size=\"14.00\">samples = 235</text>\n<text text-anchor=\"start\" x=\"3959\" y=\"-121.8\" font-family=\"Helvetica,sans-Serif\" font-size=\"14.00\">value = [171, 64]</text>\n<text text-anchor=\"start\" x=\"3979\" y=\"-107.8\" font-family=\"Helvetica,sans-Serif\" font-size=\"14.00\">class = y</text>\n<text text-anchor=\"start\" x=\"4033\" y=\"-107.8\" font-family=\"Helvetica,sans-Serif\" baseline-shift=\"sub\" font-size=\"14.00\">0</text>\n</g>\n<!-- 76&#45;&gt;77 -->\n<g id=\"edge77\" class=\"edge\">\n<title>76&#45;&gt;77</title>\n<path fill=\"none\" stroke=\"black\" d=\"M4009.5,-213.77C4009.5,-205.57 4009.5,-196.8 4009.5,-188.28\"/>\n<polygon fill=\"black\" stroke=\"black\" points=\"4013,-188.06 4009.5,-178.06 4006,-188.06 4013,-188.06\"/>\n</g>\n<!-- 80 -->\n<g id=\"node81\" class=\"node\">\n<title>80</title>\n<path fill=\"#e78c49\" stroke=\"black\" d=\"M4304,-178C4304,-178 4151,-178 4151,-178 4145,-178 4139,-172 4139,-166 4139,-166 4139,-112 4139,-112 4139,-106 4145,-100 4151,-100 4151,-100 4304,-100 4304,-100 4310,-100 4316,-106 4316,-112 4316,-112 4316,-166 4316,-166 4316,-172 4310,-178 4304,-178\"/>\n<text text-anchor=\"start\" x=\"4147\" y=\"-163.8\" font-family=\"Helvetica,sans-Serif\" font-size=\"14.00\">Inflight entertainment ≤ 2.5</text>\n<text text-anchor=\"start\" x=\"4192\" y=\"-149.8\" font-family=\"Helvetica,sans-Serif\" font-size=\"14.00\">gini = 0.142</text>\n<text text-anchor=\"start\" x=\"4186.5\" y=\"-135.8\" font-family=\"Helvetica,sans-Serif\" font-size=\"14.00\">samples = 65</text>\n<text text-anchor=\"start\" x=\"4184.5\" y=\"-121.8\" font-family=\"Helvetica,sans-Serif\" font-size=\"14.00\">value = [60, 5]</text>\n<text text-anchor=\"start\" x=\"4197\" y=\"-107.8\" font-family=\"Helvetica,sans-Serif\" font-size=\"14.00\">class = y</text>\n<text text-anchor=\"start\" x=\"4251\" y=\"-107.8\" font-family=\"Helvetica,sans-Serif\" baseline-shift=\"sub\" font-size=\"14.00\">0</text>\n</g>\n<!-- 76&#45;&gt;80 -->\n<g id=\"edge80\" class=\"edge\">\n<title>76&#45;&gt;80</title>\n<path fill=\"none\" stroke=\"black\" d=\"M4083.61,-213.93C4103.09,-203.92 4124.23,-193.05 4144.16,-182.81\"/>\n<polygon fill=\"black\" stroke=\"black\" points=\"4145.93,-185.84 4153.23,-178.16 4142.73,-179.62 4145.93,-185.84\"/>\n</g>\n<!-- 78 -->\n<g id=\"node79\" class=\"node\">\n<title>78</title>\n<path fill=\"#f1ba93\" stroke=\"black\" d=\"M4026,-64C4026,-64 3933,-64 3933,-64 3927,-64 3921,-58 3921,-52 3921,-52 3921,-12 3921,-12 3921,-6 3927,0 3933,0 3933,0 4026,0 4026,0 4032,0 4038,-6 4038,-12 4038,-12 4038,-52 4038,-52 4038,-58 4032,-64 4026,-64\"/>\n<text text-anchor=\"start\" x=\"3944\" y=\"-49.8\" font-family=\"Helvetica,sans-Serif\" font-size=\"14.00\">gini = 0.429</text>\n<text text-anchor=\"start\" x=\"3934.5\" y=\"-35.8\" font-family=\"Helvetica,sans-Serif\" font-size=\"14.00\">samples = 186</text>\n<text text-anchor=\"start\" x=\"3929\" y=\"-21.8\" font-family=\"Helvetica,sans-Serif\" font-size=\"14.00\">value = [128, 58]</text>\n<text text-anchor=\"start\" x=\"3949\" y=\"-7.8\" font-family=\"Helvetica,sans-Serif\" font-size=\"14.00\">class = y</text>\n<text text-anchor=\"start\" x=\"4003\" y=\"-7.8\" font-family=\"Helvetica,sans-Serif\" baseline-shift=\"sub\" font-size=\"14.00\">0</text>\n</g>\n<!-- 77&#45;&gt;78 -->\n<g id=\"edge78\" class=\"edge\">\n<title>77&#45;&gt;78</title>\n<path fill=\"none\" stroke=\"black\" d=\"M3998.58,-99.8C3996.18,-91.37 3993.62,-82.41 3991.18,-73.88\"/>\n<polygon fill=\"black\" stroke=\"black\" points=\"3994.5,-72.77 3988.39,-64.12 3987.77,-74.69 3994.5,-72.77\"/>\n</g>\n<!-- 79 -->\n<g id=\"node80\" class=\"node\">\n<title>79</title>\n<path fill=\"#e99355\" stroke=\"black\" d=\"M4146.5,-64C4146.5,-64 4068.5,-64 4068.5,-64 4062.5,-64 4056.5,-58 4056.5,-52 4056.5,-52 4056.5,-12 4056.5,-12 4056.5,-6 4062.5,0 4068.5,0 4068.5,0 4146.5,0 4146.5,0 4152.5,0 4158.5,-6 4158.5,-12 4158.5,-12 4158.5,-52 4158.5,-52 4158.5,-58 4152.5,-64 4146.5,-64\"/>\n<text text-anchor=\"start\" x=\"4072\" y=\"-49.8\" font-family=\"Helvetica,sans-Serif\" font-size=\"14.00\">gini = 0.215</text>\n<text text-anchor=\"start\" x=\"4066.5\" y=\"-35.8\" font-family=\"Helvetica,sans-Serif\" font-size=\"14.00\">samples = 49</text>\n<text text-anchor=\"start\" x=\"4064.5\" y=\"-21.8\" font-family=\"Helvetica,sans-Serif\" font-size=\"14.00\">value = [43, 6]</text>\n<text text-anchor=\"start\" x=\"4077\" y=\"-7.8\" font-family=\"Helvetica,sans-Serif\" font-size=\"14.00\">class = y</text>\n<text text-anchor=\"start\" x=\"4131\" y=\"-7.8\" font-family=\"Helvetica,sans-Serif\" baseline-shift=\"sub\" font-size=\"14.00\">0</text>\n</g>\n<!-- 77&#45;&gt;79 -->\n<g id=\"edge79\" class=\"edge\">\n<title>77&#45;&gt;79</title>\n<path fill=\"none\" stroke=\"black\" d=\"M4045.16,-99.8C4053.71,-90.63 4062.85,-80.84 4071.42,-71.66\"/>\n<polygon fill=\"black\" stroke=\"black\" points=\"4074.19,-73.82 4078.46,-64.12 4069.08,-69.04 4074.19,-73.82\"/>\n</g>\n<!-- 81 -->\n<g id=\"node82\" class=\"node\">\n<title>81</title>\n<path fill=\"#eca06a\" stroke=\"black\" d=\"M4266.5,-64C4266.5,-64 4188.5,-64 4188.5,-64 4182.5,-64 4176.5,-58 4176.5,-52 4176.5,-52 4176.5,-12 4176.5,-12 4176.5,-6 4182.5,0 4188.5,0 4188.5,0 4266.5,0 4266.5,0 4272.5,0 4278.5,-6 4278.5,-12 4278.5,-12 4278.5,-52 4278.5,-52 4278.5,-58 4272.5,-64 4266.5,-64\"/>\n<text text-anchor=\"start\" x=\"4195.5\" y=\"-49.8\" font-family=\"Helvetica,sans-Serif\" font-size=\"14.00\">gini = 0.32</text>\n<text text-anchor=\"start\" x=\"4186.5\" y=\"-35.8\" font-family=\"Helvetica,sans-Serif\" font-size=\"14.00\">samples = 20</text>\n<text text-anchor=\"start\" x=\"4184.5\" y=\"-21.8\" font-family=\"Helvetica,sans-Serif\" font-size=\"14.00\">value = [16, 4]</text>\n<text text-anchor=\"start\" x=\"4197\" y=\"-7.8\" font-family=\"Helvetica,sans-Serif\" font-size=\"14.00\">class = y</text>\n<text text-anchor=\"start\" x=\"4251\" y=\"-7.8\" font-family=\"Helvetica,sans-Serif\" baseline-shift=\"sub\" font-size=\"14.00\">0</text>\n</g>\n<!-- 80&#45;&gt;81 -->\n<g id=\"edge81\" class=\"edge\">\n<title>80&#45;&gt;81</title>\n<path fill=\"none\" stroke=\"black\" d=\"M4227.5,-99.8C4227.5,-91.46 4227.5,-82.6 4227.5,-74.15\"/>\n<polygon fill=\"black\" stroke=\"black\" points=\"4231,-74.12 4227.5,-64.12 4224,-74.12 4231,-74.12\"/>\n</g>\n<!-- 82 -->\n<g id=\"node83\" class=\"node\">\n<title>82</title>\n<path fill=\"#e6843d\" stroke=\"black\" d=\"M4386.5,-64C4386.5,-64 4308.5,-64 4308.5,-64 4302.5,-64 4296.5,-58 4296.5,-52 4296.5,-52 4296.5,-12 4296.5,-12 4296.5,-6 4302.5,0 4308.5,0 4308.5,0 4386.5,0 4386.5,0 4392.5,0 4398.5,-6 4398.5,-12 4398.5,-12 4398.5,-52 4398.5,-52 4398.5,-58 4392.5,-64 4386.5,-64\"/>\n<text text-anchor=\"start\" x=\"4312\" y=\"-49.8\" font-family=\"Helvetica,sans-Serif\" font-size=\"14.00\">gini = 0.043</text>\n<text text-anchor=\"start\" x=\"4306.5\" y=\"-35.8\" font-family=\"Helvetica,sans-Serif\" font-size=\"14.00\">samples = 45</text>\n<text text-anchor=\"start\" x=\"4304.5\" y=\"-21.8\" font-family=\"Helvetica,sans-Serif\" font-size=\"14.00\">value = [44, 1]</text>\n<text text-anchor=\"start\" x=\"4317\" y=\"-7.8\" font-family=\"Helvetica,sans-Serif\" font-size=\"14.00\">class = y</text>\n<text text-anchor=\"start\" x=\"4371\" y=\"-7.8\" font-family=\"Helvetica,sans-Serif\" baseline-shift=\"sub\" font-size=\"14.00\">0</text>\n</g>\n<!-- 80&#45;&gt;82 -->\n<g id=\"edge82\" class=\"edge\">\n<title>80&#45;&gt;82</title>\n<path fill=\"none\" stroke=\"black\" d=\"M4271.16,-99.8C4281.95,-90.36 4293.49,-80.25 4304.26,-70.84\"/>\n<polygon fill=\"black\" stroke=\"black\" points=\"4306.72,-73.34 4311.94,-64.12 4302.11,-68.07 4306.72,-73.34\"/>\n</g>\n<!-- 84 -->\n<g id=\"node85\" class=\"node\">\n<title>84</title>\n<path fill=\"#45a3e7\" stroke=\"black\" d=\"M4527,-406C4527,-406 4396,-406 4396,-406 4390,-406 4384,-400 4384,-394 4384,-394 4384,-340 4384,-340 4384,-334 4390,-328 4396,-328 4396,-328 4527,-328 4527,-328 4533,-328 4539,-334 4539,-340 4539,-340 4539,-394 4539,-394 4539,-400 4533,-406 4527,-406\"/>\n<text text-anchor=\"start\" x=\"4392\" y=\"-391.8\" font-family=\"Helvetica,sans-Serif\" font-size=\"14.00\">Leg room service ≤ 4.5</text>\n<text text-anchor=\"start\" x=\"4426\" y=\"-377.8\" font-family=\"Helvetica,sans-Serif\" font-size=\"14.00\">gini = 0.111</text>\n<text text-anchor=\"start\" x=\"4416.5\" y=\"-363.8\" font-family=\"Helvetica,sans-Serif\" font-size=\"14.00\">samples = 527</text>\n<text text-anchor=\"start\" x=\"4411\" y=\"-349.8\" font-family=\"Helvetica,sans-Serif\" font-size=\"14.00\">value = [31, 496]</text>\n<text text-anchor=\"start\" x=\"4431\" y=\"-335.8\" font-family=\"Helvetica,sans-Serif\" font-size=\"14.00\">class = y</text>\n<text text-anchor=\"start\" x=\"4485\" y=\"-335.8\" font-family=\"Helvetica,sans-Serif\" baseline-shift=\"sub\" font-size=\"14.00\">1</text>\n</g>\n<!-- 83&#45;&gt;84 -->\n<g id=\"edge84\" class=\"edge\">\n<title>83&#45;&gt;84</title>\n<path fill=\"none\" stroke=\"black\" d=\"M4461.5,-441.77C4461.5,-433.57 4461.5,-424.8 4461.5,-416.28\"/>\n<polygon fill=\"black\" stroke=\"black\" points=\"4465,-416.06 4461.5,-406.06 4458,-416.06 4465,-416.06\"/>\n</g>\n<!-- 91 -->\n<g id=\"node92\" class=\"node\">\n<title>91</title>\n<path fill=\"#3a9de5\" stroke=\"black\" d=\"M4775,-406C4775,-406 4622,-406 4622,-406 4616,-406 4610,-400 4610,-394 4610,-394 4610,-340 4610,-340 4610,-334 4616,-328 4622,-328 4622,-328 4775,-328 4775,-328 4781,-328 4787,-334 4787,-340 4787,-340 4787,-394 4787,-394 4787,-400 4781,-406 4775,-406\"/>\n<text text-anchor=\"start\" x=\"4618\" y=\"-391.8\" font-family=\"Helvetica,sans-Serif\" font-size=\"14.00\">Inflight entertainment ≤ 4.5</text>\n<text text-anchor=\"start\" x=\"4663\" y=\"-377.8\" font-family=\"Helvetica,sans-Serif\" font-size=\"14.00\">gini = 0.006</text>\n<text text-anchor=\"start\" x=\"4653.5\" y=\"-363.8\" font-family=\"Helvetica,sans-Serif\" font-size=\"14.00\">samples = 932</text>\n<text text-anchor=\"start\" x=\"4651.5\" y=\"-349.8\" font-family=\"Helvetica,sans-Serif\" font-size=\"14.00\">value = [3, 929]</text>\n<text text-anchor=\"start\" x=\"4668\" y=\"-335.8\" font-family=\"Helvetica,sans-Serif\" font-size=\"14.00\">class = y</text>\n<text text-anchor=\"start\" x=\"4722\" y=\"-335.8\" font-family=\"Helvetica,sans-Serif\" baseline-shift=\"sub\" font-size=\"14.00\">1</text>\n</g>\n<!-- 83&#45;&gt;91 -->\n<g id=\"edge91\" class=\"edge\">\n<title>83&#45;&gt;91</title>\n<path fill=\"none\" stroke=\"black\" d=\"M4542.07,-441.93C4563.44,-431.83 4586.65,-420.86 4608.49,-410.54\"/>\n<polygon fill=\"black\" stroke=\"black\" points=\"4610.21,-413.6 4617.75,-406.16 4607.22,-407.27 4610.21,-413.6\"/>\n</g>\n<!-- 85 -->\n<g id=\"node86\" class=\"node\">\n<title>85</title>\n<path fill=\"#66b4eb\" stroke=\"black\" d=\"M4485,-292C4485,-292 4332,-292 4332,-292 4326,-292 4320,-286 4320,-280 4320,-280 4320,-226 4320,-226 4320,-220 4326,-214 4332,-214 4332,-214 4485,-214 4485,-214 4491,-214 4497,-220 4497,-226 4497,-226 4497,-280 4497,-280 4497,-286 4491,-292 4485,-292\"/>\n<text text-anchor=\"start\" x=\"4328\" y=\"-277.8\" font-family=\"Helvetica,sans-Serif\" font-size=\"14.00\">Inflight entertainment ≤ 4.5</text>\n<text text-anchor=\"start\" x=\"4373\" y=\"-263.8\" font-family=\"Helvetica,sans-Serif\" font-size=\"14.00\">gini = 0.304</text>\n<text text-anchor=\"start\" x=\"4363.5\" y=\"-249.8\" font-family=\"Helvetica,sans-Serif\" font-size=\"14.00\">samples = 166</text>\n<text text-anchor=\"start\" x=\"4358\" y=\"-235.8\" font-family=\"Helvetica,sans-Serif\" font-size=\"14.00\">value = [31, 135]</text>\n<text text-anchor=\"start\" x=\"4378\" y=\"-221.8\" font-family=\"Helvetica,sans-Serif\" font-size=\"14.00\">class = y</text>\n<text text-anchor=\"start\" x=\"4432\" y=\"-221.8\" font-family=\"Helvetica,sans-Serif\" baseline-shift=\"sub\" font-size=\"14.00\">1</text>\n</g>\n<!-- 84&#45;&gt;85 -->\n<g id=\"edge85\" class=\"edge\">\n<title>84&#45;&gt;85</title>\n<path fill=\"none\" stroke=\"black\" d=\"M4443.41,-327.77C4439.36,-319.21 4435.01,-310.03 4430.82,-301.16\"/>\n<polygon fill=\"black\" stroke=\"black\" points=\"4433.95,-299.6 4426.51,-292.06 4427.62,-302.59 4433.95,-299.6\"/>\n</g>\n<!-- 90 -->\n<g id=\"node91\" class=\"node\">\n<title>90</title>\n<path fill=\"#399de5\" stroke=\"black\" d=\"M4613.5,-285C4613.5,-285 4527.5,-285 4527.5,-285 4521.5,-285 4515.5,-279 4515.5,-273 4515.5,-273 4515.5,-233 4515.5,-233 4515.5,-227 4521.5,-221 4527.5,-221 4527.5,-221 4613.5,-221 4613.5,-221 4619.5,-221 4625.5,-227 4625.5,-233 4625.5,-233 4625.5,-273 4625.5,-273 4625.5,-279 4619.5,-285 4613.5,-285\"/>\n<text text-anchor=\"start\" x=\"4542.5\" y=\"-270.8\" font-family=\"Helvetica,sans-Serif\" font-size=\"14.00\">gini = 0.0</text>\n<text text-anchor=\"start\" x=\"4525.5\" y=\"-256.8\" font-family=\"Helvetica,sans-Serif\" font-size=\"14.00\">samples = 361</text>\n<text text-anchor=\"start\" x=\"4523.5\" y=\"-242.8\" font-family=\"Helvetica,sans-Serif\" font-size=\"14.00\">value = [0, 361]</text>\n<text text-anchor=\"start\" x=\"4540\" y=\"-228.8\" font-family=\"Helvetica,sans-Serif\" font-size=\"14.00\">class = y</text>\n<text text-anchor=\"start\" x=\"4594\" y=\"-228.8\" font-family=\"Helvetica,sans-Serif\" baseline-shift=\"sub\" font-size=\"14.00\">1</text>\n</g>\n<!-- 84&#45;&gt;90 -->\n<g id=\"edge90\" class=\"edge\">\n<title>84&#45;&gt;90</title>\n<path fill=\"none\" stroke=\"black\" d=\"M4498.71,-327.77C4509.84,-316.33 4522.04,-303.79 4533.18,-292.35\"/>\n<polygon fill=\"black\" stroke=\"black\" points=\"4535.85,-294.62 4540.32,-285.01 4530.84,-289.74 4535.85,-294.62\"/>\n</g>\n<!-- 86 -->\n<g id=\"node87\" class=\"node\">\n<title>86</title>\n<path fill=\"#40a0e6\" stroke=\"black\" d=\"M4491,-178C4491,-178 4378,-178 4378,-178 4372,-178 4366,-172 4366,-166 4366,-166 4366,-112 4366,-112 4366,-106 4372,-100 4378,-100 4378,-100 4491,-100 4491,-100 4497,-100 4503,-106 4503,-112 4503,-112 4503,-166 4503,-166 4503,-172 4497,-178 4491,-178\"/>\n<text text-anchor=\"start\" x=\"4374\" y=\"-163.8\" font-family=\"Helvetica,sans-Serif\" font-size=\"14.00\">Inflight service ≤ 2.5</text>\n<text text-anchor=\"start\" x=\"4399\" y=\"-149.8\" font-family=\"Helvetica,sans-Serif\" font-size=\"14.00\">gini = 0.065</text>\n<text text-anchor=\"start\" x=\"4389.5\" y=\"-135.8\" font-family=\"Helvetica,sans-Serif\" font-size=\"14.00\">samples = 119</text>\n<text text-anchor=\"start\" x=\"4387.5\" y=\"-121.8\" font-family=\"Helvetica,sans-Serif\" font-size=\"14.00\">value = [4, 115]</text>\n<text text-anchor=\"start\" x=\"4404\" y=\"-107.8\" font-family=\"Helvetica,sans-Serif\" font-size=\"14.00\">class = y</text>\n<text text-anchor=\"start\" x=\"4458\" y=\"-107.8\" font-family=\"Helvetica,sans-Serif\" baseline-shift=\"sub\" font-size=\"14.00\">1</text>\n</g>\n<!-- 85&#45;&gt;86 -->\n<g id=\"edge86\" class=\"edge\">\n<title>85&#45;&gt;86</title>\n<path fill=\"none\" stroke=\"black\" d=\"M4417.38,-213.77C4419.3,-205.48 4421.36,-196.61 4423.36,-188\"/>\n<polygon fill=\"black\" stroke=\"black\" points=\"4426.81,-188.59 4425.66,-178.06 4419.99,-187.01 4426.81,-188.59\"/>\n</g>\n<!-- 89 -->\n<g id=\"node90\" class=\"node\">\n<title>89</title>\n<path fill=\"#f8decc\" stroke=\"black\" d=\"M4619.5,-171C4619.5,-171 4533.5,-171 4533.5,-171 4527.5,-171 4521.5,-165 4521.5,-159 4521.5,-159 4521.5,-119 4521.5,-119 4521.5,-113 4527.5,-107 4533.5,-107 4533.5,-107 4619.5,-107 4619.5,-107 4625.5,-107 4631.5,-113 4631.5,-119 4631.5,-119 4631.5,-159 4631.5,-159 4631.5,-165 4625.5,-171 4619.5,-171\"/>\n<text text-anchor=\"start\" x=\"4541\" y=\"-156.8\" font-family=\"Helvetica,sans-Serif\" font-size=\"14.00\">gini = 0.489</text>\n<text text-anchor=\"start\" x=\"4535.5\" y=\"-142.8\" font-family=\"Helvetica,sans-Serif\" font-size=\"14.00\">samples = 47</text>\n<text text-anchor=\"start\" x=\"4529.5\" y=\"-128.8\" font-family=\"Helvetica,sans-Serif\" font-size=\"14.00\">value = [27, 20]</text>\n<text text-anchor=\"start\" x=\"4546\" y=\"-114.8\" font-family=\"Helvetica,sans-Serif\" font-size=\"14.00\">class = y</text>\n<text text-anchor=\"start\" x=\"4600\" y=\"-114.8\" font-family=\"Helvetica,sans-Serif\" baseline-shift=\"sub\" font-size=\"14.00\">0</text>\n</g>\n<!-- 85&#45;&gt;89 -->\n<g id=\"edge89\" class=\"edge\">\n<title>85&#45;&gt;89</title>\n<path fill=\"none\" stroke=\"black\" d=\"M4465.85,-213.77C4483.82,-201.79 4503.6,-188.6 4521.42,-176.72\"/>\n<polygon fill=\"black\" stroke=\"black\" points=\"4523.61,-179.47 4529.98,-171.01 4519.72,-173.64 4523.61,-179.47\"/>\n</g>\n<!-- 87 -->\n<g id=\"node88\" class=\"node\">\n<title>87</title>\n<path fill=\"#5caeea\" stroke=\"black\" d=\"M4506.5,-64C4506.5,-64 4428.5,-64 4428.5,-64 4422.5,-64 4416.5,-58 4416.5,-52 4416.5,-52 4416.5,-12 4416.5,-12 4416.5,-6 4422.5,0 4428.5,0 4428.5,0 4506.5,0 4506.5,0 4512.5,0 4518.5,-6 4518.5,-12 4518.5,-12 4518.5,-52 4518.5,-52 4518.5,-58 4512.5,-64 4506.5,-64\"/>\n<text text-anchor=\"start\" x=\"4432\" y=\"-49.8\" font-family=\"Helvetica,sans-Serif\" font-size=\"14.00\">gini = 0.255</text>\n<text text-anchor=\"start\" x=\"4426.5\" y=\"-35.8\" font-family=\"Helvetica,sans-Serif\" font-size=\"14.00\">samples = 20</text>\n<text text-anchor=\"start\" x=\"4424.5\" y=\"-21.8\" font-family=\"Helvetica,sans-Serif\" font-size=\"14.00\">value = [3, 17]</text>\n<text text-anchor=\"start\" x=\"4437\" y=\"-7.8\" font-family=\"Helvetica,sans-Serif\" font-size=\"14.00\">class = y</text>\n<text text-anchor=\"start\" x=\"4491\" y=\"-7.8\" font-family=\"Helvetica,sans-Serif\" baseline-shift=\"sub\" font-size=\"14.00\">1</text>\n</g>\n<!-- 86&#45;&gt;87 -->\n<g id=\"edge87\" class=\"edge\">\n<title>86&#45;&gt;87</title>\n<path fill=\"none\" stroke=\"black\" d=\"M4446.51,-99.8C4449.16,-91.37 4451.97,-82.41 4454.65,-73.88\"/>\n<polygon fill=\"black\" stroke=\"black\" points=\"4458.06,-74.71 4457.72,-64.12 4451.38,-72.61 4458.06,-74.71\"/>\n</g>\n<!-- 88 -->\n<g id=\"node89\" class=\"node\">\n<title>88</title>\n<path fill=\"#3b9ee5\" stroke=\"black\" d=\"M4626.5,-64C4626.5,-64 4548.5,-64 4548.5,-64 4542.5,-64 4536.5,-58 4536.5,-52 4536.5,-52 4536.5,-12 4536.5,-12 4536.5,-6 4542.5,0 4548.5,0 4548.5,0 4626.5,0 4626.5,0 4632.5,0 4638.5,-6 4638.5,-12 4638.5,-12 4638.5,-52 4638.5,-52 4638.5,-58 4632.5,-64 4626.5,-64\"/>\n<text text-anchor=\"start\" x=\"4555.5\" y=\"-49.8\" font-family=\"Helvetica,sans-Serif\" font-size=\"14.00\">gini = 0.02</text>\n<text text-anchor=\"start\" x=\"4546.5\" y=\"-35.8\" font-family=\"Helvetica,sans-Serif\" font-size=\"14.00\">samples = 99</text>\n<text text-anchor=\"start\" x=\"4544.5\" y=\"-21.8\" font-family=\"Helvetica,sans-Serif\" font-size=\"14.00\">value = [1, 98]</text>\n<text text-anchor=\"start\" x=\"4557\" y=\"-7.8\" font-family=\"Helvetica,sans-Serif\" font-size=\"14.00\">class = y</text>\n<text text-anchor=\"start\" x=\"4611\" y=\"-7.8\" font-family=\"Helvetica,sans-Serif\" baseline-shift=\"sub\" font-size=\"14.00\">1</text>\n</g>\n<!-- 86&#45;&gt;88 -->\n<g id=\"edge88\" class=\"edge\">\n<title>86&#45;&gt;88</title>\n<path fill=\"none\" stroke=\"black\" d=\"M4490.17,-99.8C4504.32,-90.08 4519.5,-79.67 4533.56,-70.01\"/>\n<polygon fill=\"black\" stroke=\"black\" points=\"4535.89,-72.66 4542.16,-64.12 4531.93,-66.89 4535.89,-72.66\"/>\n</g>\n<!-- 92 -->\n<g id=\"node93\" class=\"node\">\n<title>92</title>\n<path fill=\"#399de5\" stroke=\"black\" d=\"M4741.5,-285C4741.5,-285 4655.5,-285 4655.5,-285 4649.5,-285 4643.5,-279 4643.5,-273 4643.5,-273 4643.5,-233 4643.5,-233 4643.5,-227 4649.5,-221 4655.5,-221 4655.5,-221 4741.5,-221 4741.5,-221 4747.5,-221 4753.5,-227 4753.5,-233 4753.5,-233 4753.5,-273 4753.5,-273 4753.5,-279 4747.5,-285 4741.5,-285\"/>\n<text text-anchor=\"start\" x=\"4670.5\" y=\"-270.8\" font-family=\"Helvetica,sans-Serif\" font-size=\"14.00\">gini = 0.0</text>\n<text text-anchor=\"start\" x=\"4653.5\" y=\"-256.8\" font-family=\"Helvetica,sans-Serif\" font-size=\"14.00\">samples = 579</text>\n<text text-anchor=\"start\" x=\"4651.5\" y=\"-242.8\" font-family=\"Helvetica,sans-Serif\" font-size=\"14.00\">value = [0, 579]</text>\n<text text-anchor=\"start\" x=\"4668\" y=\"-228.8\" font-family=\"Helvetica,sans-Serif\" font-size=\"14.00\">class = y</text>\n<text text-anchor=\"start\" x=\"4722\" y=\"-228.8\" font-family=\"Helvetica,sans-Serif\" baseline-shift=\"sub\" font-size=\"14.00\">1</text>\n</g>\n<!-- 91&#45;&gt;92 -->\n<g id=\"edge92\" class=\"edge\">\n<title>91&#45;&gt;92</title>\n<path fill=\"none\" stroke=\"black\" d=\"M4698.5,-327.77C4698.5,-317.31 4698.5,-305.94 4698.5,-295.32\"/>\n<polygon fill=\"black\" stroke=\"black\" points=\"4702,-295.01 4698.5,-285.01 4695,-295.01 4702,-295.01\"/>\n</g>\n<!-- 93 -->\n<g id=\"node94\" class=\"node\">\n<title>93</title>\n<path fill=\"#3b9ee5\" stroke=\"black\" d=\"M4915,-292C4915,-292 4784,-292 4784,-292 4778,-292 4772,-286 4772,-280 4772,-280 4772,-226 4772,-226 4772,-220 4778,-214 4784,-214 4784,-214 4915,-214 4915,-214 4921,-214 4927,-220 4927,-226 4927,-226 4927,-280 4927,-280 4927,-286 4921,-292 4915,-292\"/>\n<text text-anchor=\"start\" x=\"4780\" y=\"-277.8\" font-family=\"Helvetica,sans-Serif\" font-size=\"14.00\">Leg room service ≤ 4.5</text>\n<text text-anchor=\"start\" x=\"4814\" y=\"-263.8\" font-family=\"Helvetica,sans-Serif\" font-size=\"14.00\">gini = 0.017</text>\n<text text-anchor=\"start\" x=\"4804.5\" y=\"-249.8\" font-family=\"Helvetica,sans-Serif\" font-size=\"14.00\">samples = 353</text>\n<text text-anchor=\"start\" x=\"4802.5\" y=\"-235.8\" font-family=\"Helvetica,sans-Serif\" font-size=\"14.00\">value = [3, 350]</text>\n<text text-anchor=\"start\" x=\"4819\" y=\"-221.8\" font-family=\"Helvetica,sans-Serif\" font-size=\"14.00\">class = y</text>\n<text text-anchor=\"start\" x=\"4873\" y=\"-221.8\" font-family=\"Helvetica,sans-Serif\" baseline-shift=\"sub\" font-size=\"14.00\">1</text>\n</g>\n<!-- 91&#45;&gt;93 -->\n<g id=\"edge93\" class=\"edge\">\n<title>91&#45;&gt;93</title>\n<path fill=\"none\" stroke=\"black\" d=\"M4750.04,-327.77C4762.92,-318.22 4776.83,-307.9 4790.06,-298.09\"/>\n<polygon fill=\"black\" stroke=\"black\" points=\"4792.24,-300.83 4798.19,-292.06 4788.07,-295.2 4792.24,-300.83\"/>\n</g>\n<!-- 94 -->\n<g id=\"node95\" class=\"node\">\n<title>94</title>\n<path fill=\"#47a4e7\" stroke=\"black\" d=\"M4764.5,-171C4764.5,-171 4686.5,-171 4686.5,-171 4680.5,-171 4674.5,-165 4674.5,-159 4674.5,-159 4674.5,-119 4674.5,-119 4674.5,-113 4680.5,-107 4686.5,-107 4686.5,-107 4764.5,-107 4764.5,-107 4770.5,-107 4776.5,-113 4776.5,-119 4776.5,-119 4776.5,-159 4776.5,-159 4776.5,-165 4770.5,-171 4764.5,-171\"/>\n<text text-anchor=\"start\" x=\"4690\" y=\"-156.8\" font-family=\"Helvetica,sans-Serif\" font-size=\"14.00\">gini = 0.124</text>\n<text text-anchor=\"start\" x=\"4684.5\" y=\"-142.8\" font-family=\"Helvetica,sans-Serif\" font-size=\"14.00\">samples = 45</text>\n<text text-anchor=\"start\" x=\"4682.5\" y=\"-128.8\" font-family=\"Helvetica,sans-Serif\" font-size=\"14.00\">value = [3, 42]</text>\n<text text-anchor=\"start\" x=\"4695\" y=\"-114.8\" font-family=\"Helvetica,sans-Serif\" font-size=\"14.00\">class = y</text>\n<text text-anchor=\"start\" x=\"4749\" y=\"-114.8\" font-family=\"Helvetica,sans-Serif\" baseline-shift=\"sub\" font-size=\"14.00\">1</text>\n</g>\n<!-- 93&#45;&gt;94 -->\n<g id=\"edge94\" class=\"edge\">\n<title>93&#45;&gt;94</title>\n<path fill=\"none\" stroke=\"black\" d=\"M4807.17,-213.77C4794.39,-202.22 4780.36,-189.55 4767.6,-178.02\"/>\n<polygon fill=\"black\" stroke=\"black\" points=\"4769.6,-175.12 4759.83,-171.01 4764.91,-180.31 4769.6,-175.12\"/>\n</g>\n<!-- 95 -->\n<g id=\"node96\" class=\"node\">\n<title>95</title>\n<path fill=\"#399de5\" stroke=\"black\" d=\"M4892.5,-171C4892.5,-171 4806.5,-171 4806.5,-171 4800.5,-171 4794.5,-165 4794.5,-159 4794.5,-159 4794.5,-119 4794.5,-119 4794.5,-113 4800.5,-107 4806.5,-107 4806.5,-107 4892.5,-107 4892.5,-107 4898.5,-107 4904.5,-113 4904.5,-119 4904.5,-119 4904.5,-159 4904.5,-159 4904.5,-165 4898.5,-171 4892.5,-171\"/>\n<text text-anchor=\"start\" x=\"4821.5\" y=\"-156.8\" font-family=\"Helvetica,sans-Serif\" font-size=\"14.00\">gini = 0.0</text>\n<text text-anchor=\"start\" x=\"4804.5\" y=\"-142.8\" font-family=\"Helvetica,sans-Serif\" font-size=\"14.00\">samples = 308</text>\n<text text-anchor=\"start\" x=\"4802.5\" y=\"-128.8\" font-family=\"Helvetica,sans-Serif\" font-size=\"14.00\">value = [0, 308]</text>\n<text text-anchor=\"start\" x=\"4819\" y=\"-114.8\" font-family=\"Helvetica,sans-Serif\" font-size=\"14.00\">class = y</text>\n<text text-anchor=\"start\" x=\"4873\" y=\"-114.8\" font-family=\"Helvetica,sans-Serif\" baseline-shift=\"sub\" font-size=\"14.00\">1</text>\n</g>\n<!-- 93&#45;&gt;95 -->\n<g id=\"edge95\" class=\"edge\">\n<title>93&#45;&gt;95</title>\n<path fill=\"none\" stroke=\"black\" d=\"M4849.5,-213.77C4849.5,-203.31 4849.5,-191.94 4849.5,-181.32\"/>\n<polygon fill=\"black\" stroke=\"black\" points=\"4853,-181.01 4849.5,-171.01 4846,-181.01 4853,-181.01\"/>\n</g>\n<!-- 97 -->\n<g id=\"node98\" class=\"node\">\n<title>97</title>\n<path fill=\"#eda572\" stroke=\"black\" d=\"M5634.5,-748C5634.5,-748 5498.5,-748 5498.5,-748 5492.5,-748 5486.5,-742 5486.5,-736 5486.5,-736 5486.5,-682 5486.5,-682 5486.5,-676 5492.5,-670 5498.5,-670 5498.5,-670 5634.5,-670 5634.5,-670 5640.5,-670 5646.5,-676 5646.5,-682 5646.5,-682 5646.5,-736 5646.5,-736 5646.5,-742 5640.5,-748 5634.5,-748\"/>\n<text text-anchor=\"start\" x=\"5494.5\" y=\"-733.8\" font-family=\"Helvetica,sans-Serif\" font-size=\"14.00\">Inflight wifi service ≤ 4.5</text>\n<text text-anchor=\"start\" x=\"5531\" y=\"-719.8\" font-family=\"Helvetica,sans-Serif\" font-size=\"14.00\">gini = 0.348</text>\n<text text-anchor=\"start\" x=\"5514\" y=\"-705.8\" font-family=\"Helvetica,sans-Serif\" font-size=\"14.00\">samples = 10479</text>\n<text text-anchor=\"start\" x=\"5504.5\" y=\"-691.8\" font-family=\"Helvetica,sans-Serif\" font-size=\"14.00\">value = [8129, 2350]</text>\n<text text-anchor=\"start\" x=\"5536\" y=\"-677.8\" font-family=\"Helvetica,sans-Serif\" font-size=\"14.00\">class = y</text>\n<text text-anchor=\"start\" x=\"5590\" y=\"-677.8\" font-family=\"Helvetica,sans-Serif\" baseline-shift=\"sub\" font-size=\"14.00\">0</text>\n</g>\n<!-- 96&#45;&gt;97 -->\n<g id=\"edge97\" class=\"edge\">\n<title>96&#45;&gt;97</title>\n<path fill=\"none\" stroke=\"black\" d=\"M5566.5,-783.77C5566.5,-775.57 5566.5,-766.8 5566.5,-758.28\"/>\n<polygon fill=\"black\" stroke=\"black\" points=\"5570,-758.06 5566.5,-748.06 5563,-758.06 5570,-758.06\"/>\n</g>\n<!-- 132 -->\n<g id=\"node133\" class=\"node\">\n<title>132</title>\n<path fill=\"#5caeea\" stroke=\"black\" d=\"M8697,-748C8697,-748 8544,-748 8544,-748 8538,-748 8532,-742 8532,-736 8532,-736 8532,-682 8532,-682 8532,-676 8538,-670 8544,-670 8544,-670 8697,-670 8697,-670 8703,-670 8709,-676 8709,-682 8709,-682 8709,-736 8709,-736 8709,-742 8703,-748 8697,-748\"/>\n<text text-anchor=\"start\" x=\"8540\" y=\"-733.8\" font-family=\"Helvetica,sans-Serif\" font-size=\"14.00\">Inflight entertainment ≤ 3.5</text>\n<text text-anchor=\"start\" x=\"8585\" y=\"-719.8\" font-family=\"Helvetica,sans-Serif\" font-size=\"14.00\">gini = 0.254</text>\n<text text-anchor=\"start\" x=\"8568\" y=\"-705.8\" font-family=\"Helvetica,sans-Serif\" font-size=\"14.00\">samples = 40942</text>\n<text text-anchor=\"start\" x=\"8555\" y=\"-691.8\" font-family=\"Helvetica,sans-Serif\" font-size=\"14.00\">value = [6108, 34834]</text>\n<text text-anchor=\"start\" x=\"8590\" y=\"-677.8\" font-family=\"Helvetica,sans-Serif\" font-size=\"14.00\">class = y</text>\n<text text-anchor=\"start\" x=\"8644\" y=\"-677.8\" font-family=\"Helvetica,sans-Serif\" baseline-shift=\"sub\" font-size=\"14.00\">1</text>\n</g>\n<!-- 96&#45;&gt;132 -->\n<g id=\"edge132\" class=\"edge\">\n<title>96&#45;&gt;132</title>\n<path fill=\"none\" stroke=\"black\" d=\"M5644.29,-819.15C6063.71,-803.77 8053.91,-730.78 8521.83,-713.62\"/>\n<polygon fill=\"black\" stroke=\"black\" points=\"8522.08,-717.11 8531.94,-713.25 8521.82,-710.12 8522.08,-717.11\"/>\n</g>\n<!-- 98 -->\n<g id=\"node99\" class=\"node\">\n<title>98</title>\n<path fill=\"#e99457\" stroke=\"black\" d=\"M5556.5,-634C5556.5,-634 5420.5,-634 5420.5,-634 5414.5,-634 5408.5,-628 5408.5,-622 5408.5,-622 5408.5,-568 5408.5,-568 5408.5,-562 5414.5,-556 5420.5,-556 5420.5,-556 5556.5,-556 5556.5,-556 5562.5,-556 5568.5,-562 5568.5,-568 5568.5,-568 5568.5,-622 5568.5,-622 5568.5,-628 5562.5,-634 5556.5,-634\"/>\n<text text-anchor=\"start\" x=\"5416.5\" y=\"-619.8\" font-family=\"Helvetica,sans-Serif\" font-size=\"14.00\">Inflight wifi service ≤ 3.5</text>\n<text text-anchor=\"start\" x=\"5456.5\" y=\"-605.8\" font-family=\"Helvetica,sans-Serif\" font-size=\"14.00\">gini = 0.23</text>\n<text text-anchor=\"start\" x=\"5440\" y=\"-591.8\" font-family=\"Helvetica,sans-Serif\" font-size=\"14.00\">samples = 9372</text>\n<text text-anchor=\"start\" x=\"5426.5\" y=\"-577.8\" font-family=\"Helvetica,sans-Serif\" font-size=\"14.00\">value = [8129, 1243]</text>\n<text text-anchor=\"start\" x=\"5458\" y=\"-563.8\" font-family=\"Helvetica,sans-Serif\" font-size=\"14.00\">class = y</text>\n<text text-anchor=\"start\" x=\"5512\" y=\"-563.8\" font-family=\"Helvetica,sans-Serif\" baseline-shift=\"sub\" font-size=\"14.00\">0</text>\n</g>\n<!-- 97&#45;&gt;98 -->\n<g id=\"edge98\" class=\"edge\">\n<title>97&#45;&gt;98</title>\n<path fill=\"none\" stroke=\"black\" d=\"M5539.87,-669.77C5533.73,-660.94 5527.12,-651.45 5520.76,-642.32\"/>\n<polygon fill=\"black\" stroke=\"black\" points=\"5523.59,-640.26 5515.01,-634.06 5517.85,-644.26 5523.59,-640.26\"/>\n</g>\n<!-- 131 -->\n<g id=\"node132\" class=\"node\">\n<title>131</title>\n<path fill=\"#399de5\" stroke=\"black\" d=\"M5692,-627C5692,-627 5599,-627 5599,-627 5593,-627 5587,-621 5587,-615 5587,-615 5587,-575 5587,-575 5587,-569 5593,-563 5599,-563 5599,-563 5692,-563 5692,-563 5698,-563 5704,-569 5704,-575 5704,-575 5704,-615 5704,-615 5704,-621 5698,-627 5692,-627\"/>\n<text text-anchor=\"start\" x=\"5617.5\" y=\"-612.8\" font-family=\"Helvetica,sans-Serif\" font-size=\"14.00\">gini = 0.0</text>\n<text text-anchor=\"start\" x=\"5597\" y=\"-598.8\" font-family=\"Helvetica,sans-Serif\" font-size=\"14.00\">samples = 1107</text>\n<text text-anchor=\"start\" x=\"5595\" y=\"-584.8\" font-family=\"Helvetica,sans-Serif\" font-size=\"14.00\">value = [0, 1107]</text>\n<text text-anchor=\"start\" x=\"5615\" y=\"-570.8\" font-family=\"Helvetica,sans-Serif\" font-size=\"14.00\">class = y</text>\n<text text-anchor=\"start\" x=\"5669\" y=\"-570.8\" font-family=\"Helvetica,sans-Serif\" baseline-shift=\"sub\" font-size=\"14.00\">1</text>\n</g>\n<!-- 97&#45;&gt;131 -->\n<g id=\"edge131\" class=\"edge\">\n<title>97&#45;&gt;131</title>\n<path fill=\"none\" stroke=\"black\" d=\"M5593.47,-669.77C5601.3,-658.66 5609.87,-646.51 5617.76,-635.33\"/>\n<polygon fill=\"black\" stroke=\"black\" points=\"5620.72,-637.2 5623.63,-627.01 5615,-633.16 5620.72,-637.2\"/>\n</g>\n<!-- 99 -->\n<g id=\"node100\" class=\"node\">\n<title>99</title>\n<path fill=\"#e6843e\" stroke=\"black\" d=\"M5458.5,-520C5458.5,-520 5322.5,-520 5322.5,-520 5316.5,-520 5310.5,-514 5310.5,-508 5310.5,-508 5310.5,-454 5310.5,-454 5310.5,-448 5316.5,-442 5322.5,-442 5322.5,-442 5458.5,-442 5458.5,-442 5464.5,-442 5470.5,-448 5470.5,-454 5470.5,-454 5470.5,-508 5470.5,-508 5470.5,-514 5464.5,-520 5458.5,-520\"/>\n<text text-anchor=\"start\" x=\"5318.5\" y=\"-505.8\" font-family=\"Helvetica,sans-Serif\" font-size=\"14.00\">Inflight wifi service ≤ 0.5</text>\n<text text-anchor=\"start\" x=\"5358.5\" y=\"-491.8\" font-family=\"Helvetica,sans-Serif\" font-size=\"14.00\">gini = 0.05</text>\n<text text-anchor=\"start\" x=\"5342\" y=\"-477.8\" font-family=\"Helvetica,sans-Serif\" font-size=\"14.00\">samples = 5149</text>\n<text text-anchor=\"start\" x=\"5332.5\" y=\"-463.8\" font-family=\"Helvetica,sans-Serif\" font-size=\"14.00\">value = [5018, 131]</text>\n<text text-anchor=\"start\" x=\"5360\" y=\"-449.8\" font-family=\"Helvetica,sans-Serif\" font-size=\"14.00\">class = y</text>\n<text text-anchor=\"start\" x=\"5414\" y=\"-449.8\" font-family=\"Helvetica,sans-Serif\" baseline-shift=\"sub\" font-size=\"14.00\">0</text>\n</g>\n<!-- 98&#45;&gt;99 -->\n<g id=\"edge99\" class=\"edge\">\n<title>98&#45;&gt;99</title>\n<path fill=\"none\" stroke=\"black\" d=\"M5455.05,-555.77C5447.16,-546.76 5438.68,-537.06 5430.54,-527.76\"/>\n<polygon fill=\"black\" stroke=\"black\" points=\"5433.02,-525.28 5423.8,-520.06 5427.75,-529.89 5433.02,-525.28\"/>\n</g>\n<!-- 102 -->\n<g id=\"node103\" class=\"node\">\n<title>102</title>\n<path fill=\"#eeae80\" stroke=\"black\" d=\"M5670,-520C5670,-520 5501,-520 5501,-520 5495,-520 5489,-514 5489,-508 5489,-508 5489,-454 5489,-454 5489,-448 5495,-442 5501,-442 5501,-442 5670,-442 5670,-442 5676,-442 5682,-448 5682,-454 5682,-454 5682,-508 5682,-508 5682,-514 5676,-520 5670,-520\"/>\n<text text-anchor=\"start\" x=\"5497\" y=\"-505.8\" font-family=\"Helvetica,sans-Serif\" font-size=\"14.00\">Arrival Delay in Minutes ≤ 5.5</text>\n<text text-anchor=\"start\" x=\"5550\" y=\"-491.8\" font-family=\"Helvetica,sans-Serif\" font-size=\"14.00\">gini = 0.388</text>\n<text text-anchor=\"start\" x=\"5537\" y=\"-477.8\" font-family=\"Helvetica,sans-Serif\" font-size=\"14.00\">samples = 4223</text>\n<text text-anchor=\"start\" x=\"5523.5\" y=\"-463.8\" font-family=\"Helvetica,sans-Serif\" font-size=\"14.00\">value = [3111, 1112]</text>\n<text text-anchor=\"start\" x=\"5555\" y=\"-449.8\" font-family=\"Helvetica,sans-Serif\" font-size=\"14.00\">class = y</text>\n<text text-anchor=\"start\" x=\"5609\" y=\"-449.8\" font-family=\"Helvetica,sans-Serif\" baseline-shift=\"sub\" font-size=\"14.00\">0</text>\n</g>\n<!-- 98&#45;&gt;102 -->\n<g id=\"edge102\" class=\"edge\">\n<title>98&#45;&gt;102</title>\n<path fill=\"none\" stroke=\"black\" d=\"M5521.61,-555.77C5529.41,-546.76 5537.81,-537.06 5545.87,-527.76\"/>\n<polygon fill=\"black\" stroke=\"black\" points=\"5548.64,-529.91 5552.54,-520.06 5543.35,-525.33 5548.64,-529.91\"/>\n</g>\n<!-- 100 -->\n<g id=\"node101\" class=\"node\">\n<title>100</title>\n<path fill=\"#399de5\" stroke=\"black\" d=\"M5304.5,-399C5304.5,-399 5218.5,-399 5218.5,-399 5212.5,-399 5206.5,-393 5206.5,-387 5206.5,-387 5206.5,-347 5206.5,-347 5206.5,-341 5212.5,-335 5218.5,-335 5218.5,-335 5304.5,-335 5304.5,-335 5310.5,-335 5316.5,-341 5316.5,-347 5316.5,-347 5316.5,-387 5316.5,-387 5316.5,-393 5310.5,-399 5304.5,-399\"/>\n<text text-anchor=\"start\" x=\"5233.5\" y=\"-384.8\" font-family=\"Helvetica,sans-Serif\" font-size=\"14.00\">gini = 0.0</text>\n<text text-anchor=\"start\" x=\"5216.5\" y=\"-370.8\" font-family=\"Helvetica,sans-Serif\" font-size=\"14.00\">samples = 131</text>\n<text text-anchor=\"start\" x=\"5214.5\" y=\"-356.8\" font-family=\"Helvetica,sans-Serif\" font-size=\"14.00\">value = [0, 131]</text>\n<text text-anchor=\"start\" x=\"5231\" y=\"-342.8\" font-family=\"Helvetica,sans-Serif\" font-size=\"14.00\">class = y</text>\n<text text-anchor=\"start\" x=\"5285\" y=\"-342.8\" font-family=\"Helvetica,sans-Serif\" baseline-shift=\"sub\" font-size=\"14.00\">1</text>\n</g>\n<!-- 99&#45;&gt;100 -->\n<g id=\"edge100\" class=\"edge\">\n<title>99&#45;&gt;100</title>\n<path fill=\"none\" stroke=\"black\" d=\"M5346.47,-441.77C5333.04,-430.12 5318.3,-417.32 5304.92,-405.7\"/>\n<polygon fill=\"black\" stroke=\"black\" points=\"5307.06,-402.92 5297.22,-399.01 5302.47,-408.21 5307.06,-402.92\"/>\n</g>\n<!-- 101 -->\n<g id=\"node102\" class=\"node\">\n<title>101</title>\n<path fill=\"#e58139\" stroke=\"black\" d=\"M5440,-399C5440,-399 5347,-399 5347,-399 5341,-399 5335,-393 5335,-387 5335,-387 5335,-347 5335,-347 5335,-341 5341,-335 5347,-335 5347,-335 5440,-335 5440,-335 5446,-335 5452,-341 5452,-347 5452,-347 5452,-387 5452,-387 5452,-393 5446,-399 5440,-399\"/>\n<text text-anchor=\"start\" x=\"5365.5\" y=\"-384.8\" font-family=\"Helvetica,sans-Serif\" font-size=\"14.00\">gini = 0.0</text>\n<text text-anchor=\"start\" x=\"5345\" y=\"-370.8\" font-family=\"Helvetica,sans-Serif\" font-size=\"14.00\">samples = 5018</text>\n<text text-anchor=\"start\" x=\"5343\" y=\"-356.8\" font-family=\"Helvetica,sans-Serif\" font-size=\"14.00\">value = [5018, 0]</text>\n<text text-anchor=\"start\" x=\"5363\" y=\"-342.8\" font-family=\"Helvetica,sans-Serif\" font-size=\"14.00\">class = y</text>\n<text text-anchor=\"start\" x=\"5417\" y=\"-342.8\" font-family=\"Helvetica,sans-Serif\" baseline-shift=\"sub\" font-size=\"14.00\">0</text>\n</g>\n<!-- 99&#45;&gt;101 -->\n<g id=\"edge101\" class=\"edge\">\n<title>99&#45;&gt;101</title>\n<path fill=\"none\" stroke=\"black\" d=\"M5391.52,-441.77C5391.8,-431.31 5392.11,-419.94 5392.39,-409.32\"/>\n<polygon fill=\"black\" stroke=\"black\" points=\"5395.9,-409.1 5392.67,-399.01 5388.9,-408.91 5395.9,-409.1\"/>\n</g>\n<!-- 103 -->\n<g id=\"node104\" class=\"node\">\n<title>103</title>\n<path fill=\"#f1bc95\" stroke=\"black\" d=\"M5678,-406C5678,-406 5487,-406 5487,-406 5481,-406 5475,-400 5475,-394 5475,-394 5475,-340 5475,-340 5475,-334 5481,-328 5487,-328 5487,-328 5678,-328 5678,-328 5684,-328 5690,-334 5690,-340 5690,-340 5690,-394 5690,-394 5690,-400 5684,-406 5678,-406\"/>\n<text text-anchor=\"start\" x=\"5483\" y=\"-391.8\" font-family=\"Helvetica,sans-Serif\" font-size=\"14.00\">Departure Delay in Minutes ≤ 8.5</text>\n<text text-anchor=\"start\" x=\"5547\" y=\"-377.8\" font-family=\"Helvetica,sans-Serif\" font-size=\"14.00\">gini = 0.433</text>\n<text text-anchor=\"start\" x=\"5534\" y=\"-363.8\" font-family=\"Helvetica,sans-Serif\" font-size=\"14.00\">samples = 3025</text>\n<text text-anchor=\"start\" x=\"5524.5\" y=\"-349.8\" font-family=\"Helvetica,sans-Serif\" font-size=\"14.00\">value = [2065, 960]</text>\n<text text-anchor=\"start\" x=\"5552\" y=\"-335.8\" font-family=\"Helvetica,sans-Serif\" font-size=\"14.00\">class = y</text>\n<text text-anchor=\"start\" x=\"5606\" y=\"-335.8\" font-family=\"Helvetica,sans-Serif\" baseline-shift=\"sub\" font-size=\"14.00\">0</text>\n</g>\n<!-- 102&#45;&gt;103 -->\n<g id=\"edge103\" class=\"edge\">\n<title>102&#45;&gt;103</title>\n<path fill=\"none\" stroke=\"black\" d=\"M5584.48,-441.77C5584.26,-433.57 5584.02,-424.8 5583.79,-416.28\"/>\n<polygon fill=\"black\" stroke=\"black\" points=\"5587.29,-415.96 5583.52,-406.06 5580.29,-416.15 5587.29,-415.96\"/>\n</g>\n<!-- 116 -->\n<g id=\"node117\" class=\"node\">\n<title>116</title>\n<path fill=\"#e99356\" stroke=\"black\" d=\"M5966.5,-406C5966.5,-406 5858.5,-406 5858.5,-406 5852.5,-406 5846.5,-400 5846.5,-394 5846.5,-394 5846.5,-340 5846.5,-340 5846.5,-334 5852.5,-328 5858.5,-328 5858.5,-328 5966.5,-328 5966.5,-328 5972.5,-328 5978.5,-334 5978.5,-340 5978.5,-340 5978.5,-394 5978.5,-394 5978.5,-400 5972.5,-406 5966.5,-406\"/>\n<text text-anchor=\"start\" x=\"5879.5\" y=\"-391.8\" font-family=\"Helvetica,sans-Serif\" font-size=\"14.00\">Age ≤ 51.5</text>\n<text text-anchor=\"start\" x=\"5877\" y=\"-377.8\" font-family=\"Helvetica,sans-Serif\" font-size=\"14.00\">gini = 0.222</text>\n<text text-anchor=\"start\" x=\"5864\" y=\"-363.8\" font-family=\"Helvetica,sans-Serif\" font-size=\"14.00\">samples = 1198</text>\n<text text-anchor=\"start\" x=\"5854.5\" y=\"-349.8\" font-family=\"Helvetica,sans-Serif\" font-size=\"14.00\">value = [1046, 152]</text>\n<text text-anchor=\"start\" x=\"5882\" y=\"-335.8\" font-family=\"Helvetica,sans-Serif\" font-size=\"14.00\">class = y</text>\n<text text-anchor=\"start\" x=\"5936\" y=\"-335.8\" font-family=\"Helvetica,sans-Serif\" baseline-shift=\"sub\" font-size=\"14.00\">0</text>\n</g>\n<!-- 102&#45;&gt;116 -->\n<g id=\"edge116\" class=\"edge\">\n<title>102&#45;&gt;116</title>\n<path fill=\"none\" stroke=\"black\" d=\"M5682.28,-446.85C5731.6,-429.96 5790.7,-409.72 5836.66,-393.97\"/>\n<polygon fill=\"black\" stroke=\"black\" points=\"5837.94,-397.24 5846.26,-390.69 5835.67,-390.62 5837.94,-397.24\"/>\n</g>\n<!-- 104 -->\n<g id=\"node105\" class=\"node\">\n<title>104</title>\n<path fill=\"#f1ba93\" stroke=\"black\" d=\"M5355.5,-292C5355.5,-292 5233.5,-292 5233.5,-292 5227.5,-292 5221.5,-286 5221.5,-280 5221.5,-280 5221.5,-226 5221.5,-226 5221.5,-220 5227.5,-214 5233.5,-214 5233.5,-214 5355.5,-214 5355.5,-214 5361.5,-214 5367.5,-220 5367.5,-226 5367.5,-226 5367.5,-280 5367.5,-280 5367.5,-286 5361.5,-292 5355.5,-292\"/>\n<text text-anchor=\"start\" x=\"5229.5\" y=\"-277.8\" font-family=\"Helvetica,sans-Serif\" font-size=\"14.00\">Checkin service ≤ 1.5</text>\n<text text-anchor=\"start\" x=\"5259\" y=\"-263.8\" font-family=\"Helvetica,sans-Serif\" font-size=\"14.00\">gini = 0.429</text>\n<text text-anchor=\"start\" x=\"5246\" y=\"-249.8\" font-family=\"Helvetica,sans-Serif\" font-size=\"14.00\">samples = 2822</text>\n<text text-anchor=\"start\" x=\"5236.5\" y=\"-235.8\" font-family=\"Helvetica,sans-Serif\" font-size=\"14.00\">value = [1942, 880]</text>\n<text text-anchor=\"start\" x=\"5264\" y=\"-221.8\" font-family=\"Helvetica,sans-Serif\" font-size=\"14.00\">class = y</text>\n<text text-anchor=\"start\" x=\"5318\" y=\"-221.8\" font-family=\"Helvetica,sans-Serif\" baseline-shift=\"sub\" font-size=\"14.00\">0</text>\n</g>\n<!-- 103&#45;&gt;104 -->\n<g id=\"edge104\" class=\"edge\">\n<title>103&#45;&gt;104</title>\n<path fill=\"none\" stroke=\"black\" d=\"M5484.59,-327.93C5449.72,-314.36 5410.8,-299.23 5377.32,-286.21\"/>\n<polygon fill=\"black\" stroke=\"black\" points=\"5378.16,-282.78 5367.57,-282.41 5375.62,-289.3 5378.16,-282.78\"/>\n</g>\n<!-- 111 -->\n<g id=\"node112\" class=\"node\">\n<title>111</title>\n<path fill=\"#f6d3ba\" stroke=\"black\" d=\"M5695.5,-292C5695.5,-292 5469.5,-292 5469.5,-292 5463.5,-292 5457.5,-286 5457.5,-280 5457.5,-280 5457.5,-226 5457.5,-226 5457.5,-220 5463.5,-214 5469.5,-214 5469.5,-214 5695.5,-214 5695.5,-214 5701.5,-214 5707.5,-220 5707.5,-226 5707.5,-226 5707.5,-280 5707.5,-280 5707.5,-286 5701.5,-292 5695.5,-292\"/>\n<text text-anchor=\"start\" x=\"5465.5\" y=\"-277.8\" font-family=\"Helvetica,sans-Serif\" font-size=\"14.00\">avg_rating_services_on_board ≤ 4.179</text>\n<text text-anchor=\"start\" x=\"5547\" y=\"-263.8\" font-family=\"Helvetica,sans-Serif\" font-size=\"14.00\">gini = 0.478</text>\n<text text-anchor=\"start\" x=\"5537.5\" y=\"-249.8\" font-family=\"Helvetica,sans-Serif\" font-size=\"14.00\">samples = 203</text>\n<text text-anchor=\"start\" x=\"5532\" y=\"-235.8\" font-family=\"Helvetica,sans-Serif\" font-size=\"14.00\">value = [123, 80]</text>\n<text text-anchor=\"start\" x=\"5552\" y=\"-221.8\" font-family=\"Helvetica,sans-Serif\" font-size=\"14.00\">class = y</text>\n<text text-anchor=\"start\" x=\"5606\" y=\"-221.8\" font-family=\"Helvetica,sans-Serif\" baseline-shift=\"sub\" font-size=\"14.00\">0</text>\n</g>\n<!-- 103&#45;&gt;111 -->\n<g id=\"edge111\" class=\"edge\">\n<title>103&#45;&gt;111</title>\n<path fill=\"none\" stroke=\"black\" d=\"M5582.5,-327.77C5582.5,-319.57 5582.5,-310.8 5582.5,-302.28\"/>\n<polygon fill=\"black\" stroke=\"black\" points=\"5586,-302.06 5582.5,-292.06 5579,-302.06 5586,-302.06\"/>\n</g>\n<!-- 105 -->\n<g id=\"node106\" class=\"node\">\n<title>105</title>\n<path fill=\"#eeab7b\" stroke=\"black\" d=\"M5162,-178C5162,-178 4935,-178 4935,-178 4929,-178 4923,-172 4923,-166 4923,-166 4923,-112 4923,-112 4923,-106 4929,-100 4935,-100 4935,-100 5162,-100 5162,-100 5168,-100 5174,-106 5174,-112 5174,-112 5174,-166 5174,-166 5174,-172 5168,-178 5162,-178\"/>\n<text text-anchor=\"start\" x=\"4931\" y=\"-163.8\" font-family=\"Helvetica,sans-Serif\" font-size=\"14.00\">Departure/Arrival time convenient ≤ 3.5</text>\n<text text-anchor=\"start\" x=\"5013\" y=\"-149.8\" font-family=\"Helvetica,sans-Serif\" font-size=\"14.00\">gini = 0.376</text>\n<text text-anchor=\"start\" x=\"5003.5\" y=\"-135.8\" font-family=\"Helvetica,sans-Serif\" font-size=\"14.00\">samples = 287</text>\n<text text-anchor=\"start\" x=\"4998\" y=\"-121.8\" font-family=\"Helvetica,sans-Serif\" font-size=\"14.00\">value = [215, 72]</text>\n<text text-anchor=\"start\" x=\"5018\" y=\"-107.8\" font-family=\"Helvetica,sans-Serif\" font-size=\"14.00\">class = y</text>\n<text text-anchor=\"start\" x=\"5072\" y=\"-107.8\" font-family=\"Helvetica,sans-Serif\" baseline-shift=\"sub\" font-size=\"14.00\">0</text>\n</g>\n<!-- 104&#45;&gt;105 -->\n<g id=\"edge105\" class=\"edge\">\n<title>104&#45;&gt;105</title>\n<path fill=\"none\" stroke=\"black\" d=\"M5221.36,-218.7C5196.27,-207.28 5167.86,-194.34 5141.42,-182.3\"/>\n<polygon fill=\"black\" stroke=\"black\" points=\"5142.71,-179.05 5132.16,-178.09 5139.81,-185.42 5142.71,-179.05\"/>\n</g>\n<!-- 108 -->\n<g id=\"node109\" class=\"node\">\n<title>108</title>\n<path fill=\"#f1bc96\" stroke=\"black\" d=\"M5348.5,-178C5348.5,-178 5240.5,-178 5240.5,-178 5234.5,-178 5228.5,-172 5228.5,-166 5228.5,-166 5228.5,-112 5228.5,-112 5228.5,-106 5234.5,-100 5240.5,-100 5240.5,-100 5348.5,-100 5348.5,-100 5354.5,-100 5360.5,-106 5360.5,-112 5360.5,-112 5360.5,-166 5360.5,-166 5360.5,-172 5354.5,-178 5348.5,-178\"/>\n<text text-anchor=\"start\" x=\"5253\" y=\"-163.8\" font-family=\"Helvetica,sans-Serif\" font-size=\"14.00\">Class_3 ≤ 0.5</text>\n<text text-anchor=\"start\" x=\"5259\" y=\"-149.8\" font-family=\"Helvetica,sans-Serif\" font-size=\"14.00\">gini = 0.434</text>\n<text text-anchor=\"start\" x=\"5246\" y=\"-135.8\" font-family=\"Helvetica,sans-Serif\" font-size=\"14.00\">samples = 2535</text>\n<text text-anchor=\"start\" x=\"5236.5\" y=\"-121.8\" font-family=\"Helvetica,sans-Serif\" font-size=\"14.00\">value = [1727, 808]</text>\n<text text-anchor=\"start\" x=\"5264\" y=\"-107.8\" font-family=\"Helvetica,sans-Serif\" font-size=\"14.00\">class = y</text>\n<text text-anchor=\"start\" x=\"5318\" y=\"-107.8\" font-family=\"Helvetica,sans-Serif\" baseline-shift=\"sub\" font-size=\"14.00\">0</text>\n</g>\n<!-- 104&#45;&gt;108 -->\n<g id=\"edge108\" class=\"edge\">\n<title>104&#45;&gt;108</title>\n<path fill=\"none\" stroke=\"black\" d=\"M5294.5,-213.77C5294.5,-205.57 5294.5,-196.8 5294.5,-188.28\"/>\n<polygon fill=\"black\" stroke=\"black\" points=\"5298,-188.06 5294.5,-178.06 5291,-188.06 5298,-188.06\"/>\n</g>\n<!-- 106 -->\n<g id=\"node107\" class=\"node\">\n<title>106</title>\n<path fill=\"#eca36e\" stroke=\"black\" d=\"M4945,-64C4945,-64 4852,-64 4852,-64 4846,-64 4840,-58 4840,-52 4840,-52 4840,-12 4840,-12 4840,-6 4846,0 4852,0 4852,0 4945,0 4945,0 4951,0 4957,-6 4957,-12 4957,-12 4957,-52 4957,-52 4957,-58 4951,-64 4945,-64\"/>\n<text text-anchor=\"start\" x=\"4863\" y=\"-49.8\" font-family=\"Helvetica,sans-Serif\" font-size=\"14.00\">gini = 0.332</text>\n<text text-anchor=\"start\" x=\"4853.5\" y=\"-35.8\" font-family=\"Helvetica,sans-Serif\" font-size=\"14.00\">samples = 195</text>\n<text text-anchor=\"start\" x=\"4848\" y=\"-21.8\" font-family=\"Helvetica,sans-Serif\" font-size=\"14.00\">value = [154, 41]</text>\n<text text-anchor=\"start\" x=\"4868\" y=\"-7.8\" font-family=\"Helvetica,sans-Serif\" font-size=\"14.00\">class = y</text>\n<text text-anchor=\"start\" x=\"4922\" y=\"-7.8\" font-family=\"Helvetica,sans-Serif\" baseline-shift=\"sub\" font-size=\"14.00\">0</text>\n</g>\n<!-- 105&#45;&gt;106 -->\n<g id=\"edge106\" class=\"edge\">\n<title>105&#45;&gt;106</title>\n<path fill=\"none\" stroke=\"black\" d=\"M4993.92,-99.8C4980.05,-90.08 4965.17,-79.67 4951.38,-70.01\"/>\n<polygon fill=\"black\" stroke=\"black\" points=\"4953.15,-66.98 4942.95,-64.12 4949.14,-72.72 4953.15,-66.98\"/>\n</g>\n<!-- 107 -->\n<g id=\"node108\" class=\"node\">\n<title>107</title>\n<path fill=\"#f2c19e\" stroke=\"black\" d=\"M5073.5,-64C5073.5,-64 4987.5,-64 4987.5,-64 4981.5,-64 4975.5,-58 4975.5,-52 4975.5,-52 4975.5,-12 4975.5,-12 4975.5,-6 4981.5,0 4987.5,0 4987.5,0 5073.5,0 5073.5,0 5079.5,0 5085.5,-6 5085.5,-12 5085.5,-12 5085.5,-52 5085.5,-52 5085.5,-58 5079.5,-64 5073.5,-64\"/>\n<text text-anchor=\"start\" x=\"4995\" y=\"-49.8\" font-family=\"Helvetica,sans-Serif\" font-size=\"14.00\">gini = 0.447</text>\n<text text-anchor=\"start\" x=\"4989.5\" y=\"-35.8\" font-family=\"Helvetica,sans-Serif\" font-size=\"14.00\">samples = 92</text>\n<text text-anchor=\"start\" x=\"4983.5\" y=\"-21.8\" font-family=\"Helvetica,sans-Serif\" font-size=\"14.00\">value = [61, 31]</text>\n<text text-anchor=\"start\" x=\"5000\" y=\"-7.8\" font-family=\"Helvetica,sans-Serif\" font-size=\"14.00\">class = y</text>\n<text text-anchor=\"start\" x=\"5054\" y=\"-7.8\" font-family=\"Helvetica,sans-Serif\" baseline-shift=\"sub\" font-size=\"14.00\">0</text>\n</g>\n<!-- 105&#45;&gt;107 -->\n<g id=\"edge107\" class=\"edge\">\n<title>105&#45;&gt;107</title>\n<path fill=\"none\" stroke=\"black\" d=\"M5041.95,-99.8C5040.52,-91.46 5039,-82.6 5037.55,-74.15\"/>\n<polygon fill=\"black\" stroke=\"black\" points=\"5040.97,-73.38 5035.83,-64.12 5034.07,-74.56 5040.97,-73.38\"/>\n</g>\n<!-- 109 -->\n<g id=\"node110\" class=\"node\">\n<title>109</title>\n<path fill=\"#f2be99\" stroke=\"black\" d=\"M5223.5,-64C5223.5,-64 5115.5,-64 5115.5,-64 5109.5,-64 5103.5,-58 5103.5,-52 5103.5,-52 5103.5,-12 5103.5,-12 5103.5,-6 5109.5,0 5115.5,0 5115.5,0 5223.5,0 5223.5,0 5229.5,0 5235.5,-6 5235.5,-12 5235.5,-12 5235.5,-52 5235.5,-52 5235.5,-58 5229.5,-64 5223.5,-64\"/>\n<text text-anchor=\"start\" x=\"5137.5\" y=\"-49.8\" font-family=\"Helvetica,sans-Serif\" font-size=\"14.00\">gini = 0.44</text>\n<text text-anchor=\"start\" x=\"5121\" y=\"-35.8\" font-family=\"Helvetica,sans-Serif\" font-size=\"14.00\">samples = 2283</text>\n<text text-anchor=\"start\" x=\"5111.5\" y=\"-21.8\" font-family=\"Helvetica,sans-Serif\" font-size=\"14.00\">value = [1537, 746]</text>\n<text text-anchor=\"start\" x=\"5139\" y=\"-7.8\" font-family=\"Helvetica,sans-Serif\" font-size=\"14.00\">class = y</text>\n<text text-anchor=\"start\" x=\"5193\" y=\"-7.8\" font-family=\"Helvetica,sans-Serif\" baseline-shift=\"sub\" font-size=\"14.00\">0</text>\n</g>\n<!-- 108&#45;&gt;109 -->\n<g id=\"edge109\" class=\"edge\">\n<title>108&#45;&gt;109</title>\n<path fill=\"none\" stroke=\"black\" d=\"M5249.02,-99.8C5237.68,-90.27 5225.52,-80.06 5214.22,-70.56\"/>\n<polygon fill=\"black\" stroke=\"black\" points=\"5216.45,-67.87 5206.54,-64.12 5211.95,-73.23 5216.45,-67.87\"/>\n</g>\n<!-- 110 -->\n<g id=\"node111\" class=\"node\">\n<title>110</title>\n<path fill=\"#edaa7a\" stroke=\"black\" d=\"M5359,-64C5359,-64 5266,-64 5266,-64 5260,-64 5254,-58 5254,-52 5254,-52 5254,-12 5254,-12 5254,-6 5260,0 5266,0 5266,0 5359,0 5359,0 5365,0 5371,-6 5371,-12 5371,-12 5371,-52 5371,-52 5371,-58 5365,-64 5359,-64\"/>\n<text text-anchor=\"start\" x=\"5277\" y=\"-49.8\" font-family=\"Helvetica,sans-Serif\" font-size=\"14.00\">gini = 0.371</text>\n<text text-anchor=\"start\" x=\"5267.5\" y=\"-35.8\" font-family=\"Helvetica,sans-Serif\" font-size=\"14.00\">samples = 252</text>\n<text text-anchor=\"start\" x=\"5262\" y=\"-21.8\" font-family=\"Helvetica,sans-Serif\" font-size=\"14.00\">value = [190, 62]</text>\n<text text-anchor=\"start\" x=\"5282\" y=\"-7.8\" font-family=\"Helvetica,sans-Serif\" font-size=\"14.00\">class = y</text>\n<text text-anchor=\"start\" x=\"5336\" y=\"-7.8\" font-family=\"Helvetica,sans-Serif\" baseline-shift=\"sub\" font-size=\"14.00\">0</text>\n</g>\n<!-- 108&#45;&gt;110 -->\n<g id=\"edge110\" class=\"edge\">\n<title>108&#45;&gt;110</title>\n<path fill=\"none\" stroke=\"black\" d=\"M5301.05,-99.8C5302.48,-91.46 5304,-82.6 5305.45,-74.15\"/>\n<polygon fill=\"black\" stroke=\"black\" points=\"5308.93,-74.56 5307.17,-64.12 5302.03,-73.38 5308.93,-74.56\"/>\n</g>\n<!-- 112 -->\n<g id=\"node113\" class=\"node\">\n<title>112</title>\n<path fill=\"#f4c9aa\" stroke=\"black\" d=\"M5586,-178C5586,-178 5451,-178 5451,-178 5445,-178 5439,-172 5439,-166 5439,-166 5439,-112 5439,-112 5439,-106 5445,-100 5451,-100 5451,-100 5586,-100 5586,-100 5592,-100 5598,-106 5598,-112 5598,-112 5598,-166 5598,-166 5598,-172 5592,-178 5586,-178\"/>\n<text text-anchor=\"start\" x=\"5447\" y=\"-163.8\" font-family=\"Helvetica,sans-Serif\" font-size=\"14.00\">Baggage handling ≤ 2.5</text>\n<text text-anchor=\"start\" x=\"5483\" y=\"-149.8\" font-family=\"Helvetica,sans-Serif\" font-size=\"14.00\">gini = 0.463</text>\n<text text-anchor=\"start\" x=\"5473.5\" y=\"-135.8\" font-family=\"Helvetica,sans-Serif\" font-size=\"14.00\">samples = 187</text>\n<text text-anchor=\"start\" x=\"5468\" y=\"-121.8\" font-family=\"Helvetica,sans-Serif\" font-size=\"14.00\">value = [119, 68]</text>\n<text text-anchor=\"start\" x=\"5488\" y=\"-107.8\" font-family=\"Helvetica,sans-Serif\" font-size=\"14.00\">class = y</text>\n<text text-anchor=\"start\" x=\"5542\" y=\"-107.8\" font-family=\"Helvetica,sans-Serif\" baseline-shift=\"sub\" font-size=\"14.00\">0</text>\n</g>\n<!-- 111&#45;&gt;112 -->\n<g id=\"edge112\" class=\"edge\">\n<title>111&#45;&gt;112</title>\n<path fill=\"none\" stroke=\"black\" d=\"M5560.65,-213.77C5555.71,-205.12 5550.41,-195.84 5545.29,-186.88\"/>\n<polygon fill=\"black\" stroke=\"black\" points=\"5548.25,-185 5540.25,-178.06 5542.17,-188.48 5548.25,-185\"/>\n</g>\n<!-- 115 -->\n<g id=\"node116\" class=\"node\">\n<title>115</title>\n<path fill=\"#7bbeee\" stroke=\"black\" d=\"M5705.5,-171C5705.5,-171 5627.5,-171 5627.5,-171 5621.5,-171 5615.5,-165 5615.5,-159 5615.5,-159 5615.5,-119 5615.5,-119 5615.5,-113 5621.5,-107 5627.5,-107 5627.5,-107 5705.5,-107 5705.5,-107 5711.5,-107 5717.5,-113 5717.5,-119 5717.5,-119 5717.5,-159 5717.5,-159 5717.5,-165 5711.5,-171 5705.5,-171\"/>\n<text text-anchor=\"start\" x=\"5631\" y=\"-156.8\" font-family=\"Helvetica,sans-Serif\" font-size=\"14.00\">gini = 0.375</text>\n<text text-anchor=\"start\" x=\"5625.5\" y=\"-142.8\" font-family=\"Helvetica,sans-Serif\" font-size=\"14.00\">samples = 16</text>\n<text text-anchor=\"start\" x=\"5623.5\" y=\"-128.8\" font-family=\"Helvetica,sans-Serif\" font-size=\"14.00\">value = [4, 12]</text>\n<text text-anchor=\"start\" x=\"5636\" y=\"-114.8\" font-family=\"Helvetica,sans-Serif\" font-size=\"14.00\">class = y</text>\n<text text-anchor=\"start\" x=\"5690\" y=\"-114.8\" font-family=\"Helvetica,sans-Serif\" baseline-shift=\"sub\" font-size=\"14.00\">1</text>\n</g>\n<!-- 111&#45;&gt;115 -->\n<g id=\"edge115\" class=\"edge\">\n<title>111&#45;&gt;115</title>\n<path fill=\"none\" stroke=\"black\" d=\"M5611.17,-213.77C5619.51,-202.66 5628.62,-190.51 5637,-179.33\"/>\n<polygon fill=\"black\" stroke=\"black\" points=\"5640.04,-181.11 5643.24,-171.01 5634.44,-176.91 5640.04,-181.11\"/>\n</g>\n<!-- 113 -->\n<g id=\"node114\" class=\"node\">\n<title>113</title>\n<path fill=\"#ffffff\" stroke=\"black\" d=\"M5487.5,-64C5487.5,-64 5401.5,-64 5401.5,-64 5395.5,-64 5389.5,-58 5389.5,-52 5389.5,-52 5389.5,-12 5389.5,-12 5389.5,-6 5395.5,0 5401.5,0 5401.5,0 5487.5,0 5487.5,0 5493.5,0 5499.5,-6 5499.5,-12 5499.5,-12 5499.5,-52 5499.5,-52 5499.5,-58 5493.5,-64 5487.5,-64\"/>\n<text text-anchor=\"start\" x=\"5416.5\" y=\"-49.8\" font-family=\"Helvetica,sans-Serif\" font-size=\"14.00\">gini = 0.5</text>\n<text text-anchor=\"start\" x=\"5403.5\" y=\"-35.8\" font-family=\"Helvetica,sans-Serif\" font-size=\"14.00\">samples = 36</text>\n<text text-anchor=\"start\" x=\"5397.5\" y=\"-21.8\" font-family=\"Helvetica,sans-Serif\" font-size=\"14.00\">value = [18, 18]</text>\n<text text-anchor=\"start\" x=\"5414\" y=\"-7.8\" font-family=\"Helvetica,sans-Serif\" font-size=\"14.00\">class = y</text>\n<text text-anchor=\"start\" x=\"5468\" y=\"-7.8\" font-family=\"Helvetica,sans-Serif\" baseline-shift=\"sub\" font-size=\"14.00\">0</text>\n</g>\n<!-- 112&#45;&gt;113 -->\n<g id=\"edge113\" class=\"edge\">\n<title>112&#45;&gt;113</title>\n<path fill=\"none\" stroke=\"black\" d=\"M5491.57,-99.8C5485.31,-90.91 5478.63,-81.43 5472.33,-72.49\"/>\n<polygon fill=\"black\" stroke=\"black\" points=\"5475.05,-70.27 5466.43,-64.12 5469.33,-74.31 5475.05,-70.27\"/>\n</g>\n<!-- 114 -->\n<g id=\"node115\" class=\"node\">\n<title>114</title>\n<path fill=\"#f2bf9b\" stroke=\"black\" d=\"M5623,-64C5623,-64 5530,-64 5530,-64 5524,-64 5518,-58 5518,-52 5518,-52 5518,-12 5518,-12 5518,-6 5524,0 5530,0 5530,0 5623,0 5623,0 5629,0 5635,-6 5635,-12 5635,-12 5635,-52 5635,-52 5635,-58 5629,-64 5623,-64\"/>\n<text text-anchor=\"start\" x=\"5541\" y=\"-49.8\" font-family=\"Helvetica,sans-Serif\" font-size=\"14.00\">gini = 0.443</text>\n<text text-anchor=\"start\" x=\"5531.5\" y=\"-35.8\" font-family=\"Helvetica,sans-Serif\" font-size=\"14.00\">samples = 151</text>\n<text text-anchor=\"start\" x=\"5526\" y=\"-21.8\" font-family=\"Helvetica,sans-Serif\" font-size=\"14.00\">value = [101, 50]</text>\n<text text-anchor=\"start\" x=\"5546\" y=\"-7.8\" font-family=\"Helvetica,sans-Serif\" font-size=\"14.00\">class = y</text>\n<text text-anchor=\"start\" x=\"5600\" y=\"-7.8\" font-family=\"Helvetica,sans-Serif\" baseline-shift=\"sub\" font-size=\"14.00\">0</text>\n</g>\n<!-- 112&#45;&gt;114 -->\n<g id=\"edge114\" class=\"edge\">\n<title>112&#45;&gt;114</title>\n<path fill=\"none\" stroke=\"black\" d=\"M5539.6,-99.8C5544.41,-91.09 5549.53,-81.82 5554.38,-73.04\"/>\n<polygon fill=\"black\" stroke=\"black\" points=\"5557.54,-74.56 5559.31,-64.12 5551.41,-71.18 5557.54,-74.56\"/>\n</g>\n<!-- 117 -->\n<g id=\"node118\" class=\"node\">\n<title>117</title>\n<path fill=\"#e9965a\" stroke=\"black\" d=\"M5978,-292C5978,-292 5847,-292 5847,-292 5841,-292 5835,-286 5835,-280 5835,-280 5835,-226 5835,-226 5835,-220 5841,-214 5847,-214 5847,-214 5978,-214 5978,-214 5984,-214 5990,-220 5990,-226 5990,-226 5990,-280 5990,-280 5990,-286 5984,-292 5978,-292\"/>\n<text text-anchor=\"start\" x=\"5843\" y=\"-277.8\" font-family=\"Helvetica,sans-Serif\" font-size=\"14.00\">Leg room service ≤ 4.5</text>\n<text text-anchor=\"start\" x=\"5877\" y=\"-263.8\" font-family=\"Helvetica,sans-Serif\" font-size=\"14.00\">gini = 0.246</text>\n<text text-anchor=\"start\" x=\"5867.5\" y=\"-249.8\" font-family=\"Helvetica,sans-Serif\" font-size=\"14.00\">samples = 884</text>\n<text text-anchor=\"start\" x=\"5858\" y=\"-235.8\" font-family=\"Helvetica,sans-Serif\" font-size=\"14.00\">value = [757, 127]</text>\n<text text-anchor=\"start\" x=\"5882\" y=\"-221.8\" font-family=\"Helvetica,sans-Serif\" font-size=\"14.00\">class = y</text>\n<text text-anchor=\"start\" x=\"5936\" y=\"-221.8\" font-family=\"Helvetica,sans-Serif\" baseline-shift=\"sub\" font-size=\"14.00\">0</text>\n</g>\n<!-- 116&#45;&gt;117 -->\n<g id=\"edge117\" class=\"edge\">\n<title>116&#45;&gt;117</title>\n<path fill=\"none\" stroke=\"black\" d=\"M5912.5,-327.77C5912.5,-319.57 5912.5,-310.8 5912.5,-302.28\"/>\n<polygon fill=\"black\" stroke=\"black\" points=\"5916,-302.06 5912.5,-292.06 5909,-302.06 5916,-302.06\"/>\n</g>\n<!-- 124 -->\n<g id=\"node125\" class=\"node\">\n<title>124</title>\n<path fill=\"#e78c4a\" stroke=\"black\" d=\"M6322,-292C6322,-292 6215,-292 6215,-292 6209,-292 6203,-286 6203,-280 6203,-280 6203,-226 6203,-226 6203,-220 6209,-214 6215,-214 6215,-214 6322,-214 6322,-214 6328,-214 6334,-220 6334,-226 6334,-226 6334,-280 6334,-280 6334,-286 6328,-292 6322,-292\"/>\n<text text-anchor=\"start\" x=\"6211\" y=\"-277.8\" font-family=\"Helvetica,sans-Serif\" font-size=\"14.00\">Gate location ≤ 2.5</text>\n<text text-anchor=\"start\" x=\"6233\" y=\"-263.8\" font-family=\"Helvetica,sans-Serif\" font-size=\"14.00\">gini = 0.147</text>\n<text text-anchor=\"start\" x=\"6223.5\" y=\"-249.8\" font-family=\"Helvetica,sans-Serif\" font-size=\"14.00\">samples = 314</text>\n<text text-anchor=\"start\" x=\"6218\" y=\"-235.8\" font-family=\"Helvetica,sans-Serif\" font-size=\"14.00\">value = [289, 25]</text>\n<text text-anchor=\"start\" x=\"6238\" y=\"-221.8\" font-family=\"Helvetica,sans-Serif\" font-size=\"14.00\">class = y</text>\n<text text-anchor=\"start\" x=\"6292\" y=\"-221.8\" font-family=\"Helvetica,sans-Serif\" baseline-shift=\"sub\" font-size=\"14.00\">0</text>\n</g>\n<!-- 116&#45;&gt;124 -->\n<g id=\"edge124\" class=\"edge\">\n<title>116&#45;&gt;124</title>\n<path fill=\"none\" stroke=\"black\" d=\"M5978.63,-345.2C6039.45,-326.06 6129.57,-297.71 6193.15,-277.7\"/>\n<polygon fill=\"black\" stroke=\"black\" points=\"6194.24,-281.03 6202.73,-274.69 6192.14,-274.35 6194.24,-281.03\"/>\n</g>\n<!-- 118 -->\n<g id=\"node119\" class=\"node\">\n<title>118</title>\n<path fill=\"#ea995e\" stroke=\"black\" d=\"M5885,-178C5885,-178 5772,-178 5772,-178 5766,-178 5760,-172 5760,-166 5760,-166 5760,-112 5760,-112 5760,-106 5766,-100 5772,-100 5772,-100 5885,-100 5885,-100 5891,-100 5897,-106 5897,-112 5897,-112 5897,-166 5897,-166 5897,-172 5891,-178 5885,-178\"/>\n<text text-anchor=\"start\" x=\"5768\" y=\"-163.8\" font-family=\"Helvetica,sans-Serif\" font-size=\"14.00\">Inflight service ≤ 4.5</text>\n<text text-anchor=\"start\" x=\"5793\" y=\"-149.8\" font-family=\"Helvetica,sans-Serif\" font-size=\"14.00\">gini = 0.267</text>\n<text text-anchor=\"start\" x=\"5783.5\" y=\"-135.8\" font-family=\"Helvetica,sans-Serif\" font-size=\"14.00\">samples = 706</text>\n<text text-anchor=\"start\" x=\"5774\" y=\"-121.8\" font-family=\"Helvetica,sans-Serif\" font-size=\"14.00\">value = [594, 112]</text>\n<text text-anchor=\"start\" x=\"5798\" y=\"-107.8\" font-family=\"Helvetica,sans-Serif\" font-size=\"14.00\">class = y</text>\n<text text-anchor=\"start\" x=\"5852\" y=\"-107.8\" font-family=\"Helvetica,sans-Serif\" baseline-shift=\"sub\" font-size=\"14.00\">0</text>\n</g>\n<!-- 117&#45;&gt;118 -->\n<g id=\"edge118\" class=\"edge\">\n<title>117&#45;&gt;118</title>\n<path fill=\"none\" stroke=\"black\" d=\"M5883.83,-213.77C5877.2,-204.94 5870.09,-195.45 5863.24,-186.32\"/>\n<polygon fill=\"black\" stroke=\"black\" points=\"5865.84,-183.96 5857.04,-178.06 5860.24,-188.16 5865.84,-183.96\"/>\n</g>\n<!-- 121 -->\n<g id=\"node122\" class=\"node\">\n<title>121</title>\n<path fill=\"#e78d4b\" stroke=\"black\" d=\"M6065.5,-178C6065.5,-178 5927.5,-178 5927.5,-178 5921.5,-178 5915.5,-172 5915.5,-166 5915.5,-166 5915.5,-112 5915.5,-112 5915.5,-106 5921.5,-100 5927.5,-100 5927.5,-100 6065.5,-100 6065.5,-100 6071.5,-100 6077.5,-106 6077.5,-112 6077.5,-112 6077.5,-166 6077.5,-166 6077.5,-172 6071.5,-178 6065.5,-178\"/>\n<text text-anchor=\"start\" x=\"5923.5\" y=\"-163.8\" font-family=\"Helvetica,sans-Serif\" font-size=\"14.00\">Flight Distance ≤ 1386.5</text>\n<text text-anchor=\"start\" x=\"5961\" y=\"-149.8\" font-family=\"Helvetica,sans-Serif\" font-size=\"14.00\">gini = 0.154</text>\n<text text-anchor=\"start\" x=\"5951.5\" y=\"-135.8\" font-family=\"Helvetica,sans-Serif\" font-size=\"14.00\">samples = 178</text>\n<text text-anchor=\"start\" x=\"5946\" y=\"-121.8\" font-family=\"Helvetica,sans-Serif\" font-size=\"14.00\">value = [163, 15]</text>\n<text text-anchor=\"start\" x=\"5966\" y=\"-107.8\" font-family=\"Helvetica,sans-Serif\" font-size=\"14.00\">class = y</text>\n<text text-anchor=\"start\" x=\"6020\" y=\"-107.8\" font-family=\"Helvetica,sans-Serif\" baseline-shift=\"sub\" font-size=\"14.00\">0</text>\n</g>\n<!-- 117&#45;&gt;121 -->\n<g id=\"edge121\" class=\"edge\">\n<title>117&#45;&gt;121</title>\n<path fill=\"none\" stroke=\"black\" d=\"M5941.17,-213.77C5947.8,-204.94 5954.91,-195.45 5961.76,-186.32\"/>\n<polygon fill=\"black\" stroke=\"black\" points=\"5964.76,-188.16 5967.96,-178.06 5959.16,-183.96 5964.76,-188.16\"/>\n</g>\n<!-- 119 -->\n<g id=\"node120\" class=\"node\">\n<title>119</title>\n<path fill=\"#eb9c64\" stroke=\"black\" d=\"M5758,-64C5758,-64 5665,-64 5665,-64 5659,-64 5653,-58 5653,-52 5653,-52 5653,-12 5653,-12 5653,-6 5659,0 5665,0 5665,0 5758,0 5758,0 5764,0 5770,-6 5770,-12 5770,-12 5770,-52 5770,-52 5770,-58 5764,-64 5758,-64\"/>\n<text text-anchor=\"start\" x=\"5676\" y=\"-49.8\" font-family=\"Helvetica,sans-Serif\" font-size=\"14.00\">gini = 0.293</text>\n<text text-anchor=\"start\" x=\"5666.5\" y=\"-35.8\" font-family=\"Helvetica,sans-Serif\" font-size=\"14.00\">samples = 505</text>\n<text text-anchor=\"start\" x=\"5661\" y=\"-21.8\" font-family=\"Helvetica,sans-Serif\" font-size=\"14.00\">value = [415, 90]</text>\n<text text-anchor=\"start\" x=\"5681\" y=\"-7.8\" font-family=\"Helvetica,sans-Serif\" font-size=\"14.00\">class = y</text>\n<text text-anchor=\"start\" x=\"5735\" y=\"-7.8\" font-family=\"Helvetica,sans-Serif\" baseline-shift=\"sub\" font-size=\"14.00\">0</text>\n</g>\n<!-- 118&#45;&gt;119 -->\n<g id=\"edge119\" class=\"edge\">\n<title>118&#45;&gt;119</title>\n<path fill=\"none\" stroke=\"black\" d=\"M5785.93,-99.8C5775.41,-90.36 5764.16,-80.25 5753.66,-70.84\"/>\n<polygon fill=\"black\" stroke=\"black\" points=\"5755.95,-68.19 5746.17,-64.12 5751.28,-73.4 5755.95,-68.19\"/>\n</g>\n<!-- 120 -->\n<g id=\"node121\" class=\"node\">\n<title>120</title>\n<path fill=\"#e89051\" stroke=\"black\" d=\"M5893,-64C5893,-64 5800,-64 5800,-64 5794,-64 5788,-58 5788,-52 5788,-52 5788,-12 5788,-12 5788,-6 5794,0 5800,0 5800,0 5893,0 5893,0 5899,0 5905,-6 5905,-12 5905,-12 5905,-52 5905,-52 5905,-58 5899,-64 5893,-64\"/>\n<text text-anchor=\"start\" x=\"5811\" y=\"-49.8\" font-family=\"Helvetica,sans-Serif\" font-size=\"14.00\">gini = 0.195</text>\n<text text-anchor=\"start\" x=\"5801.5\" y=\"-35.8\" font-family=\"Helvetica,sans-Serif\" font-size=\"14.00\">samples = 201</text>\n<text text-anchor=\"start\" x=\"5796\" y=\"-21.8\" font-family=\"Helvetica,sans-Serif\" font-size=\"14.00\">value = [179, 22]</text>\n<text text-anchor=\"start\" x=\"5816\" y=\"-7.8\" font-family=\"Helvetica,sans-Serif\" font-size=\"14.00\">class = y</text>\n<text text-anchor=\"start\" x=\"5870\" y=\"-7.8\" font-family=\"Helvetica,sans-Serif\" baseline-shift=\"sub\" font-size=\"14.00\">0</text>\n</g>\n<!-- 118&#45;&gt;120 -->\n<g id=\"edge120\" class=\"edge\">\n<title>118&#45;&gt;120</title>\n<path fill=\"none\" stroke=\"black\" d=\"M5835.05,-99.8C5836.48,-91.46 5838,-82.6 5839.45,-74.15\"/>\n<polygon fill=\"black\" stroke=\"black\" points=\"5842.93,-74.56 5841.17,-64.12 5836.03,-73.38 5842.93,-74.56\"/>\n</g>\n<!-- 122 -->\n<g id=\"node123\" class=\"node\">\n<title>122</title>\n<path fill=\"#e78945\" stroke=\"black\" d=\"M6021.5,-64C6021.5,-64 5935.5,-64 5935.5,-64 5929.5,-64 5923.5,-58 5923.5,-52 5923.5,-52 5923.5,-12 5923.5,-12 5923.5,-6 5929.5,0 5935.5,0 5935.5,0 6021.5,0 6021.5,0 6027.5,0 6033.5,-6 6033.5,-12 6033.5,-12 6033.5,-52 6033.5,-52 6033.5,-58 6027.5,-64 6021.5,-64\"/>\n<text text-anchor=\"start\" x=\"5943\" y=\"-49.8\" font-family=\"Helvetica,sans-Serif\" font-size=\"14.00\">gini = 0.109</text>\n<text text-anchor=\"start\" x=\"5933.5\" y=\"-35.8\" font-family=\"Helvetica,sans-Serif\" font-size=\"14.00\">samples = 155</text>\n<text text-anchor=\"start\" x=\"5931.5\" y=\"-21.8\" font-family=\"Helvetica,sans-Serif\" font-size=\"14.00\">value = [146, 9]</text>\n<text text-anchor=\"start\" x=\"5948\" y=\"-7.8\" font-family=\"Helvetica,sans-Serif\" font-size=\"14.00\">class = y</text>\n<text text-anchor=\"start\" x=\"6002\" y=\"-7.8\" font-family=\"Helvetica,sans-Serif\" baseline-shift=\"sub\" font-size=\"14.00\">0</text>\n</g>\n<!-- 121&#45;&gt;122 -->\n<g id=\"edge122\" class=\"edge\">\n<title>121&#45;&gt;122</title>\n<path fill=\"none\" stroke=\"black\" d=\"M5989.95,-99.8C5988.52,-91.46 5987,-82.6 5985.55,-74.15\"/>\n<polygon fill=\"black\" stroke=\"black\" points=\"5988.97,-73.38 5983.83,-64.12 5982.07,-74.56 5988.97,-73.38\"/>\n</g>\n<!-- 123 -->\n<g id=\"node124\" class=\"node\">\n<title>123</title>\n<path fill=\"#eead7f\" stroke=\"black\" d=\"M6141.5,-64C6141.5,-64 6063.5,-64 6063.5,-64 6057.5,-64 6051.5,-58 6051.5,-52 6051.5,-52 6051.5,-12 6051.5,-12 6051.5,-6 6057.5,0 6063.5,0 6063.5,0 6141.5,0 6141.5,0 6147.5,0 6153.5,-6 6153.5,-12 6153.5,-12 6153.5,-52 6153.5,-52 6153.5,-58 6147.5,-64 6141.5,-64\"/>\n<text text-anchor=\"start\" x=\"6067\" y=\"-49.8\" font-family=\"Helvetica,sans-Serif\" font-size=\"14.00\">gini = 0.386</text>\n<text text-anchor=\"start\" x=\"6061.5\" y=\"-35.8\" font-family=\"Helvetica,sans-Serif\" font-size=\"14.00\">samples = 23</text>\n<text text-anchor=\"start\" x=\"6059.5\" y=\"-21.8\" font-family=\"Helvetica,sans-Serif\" font-size=\"14.00\">value = [17, 6]</text>\n<text text-anchor=\"start\" x=\"6072\" y=\"-7.8\" font-family=\"Helvetica,sans-Serif\" font-size=\"14.00\">class = y</text>\n<text text-anchor=\"start\" x=\"6126\" y=\"-7.8\" font-family=\"Helvetica,sans-Serif\" baseline-shift=\"sub\" font-size=\"14.00\">0</text>\n</g>\n<!-- 121&#45;&gt;123 -->\n<g id=\"edge123\" class=\"edge\">\n<title>121&#45;&gt;123</title>\n<path fill=\"none\" stroke=\"black\" d=\"M6035.07,-99.8C6044.41,-90.54 6054.4,-80.65 6063.75,-71.38\"/>\n<polygon fill=\"black\" stroke=\"black\" points=\"6066.45,-73.64 6071.09,-64.12 6061.52,-68.67 6066.45,-73.64\"/>\n</g>\n<!-- 125 -->\n<g id=\"node126\" class=\"node\">\n<title>125</title>\n<path fill=\"#e99659\" stroke=\"black\" d=\"M6326.5,-178C6326.5,-178 6210.5,-178 6210.5,-178 6204.5,-178 6198.5,-172 6198.5,-166 6198.5,-166 6198.5,-112 6198.5,-112 6198.5,-106 6204.5,-100 6210.5,-100 6210.5,-100 6326.5,-100 6326.5,-100 6332.5,-100 6338.5,-106 6338.5,-112 6338.5,-112 6338.5,-166 6338.5,-166 6338.5,-172 6332.5,-178 6326.5,-178\"/>\n<text text-anchor=\"start\" x=\"6206.5\" y=\"-163.8\" font-family=\"Helvetica,sans-Serif\" font-size=\"14.00\">Food and drink ≤ 2.5</text>\n<text text-anchor=\"start\" x=\"6233\" y=\"-149.8\" font-family=\"Helvetica,sans-Serif\" font-size=\"14.00\">gini = 0.241</text>\n<text text-anchor=\"start\" x=\"6223.5\" y=\"-135.8\" font-family=\"Helvetica,sans-Serif\" font-size=\"14.00\">samples = 100</text>\n<text text-anchor=\"start\" x=\"6221.5\" y=\"-121.8\" font-family=\"Helvetica,sans-Serif\" font-size=\"14.00\">value = [86, 14]</text>\n<text text-anchor=\"start\" x=\"6238\" y=\"-107.8\" font-family=\"Helvetica,sans-Serif\" font-size=\"14.00\">class = y</text>\n<text text-anchor=\"start\" x=\"6292\" y=\"-107.8\" font-family=\"Helvetica,sans-Serif\" baseline-shift=\"sub\" font-size=\"14.00\">0</text>\n</g>\n<!-- 124&#45;&gt;125 -->\n<g id=\"edge125\" class=\"edge\">\n<title>124&#45;&gt;125</title>\n<path fill=\"none\" stroke=\"black\" d=\"M6268.5,-213.77C6268.5,-205.57 6268.5,-196.8 6268.5,-188.28\"/>\n<polygon fill=\"black\" stroke=\"black\" points=\"6272,-188.06 6268.5,-178.06 6265,-188.06 6272,-188.06\"/>\n</g>\n<!-- 128 -->\n<g id=\"node129\" class=\"node\">\n<title>128</title>\n<path fill=\"#e68844\" stroke=\"black\" d=\"M6535.5,-178C6535.5,-178 6413.5,-178 6413.5,-178 6407.5,-178 6401.5,-172 6401.5,-166 6401.5,-166 6401.5,-112 6401.5,-112 6401.5,-106 6407.5,-100 6413.5,-100 6413.5,-100 6535.5,-100 6535.5,-100 6541.5,-100 6547.5,-106 6547.5,-112 6547.5,-112 6547.5,-166 6547.5,-166 6547.5,-172 6541.5,-178 6535.5,-178\"/>\n<text text-anchor=\"start\" x=\"6409.5\" y=\"-163.8\" font-family=\"Helvetica,sans-Serif\" font-size=\"14.00\">Checkin service ≤ 3.5</text>\n<text text-anchor=\"start\" x=\"6439\" y=\"-149.8\" font-family=\"Helvetica,sans-Serif\" font-size=\"14.00\">gini = 0.098</text>\n<text text-anchor=\"start\" x=\"6429.5\" y=\"-135.8\" font-family=\"Helvetica,sans-Serif\" font-size=\"14.00\">samples = 214</text>\n<text text-anchor=\"start\" x=\"6424\" y=\"-121.8\" font-family=\"Helvetica,sans-Serif\" font-size=\"14.00\">value = [203, 11]</text>\n<text text-anchor=\"start\" x=\"6444\" y=\"-107.8\" font-family=\"Helvetica,sans-Serif\" font-size=\"14.00\">class = y</text>\n<text text-anchor=\"start\" x=\"6498\" y=\"-107.8\" font-family=\"Helvetica,sans-Serif\" baseline-shift=\"sub\" font-size=\"14.00\">0</text>\n</g>\n<!-- 124&#45;&gt;128 -->\n<g id=\"edge128\" class=\"edge\">\n<title>124&#45;&gt;128</title>\n<path fill=\"none\" stroke=\"black\" d=\"M6334.25,-216.25C6353.73,-205.66 6375.28,-193.95 6395.51,-182.94\"/>\n<polygon fill=\"black\" stroke=\"black\" points=\"6397.29,-185.96 6404.4,-178.11 6393.94,-179.81 6397.29,-185.96\"/>\n</g>\n<!-- 126 -->\n<g id=\"node127\" class=\"node\">\n<title>126</title>\n<path fill=\"#e6853f\" stroke=\"black\" d=\"M6261.5,-64C6261.5,-64 6183.5,-64 6183.5,-64 6177.5,-64 6171.5,-58 6171.5,-52 6171.5,-52 6171.5,-12 6171.5,-12 6171.5,-6 6177.5,0 6183.5,0 6183.5,0 6261.5,0 6261.5,0 6267.5,0 6273.5,-6 6273.5,-12 6273.5,-12 6273.5,-52 6273.5,-52 6273.5,-58 6267.5,-64 6261.5,-64\"/>\n<text text-anchor=\"start\" x=\"6187\" y=\"-49.8\" font-family=\"Helvetica,sans-Serif\" font-size=\"14.00\">gini = 0.054</text>\n<text text-anchor=\"start\" x=\"6181.5\" y=\"-35.8\" font-family=\"Helvetica,sans-Serif\" font-size=\"14.00\">samples = 36</text>\n<text text-anchor=\"start\" x=\"6179.5\" y=\"-21.8\" font-family=\"Helvetica,sans-Serif\" font-size=\"14.00\">value = [35, 1]</text>\n<text text-anchor=\"start\" x=\"6192\" y=\"-7.8\" font-family=\"Helvetica,sans-Serif\" font-size=\"14.00\">class = y</text>\n<text text-anchor=\"start\" x=\"6246\" y=\"-7.8\" font-family=\"Helvetica,sans-Serif\" baseline-shift=\"sub\" font-size=\"14.00\">0</text>\n</g>\n<!-- 125&#45;&gt;126 -->\n<g id=\"edge126\" class=\"edge\">\n<title>125&#45;&gt;126</title>\n<path fill=\"none\" stroke=\"black\" d=\"M6251.76,-99.8C6247.99,-91.18 6243.97,-82.02 6240.16,-73.32\"/>\n<polygon fill=\"black\" stroke=\"black\" points=\"6243.35,-71.87 6236.13,-64.12 6236.94,-74.68 6243.35,-71.87\"/>\n</g>\n<!-- 127 -->\n<g id=\"node128\" class=\"node\">\n<title>127</title>\n<path fill=\"#eca16b\" stroke=\"black\" d=\"M6389.5,-64C6389.5,-64 6303.5,-64 6303.5,-64 6297.5,-64 6291.5,-58 6291.5,-52 6291.5,-52 6291.5,-12 6291.5,-12 6291.5,-6 6297.5,0 6303.5,0 6303.5,0 6389.5,0 6389.5,0 6395.5,0 6401.5,-6 6401.5,-12 6401.5,-12 6401.5,-52 6401.5,-52 6401.5,-58 6395.5,-64 6389.5,-64\"/>\n<text text-anchor=\"start\" x=\"6311\" y=\"-49.8\" font-family=\"Helvetica,sans-Serif\" font-size=\"14.00\">gini = 0.324</text>\n<text text-anchor=\"start\" x=\"6305.5\" y=\"-35.8\" font-family=\"Helvetica,sans-Serif\" font-size=\"14.00\">samples = 64</text>\n<text text-anchor=\"start\" x=\"6299.5\" y=\"-21.8\" font-family=\"Helvetica,sans-Serif\" font-size=\"14.00\">value = [51, 13]</text>\n<text text-anchor=\"start\" x=\"6316\" y=\"-7.8\" font-family=\"Helvetica,sans-Serif\" font-size=\"14.00\">class = y</text>\n<text text-anchor=\"start\" x=\"6370\" y=\"-7.8\" font-family=\"Helvetica,sans-Serif\" baseline-shift=\"sub\" font-size=\"14.00\">0</text>\n</g>\n<!-- 125&#45;&gt;127 -->\n<g id=\"edge127\" class=\"edge\">\n<title>125&#45;&gt;127</title>\n<path fill=\"none\" stroke=\"black\" d=\"M6296.88,-99.8C6303.55,-90.82 6310.67,-81.23 6317.37,-72.21\"/>\n<polygon fill=\"black\" stroke=\"black\" points=\"6320.23,-74.23 6323.38,-64.12 6314.61,-70.06 6320.23,-74.23\"/>\n</g>\n<!-- 129 -->\n<g id=\"node130\" class=\"node\">\n<title>129</title>\n<path fill=\"#e6843d\" stroke=\"black\" d=\"M6517.5,-64C6517.5,-64 6431.5,-64 6431.5,-64 6425.5,-64 6419.5,-58 6419.5,-52 6419.5,-52 6419.5,-12 6419.5,-12 6419.5,-6 6425.5,0 6431.5,0 6431.5,0 6517.5,0 6517.5,0 6523.5,0 6529.5,-6 6529.5,-12 6529.5,-12 6529.5,-52 6529.5,-52 6529.5,-58 6523.5,-64 6517.5,-64\"/>\n<text text-anchor=\"start\" x=\"6439\" y=\"-49.8\" font-family=\"Helvetica,sans-Serif\" font-size=\"14.00\">gini = 0.038</text>\n<text text-anchor=\"start\" x=\"6429.5\" y=\"-35.8\" font-family=\"Helvetica,sans-Serif\" font-size=\"14.00\">samples = 102</text>\n<text text-anchor=\"start\" x=\"6427.5\" y=\"-21.8\" font-family=\"Helvetica,sans-Serif\" font-size=\"14.00\">value = [100, 2]</text>\n<text text-anchor=\"start\" x=\"6444\" y=\"-7.8\" font-family=\"Helvetica,sans-Serif\" font-size=\"14.00\">class = y</text>\n<text text-anchor=\"start\" x=\"6498\" y=\"-7.8\" font-family=\"Helvetica,sans-Serif\" baseline-shift=\"sub\" font-size=\"14.00\">0</text>\n</g>\n<!-- 128&#45;&gt;129 -->\n<g id=\"edge129\" class=\"edge\">\n<title>128&#45;&gt;129</title>\n<path fill=\"none\" stroke=\"black\" d=\"M6474.5,-99.8C6474.5,-91.46 6474.5,-82.6 6474.5,-74.15\"/>\n<polygon fill=\"black\" stroke=\"black\" points=\"6478,-74.12 6474.5,-64.12 6471,-74.12 6478,-74.12\"/>\n</g>\n<!-- 130 -->\n<g id=\"node131\" class=\"node\">\n<title>130</title>\n<path fill=\"#e78c4a\" stroke=\"black\" d=\"M6645.5,-64C6645.5,-64 6559.5,-64 6559.5,-64 6553.5,-64 6547.5,-58 6547.5,-52 6547.5,-52 6547.5,-12 6547.5,-12 6547.5,-6 6553.5,0 6559.5,0 6559.5,0 6645.5,0 6645.5,0 6651.5,0 6657.5,-6 6657.5,-12 6657.5,-12 6657.5,-52 6657.5,-52 6657.5,-58 6651.5,-64 6645.5,-64\"/>\n<text text-anchor=\"start\" x=\"6567\" y=\"-49.8\" font-family=\"Helvetica,sans-Serif\" font-size=\"14.00\">gini = 0.148</text>\n<text text-anchor=\"start\" x=\"6557.5\" y=\"-35.8\" font-family=\"Helvetica,sans-Serif\" font-size=\"14.00\">samples = 112</text>\n<text text-anchor=\"start\" x=\"6555.5\" y=\"-21.8\" font-family=\"Helvetica,sans-Serif\" font-size=\"14.00\">value = [103, 9]</text>\n<text text-anchor=\"start\" x=\"6572\" y=\"-7.8\" font-family=\"Helvetica,sans-Serif\" font-size=\"14.00\">class = y</text>\n<text text-anchor=\"start\" x=\"6626\" y=\"-7.8\" font-family=\"Helvetica,sans-Serif\" baseline-shift=\"sub\" font-size=\"14.00\">0</text>\n</g>\n<!-- 128&#45;&gt;130 -->\n<g id=\"edge130\" class=\"edge\">\n<title>128&#45;&gt;130</title>\n<path fill=\"none\" stroke=\"black\" d=\"M6521.07,-99.8C6532.69,-90.27 6545.13,-80.06 6556.71,-70.56\"/>\n<polygon fill=\"black\" stroke=\"black\" points=\"6559.05,-73.17 6564.57,-64.12 6554.62,-67.75 6559.05,-73.17\"/>\n</g>\n<!-- 133 -->\n<g id=\"node134\" class=\"node\">\n<title>133</title>\n<path fill=\"#b3daf5\" stroke=\"black\" d=\"M8681.5,-634C8681.5,-634 8559.5,-634 8559.5,-634 8553.5,-634 8547.5,-628 8547.5,-622 8547.5,-622 8547.5,-568 8547.5,-568 8547.5,-562 8553.5,-556 8559.5,-556 8559.5,-556 8681.5,-556 8681.5,-556 8687.5,-556 8693.5,-562 8693.5,-568 8693.5,-568 8693.5,-622 8693.5,-622 8693.5,-628 8687.5,-634 8681.5,-634\"/>\n<text text-anchor=\"start\" x=\"8555.5\" y=\"-619.8\" font-family=\"Helvetica,sans-Serif\" font-size=\"14.00\">Online boarding ≤ 4.5</text>\n<text text-anchor=\"start\" x=\"8585\" y=\"-605.8\" font-family=\"Helvetica,sans-Serif\" font-size=\"14.00\">gini = 0.472</text>\n<text text-anchor=\"start\" x=\"8568\" y=\"-591.8\" font-family=\"Helvetica,sans-Serif\" font-size=\"14.00\">samples = 10106</text>\n<text text-anchor=\"start\" x=\"8558.5\" y=\"-577.8\" font-family=\"Helvetica,sans-Serif\" font-size=\"14.00\">value = [3858, 6248]</text>\n<text text-anchor=\"start\" x=\"8590\" y=\"-563.8\" font-family=\"Helvetica,sans-Serif\" font-size=\"14.00\">class = y</text>\n<text text-anchor=\"start\" x=\"8644\" y=\"-563.8\" font-family=\"Helvetica,sans-Serif\" baseline-shift=\"sub\" font-size=\"14.00\">1</text>\n</g>\n<!-- 132&#45;&gt;133 -->\n<g id=\"edge133\" class=\"edge\">\n<title>132&#45;&gt;133</title>\n<path fill=\"none\" stroke=\"black\" d=\"M8620.5,-669.77C8620.5,-661.57 8620.5,-652.8 8620.5,-644.28\"/>\n<polygon fill=\"black\" stroke=\"black\" points=\"8624,-644.06 8620.5,-634.06 8617,-644.06 8624,-644.06\"/>\n</g>\n<!-- 184 -->\n<g id=\"node185\" class=\"node\">\n<title>184</title>\n<path fill=\"#49a5e7\" stroke=\"black\" d=\"M10551.5,-634C10551.5,-634 10417.5,-634 10417.5,-634 10411.5,-634 10405.5,-628 10405.5,-622 10405.5,-622 10405.5,-568 10405.5,-568 10405.5,-562 10411.5,-556 10417.5,-556 10417.5,-556 10551.5,-556 10551.5,-556 10557.5,-556 10563.5,-562 10563.5,-568 10563.5,-568 10563.5,-622 10563.5,-622 10563.5,-628 10557.5,-634 10551.5,-634\"/>\n<text text-anchor=\"start\" x=\"10413.5\" y=\"-619.8\" font-family=\"Helvetica,sans-Serif\" font-size=\"14.00\">Customer Type_2 ≤ 0.5</text>\n<text text-anchor=\"start\" x=\"10449\" y=\"-605.8\" font-family=\"Helvetica,sans-Serif\" font-size=\"14.00\">gini = 0.135</text>\n<text text-anchor=\"start\" x=\"10432\" y=\"-591.8\" font-family=\"Helvetica,sans-Serif\" font-size=\"14.00\">samples = 30836</text>\n<text text-anchor=\"start\" x=\"10419\" y=\"-577.8\" font-family=\"Helvetica,sans-Serif\" font-size=\"14.00\">value = [2250, 28586]</text>\n<text text-anchor=\"start\" x=\"10454\" y=\"-563.8\" font-family=\"Helvetica,sans-Serif\" font-size=\"14.00\">class = y</text>\n<text text-anchor=\"start\" x=\"10508\" y=\"-563.8\" font-family=\"Helvetica,sans-Serif\" baseline-shift=\"sub\" font-size=\"14.00\">1</text>\n</g>\n<!-- 132&#45;&gt;184 -->\n<g id=\"edge184\" class=\"edge\">\n<title>132&#45;&gt;184</title>\n<path fill=\"none\" stroke=\"black\" d=\"M8709.15,-702.67C9023.18,-683.8 10080.63,-620.27 10395.39,-601.35\"/>\n<polygon fill=\"black\" stroke=\"black\" points=\"10395.6,-604.85 10405.38,-600.75 10395.18,-597.86 10395.6,-604.85\"/>\n</g>\n<!-- 134 -->\n<g id=\"node135\" class=\"node\">\n<title>134</title>\n<path fill=\"#fcf1e9\" stroke=\"black\" d=\"M8199.5,-520C8199.5,-520 8077.5,-520 8077.5,-520 8071.5,-520 8065.5,-514 8065.5,-508 8065.5,-508 8065.5,-454 8065.5,-454 8065.5,-448 8071.5,-442 8077.5,-442 8077.5,-442 8199.5,-442 8199.5,-442 8205.5,-442 8211.5,-448 8211.5,-454 8211.5,-454 8211.5,-508 8211.5,-508 8211.5,-514 8205.5,-520 8199.5,-520\"/>\n<text text-anchor=\"start\" x=\"8073.5\" y=\"-505.8\" font-family=\"Helvetica,sans-Serif\" font-size=\"14.00\">Checkin service ≤ 2.5</text>\n<text text-anchor=\"start\" x=\"8103\" y=\"-491.8\" font-family=\"Helvetica,sans-Serif\" font-size=\"14.00\">gini = 0.498</text>\n<text text-anchor=\"start\" x=\"8090\" y=\"-477.8\" font-family=\"Helvetica,sans-Serif\" font-size=\"14.00\">samples = 7016</text>\n<text text-anchor=\"start\" x=\"8076.5\" y=\"-463.8\" font-family=\"Helvetica,sans-Serif\" font-size=\"14.00\">value = [3716, 3300]</text>\n<text text-anchor=\"start\" x=\"8108\" y=\"-449.8\" font-family=\"Helvetica,sans-Serif\" font-size=\"14.00\">class = y</text>\n<text text-anchor=\"start\" x=\"8162\" y=\"-449.8\" font-family=\"Helvetica,sans-Serif\" baseline-shift=\"sub\" font-size=\"14.00\">0</text>\n</g>\n<!-- 133&#45;&gt;134 -->\n<g id=\"edge134\" class=\"edge\">\n<title>133&#45;&gt;134</title>\n<path fill=\"none\" stroke=\"black\" d=\"M8547.29,-576.99C8459.63,-556.62 8313.17,-522.59 8221.41,-501.27\"/>\n<polygon fill=\"black\" stroke=\"black\" points=\"8222.14,-497.84 8211.6,-498.99 8220.55,-504.66 8222.14,-497.84\"/>\n</g>\n<!-- 163 -->\n<g id=\"node164\" class=\"node\">\n<title>163</title>\n<path fill=\"#43a2e6\" stroke=\"black\" d=\"M8946.5,-520C8946.5,-520 8838.5,-520 8838.5,-520 8832.5,-520 8826.5,-514 8826.5,-508 8826.5,-508 8826.5,-454 8826.5,-454 8826.5,-448 8832.5,-442 8838.5,-442 8838.5,-442 8946.5,-442 8946.5,-442 8952.5,-442 8958.5,-448 8958.5,-454 8958.5,-454 8958.5,-508 8958.5,-508 8958.5,-514 8952.5,-520 8946.5,-520\"/>\n<text text-anchor=\"start\" x=\"8851\" y=\"-505.8\" font-family=\"Helvetica,sans-Serif\" font-size=\"14.00\">Class_2 ≤ 0.5</text>\n<text text-anchor=\"start\" x=\"8857\" y=\"-491.8\" font-family=\"Helvetica,sans-Serif\" font-size=\"14.00\">gini = 0.088</text>\n<text text-anchor=\"start\" x=\"8844\" y=\"-477.8\" font-family=\"Helvetica,sans-Serif\" font-size=\"14.00\">samples = 3090</text>\n<text text-anchor=\"start\" x=\"8834.5\" y=\"-463.8\" font-family=\"Helvetica,sans-Serif\" font-size=\"14.00\">value = [142, 2948]</text>\n<text text-anchor=\"start\" x=\"8862\" y=\"-449.8\" font-family=\"Helvetica,sans-Serif\" font-size=\"14.00\">class = y</text>\n<text text-anchor=\"start\" x=\"8916\" y=\"-449.8\" font-family=\"Helvetica,sans-Serif\" baseline-shift=\"sub\" font-size=\"14.00\">1</text>\n</g>\n<!-- 133&#45;&gt;163 -->\n<g id=\"edge163\" class=\"edge\">\n<title>133&#45;&gt;163</title>\n<path fill=\"none\" stroke=\"black\" d=\"M8693.75,-563.84C8731.75,-548.19 8778.13,-529.09 8816.52,-513.28\"/>\n<polygon fill=\"black\" stroke=\"black\" points=\"8818.19,-516.38 8826.1,-509.34 8815.52,-509.91 8818.19,-516.38\"/>\n</g>\n<!-- 135 -->\n<g id=\"node136\" class=\"node\">\n<title>135</title>\n<path fill=\"#e9975b\" stroke=\"black\" d=\"M7512,-406C7512,-406 7381,-406 7381,-406 7375,-406 7369,-400 7369,-394 7369,-394 7369,-340 7369,-340 7369,-334 7375,-328 7381,-328 7381,-328 7512,-328 7512,-328 7518,-328 7524,-334 7524,-340 7524,-340 7524,-394 7524,-394 7524,-400 7518,-406 7512,-406\"/>\n<text text-anchor=\"start\" x=\"7377\" y=\"-391.8\" font-family=\"Helvetica,sans-Serif\" font-size=\"14.00\">Leg room service ≤ 3.5</text>\n<text text-anchor=\"start\" x=\"7414.5\" y=\"-377.8\" font-family=\"Helvetica,sans-Serif\" font-size=\"14.00\">gini = 0.25</text>\n<text text-anchor=\"start\" x=\"7398\" y=\"-363.8\" font-family=\"Helvetica,sans-Serif\" font-size=\"14.00\">samples = 1894</text>\n<text text-anchor=\"start\" x=\"7388.5\" y=\"-349.8\" font-family=\"Helvetica,sans-Serif\" font-size=\"14.00\">value = [1616, 278]</text>\n<text text-anchor=\"start\" x=\"7416\" y=\"-335.8\" font-family=\"Helvetica,sans-Serif\" font-size=\"14.00\">class = y</text>\n<text text-anchor=\"start\" x=\"7470\" y=\"-335.8\" font-family=\"Helvetica,sans-Serif\" baseline-shift=\"sub\" font-size=\"14.00\">0</text>\n</g>\n<!-- 134&#45;&gt;135 -->\n<g id=\"edge135\" class=\"edge\">\n<title>134&#45;&gt;135</title>\n<path fill=\"none\" stroke=\"black\" d=\"M8065.43,-468.17C7937.22,-447.42 7672.31,-404.55 7534.35,-382.22\"/>\n<polygon fill=\"black\" stroke=\"black\" points=\"7534.67,-378.72 7524.24,-380.58 7533.55,-385.63 7534.67,-378.72\"/>\n</g>\n<!-- 150 -->\n<g id=\"node151\" class=\"node\">\n<title>150</title>\n<path fill=\"#c3e1f7\" stroke=\"black\" d=\"M8196.5,-406C8196.5,-406 8080.5,-406 8080.5,-406 8074.5,-406 8068.5,-400 8068.5,-394 8068.5,-394 8068.5,-340 8068.5,-340 8068.5,-334 8074.5,-328 8080.5,-328 8080.5,-328 8196.5,-328 8196.5,-328 8202.5,-328 8208.5,-334 8208.5,-340 8208.5,-340 8208.5,-394 8208.5,-394 8208.5,-400 8202.5,-406 8196.5,-406\"/>\n<text text-anchor=\"start\" x=\"8082.5\" y=\"-391.8\" font-family=\"Helvetica,sans-Serif\" font-size=\"14.00\">Seat comfort ≤ 4.5</text>\n<text text-anchor=\"start\" x=\"8103\" y=\"-377.8\" font-family=\"Helvetica,sans-Serif\" font-size=\"14.00\">gini = 0.484</text>\n<text text-anchor=\"start\" x=\"8090\" y=\"-363.8\" font-family=\"Helvetica,sans-Serif\" font-size=\"14.00\">samples = 5122</text>\n<text text-anchor=\"start\" x=\"8076.5\" y=\"-349.8\" font-family=\"Helvetica,sans-Serif\" font-size=\"14.00\">value = [2100, 3022]</text>\n<text text-anchor=\"start\" x=\"8108\" y=\"-335.8\" font-family=\"Helvetica,sans-Serif\" font-size=\"14.00\">class = y</text>\n<text text-anchor=\"start\" x=\"8162\" y=\"-335.8\" font-family=\"Helvetica,sans-Serif\" baseline-shift=\"sub\" font-size=\"14.00\">1</text>\n</g>\n<!-- 134&#45;&gt;150 -->\n<g id=\"edge150\" class=\"edge\">\n<title>134&#45;&gt;150</title>\n<path fill=\"none\" stroke=\"black\" d=\"M8138.5,-441.77C8138.5,-433.57 8138.5,-424.8 8138.5,-416.28\"/>\n<polygon fill=\"black\" stroke=\"black\" points=\"8142,-416.06 8138.5,-406.06 8135,-416.06 8142,-416.06\"/>\n</g>\n<!-- 136 -->\n<g id=\"node137\" class=\"node\">\n<title>136</title>\n<path fill=\"#e89050\" stroke=\"black\" d=\"M7130.5,-292C7130.5,-292 7022.5,-292 7022.5,-292 7016.5,-292 7010.5,-286 7010.5,-280 7010.5,-280 7010.5,-226 7010.5,-226 7010.5,-220 7016.5,-214 7022.5,-214 7022.5,-214 7130.5,-214 7130.5,-214 7136.5,-214 7142.5,-220 7142.5,-226 7142.5,-226 7142.5,-280 7142.5,-280 7142.5,-286 7136.5,-292 7130.5,-292\"/>\n<text text-anchor=\"start\" x=\"7043.5\" y=\"-277.8\" font-family=\"Helvetica,sans-Serif\" font-size=\"14.00\">Age ≤ 31.5</text>\n<text text-anchor=\"start\" x=\"7041\" y=\"-263.8\" font-family=\"Helvetica,sans-Serif\" font-size=\"14.00\">gini = 0.188</text>\n<text text-anchor=\"start\" x=\"7028\" y=\"-249.8\" font-family=\"Helvetica,sans-Serif\" font-size=\"14.00\">samples = 1599</text>\n<text text-anchor=\"start\" x=\"7018.5\" y=\"-235.8\" font-family=\"Helvetica,sans-Serif\" font-size=\"14.00\">value = [1431, 168]</text>\n<text text-anchor=\"start\" x=\"7046\" y=\"-221.8\" font-family=\"Helvetica,sans-Serif\" font-size=\"14.00\">class = y</text>\n<text text-anchor=\"start\" x=\"7100\" y=\"-221.8\" font-family=\"Helvetica,sans-Serif\" baseline-shift=\"sub\" font-size=\"14.00\">0</text>\n</g>\n<!-- 135&#45;&gt;136 -->\n<g id=\"edge136\" class=\"edge\">\n<title>135&#45;&gt;136</title>\n<path fill=\"none\" stroke=\"black\" d=\"M7368.94,-342.52C7305.27,-323.25 7215.64,-296.12 7152.42,-276.98\"/>\n<polygon fill=\"black\" stroke=\"black\" points=\"7153.1,-273.53 7142.51,-273.98 7151.07,-280.23 7153.1,-273.53\"/>\n</g>\n<!-- 143 -->\n<g id=\"node144\" class=\"node\">\n<title>143</title>\n<path fill=\"#f4ccaf\" stroke=\"black\" d=\"M7513.5,-292C7513.5,-292 7379.5,-292 7379.5,-292 7373.5,-292 7367.5,-286 7367.5,-280 7367.5,-280 7367.5,-226 7367.5,-226 7367.5,-220 7373.5,-214 7379.5,-214 7379.5,-214 7513.5,-214 7513.5,-214 7519.5,-214 7525.5,-220 7525.5,-226 7525.5,-226 7525.5,-280 7525.5,-280 7525.5,-286 7519.5,-292 7513.5,-292\"/>\n<text text-anchor=\"start\" x=\"7375.5\" y=\"-277.8\" font-family=\"Helvetica,sans-Serif\" font-size=\"14.00\">Customer Type_1 ≤ 0.5</text>\n<text text-anchor=\"start\" x=\"7411\" y=\"-263.8\" font-family=\"Helvetica,sans-Serif\" font-size=\"14.00\">gini = 0.468</text>\n<text text-anchor=\"start\" x=\"7401.5\" y=\"-249.8\" font-family=\"Helvetica,sans-Serif\" font-size=\"14.00\">samples = 295</text>\n<text text-anchor=\"start\" x=\"7392\" y=\"-235.8\" font-family=\"Helvetica,sans-Serif\" font-size=\"14.00\">value = [185, 110]</text>\n<text text-anchor=\"start\" x=\"7416\" y=\"-221.8\" font-family=\"Helvetica,sans-Serif\" font-size=\"14.00\">class = y</text>\n<text text-anchor=\"start\" x=\"7470\" y=\"-221.8\" font-family=\"Helvetica,sans-Serif\" baseline-shift=\"sub\" font-size=\"14.00\">0</text>\n</g>\n<!-- 135&#45;&gt;143 -->\n<g id=\"edge143\" class=\"edge\">\n<title>135&#45;&gt;143</title>\n<path fill=\"none\" stroke=\"black\" d=\"M7446.5,-327.77C7446.5,-319.57 7446.5,-310.8 7446.5,-302.28\"/>\n<polygon fill=\"black\" stroke=\"black\" points=\"7450,-302.06 7446.5,-292.06 7443,-302.06 7450,-302.06\"/>\n</g>\n<!-- 137 -->\n<g id=\"node138\" class=\"node\">\n<title>137</title>\n<path fill=\"#f1bc96\" stroke=\"black\" d=\"M6929.5,-178C6929.5,-178 6795.5,-178 6795.5,-178 6789.5,-178 6783.5,-172 6783.5,-166 6783.5,-166 6783.5,-112 6783.5,-112 6783.5,-106 6789.5,-100 6795.5,-100 6795.5,-100 6929.5,-100 6929.5,-100 6935.5,-100 6941.5,-106 6941.5,-112 6941.5,-112 6941.5,-166 6941.5,-166 6941.5,-172 6935.5,-178 6929.5,-178\"/>\n<text text-anchor=\"start\" x=\"6791.5\" y=\"-163.8\" font-family=\"Helvetica,sans-Serif\" font-size=\"14.00\">Customer Type_1 ≤ 0.5</text>\n<text text-anchor=\"start\" x=\"6827\" y=\"-149.8\" font-family=\"Helvetica,sans-Serif\" font-size=\"14.00\">gini = 0.436</text>\n<text text-anchor=\"start\" x=\"6817.5\" y=\"-135.8\" font-family=\"Helvetica,sans-Serif\" font-size=\"14.00\">samples = 212</text>\n<text text-anchor=\"start\" x=\"6812\" y=\"-121.8\" font-family=\"Helvetica,sans-Serif\" font-size=\"14.00\">value = [144, 68]</text>\n<text text-anchor=\"start\" x=\"6832\" y=\"-107.8\" font-family=\"Helvetica,sans-Serif\" font-size=\"14.00\">class = y</text>\n<text text-anchor=\"start\" x=\"6886\" y=\"-107.8\" font-family=\"Helvetica,sans-Serif\" baseline-shift=\"sub\" font-size=\"14.00\">0</text>\n</g>\n<!-- 136&#45;&gt;137 -->\n<g id=\"edge137\" class=\"edge\">\n<title>136&#45;&gt;137</title>\n<path fill=\"none\" stroke=\"black\" d=\"M7010.25,-217.33C6989.32,-206.38 6965.95,-194.14 6944.08,-182.69\"/>\n<polygon fill=\"black\" stroke=\"black\" points=\"6945.61,-179.55 6935.13,-178.01 6942.37,-185.75 6945.61,-179.55\"/>\n</g>\n<!-- 140 -->\n<g id=\"node141\" class=\"node\">\n<title>140</title>\n<path fill=\"#e78b48\" stroke=\"black\" d=\"M7144.5,-178C7144.5,-178 7008.5,-178 7008.5,-178 7002.5,-178 6996.5,-172 6996.5,-166 6996.5,-166 6996.5,-112 6996.5,-112 6996.5,-106 7002.5,-100 7008.5,-100 7008.5,-100 7144.5,-100 7144.5,-100 7150.5,-100 7156.5,-106 7156.5,-112 7156.5,-112 7156.5,-166 7156.5,-166 7156.5,-172 7150.5,-178 7144.5,-178\"/>\n<text text-anchor=\"start\" x=\"7004.5\" y=\"-163.8\" font-family=\"Helvetica,sans-Serif\" font-size=\"14.00\">Inflight wifi service ≤ 0.5</text>\n<text text-anchor=\"start\" x=\"7041\" y=\"-149.8\" font-family=\"Helvetica,sans-Serif\" font-size=\"14.00\">gini = 0.134</text>\n<text text-anchor=\"start\" x=\"7028\" y=\"-135.8\" font-family=\"Helvetica,sans-Serif\" font-size=\"14.00\">samples = 1387</text>\n<text text-anchor=\"start\" x=\"7018.5\" y=\"-121.8\" font-family=\"Helvetica,sans-Serif\" font-size=\"14.00\">value = [1287, 100]</text>\n<text text-anchor=\"start\" x=\"7046\" y=\"-107.8\" font-family=\"Helvetica,sans-Serif\" font-size=\"14.00\">class = y</text>\n<text text-anchor=\"start\" x=\"7100\" y=\"-107.8\" font-family=\"Helvetica,sans-Serif\" baseline-shift=\"sub\" font-size=\"14.00\">0</text>\n</g>\n<!-- 136&#45;&gt;140 -->\n<g id=\"edge140\" class=\"edge\">\n<title>136&#45;&gt;140</title>\n<path fill=\"none\" stroke=\"black\" d=\"M7076.5,-213.77C7076.5,-205.57 7076.5,-196.8 7076.5,-188.28\"/>\n<polygon fill=\"black\" stroke=\"black\" points=\"7080,-188.06 7076.5,-178.06 7073,-188.06 7080,-188.06\"/>\n</g>\n<!-- 138 -->\n<g id=\"node139\" class=\"node\">\n<title>138</title>\n<path fill=\"#eda572\" stroke=\"black\" d=\"M6781,-64C6781,-64 6688,-64 6688,-64 6682,-64 6676,-58 6676,-52 6676,-52 6676,-12 6676,-12 6676,-6 6682,0 6688,0 6688,0 6781,0 6781,0 6787,0 6793,-6 6793,-12 6793,-12 6793,-52 6793,-52 6793,-58 6787,-64 6781,-64\"/>\n<text text-anchor=\"start\" x=\"6699\" y=\"-49.8\" font-family=\"Helvetica,sans-Serif\" font-size=\"14.00\">gini = 0.348</text>\n<text text-anchor=\"start\" x=\"6689.5\" y=\"-35.8\" font-family=\"Helvetica,sans-Serif\" font-size=\"14.00\">samples = 174</text>\n<text text-anchor=\"start\" x=\"6684\" y=\"-21.8\" font-family=\"Helvetica,sans-Serif\" font-size=\"14.00\">value = [135, 39]</text>\n<text text-anchor=\"start\" x=\"6704\" y=\"-7.8\" font-family=\"Helvetica,sans-Serif\" font-size=\"14.00\">class = y</text>\n<text text-anchor=\"start\" x=\"6758\" y=\"-7.8\" font-family=\"Helvetica,sans-Serif\" baseline-shift=\"sub\" font-size=\"14.00\">0</text>\n</g>\n<!-- 137&#45;&gt;138 -->\n<g id=\"edge138\" class=\"edge\">\n<title>137&#45;&gt;138</title>\n<path fill=\"none\" stroke=\"black\" d=\"M6815.93,-99.8C6804.31,-90.27 6791.87,-80.06 6780.29,-70.56\"/>\n<polygon fill=\"black\" stroke=\"black\" points=\"6782.38,-67.75 6772.43,-64.12 6777.95,-73.17 6782.38,-67.75\"/>\n</g>\n<!-- 139 -->\n<g id=\"node140\" class=\"node\">\n<title>139</title>\n<path fill=\"#76bbed\" stroke=\"black\" d=\"M6901.5,-64C6901.5,-64 6823.5,-64 6823.5,-64 6817.5,-64 6811.5,-58 6811.5,-52 6811.5,-52 6811.5,-12 6811.5,-12 6811.5,-6 6817.5,0 6823.5,0 6823.5,0 6901.5,0 6901.5,0 6907.5,0 6913.5,-6 6913.5,-12 6913.5,-12 6913.5,-52 6913.5,-52 6913.5,-58 6907.5,-64 6901.5,-64\"/>\n<text text-anchor=\"start\" x=\"6827\" y=\"-49.8\" font-family=\"Helvetica,sans-Serif\" font-size=\"14.00\">gini = 0.361</text>\n<text text-anchor=\"start\" x=\"6821.5\" y=\"-35.8\" font-family=\"Helvetica,sans-Serif\" font-size=\"14.00\">samples = 38</text>\n<text text-anchor=\"start\" x=\"6819.5\" y=\"-21.8\" font-family=\"Helvetica,sans-Serif\" font-size=\"14.00\">value = [9, 29]</text>\n<text text-anchor=\"start\" x=\"6832\" y=\"-7.8\" font-family=\"Helvetica,sans-Serif\" font-size=\"14.00\">class = y</text>\n<text text-anchor=\"start\" x=\"6886\" y=\"-7.8\" font-family=\"Helvetica,sans-Serif\" baseline-shift=\"sub\" font-size=\"14.00\">1</text>\n</g>\n<!-- 137&#45;&gt;139 -->\n<g id=\"edge139\" class=\"edge\">\n<title>137&#45;&gt;139</title>\n<path fill=\"none\" stroke=\"black\" d=\"M6862.5,-99.8C6862.5,-91.46 6862.5,-82.6 6862.5,-74.15\"/>\n<polygon fill=\"black\" stroke=\"black\" points=\"6866,-74.12 6862.5,-64.12 6859,-74.12 6866,-74.12\"/>\n</g>\n<!-- 141 -->\n<g id=\"node142\" class=\"node\">\n<title>141</title>\n<path fill=\"#399de5\" stroke=\"black\" d=\"M7021.5,-64C7021.5,-64 6943.5,-64 6943.5,-64 6937.5,-64 6931.5,-58 6931.5,-52 6931.5,-52 6931.5,-12 6931.5,-12 6931.5,-6 6937.5,0 6943.5,0 6943.5,0 7021.5,0 7021.5,0 7027.5,0 7033.5,-6 7033.5,-12 7033.5,-12 7033.5,-52 7033.5,-52 7033.5,-58 7027.5,-64 7021.5,-64\"/>\n<text text-anchor=\"start\" x=\"6954.5\" y=\"-49.8\" font-family=\"Helvetica,sans-Serif\" font-size=\"14.00\">gini = 0.0</text>\n<text text-anchor=\"start\" x=\"6941.5\" y=\"-35.8\" font-family=\"Helvetica,sans-Serif\" font-size=\"14.00\">samples = 12</text>\n<text text-anchor=\"start\" x=\"6939.5\" y=\"-21.8\" font-family=\"Helvetica,sans-Serif\" font-size=\"14.00\">value = [0, 12]</text>\n<text text-anchor=\"start\" x=\"6952\" y=\"-7.8\" font-family=\"Helvetica,sans-Serif\" font-size=\"14.00\">class = y</text>\n<text text-anchor=\"start\" x=\"7006\" y=\"-7.8\" font-family=\"Helvetica,sans-Serif\" baseline-shift=\"sub\" font-size=\"14.00\">1</text>\n</g>\n<!-- 140&#45;&gt;141 -->\n<g id=\"edge141\" class=\"edge\">\n<title>140&#45;&gt;141</title>\n<path fill=\"none\" stroke=\"black\" d=\"M7042.3,-99.8C7034.1,-90.63 7025.33,-80.84 7017.11,-71.66\"/>\n<polygon fill=\"black\" stroke=\"black\" points=\"7019.64,-69.23 7010.36,-64.12 7014.42,-73.9 7019.64,-69.23\"/>\n</g>\n<!-- 142 -->\n<g id=\"node143\" class=\"node\">\n<title>142</title>\n<path fill=\"#e78a47\" stroke=\"black\" d=\"M7165,-64C7165,-64 7064,-64 7064,-64 7058,-64 7052,-58 7052,-52 7052,-52 7052,-12 7052,-12 7052,-6 7058,0 7064,0 7064,0 7165,0 7165,0 7171,0 7177,-6 7177,-12 7177,-12 7177,-52 7177,-52 7177,-58 7171,-64 7165,-64\"/>\n<text text-anchor=\"start\" x=\"7082.5\" y=\"-49.8\" font-family=\"Helvetica,sans-Serif\" font-size=\"14.00\">gini = 0.12</text>\n<text text-anchor=\"start\" x=\"7066\" y=\"-35.8\" font-family=\"Helvetica,sans-Serif\" font-size=\"14.00\">samples = 1375</text>\n<text text-anchor=\"start\" x=\"7060\" y=\"-21.8\" font-family=\"Helvetica,sans-Serif\" font-size=\"14.00\">value = [1287, 88]</text>\n<text text-anchor=\"start\" x=\"7084\" y=\"-7.8\" font-family=\"Helvetica,sans-Serif\" font-size=\"14.00\">class = y</text>\n<text text-anchor=\"start\" x=\"7138\" y=\"-7.8\" font-family=\"Helvetica,sans-Serif\" baseline-shift=\"sub\" font-size=\"14.00\">0</text>\n</g>\n<!-- 140&#45;&gt;142 -->\n<g id=\"edge142\" class=\"edge\">\n<title>140&#45;&gt;142</title>\n<path fill=\"none\" stroke=\"black\" d=\"M7090.33,-99.8C7093.41,-91.27 7096.69,-82.21 7099.81,-73.6\"/>\n<polygon fill=\"black\" stroke=\"black\" points=\"7103.13,-74.71 7103.24,-64.12 7096.54,-72.33 7103.13,-74.71\"/>\n</g>\n<!-- 144 -->\n<g id=\"node145\" class=\"node\">\n<title>144</title>\n<path fill=\"#eca36f\" stroke=\"black\" d=\"M7424,-178C7424,-178 7317,-178 7317,-178 7311,-178 7305,-172 7305,-166 7305,-166 7305,-112 7305,-112 7305,-106 7311,-100 7317,-100 7317,-100 7424,-100 7424,-100 7430,-100 7436,-106 7436,-112 7436,-112 7436,-166 7436,-166 7436,-172 7430,-178 7424,-178\"/>\n<text text-anchor=\"start\" x=\"7313\" y=\"-163.8\" font-family=\"Helvetica,sans-Serif\" font-size=\"14.00\">Gate location ≤ 2.5</text>\n<text text-anchor=\"start\" x=\"7335\" y=\"-149.8\" font-family=\"Helvetica,sans-Serif\" font-size=\"14.00\">gini = 0.335</text>\n<text text-anchor=\"start\" x=\"7325.5\" y=\"-135.8\" font-family=\"Helvetica,sans-Serif\" font-size=\"14.00\">samples = 202</text>\n<text text-anchor=\"start\" x=\"7320\" y=\"-121.8\" font-family=\"Helvetica,sans-Serif\" font-size=\"14.00\">value = [159, 43]</text>\n<text text-anchor=\"start\" x=\"7340\" y=\"-107.8\" font-family=\"Helvetica,sans-Serif\" font-size=\"14.00\">class = y</text>\n<text text-anchor=\"start\" x=\"7394\" y=\"-107.8\" font-family=\"Helvetica,sans-Serif\" baseline-shift=\"sub\" font-size=\"14.00\">0</text>\n</g>\n<!-- 143&#45;&gt;144 -->\n<g id=\"edge144\" class=\"edge\">\n<title>143&#45;&gt;144</title>\n<path fill=\"none\" stroke=\"black\" d=\"M7420.56,-213.77C7414.63,-205.03 7408.26,-195.64 7402.12,-186.6\"/>\n<polygon fill=\"black\" stroke=\"black\" points=\"7404.84,-184.37 7396.33,-178.06 7399.04,-188.3 7404.84,-184.37\"/>\n</g>\n<!-- 147 -->\n<g id=\"node148\" class=\"node\">\n<title>147</title>\n<path fill=\"#86c3ef\" stroke=\"black\" d=\"M7579,-178C7579,-178 7466,-178 7466,-178 7460,-178 7454,-172 7454,-166 7454,-166 7454,-112 7454,-112 7454,-106 7460,-100 7466,-100 7466,-100 7579,-100 7579,-100 7585,-100 7591,-106 7591,-112 7591,-112 7591,-166 7591,-166 7591,-172 7585,-178 7579,-178\"/>\n<text text-anchor=\"start\" x=\"7462\" y=\"-163.8\" font-family=\"Helvetica,sans-Serif\" font-size=\"14.00\">Inflight service ≤ 2.5</text>\n<text text-anchor=\"start\" x=\"7487\" y=\"-149.8\" font-family=\"Helvetica,sans-Serif\" font-size=\"14.00\">gini = 0.403</text>\n<text text-anchor=\"start\" x=\"7481.5\" y=\"-135.8\" font-family=\"Helvetica,sans-Serif\" font-size=\"14.00\">samples = 93</text>\n<text text-anchor=\"start\" x=\"7475.5\" y=\"-121.8\" font-family=\"Helvetica,sans-Serif\" font-size=\"14.00\">value = [26, 67]</text>\n<text text-anchor=\"start\" x=\"7492\" y=\"-107.8\" font-family=\"Helvetica,sans-Serif\" font-size=\"14.00\">class = y</text>\n<text text-anchor=\"start\" x=\"7546\" y=\"-107.8\" font-family=\"Helvetica,sans-Serif\" baseline-shift=\"sub\" font-size=\"14.00\">1</text>\n</g>\n<!-- 143&#45;&gt;147 -->\n<g id=\"edge147\" class=\"edge\">\n<title>143&#45;&gt;147</title>\n<path fill=\"none\" stroke=\"black\" d=\"M7472.44,-213.77C7478.37,-205.03 7484.74,-195.64 7490.88,-186.6\"/>\n<polygon fill=\"black\" stroke=\"black\" points=\"7493.96,-188.3 7496.67,-178.06 7488.16,-184.37 7493.96,-188.3\"/>\n</g>\n<!-- 145 -->\n<g id=\"node146\" class=\"node\">\n<title>145</title>\n<path fill=\"#f8ddca\" stroke=\"black\" d=\"M7293.5,-64C7293.5,-64 7207.5,-64 7207.5,-64 7201.5,-64 7195.5,-58 7195.5,-52 7195.5,-52 7195.5,-12 7195.5,-12 7195.5,-6 7201.5,0 7207.5,0 7207.5,0 7293.5,0 7293.5,0 7299.5,0 7305.5,-6 7305.5,-12 7305.5,-12 7305.5,-52 7305.5,-52 7305.5,-58 7299.5,-64 7293.5,-64\"/>\n<text text-anchor=\"start\" x=\"7215\" y=\"-49.8\" font-family=\"Helvetica,sans-Serif\" font-size=\"14.00\">gini = 0.488</text>\n<text text-anchor=\"start\" x=\"7209.5\" y=\"-35.8\" font-family=\"Helvetica,sans-Serif\" font-size=\"14.00\">samples = 52</text>\n<text text-anchor=\"start\" x=\"7203.5\" y=\"-21.8\" font-family=\"Helvetica,sans-Serif\" font-size=\"14.00\">value = [30, 22]</text>\n<text text-anchor=\"start\" x=\"7220\" y=\"-7.8\" font-family=\"Helvetica,sans-Serif\" font-size=\"14.00\">class = y</text>\n<text text-anchor=\"start\" x=\"7274\" y=\"-7.8\" font-family=\"Helvetica,sans-Serif\" baseline-shift=\"sub\" font-size=\"14.00\">0</text>\n</g>\n<!-- 144&#45;&gt;145 -->\n<g id=\"edge145\" class=\"edge\">\n<title>144&#45;&gt;145</title>\n<path fill=\"none\" stroke=\"black\" d=\"M7326.84,-99.8C7316.05,-90.36 7304.51,-80.25 7293.74,-70.84\"/>\n<polygon fill=\"black\" stroke=\"black\" points=\"7295.89,-68.07 7286.06,-64.12 7291.28,-73.34 7295.89,-68.07\"/>\n</g>\n<!-- 146 -->\n<g id=\"node147\" class=\"node\">\n<title>146</title>\n<path fill=\"#e99659\" stroke=\"black\" d=\"M7429,-64C7429,-64 7336,-64 7336,-64 7330,-64 7324,-58 7324,-52 7324,-52 7324,-12 7324,-12 7324,-6 7330,0 7336,0 7336,0 7429,0 7429,0 7435,0 7441,-6 7441,-12 7441,-12 7441,-52 7441,-52 7441,-58 7435,-64 7429,-64\"/>\n<text text-anchor=\"start\" x=\"7347\" y=\"-49.8\" font-family=\"Helvetica,sans-Serif\" font-size=\"14.00\">gini = 0.241</text>\n<text text-anchor=\"start\" x=\"7337.5\" y=\"-35.8\" font-family=\"Helvetica,sans-Serif\" font-size=\"14.00\">samples = 150</text>\n<text text-anchor=\"start\" x=\"7332\" y=\"-21.8\" font-family=\"Helvetica,sans-Serif\" font-size=\"14.00\">value = [129, 21]</text>\n<text text-anchor=\"start\" x=\"7352\" y=\"-7.8\" font-family=\"Helvetica,sans-Serif\" font-size=\"14.00\">class = y</text>\n<text text-anchor=\"start\" x=\"7406\" y=\"-7.8\" font-family=\"Helvetica,sans-Serif\" baseline-shift=\"sub\" font-size=\"14.00\">0</text>\n</g>\n<!-- 144&#45;&gt;146 -->\n<g id=\"edge146\" class=\"edge\">\n<title>144&#45;&gt;146</title>\n<path fill=\"none\" stroke=\"black\" d=\"M7374.87,-99.8C7375.82,-91.46 7376.83,-82.6 7377.8,-74.15\"/>\n<polygon fill=\"black\" stroke=\"black\" points=\"7381.29,-74.45 7378.94,-64.12 7374.33,-73.66 7381.29,-74.45\"/>\n</g>\n<!-- 148 -->\n<g id=\"node149\" class=\"node\">\n<title>148</title>\n<path fill=\"#4aa6e7\" stroke=\"black\" d=\"M7549.5,-64C7549.5,-64 7471.5,-64 7471.5,-64 7465.5,-64 7459.5,-58 7459.5,-52 7459.5,-52 7459.5,-12 7459.5,-12 7459.5,-6 7465.5,0 7471.5,0 7471.5,0 7549.5,0 7549.5,0 7555.5,0 7561.5,-6 7561.5,-12 7561.5,-12 7561.5,-52 7561.5,-52 7561.5,-58 7555.5,-64 7549.5,-64\"/>\n<text text-anchor=\"start\" x=\"7475\" y=\"-49.8\" font-family=\"Helvetica,sans-Serif\" font-size=\"14.00\">gini = 0.147</text>\n<text text-anchor=\"start\" x=\"7469.5\" y=\"-35.8\" font-family=\"Helvetica,sans-Serif\" font-size=\"14.00\">samples = 25</text>\n<text text-anchor=\"start\" x=\"7467.5\" y=\"-21.8\" font-family=\"Helvetica,sans-Serif\" font-size=\"14.00\">value = [2, 23]</text>\n<text text-anchor=\"start\" x=\"7480\" y=\"-7.8\" font-family=\"Helvetica,sans-Serif\" font-size=\"14.00\">class = y</text>\n<text text-anchor=\"start\" x=\"7534\" y=\"-7.8\" font-family=\"Helvetica,sans-Serif\" baseline-shift=\"sub\" font-size=\"14.00\">1</text>\n</g>\n<!-- 147&#45;&gt;148 -->\n<g id=\"edge148\" class=\"edge\">\n<title>147&#45;&gt;148</title>\n<path fill=\"none\" stroke=\"black\" d=\"M7518.13,-99.8C7517.18,-91.46 7516.17,-82.6 7515.2,-74.15\"/>\n<polygon fill=\"black\" stroke=\"black\" points=\"7518.67,-73.66 7514.06,-64.12 7511.71,-74.45 7518.67,-73.66\"/>\n</g>\n<!-- 149 -->\n<g id=\"node150\" class=\"node\">\n<title>149</title>\n<path fill=\"#a5d2f3\" stroke=\"black\" d=\"M7677.5,-64C7677.5,-64 7591.5,-64 7591.5,-64 7585.5,-64 7579.5,-58 7579.5,-52 7579.5,-52 7579.5,-12 7579.5,-12 7579.5,-6 7585.5,0 7591.5,0 7591.5,0 7677.5,0 7677.5,0 7683.5,0 7689.5,-6 7689.5,-12 7689.5,-12 7689.5,-52 7689.5,-52 7689.5,-58 7683.5,-64 7677.5,-64\"/>\n<text text-anchor=\"start\" x=\"7599\" y=\"-49.8\" font-family=\"Helvetica,sans-Serif\" font-size=\"14.00\">gini = 0.457</text>\n<text text-anchor=\"start\" x=\"7593.5\" y=\"-35.8\" font-family=\"Helvetica,sans-Serif\" font-size=\"14.00\">samples = 68</text>\n<text text-anchor=\"start\" x=\"7587.5\" y=\"-21.8\" font-family=\"Helvetica,sans-Serif\" font-size=\"14.00\">value = [24, 44]</text>\n<text text-anchor=\"start\" x=\"7604\" y=\"-7.8\" font-family=\"Helvetica,sans-Serif\" font-size=\"14.00\">class = y</text>\n<text text-anchor=\"start\" x=\"7658\" y=\"-7.8\" font-family=\"Helvetica,sans-Serif\" baseline-shift=\"sub\" font-size=\"14.00\">1</text>\n</g>\n<!-- 147&#45;&gt;149 -->\n<g id=\"edge149\" class=\"edge\">\n<title>147&#45;&gt;149</title>\n<path fill=\"none\" stroke=\"black\" d=\"M7563.25,-99.8C7573.22,-90.45 7583.89,-80.45 7593.85,-71.11\"/>\n<polygon fill=\"black\" stroke=\"black\" points=\"7596.41,-73.51 7601.31,-64.12 7591.62,-68.4 7596.41,-73.51\"/>\n</g>\n<!-- 151 -->\n<g id=\"node152\" class=\"node\">\n<title>151</title>\n<path fill=\"#f2f9fd\" stroke=\"black\" d=\"M8114.5,-292C8114.5,-292 7992.5,-292 7992.5,-292 7986.5,-292 7980.5,-286 7980.5,-280 7980.5,-280 7980.5,-226 7980.5,-226 7980.5,-220 7986.5,-214 7992.5,-214 7992.5,-214 8114.5,-214 8114.5,-214 8120.5,-214 8126.5,-220 8126.5,-226 8126.5,-226 8126.5,-280 8126.5,-280 8126.5,-286 8120.5,-292 8114.5,-292\"/>\n<text text-anchor=\"start\" x=\"7988.5\" y=\"-277.8\" font-family=\"Helvetica,sans-Serif\" font-size=\"14.00\">Checkin service ≤ 4.5</text>\n<text text-anchor=\"start\" x=\"8018\" y=\"-263.8\" font-family=\"Helvetica,sans-Serif\" font-size=\"14.00\">gini = 0.499</text>\n<text text-anchor=\"start\" x=\"8005\" y=\"-249.8\" font-family=\"Helvetica,sans-Serif\" font-size=\"14.00\">samples = 4279</text>\n<text text-anchor=\"start\" x=\"7991.5\" y=\"-235.8\" font-family=\"Helvetica,sans-Serif\" font-size=\"14.00\">value = [2069, 2210]</text>\n<text text-anchor=\"start\" x=\"8023\" y=\"-221.8\" font-family=\"Helvetica,sans-Serif\" font-size=\"14.00\">class = y</text>\n<text text-anchor=\"start\" x=\"8077\" y=\"-221.8\" font-family=\"Helvetica,sans-Serif\" baseline-shift=\"sub\" font-size=\"14.00\">1</text>\n</g>\n<!-- 150&#45;&gt;151 -->\n<g id=\"edge151\" class=\"edge\">\n<title>150&#45;&gt;151</title>\n<path fill=\"none\" stroke=\"black\" d=\"M8109.49,-327.77C8102.72,-318.85 8095.44,-309.26 8088.44,-300.04\"/>\n<polygon fill=\"black\" stroke=\"black\" points=\"8091.22,-297.91 8082.38,-292.06 8085.64,-302.14 8091.22,-297.91\"/>\n</g>\n<!-- 158 -->\n<g id=\"node159\" class=\"node\">\n<title>158</title>\n<path fill=\"#41a1e6\" stroke=\"black\" d=\"M8290.5,-292C8290.5,-292 8156.5,-292 8156.5,-292 8150.5,-292 8144.5,-286 8144.5,-280 8144.5,-280 8144.5,-226 8144.5,-226 8144.5,-220 8150.5,-214 8156.5,-214 8156.5,-214 8290.5,-214 8290.5,-214 8296.5,-214 8302.5,-220 8302.5,-226 8302.5,-226 8302.5,-280 8302.5,-280 8302.5,-286 8296.5,-292 8290.5,-292\"/>\n<text text-anchor=\"start\" x=\"8152.5\" y=\"-277.8\" font-family=\"Helvetica,sans-Serif\" font-size=\"14.00\">Customer Type_2 ≤ 0.5</text>\n<text text-anchor=\"start\" x=\"8188\" y=\"-263.8\" font-family=\"Helvetica,sans-Serif\" font-size=\"14.00\">gini = 0.071</text>\n<text text-anchor=\"start\" x=\"8178.5\" y=\"-249.8\" font-family=\"Helvetica,sans-Serif\" font-size=\"14.00\">samples = 843</text>\n<text text-anchor=\"start\" x=\"8173\" y=\"-235.8\" font-family=\"Helvetica,sans-Serif\" font-size=\"14.00\">value = [31, 812]</text>\n<text text-anchor=\"start\" x=\"8193\" y=\"-221.8\" font-family=\"Helvetica,sans-Serif\" font-size=\"14.00\">class = y</text>\n<text text-anchor=\"start\" x=\"8247\" y=\"-221.8\" font-family=\"Helvetica,sans-Serif\" baseline-shift=\"sub\" font-size=\"14.00\">1</text>\n</g>\n<!-- 150&#45;&gt;158 -->\n<g id=\"edge158\" class=\"edge\">\n<title>150&#45;&gt;158</title>\n<path fill=\"none\" stroke=\"black\" d=\"M8167.51,-327.77C8174.28,-318.85 8181.56,-309.26 8188.56,-300.04\"/>\n<polygon fill=\"black\" stroke=\"black\" points=\"8191.36,-302.14 8194.62,-292.06 8185.78,-297.91 8191.36,-302.14\"/>\n</g>\n<!-- 152 -->\n<g id=\"node153\" class=\"node\">\n<title>152</title>\n<path fill=\"#fae6d8\" stroke=\"black\" d=\"M7954,-178C7954,-178 7819,-178 7819,-178 7813,-178 7807,-172 7807,-166 7807,-166 7807,-112 7807,-112 7807,-106 7813,-100 7819,-100 7819,-100 7954,-100 7954,-100 7960,-100 7966,-106 7966,-112 7966,-112 7966,-166 7966,-166 7966,-172 7960,-178 7954,-178\"/>\n<text text-anchor=\"start\" x=\"7815\" y=\"-163.8\" font-family=\"Helvetica,sans-Serif\" font-size=\"14.00\">Baggage handling ≤ 3.5</text>\n<text text-anchor=\"start\" x=\"7851\" y=\"-149.8\" font-family=\"Helvetica,sans-Serif\" font-size=\"14.00\">gini = 0.494</text>\n<text text-anchor=\"start\" x=\"7838\" y=\"-135.8\" font-family=\"Helvetica,sans-Serif\" font-size=\"14.00\">samples = 3446</text>\n<text text-anchor=\"start\" x=\"7824.5\" y=\"-121.8\" font-family=\"Helvetica,sans-Serif\" font-size=\"14.00\">value = [1912, 1534]</text>\n<text text-anchor=\"start\" x=\"7856\" y=\"-107.8\" font-family=\"Helvetica,sans-Serif\" font-size=\"14.00\">class = y</text>\n<text text-anchor=\"start\" x=\"7910\" y=\"-107.8\" font-family=\"Helvetica,sans-Serif\" baseline-shift=\"sub\" font-size=\"14.00\">0</text>\n</g>\n<!-- 151&#45;&gt;152 -->\n<g id=\"edge152\" class=\"edge\">\n<title>151&#45;&gt;152</title>\n<path fill=\"none\" stroke=\"black\" d=\"M7996.5,-213.77C7982.12,-204.13 7966.57,-193.7 7951.83,-183.81\"/>\n<polygon fill=\"black\" stroke=\"black\" points=\"7953.5,-180.72 7943.25,-178.06 7949.6,-186.54 7953.5,-180.72\"/>\n</g>\n<!-- 155 -->\n<g id=\"node156\" class=\"node\">\n<title>155</title>\n<path fill=\"#67b4eb\" stroke=\"black\" d=\"M8129.5,-178C8129.5,-178 7995.5,-178 7995.5,-178 7989.5,-178 7983.5,-172 7983.5,-166 7983.5,-166 7983.5,-112 7983.5,-112 7983.5,-106 7989.5,-100 7995.5,-100 7995.5,-100 8129.5,-100 8129.5,-100 8135.5,-100 8141.5,-106 8141.5,-112 8141.5,-112 8141.5,-166 8141.5,-166 8141.5,-172 8135.5,-178 8129.5,-178\"/>\n<text text-anchor=\"start\" x=\"7991.5\" y=\"-163.8\" font-family=\"Helvetica,sans-Serif\" font-size=\"14.00\">Customer Type_1 ≤ 0.5</text>\n<text text-anchor=\"start\" x=\"8027\" y=\"-149.8\" font-family=\"Helvetica,sans-Serif\" font-size=\"14.00\">gini = 0.306</text>\n<text text-anchor=\"start\" x=\"8017.5\" y=\"-135.8\" font-family=\"Helvetica,sans-Serif\" font-size=\"14.00\">samples = 833</text>\n<text text-anchor=\"start\" x=\"8008\" y=\"-121.8\" font-family=\"Helvetica,sans-Serif\" font-size=\"14.00\">value = [157, 676]</text>\n<text text-anchor=\"start\" x=\"8032\" y=\"-107.8\" font-family=\"Helvetica,sans-Serif\" font-size=\"14.00\">class = y</text>\n<text text-anchor=\"start\" x=\"8086\" y=\"-107.8\" font-family=\"Helvetica,sans-Serif\" baseline-shift=\"sub\" font-size=\"14.00\">1</text>\n</g>\n<!-- 151&#45;&gt;155 -->\n<g id=\"edge155\" class=\"edge\">\n<title>151&#45;&gt;155</title>\n<path fill=\"none\" stroke=\"black\" d=\"M8056.57,-213.77C8057.23,-205.57 8057.94,-196.8 8058.62,-188.28\"/>\n<polygon fill=\"black\" stroke=\"black\" points=\"8062.13,-188.31 8059.44,-178.06 8055.15,-187.75 8062.13,-188.31\"/>\n</g>\n<!-- 153 -->\n<g id=\"node154\" class=\"node\">\n<title>153</title>\n<path fill=\"#f2c19e\" stroke=\"black\" d=\"M7827.5,-64C7827.5,-64 7719.5,-64 7719.5,-64 7713.5,-64 7707.5,-58 7707.5,-52 7707.5,-52 7707.5,-12 7707.5,-12 7707.5,-6 7713.5,0 7719.5,0 7719.5,0 7827.5,0 7827.5,0 7833.5,0 7839.5,-6 7839.5,-12 7839.5,-12 7839.5,-52 7839.5,-52 7839.5,-58 7833.5,-64 7827.5,-64\"/>\n<text text-anchor=\"start\" x=\"7738\" y=\"-49.8\" font-family=\"Helvetica,sans-Serif\" font-size=\"14.00\">gini = 0.447</text>\n<text text-anchor=\"start\" x=\"7725\" y=\"-35.8\" font-family=\"Helvetica,sans-Serif\" font-size=\"14.00\">samples = 2203</text>\n<text text-anchor=\"start\" x=\"7715.5\" y=\"-21.8\" font-family=\"Helvetica,sans-Serif\" font-size=\"14.00\">value = [1460, 743]</text>\n<text text-anchor=\"start\" x=\"7743\" y=\"-7.8\" font-family=\"Helvetica,sans-Serif\" font-size=\"14.00\">class = y</text>\n<text text-anchor=\"start\" x=\"7797\" y=\"-7.8\" font-family=\"Helvetica,sans-Serif\" baseline-shift=\"sub\" font-size=\"14.00\">0</text>\n</g>\n<!-- 152&#45;&gt;153 -->\n<g id=\"edge153\" class=\"edge\">\n<title>152&#45;&gt;153</title>\n<path fill=\"none\" stroke=\"black\" d=\"M7845.38,-99.8C7835.33,-90.45 7824.57,-80.45 7814.51,-71.11\"/>\n<polygon fill=\"black\" stroke=\"black\" points=\"7816.7,-68.36 7806.99,-64.12 7811.93,-73.49 7816.7,-68.36\"/>\n</g>\n<!-- 154 -->\n<g id=\"node155\" class=\"node\">\n<title>154</title>\n<path fill=\"#aad5f4\" stroke=\"black\" d=\"M7971,-64C7971,-64 7870,-64 7870,-64 7864,-64 7858,-58 7858,-52 7858,-52 7858,-12 7858,-12 7858,-6 7864,0 7870,0 7870,0 7971,0 7971,0 7977,0 7983,-6 7983,-12 7983,-12 7983,-52 7983,-52 7983,-58 7977,-64 7971,-64\"/>\n<text text-anchor=\"start\" x=\"7885\" y=\"-49.8\" font-family=\"Helvetica,sans-Serif\" font-size=\"14.00\">gini = 0.463</text>\n<text text-anchor=\"start\" x=\"7872\" y=\"-35.8\" font-family=\"Helvetica,sans-Serif\" font-size=\"14.00\">samples = 1243</text>\n<text text-anchor=\"start\" x=\"7866\" y=\"-21.8\" font-family=\"Helvetica,sans-Serif\" font-size=\"14.00\">value = [452, 791]</text>\n<text text-anchor=\"start\" x=\"7890\" y=\"-7.8\" font-family=\"Helvetica,sans-Serif\" font-size=\"14.00\">class = y</text>\n<text text-anchor=\"start\" x=\"7944\" y=\"-7.8\" font-family=\"Helvetica,sans-Serif\" baseline-shift=\"sub\" font-size=\"14.00\">1</text>\n</g>\n<!-- 152&#45;&gt;154 -->\n<g id=\"edge154\" class=\"edge\">\n<title>152&#45;&gt;154</title>\n<path fill=\"none\" stroke=\"black\" d=\"M7898.87,-99.8C7901.6,-91.37 7904.5,-82.41 7907.26,-73.88\"/>\n<polygon fill=\"black\" stroke=\"black\" points=\"7910.67,-74.71 7910.42,-64.12 7904.01,-72.55 7910.67,-74.71\"/>\n</g>\n<!-- 156 -->\n<g id=\"node157\" class=\"node\">\n<title>156</title>\n<path fill=\"#a6d3f3\" stroke=\"black\" d=\"M8114,-64C8114,-64 8013,-64 8013,-64 8007,-64 8001,-58 8001,-52 8001,-52 8001,-12 8001,-12 8001,-6 8007,0 8013,0 8013,0 8114,0 8114,0 8120,0 8126,-6 8126,-12 8126,-12 8126,-52 8126,-52 8126,-58 8120,-64 8114,-64\"/>\n<text text-anchor=\"start\" x=\"8028\" y=\"-49.8\" font-family=\"Helvetica,sans-Serif\" font-size=\"14.00\">gini = 0.458</text>\n<text text-anchor=\"start\" x=\"8018.5\" y=\"-35.8\" font-family=\"Helvetica,sans-Serif\" font-size=\"14.00\">samples = 442</text>\n<text text-anchor=\"start\" x=\"8009\" y=\"-21.8\" font-family=\"Helvetica,sans-Serif\" font-size=\"14.00\">value = [157, 285]</text>\n<text text-anchor=\"start\" x=\"8033\" y=\"-7.8\" font-family=\"Helvetica,sans-Serif\" font-size=\"14.00\">class = y</text>\n<text text-anchor=\"start\" x=\"8087\" y=\"-7.8\" font-family=\"Helvetica,sans-Serif\" baseline-shift=\"sub\" font-size=\"14.00\">1</text>\n</g>\n<!-- 155&#45;&gt;156 -->\n<g id=\"edge156\" class=\"edge\">\n<title>155&#45;&gt;156</title>\n<path fill=\"none\" stroke=\"black\" d=\"M8062.86,-99.8C8062.94,-91.46 8063.03,-82.6 8063.11,-74.15\"/>\n<polygon fill=\"black\" stroke=\"black\" points=\"8066.61,-74.15 8063.2,-64.12 8059.61,-74.08 8066.61,-74.15\"/>\n</g>\n<!-- 157 -->\n<g id=\"node158\" class=\"node\">\n<title>157</title>\n<path fill=\"#399de5\" stroke=\"black\" d=\"M8242.5,-64C8242.5,-64 8156.5,-64 8156.5,-64 8150.5,-64 8144.5,-58 8144.5,-52 8144.5,-52 8144.5,-12 8144.5,-12 8144.5,-6 8150.5,0 8156.5,0 8156.5,0 8242.5,0 8242.5,0 8248.5,0 8254.5,-6 8254.5,-12 8254.5,-12 8254.5,-52 8254.5,-52 8254.5,-58 8248.5,-64 8242.5,-64\"/>\n<text text-anchor=\"start\" x=\"8171.5\" y=\"-49.8\" font-family=\"Helvetica,sans-Serif\" font-size=\"14.00\">gini = 0.0</text>\n<text text-anchor=\"start\" x=\"8154.5\" y=\"-35.8\" font-family=\"Helvetica,sans-Serif\" font-size=\"14.00\">samples = 391</text>\n<text text-anchor=\"start\" x=\"8152.5\" y=\"-21.8\" font-family=\"Helvetica,sans-Serif\" font-size=\"14.00\">value = [0, 391]</text>\n<text text-anchor=\"start\" x=\"8169\" y=\"-7.8\" font-family=\"Helvetica,sans-Serif\" font-size=\"14.00\">class = y</text>\n<text text-anchor=\"start\" x=\"8223\" y=\"-7.8\" font-family=\"Helvetica,sans-Serif\" baseline-shift=\"sub\" font-size=\"14.00\">1</text>\n</g>\n<!-- 155&#45;&gt;157 -->\n<g id=\"edge157\" class=\"edge\">\n<title>155&#45;&gt;157</title>\n<path fill=\"none\" stroke=\"black\" d=\"M8112.35,-99.8C8124.9,-90.18 8138.36,-79.86 8150.85,-70.29\"/>\n<polygon fill=\"black\" stroke=\"black\" points=\"8153.09,-72.98 8158.9,-64.12 8148.83,-67.42 8153.09,-72.98\"/>\n</g>\n<!-- 159 -->\n<g id=\"node160\" class=\"node\">\n<title>159</title>\n<path fill=\"#399de5\" stroke=\"black\" d=\"M8257.5,-171C8257.5,-171 8171.5,-171 8171.5,-171 8165.5,-171 8159.5,-165 8159.5,-159 8159.5,-159 8159.5,-119 8159.5,-119 8159.5,-113 8165.5,-107 8171.5,-107 8171.5,-107 8257.5,-107 8257.5,-107 8263.5,-107 8269.5,-113 8269.5,-119 8269.5,-119 8269.5,-159 8269.5,-159 8269.5,-165 8263.5,-171 8257.5,-171\"/>\n<text text-anchor=\"start\" x=\"8186.5\" y=\"-156.8\" font-family=\"Helvetica,sans-Serif\" font-size=\"14.00\">gini = 0.0</text>\n<text text-anchor=\"start\" x=\"8169.5\" y=\"-142.8\" font-family=\"Helvetica,sans-Serif\" font-size=\"14.00\">samples = 774</text>\n<text text-anchor=\"start\" x=\"8167.5\" y=\"-128.8\" font-family=\"Helvetica,sans-Serif\" font-size=\"14.00\">value = [0, 774]</text>\n<text text-anchor=\"start\" x=\"8184\" y=\"-114.8\" font-family=\"Helvetica,sans-Serif\" font-size=\"14.00\">class = y</text>\n<text text-anchor=\"start\" x=\"8238\" y=\"-114.8\" font-family=\"Helvetica,sans-Serif\" baseline-shift=\"sub\" font-size=\"14.00\">1</text>\n</g>\n<!-- 158&#45;&gt;159 -->\n<g id=\"edge159\" class=\"edge\">\n<title>158&#45;&gt;159</title>\n<path fill=\"none\" stroke=\"black\" d=\"M8220.43,-213.77C8219.58,-203.2 8218.65,-191.7 8217.79,-180.98\"/>\n<polygon fill=\"black\" stroke=\"black\" points=\"8221.28,-180.7 8216.99,-171.01 8214.3,-181.26 8221.28,-180.7\"/>\n</g>\n<!-- 160 -->\n<g id=\"node161\" class=\"node\">\n<title>160</title>\n<path fill=\"#dbedfa\" stroke=\"black\" d=\"M8435.5,-178C8435.5,-178 8299.5,-178 8299.5,-178 8293.5,-178 8287.5,-172 8287.5,-166 8287.5,-166 8287.5,-112 8287.5,-112 8287.5,-106 8293.5,-100 8299.5,-100 8299.5,-100 8435.5,-100 8435.5,-100 8441.5,-100 8447.5,-106 8447.5,-112 8447.5,-112 8447.5,-166 8447.5,-166 8447.5,-172 8441.5,-178 8435.5,-178\"/>\n<text text-anchor=\"start\" x=\"8295.5\" y=\"-163.8\" font-family=\"Helvetica,sans-Serif\" font-size=\"14.00\">Inflight wifi service ≤ 3.5</text>\n<text text-anchor=\"start\" x=\"8332\" y=\"-149.8\" font-family=\"Helvetica,sans-Serif\" font-size=\"14.00\">gini = 0.495</text>\n<text text-anchor=\"start\" x=\"8326.5\" y=\"-135.8\" font-family=\"Helvetica,sans-Serif\" font-size=\"14.00\">samples = 69</text>\n<text text-anchor=\"start\" x=\"8320.5\" y=\"-121.8\" font-family=\"Helvetica,sans-Serif\" font-size=\"14.00\">value = [31, 38]</text>\n<text text-anchor=\"start\" x=\"8337\" y=\"-107.8\" font-family=\"Helvetica,sans-Serif\" font-size=\"14.00\">class = y</text>\n<text text-anchor=\"start\" x=\"8391\" y=\"-107.8\" font-family=\"Helvetica,sans-Serif\" baseline-shift=\"sub\" font-size=\"14.00\">1</text>\n</g>\n<!-- 158&#45;&gt;160 -->\n<g id=\"edge160\" class=\"edge\">\n<title>158&#45;&gt;160</title>\n<path fill=\"none\" stroke=\"black\" d=\"M8272.65,-213.77C8284.82,-204.31 8297.95,-194.09 8310.46,-184.37\"/>\n<polygon fill=\"black\" stroke=\"black\" points=\"8312.82,-186.96 8318.57,-178.06 8308.53,-181.44 8312.82,-186.96\"/>\n</g>\n<!-- 161 -->\n<g id=\"node162\" class=\"node\">\n<title>161</title>\n<path fill=\"#e78c4b\" stroke=\"black\" d=\"M8364.5,-64C8364.5,-64 8286.5,-64 8286.5,-64 8280.5,-64 8274.5,-58 8274.5,-52 8274.5,-52 8274.5,-12 8274.5,-12 8274.5,-6 8280.5,0 8286.5,0 8286.5,0 8364.5,0 8364.5,0 8370.5,0 8376.5,-6 8376.5,-12 8376.5,-12 8376.5,-52 8376.5,-52 8376.5,-58 8370.5,-64 8364.5,-64\"/>\n<text text-anchor=\"start\" x=\"8290\" y=\"-49.8\" font-family=\"Helvetica,sans-Serif\" font-size=\"14.00\">gini = 0.153</text>\n<text text-anchor=\"start\" x=\"8284.5\" y=\"-35.8\" font-family=\"Helvetica,sans-Serif\" font-size=\"14.00\">samples = 12</text>\n<text text-anchor=\"start\" x=\"8282.5\" y=\"-21.8\" font-family=\"Helvetica,sans-Serif\" font-size=\"14.00\">value = [11, 1]</text>\n<text text-anchor=\"start\" x=\"8295\" y=\"-7.8\" font-family=\"Helvetica,sans-Serif\" font-size=\"14.00\">class = y</text>\n<text text-anchor=\"start\" x=\"8349\" y=\"-7.8\" font-family=\"Helvetica,sans-Serif\" baseline-shift=\"sub\" font-size=\"14.00\">0</text>\n</g>\n<!-- 160&#45;&gt;161 -->\n<g id=\"edge161\" class=\"edge\">\n<title>160&#45;&gt;161</title>\n<path fill=\"none\" stroke=\"black\" d=\"M8352.22,-99.8C8348.81,-91.27 8345.18,-82.21 8341.74,-73.6\"/>\n<polygon fill=\"black\" stroke=\"black\" points=\"8344.91,-72.1 8337.95,-64.12 8338.41,-74.7 8344.91,-72.1\"/>\n</g>\n<!-- 162 -->\n<g id=\"node163\" class=\"node\">\n<title>162</title>\n<path fill=\"#a4d2f3\" stroke=\"black\" d=\"M8492.5,-64C8492.5,-64 8406.5,-64 8406.5,-64 8400.5,-64 8394.5,-58 8394.5,-52 8394.5,-52 8394.5,-12 8394.5,-12 8394.5,-6 8400.5,0 8406.5,0 8406.5,0 8492.5,0 8492.5,0 8498.5,0 8504.5,-6 8504.5,-12 8504.5,-12 8504.5,-52 8504.5,-52 8504.5,-58 8498.5,-64 8492.5,-64\"/>\n<text text-anchor=\"start\" x=\"8414\" y=\"-49.8\" font-family=\"Helvetica,sans-Serif\" font-size=\"14.00\">gini = 0.456</text>\n<text text-anchor=\"start\" x=\"8408.5\" y=\"-35.8\" font-family=\"Helvetica,sans-Serif\" font-size=\"14.00\">samples = 57</text>\n<text text-anchor=\"start\" x=\"8402.5\" y=\"-21.8\" font-family=\"Helvetica,sans-Serif\" font-size=\"14.00\">value = [20, 37]</text>\n<text text-anchor=\"start\" x=\"8419\" y=\"-7.8\" font-family=\"Helvetica,sans-Serif\" font-size=\"14.00\">class = y</text>\n<text text-anchor=\"start\" x=\"8473\" y=\"-7.8\" font-family=\"Helvetica,sans-Serif\" baseline-shift=\"sub\" font-size=\"14.00\">1</text>\n</g>\n<!-- 160&#45;&gt;162 -->\n<g id=\"edge162\" class=\"edge\">\n<title>160&#45;&gt;162</title>\n<path fill=\"none\" stroke=\"black\" d=\"M8397.34,-99.8C8404.35,-90.82 8411.83,-81.23 8418.88,-72.21\"/>\n<polygon fill=\"black\" stroke=\"black\" points=\"8421.8,-74.15 8425.2,-64.12 8416.29,-69.84 8421.8,-74.15\"/>\n</g>\n<!-- 164 -->\n<g id=\"node165\" class=\"node\">\n<title>164</title>\n<path fill=\"#69b5eb\" stroke=\"black\" d=\"M8960.5,-406C8960.5,-406 8824.5,-406 8824.5,-406 8818.5,-406 8812.5,-400 8812.5,-394 8812.5,-394 8812.5,-340 8812.5,-340 8812.5,-334 8818.5,-328 8824.5,-328 8824.5,-328 8960.5,-328 8960.5,-328 8966.5,-328 8972.5,-334 8972.5,-340 8972.5,-340 8972.5,-394 8972.5,-394 8972.5,-400 8966.5,-406 8960.5,-406\"/>\n<text text-anchor=\"start\" x=\"8820.5\" y=\"-391.8\" font-family=\"Helvetica,sans-Serif\" font-size=\"14.00\">Inflight wifi service ≤ 4.5</text>\n<text text-anchor=\"start\" x=\"8857\" y=\"-377.8\" font-family=\"Helvetica,sans-Serif\" font-size=\"14.00\">gini = 0.313</text>\n<text text-anchor=\"start\" x=\"8847.5\" y=\"-363.8\" font-family=\"Helvetica,sans-Serif\" font-size=\"14.00\">samples = 572</text>\n<text text-anchor=\"start\" x=\"8838\" y=\"-349.8\" font-family=\"Helvetica,sans-Serif\" font-size=\"14.00\">value = [111, 461]</text>\n<text text-anchor=\"start\" x=\"8862\" y=\"-335.8\" font-family=\"Helvetica,sans-Serif\" font-size=\"14.00\">class = y</text>\n<text text-anchor=\"start\" x=\"8916\" y=\"-335.8\" font-family=\"Helvetica,sans-Serif\" baseline-shift=\"sub\" font-size=\"14.00\">1</text>\n</g>\n<!-- 163&#45;&gt;164 -->\n<g id=\"edge164\" class=\"edge\">\n<title>163&#45;&gt;164</title>\n<path fill=\"none\" stroke=\"black\" d=\"M8892.5,-441.77C8892.5,-433.57 8892.5,-424.8 8892.5,-416.28\"/>\n<polygon fill=\"black\" stroke=\"black\" points=\"8896,-416.06 8892.5,-406.06 8889,-416.06 8896,-416.06\"/>\n</g>\n<!-- 175 -->\n<g id=\"node176\" class=\"node\">\n<title>175</title>\n<path fill=\"#3b9ee5\" stroke=\"black\" d=\"M9341.5,-406C9341.5,-406 9207.5,-406 9207.5,-406 9201.5,-406 9195.5,-400 9195.5,-394 9195.5,-394 9195.5,-340 9195.5,-340 9195.5,-334 9201.5,-328 9207.5,-328 9207.5,-328 9341.5,-328 9341.5,-328 9347.5,-328 9353.5,-334 9353.5,-340 9353.5,-340 9353.5,-394 9353.5,-394 9353.5,-400 9347.5,-406 9341.5,-406\"/>\n<text text-anchor=\"start\" x=\"9203.5\" y=\"-391.8\" font-family=\"Helvetica,sans-Serif\" font-size=\"14.00\">Customer Type_1 ≤ 0.5</text>\n<text text-anchor=\"start\" x=\"9239\" y=\"-377.8\" font-family=\"Helvetica,sans-Serif\" font-size=\"14.00\">gini = 0.024</text>\n<text text-anchor=\"start\" x=\"9226\" y=\"-363.8\" font-family=\"Helvetica,sans-Serif\" font-size=\"14.00\">samples = 2518</text>\n<text text-anchor=\"start\" x=\"9220\" y=\"-349.8\" font-family=\"Helvetica,sans-Serif\" font-size=\"14.00\">value = [31, 2487]</text>\n<text text-anchor=\"start\" x=\"9244\" y=\"-335.8\" font-family=\"Helvetica,sans-Serif\" font-size=\"14.00\">class = y</text>\n<text text-anchor=\"start\" x=\"9298\" y=\"-335.8\" font-family=\"Helvetica,sans-Serif\" baseline-shift=\"sub\" font-size=\"14.00\">1</text>\n</g>\n<!-- 163&#45;&gt;175 -->\n<g id=\"edge175\" class=\"edge\">\n<title>163&#45;&gt;175</title>\n<path fill=\"none\" stroke=\"black\" d=\"M8958.6,-460.62C9021.42,-442.2 9116.33,-414.37 9185.72,-394.03\"/>\n<polygon fill=\"black\" stroke=\"black\" points=\"9186.73,-397.38 9195.34,-391.21 9184.76,-390.66 9186.73,-397.38\"/>\n</g>\n<!-- 165 -->\n<g id=\"node166\" class=\"node\">\n<title>165</title>\n<path fill=\"#fcf1e9\" stroke=\"black\" d=\"M8853.5,-292C8853.5,-292 8719.5,-292 8719.5,-292 8713.5,-292 8707.5,-286 8707.5,-280 8707.5,-280 8707.5,-226 8707.5,-226 8707.5,-220 8713.5,-214 8719.5,-214 8719.5,-214 8853.5,-214 8853.5,-214 8859.5,-214 8865.5,-220 8865.5,-226 8865.5,-226 8865.5,-280 8865.5,-280 8865.5,-286 8859.5,-292 8853.5,-292\"/>\n<text text-anchor=\"start\" x=\"8715.5\" y=\"-277.8\" font-family=\"Helvetica,sans-Serif\" font-size=\"14.00\">Customer Type_2 ≤ 0.5</text>\n<text text-anchor=\"start\" x=\"8751\" y=\"-263.8\" font-family=\"Helvetica,sans-Serif\" font-size=\"14.00\">gini = 0.498</text>\n<text text-anchor=\"start\" x=\"8741.5\" y=\"-249.8\" font-family=\"Helvetica,sans-Serif\" font-size=\"14.00\">samples = 208</text>\n<text text-anchor=\"start\" x=\"8736\" y=\"-235.8\" font-family=\"Helvetica,sans-Serif\" font-size=\"14.00\">value = [110, 98]</text>\n<text text-anchor=\"start\" x=\"8756\" y=\"-221.8\" font-family=\"Helvetica,sans-Serif\" font-size=\"14.00\">class = y</text>\n<text text-anchor=\"start\" x=\"8810\" y=\"-221.8\" font-family=\"Helvetica,sans-Serif\" baseline-shift=\"sub\" font-size=\"14.00\">0</text>\n</g>\n<!-- 164&#45;&gt;165 -->\n<g id=\"edge165\" class=\"edge\">\n<title>164&#45;&gt;165</title>\n<path fill=\"none\" stroke=\"black\" d=\"M8856.32,-327.77C8847.7,-318.67 8838.43,-308.87 8829.54,-299.48\"/>\n<polygon fill=\"black\" stroke=\"black\" points=\"8831.94,-296.92 8822.52,-292.06 8826.85,-301.73 8831.94,-296.92\"/>\n</g>\n<!-- 172 -->\n<g id=\"node173\" class=\"node\">\n<title>172</title>\n<path fill=\"#3a9de5\" stroke=\"black\" d=\"M9101.5,-292C9101.5,-292 8895.5,-292 8895.5,-292 8889.5,-292 8883.5,-286 8883.5,-280 8883.5,-280 8883.5,-226 8883.5,-226 8883.5,-220 8889.5,-214 8895.5,-214 8895.5,-214 9101.5,-214 9101.5,-214 9107.5,-214 9113.5,-220 9113.5,-226 9113.5,-226 9113.5,-280 9113.5,-280 9113.5,-286 9107.5,-292 9101.5,-292\"/>\n<text text-anchor=\"start\" x=\"8891.5\" y=\"-277.8\" font-family=\"Helvetica,sans-Serif\" font-size=\"14.00\">Departure Delay in Minutes ≤ 257.0</text>\n<text text-anchor=\"start\" x=\"8963\" y=\"-263.8\" font-family=\"Helvetica,sans-Serif\" font-size=\"14.00\">gini = 0.005</text>\n<text text-anchor=\"start\" x=\"8953.5\" y=\"-249.8\" font-family=\"Helvetica,sans-Serif\" font-size=\"14.00\">samples = 364</text>\n<text text-anchor=\"start\" x=\"8951.5\" y=\"-235.8\" font-family=\"Helvetica,sans-Serif\" font-size=\"14.00\">value = [1, 363]</text>\n<text text-anchor=\"start\" x=\"8968\" y=\"-221.8\" font-family=\"Helvetica,sans-Serif\" font-size=\"14.00\">class = y</text>\n<text text-anchor=\"start\" x=\"9022\" y=\"-221.8\" font-family=\"Helvetica,sans-Serif\" baseline-shift=\"sub\" font-size=\"14.00\">1</text>\n</g>\n<!-- 164&#45;&gt;172 -->\n<g id=\"edge172\" class=\"edge\">\n<title>164&#45;&gt;172</title>\n<path fill=\"none\" stroke=\"black\" d=\"M8928.68,-327.77C8937.3,-318.67 8946.57,-308.87 8955.46,-299.48\"/>\n<polygon fill=\"black\" stroke=\"black\" points=\"8958.15,-301.73 8962.48,-292.06 8953.06,-296.92 8958.15,-301.73\"/>\n</g>\n<!-- 166 -->\n<g id=\"node167\" class=\"node\">\n<title>166</title>\n<path fill=\"#3ea0e6\" stroke=\"black\" d=\"M8705,-178C8705,-178 8478,-178 8478,-178 8472,-178 8466,-172 8466,-166 8466,-166 8466,-112 8466,-112 8466,-106 8472,-100 8478,-100 8478,-100 8705,-100 8705,-100 8711,-100 8717,-106 8717,-112 8717,-112 8717,-166 8717,-166 8717,-172 8711,-178 8705,-178\"/>\n<text text-anchor=\"start\" x=\"8474\" y=\"-163.8\" font-family=\"Helvetica,sans-Serif\" font-size=\"14.00\">Departure/Arrival time convenient ≤ 1.5</text>\n<text text-anchor=\"start\" x=\"8556\" y=\"-149.8\" font-family=\"Helvetica,sans-Serif\" font-size=\"14.00\">gini = 0.049</text>\n<text text-anchor=\"start\" x=\"8550.5\" y=\"-135.8\" font-family=\"Helvetica,sans-Serif\" font-size=\"14.00\">samples = 80</text>\n<text text-anchor=\"start\" x=\"8548.5\" y=\"-121.8\" font-family=\"Helvetica,sans-Serif\" font-size=\"14.00\">value = [2, 78]</text>\n<text text-anchor=\"start\" x=\"8561\" y=\"-107.8\" font-family=\"Helvetica,sans-Serif\" font-size=\"14.00\">class = y</text>\n<text text-anchor=\"start\" x=\"8615\" y=\"-107.8\" font-family=\"Helvetica,sans-Serif\" baseline-shift=\"sub\" font-size=\"14.00\">1</text>\n</g>\n<!-- 165&#45;&gt;166 -->\n<g id=\"edge166\" class=\"edge\">\n<title>165&#45;&gt;166</title>\n<path fill=\"none\" stroke=\"black\" d=\"M8720.21,-213.93C8703.1,-204.1 8684.55,-193.45 8667.01,-183.37\"/>\n<polygon fill=\"black\" stroke=\"black\" points=\"8668.35,-180.1 8657.94,-178.16 8664.87,-186.17 8668.35,-180.1\"/>\n</g>\n<!-- 169 -->\n<g id=\"node170\" class=\"node\">\n<title>169</title>\n<path fill=\"#ea985e\" stroke=\"black\" d=\"M8883.5,-178C8883.5,-178 8747.5,-178 8747.5,-178 8741.5,-178 8735.5,-172 8735.5,-166 8735.5,-166 8735.5,-112 8735.5,-112 8735.5,-106 8741.5,-100 8747.5,-100 8747.5,-100 8883.5,-100 8883.5,-100 8889.5,-100 8895.5,-106 8895.5,-112 8895.5,-112 8895.5,-166 8895.5,-166 8895.5,-172 8889.5,-178 8883.5,-178\"/>\n<text text-anchor=\"start\" x=\"8743.5\" y=\"-163.8\" font-family=\"Helvetica,sans-Serif\" font-size=\"14.00\">Inflight wifi service ≤ 3.5</text>\n<text text-anchor=\"start\" x=\"8780\" y=\"-149.8\" font-family=\"Helvetica,sans-Serif\" font-size=\"14.00\">gini = 0.264</text>\n<text text-anchor=\"start\" x=\"8770.5\" y=\"-135.8\" font-family=\"Helvetica,sans-Serif\" font-size=\"14.00\">samples = 128</text>\n<text text-anchor=\"start\" x=\"8765\" y=\"-121.8\" font-family=\"Helvetica,sans-Serif\" font-size=\"14.00\">value = [108, 20]</text>\n<text text-anchor=\"start\" x=\"8785\" y=\"-107.8\" font-family=\"Helvetica,sans-Serif\" font-size=\"14.00\">class = y</text>\n<text text-anchor=\"start\" x=\"8839\" y=\"-107.8\" font-family=\"Helvetica,sans-Serif\" baseline-shift=\"sub\" font-size=\"14.00\">0</text>\n</g>\n<!-- 165&#45;&gt;169 -->\n<g id=\"edge169\" class=\"edge\">\n<title>165&#45;&gt;169</title>\n<path fill=\"none\" stroke=\"black\" d=\"M8796.4,-213.77C8798.55,-205.48 8800.84,-196.61 8803.07,-188\"/>\n<polygon fill=\"black\" stroke=\"black\" points=\"8806.53,-188.62 8805.65,-178.06 8799.75,-186.86 8806.53,-188.62\"/>\n</g>\n<!-- 167 -->\n<g id=\"node168\" class=\"node\">\n<title>167</title>\n<path fill=\"#53aae8\" stroke=\"black\" d=\"M8613.5,-64C8613.5,-64 8535.5,-64 8535.5,-64 8529.5,-64 8523.5,-58 8523.5,-52 8523.5,-52 8523.5,-12 8523.5,-12 8523.5,-6 8529.5,0 8535.5,0 8535.5,0 8613.5,0 8613.5,0 8619.5,0 8625.5,-6 8625.5,-12 8625.5,-12 8625.5,-52 8625.5,-52 8625.5,-58 8619.5,-64 8613.5,-64\"/>\n<text text-anchor=\"start\" x=\"8539\" y=\"-49.8\" font-family=\"Helvetica,sans-Serif\" font-size=\"14.00\">gini = 0.208</text>\n<text text-anchor=\"start\" x=\"8533.5\" y=\"-35.8\" font-family=\"Helvetica,sans-Serif\" font-size=\"14.00\">samples = 17</text>\n<text text-anchor=\"start\" x=\"8531.5\" y=\"-21.8\" font-family=\"Helvetica,sans-Serif\" font-size=\"14.00\">value = [2, 15]</text>\n<text text-anchor=\"start\" x=\"8544\" y=\"-7.8\" font-family=\"Helvetica,sans-Serif\" font-size=\"14.00\">class = y</text>\n<text text-anchor=\"start\" x=\"8598\" y=\"-7.8\" font-family=\"Helvetica,sans-Serif\" baseline-shift=\"sub\" font-size=\"14.00\">1</text>\n</g>\n<!-- 166&#45;&gt;167 -->\n<g id=\"edge167\" class=\"edge\">\n<title>166&#45;&gt;167</title>\n<path fill=\"none\" stroke=\"black\" d=\"M8585.31,-99.8C8583.96,-91.46 8582.53,-82.6 8581.16,-74.15\"/>\n<polygon fill=\"black\" stroke=\"black\" points=\"8584.59,-73.43 8579.54,-64.12 8577.68,-74.55 8584.59,-73.43\"/>\n</g>\n<!-- 168 -->\n<g id=\"node169\" class=\"node\">\n<title>168</title>\n<path fill=\"#399de5\" stroke=\"black\" d=\"M8733.5,-64C8733.5,-64 8655.5,-64 8655.5,-64 8649.5,-64 8643.5,-58 8643.5,-52 8643.5,-52 8643.5,-12 8643.5,-12 8643.5,-6 8649.5,0 8655.5,0 8655.5,0 8733.5,0 8733.5,0 8739.5,0 8745.5,-6 8745.5,-12 8745.5,-12 8745.5,-52 8745.5,-52 8745.5,-58 8739.5,-64 8733.5,-64\"/>\n<text text-anchor=\"start\" x=\"8666.5\" y=\"-49.8\" font-family=\"Helvetica,sans-Serif\" font-size=\"14.00\">gini = 0.0</text>\n<text text-anchor=\"start\" x=\"8653.5\" y=\"-35.8\" font-family=\"Helvetica,sans-Serif\" font-size=\"14.00\">samples = 63</text>\n<text text-anchor=\"start\" x=\"8651.5\" y=\"-21.8\" font-family=\"Helvetica,sans-Serif\" font-size=\"14.00\">value = [0, 63]</text>\n<text text-anchor=\"start\" x=\"8664\" y=\"-7.8\" font-family=\"Helvetica,sans-Serif\" font-size=\"14.00\">class = y</text>\n<text text-anchor=\"start\" x=\"8718\" y=\"-7.8\" font-family=\"Helvetica,sans-Serif\" baseline-shift=\"sub\" font-size=\"14.00\">1</text>\n</g>\n<!-- 166&#45;&gt;168 -->\n<g id=\"edge168\" class=\"edge\">\n<title>166&#45;&gt;168</title>\n<path fill=\"none\" stroke=\"black\" d=\"M8628.98,-99.8C8638.05,-90.54 8647.76,-80.65 8656.85,-71.38\"/>\n<polygon fill=\"black\" stroke=\"black\" points=\"8659.47,-73.71 8663.98,-64.12 8654.47,-68.8 8659.47,-73.71\"/>\n</g>\n<!-- 170 -->\n<g id=\"node171\" class=\"node\">\n<title>170</title>\n<path fill=\"#e6853f\" stroke=\"black\" d=\"M8854.5,-64C8854.5,-64 8776.5,-64 8776.5,-64 8770.5,-64 8764.5,-58 8764.5,-52 8764.5,-52 8764.5,-12 8764.5,-12 8764.5,-6 8770.5,0 8776.5,0 8776.5,0 8854.5,0 8854.5,0 8860.5,0 8866.5,-6 8866.5,-12 8866.5,-12 8866.5,-52 8866.5,-52 8866.5,-58 8860.5,-64 8854.5,-64\"/>\n<text text-anchor=\"start\" x=\"8780\" y=\"-49.8\" font-family=\"Helvetica,sans-Serif\" font-size=\"14.00\">gini = 0.057</text>\n<text text-anchor=\"start\" x=\"8774.5\" y=\"-35.8\" font-family=\"Helvetica,sans-Serif\" font-size=\"14.00\">samples = 68</text>\n<text text-anchor=\"start\" x=\"8772.5\" y=\"-21.8\" font-family=\"Helvetica,sans-Serif\" font-size=\"14.00\">value = [66, 2]</text>\n<text text-anchor=\"start\" x=\"8785\" y=\"-7.8\" font-family=\"Helvetica,sans-Serif\" font-size=\"14.00\">class = y</text>\n<text text-anchor=\"start\" x=\"8839\" y=\"-7.8\" font-family=\"Helvetica,sans-Serif\" baseline-shift=\"sub\" font-size=\"14.00\">0</text>\n</g>\n<!-- 169&#45;&gt;170 -->\n<g id=\"edge170\" class=\"edge\">\n<title>169&#45;&gt;170</title>\n<path fill=\"none\" stroke=\"black\" d=\"M8815.5,-99.8C8815.5,-91.46 8815.5,-82.6 8815.5,-74.15\"/>\n<polygon fill=\"black\" stroke=\"black\" points=\"8819,-74.12 8815.5,-64.12 8812,-74.12 8819,-74.12\"/>\n</g>\n<!-- 171 -->\n<g id=\"node172\" class=\"node\">\n<title>171</title>\n<path fill=\"#f0b78e\" stroke=\"black\" d=\"M8982.5,-64C8982.5,-64 8896.5,-64 8896.5,-64 8890.5,-64 8884.5,-58 8884.5,-52 8884.5,-52 8884.5,-12 8884.5,-12 8884.5,-6 8890.5,0 8896.5,0 8896.5,0 8982.5,0 8982.5,0 8988.5,0 8994.5,-6 8994.5,-12 8994.5,-12 8994.5,-52 8994.5,-52 8994.5,-58 8988.5,-64 8982.5,-64\"/>\n<text text-anchor=\"start\" x=\"8907.5\" y=\"-49.8\" font-family=\"Helvetica,sans-Serif\" font-size=\"14.00\">gini = 0.42</text>\n<text text-anchor=\"start\" x=\"8898.5\" y=\"-35.8\" font-family=\"Helvetica,sans-Serif\" font-size=\"14.00\">samples = 60</text>\n<text text-anchor=\"start\" x=\"8892.5\" y=\"-21.8\" font-family=\"Helvetica,sans-Serif\" font-size=\"14.00\">value = [42, 18]</text>\n<text text-anchor=\"start\" x=\"8909\" y=\"-7.8\" font-family=\"Helvetica,sans-Serif\" font-size=\"14.00\">class = y</text>\n<text text-anchor=\"start\" x=\"8963\" y=\"-7.8\" font-family=\"Helvetica,sans-Serif\" baseline-shift=\"sub\" font-size=\"14.00\">0</text>\n</g>\n<!-- 169&#45;&gt;171 -->\n<g id=\"edge171\" class=\"edge\">\n<title>169&#45;&gt;171</title>\n<path fill=\"none\" stroke=\"black\" d=\"M8860.62,-99.8C8871.76,-90.36 8883.69,-80.25 8894.82,-70.84\"/>\n<polygon fill=\"black\" stroke=\"black\" points=\"8897.38,-73.25 8902.75,-64.12 8892.86,-67.91 8897.38,-73.25\"/>\n</g>\n<!-- 173 -->\n<g id=\"node174\" class=\"node\">\n<title>173</title>\n<path fill=\"#399de5\" stroke=\"black\" d=\"M9011.5,-171C9011.5,-171 8925.5,-171 8925.5,-171 8919.5,-171 8913.5,-165 8913.5,-159 8913.5,-159 8913.5,-119 8913.5,-119 8913.5,-113 8919.5,-107 8925.5,-107 8925.5,-107 9011.5,-107 9011.5,-107 9017.5,-107 9023.5,-113 9023.5,-119 9023.5,-119 9023.5,-159 9023.5,-159 9023.5,-165 9017.5,-171 9011.5,-171\"/>\n<text text-anchor=\"start\" x=\"8940.5\" y=\"-156.8\" font-family=\"Helvetica,sans-Serif\" font-size=\"14.00\">gini = 0.0</text>\n<text text-anchor=\"start\" x=\"8923.5\" y=\"-142.8\" font-family=\"Helvetica,sans-Serif\" font-size=\"14.00\">samples = 354</text>\n<text text-anchor=\"start\" x=\"8921.5\" y=\"-128.8\" font-family=\"Helvetica,sans-Serif\" font-size=\"14.00\">value = [0, 354]</text>\n<text text-anchor=\"start\" x=\"8938\" y=\"-114.8\" font-family=\"Helvetica,sans-Serif\" font-size=\"14.00\">class = y</text>\n<text text-anchor=\"start\" x=\"8992\" y=\"-114.8\" font-family=\"Helvetica,sans-Serif\" baseline-shift=\"sub\" font-size=\"14.00\">1</text>\n</g>\n<!-- 172&#45;&gt;173 -->\n<g id=\"edge173\" class=\"edge\">\n<title>172&#45;&gt;173</title>\n<path fill=\"none\" stroke=\"black\" d=\"M8988.26,-213.77C8985.43,-203.2 8982.35,-191.7 8979.48,-180.98\"/>\n<polygon fill=\"black\" stroke=\"black\" points=\"8982.77,-179.76 8976.81,-171.01 8976.01,-181.58 8982.77,-179.76\"/>\n</g>\n<!-- 174 -->\n<g id=\"node175\" class=\"node\">\n<title>174</title>\n<path fill=\"#4fa8e8\" stroke=\"black\" d=\"M9127.5,-171C9127.5,-171 9053.5,-171 9053.5,-171 9047.5,-171 9041.5,-165 9041.5,-159 9041.5,-159 9041.5,-119 9041.5,-119 9041.5,-113 9047.5,-107 9053.5,-107 9053.5,-107 9127.5,-107 9127.5,-107 9133.5,-107 9139.5,-113 9139.5,-119 9139.5,-119 9139.5,-159 9139.5,-159 9139.5,-165 9133.5,-171 9127.5,-171\"/>\n<text text-anchor=\"start\" x=\"9058.5\" y=\"-156.8\" font-family=\"Helvetica,sans-Serif\" font-size=\"14.00\">gini = 0.18</text>\n<text text-anchor=\"start\" x=\"9049.5\" y=\"-142.8\" font-family=\"Helvetica,sans-Serif\" font-size=\"14.00\">samples = 10</text>\n<text text-anchor=\"start\" x=\"9051\" y=\"-128.8\" font-family=\"Helvetica,sans-Serif\" font-size=\"14.00\">value = [1, 9]</text>\n<text text-anchor=\"start\" x=\"9060\" y=\"-114.8\" font-family=\"Helvetica,sans-Serif\" font-size=\"14.00\">class = y</text>\n<text text-anchor=\"start\" x=\"9114\" y=\"-114.8\" font-family=\"Helvetica,sans-Serif\" baseline-shift=\"sub\" font-size=\"14.00\">1</text>\n</g>\n<!-- 172&#45;&gt;174 -->\n<g id=\"edge174\" class=\"edge\">\n<title>172&#45;&gt;174</title>\n<path fill=\"none\" stroke=\"black\" d=\"M9029.9,-213.77C9039.12,-202.55 9049.21,-190.27 9058.46,-179\"/>\n<polygon fill=\"black\" stroke=\"black\" points=\"9061.38,-180.96 9065.03,-171.01 9055.98,-176.52 9061.38,-180.96\"/>\n</g>\n<!-- 176 -->\n<g id=\"node177\" class=\"node\">\n<title>176</title>\n<path fill=\"#42a2e6\" stroke=\"black\" d=\"M9342.5,-292C9342.5,-292 9206.5,-292 9206.5,-292 9200.5,-292 9194.5,-286 9194.5,-280 9194.5,-280 9194.5,-226 9194.5,-226 9194.5,-220 9200.5,-214 9206.5,-214 9206.5,-214 9342.5,-214 9342.5,-214 9348.5,-214 9354.5,-220 9354.5,-226 9354.5,-226 9354.5,-280 9354.5,-280 9354.5,-286 9348.5,-292 9342.5,-292\"/>\n<text text-anchor=\"start\" x=\"9202.5\" y=\"-277.8\" font-family=\"Helvetica,sans-Serif\" font-size=\"14.00\">Inflight wifi service ≤ 4.5</text>\n<text text-anchor=\"start\" x=\"9239\" y=\"-263.8\" font-family=\"Helvetica,sans-Serif\" font-size=\"14.00\">gini = 0.086</text>\n<text text-anchor=\"start\" x=\"9229.5\" y=\"-249.8\" font-family=\"Helvetica,sans-Serif\" font-size=\"14.00\">samples = 670</text>\n<text text-anchor=\"start\" x=\"9224\" y=\"-235.8\" font-family=\"Helvetica,sans-Serif\" font-size=\"14.00\">value = [30, 640]</text>\n<text text-anchor=\"start\" x=\"9244\" y=\"-221.8\" font-family=\"Helvetica,sans-Serif\" font-size=\"14.00\">class = y</text>\n<text text-anchor=\"start\" x=\"9298\" y=\"-221.8\" font-family=\"Helvetica,sans-Serif\" baseline-shift=\"sub\" font-size=\"14.00\">1</text>\n</g>\n<!-- 175&#45;&gt;176 -->\n<g id=\"edge176\" class=\"edge\">\n<title>175&#45;&gt;176</title>\n<path fill=\"none\" stroke=\"black\" d=\"M9274.5,-327.77C9274.5,-319.57 9274.5,-310.8 9274.5,-302.28\"/>\n<polygon fill=\"black\" stroke=\"black\" points=\"9278,-302.06 9274.5,-292.06 9271,-302.06 9278,-302.06\"/>\n</g>\n<!-- 181 -->\n<g id=\"node182\" class=\"node\">\n<title>181</title>\n<path fill=\"#399de5\" stroke=\"black\" d=\"M9511,-292C9511,-292 9418,-292 9418,-292 9412,-292 9406,-286 9406,-280 9406,-280 9406,-226 9406,-226 9406,-220 9412,-214 9418,-214 9418,-214 9511,-214 9511,-214 9517,-214 9523,-220 9523,-226 9523,-226 9523,-280 9523,-280 9523,-286 9517,-292 9511,-292\"/>\n<text text-anchor=\"start\" x=\"9431.5\" y=\"-277.8\" font-family=\"Helvetica,sans-Serif\" font-size=\"14.00\">Age ≤ 24.5</text>\n<text text-anchor=\"start\" x=\"9429\" y=\"-263.8\" font-family=\"Helvetica,sans-Serif\" font-size=\"14.00\">gini = 0.001</text>\n<text text-anchor=\"start\" x=\"9416\" y=\"-249.8\" font-family=\"Helvetica,sans-Serif\" font-size=\"14.00\">samples = 1848</text>\n<text text-anchor=\"start\" x=\"9414\" y=\"-235.8\" font-family=\"Helvetica,sans-Serif\" font-size=\"14.00\">value = [1, 1847]</text>\n<text text-anchor=\"start\" x=\"9434\" y=\"-221.8\" font-family=\"Helvetica,sans-Serif\" font-size=\"14.00\">class = y</text>\n<text text-anchor=\"start\" x=\"9488\" y=\"-221.8\" font-family=\"Helvetica,sans-Serif\" baseline-shift=\"sub\" font-size=\"14.00\">1</text>\n</g>\n<!-- 175&#45;&gt;181 -->\n<g id=\"edge181\" class=\"edge\">\n<title>175&#45;&gt;181</title>\n<path fill=\"none\" stroke=\"black\" d=\"M9339.09,-327.93C9357.76,-316.92 9378.18,-304.89 9397.02,-293.78\"/>\n<polygon fill=\"black\" stroke=\"black\" points=\"9399,-296.68 9405.83,-288.58 9395.44,-290.65 9399,-296.68\"/>\n</g>\n<!-- 177 -->\n<g id=\"node178\" class=\"node\">\n<title>177</title>\n<path fill=\"#b2d9f5\" stroke=\"black\" d=\"M9255.5,-178C9255.5,-178 9169.5,-178 9169.5,-178 9163.5,-178 9157.5,-172 9157.5,-166 9157.5,-166 9157.5,-112 9157.5,-112 9157.5,-106 9163.5,-100 9169.5,-100 9169.5,-100 9255.5,-100 9255.5,-100 9261.5,-100 9267.5,-106 9267.5,-112 9267.5,-112 9267.5,-166 9267.5,-166 9267.5,-172 9261.5,-178 9255.5,-178\"/>\n<text text-anchor=\"start\" x=\"9179.5\" y=\"-163.8\" font-family=\"Helvetica,sans-Serif\" font-size=\"14.00\">Age ≤ 29.5</text>\n<text text-anchor=\"start\" x=\"9177\" y=\"-149.8\" font-family=\"Helvetica,sans-Serif\" font-size=\"14.00\">gini = 0.471</text>\n<text text-anchor=\"start\" x=\"9171.5\" y=\"-135.8\" font-family=\"Helvetica,sans-Serif\" font-size=\"14.00\">samples = 79</text>\n<text text-anchor=\"start\" x=\"9165.5\" y=\"-121.8\" font-family=\"Helvetica,sans-Serif\" font-size=\"14.00\">value = [30, 49]</text>\n<text text-anchor=\"start\" x=\"9182\" y=\"-107.8\" font-family=\"Helvetica,sans-Serif\" font-size=\"14.00\">class = y</text>\n<text text-anchor=\"start\" x=\"9236\" y=\"-107.8\" font-family=\"Helvetica,sans-Serif\" baseline-shift=\"sub\" font-size=\"14.00\">1</text>\n</g>\n<!-- 176&#45;&gt;177 -->\n<g id=\"edge177\" class=\"edge\">\n<title>176&#45;&gt;177</title>\n<path fill=\"none\" stroke=\"black\" d=\"M9253.34,-213.77C9248.55,-205.12 9243.41,-195.84 9238.45,-186.88\"/>\n<polygon fill=\"black\" stroke=\"black\" points=\"9241.47,-185.11 9233.57,-178.06 9235.35,-188.5 9241.47,-185.11\"/>\n</g>\n<!-- 180 -->\n<g id=\"node181\" class=\"node\">\n<title>180</title>\n<path fill=\"#399de5\" stroke=\"black\" d=\"M9383.5,-171C9383.5,-171 9297.5,-171 9297.5,-171 9291.5,-171 9285.5,-165 9285.5,-159 9285.5,-159 9285.5,-119 9285.5,-119 9285.5,-113 9291.5,-107 9297.5,-107 9297.5,-107 9383.5,-107 9383.5,-107 9389.5,-107 9395.5,-113 9395.5,-119 9395.5,-119 9395.5,-159 9395.5,-159 9395.5,-165 9389.5,-171 9383.5,-171\"/>\n<text text-anchor=\"start\" x=\"9312.5\" y=\"-156.8\" font-family=\"Helvetica,sans-Serif\" font-size=\"14.00\">gini = 0.0</text>\n<text text-anchor=\"start\" x=\"9295.5\" y=\"-142.8\" font-family=\"Helvetica,sans-Serif\" font-size=\"14.00\">samples = 591</text>\n<text text-anchor=\"start\" x=\"9293.5\" y=\"-128.8\" font-family=\"Helvetica,sans-Serif\" font-size=\"14.00\">value = [0, 591]</text>\n<text text-anchor=\"start\" x=\"9310\" y=\"-114.8\" font-family=\"Helvetica,sans-Serif\" font-size=\"14.00\">class = y</text>\n<text text-anchor=\"start\" x=\"9364\" y=\"-114.8\" font-family=\"Helvetica,sans-Serif\" baseline-shift=\"sub\" font-size=\"14.00\">1</text>\n</g>\n<!-- 176&#45;&gt;180 -->\n<g id=\"edge180\" class=\"edge\">\n<title>176&#45;&gt;180</title>\n<path fill=\"none\" stroke=\"black\" d=\"M9297.03,-213.77C9303.51,-202.77 9310.6,-190.75 9317.13,-179.66\"/>\n<polygon fill=\"black\" stroke=\"black\" points=\"9320.16,-181.4 9322.23,-171.01 9314.13,-177.85 9320.16,-181.4\"/>\n</g>\n<!-- 178 -->\n<g id=\"node179\" class=\"node\">\n<title>178</title>\n<path fill=\"#5eafea\" stroke=\"black\" d=\"M9191.5,-64C9191.5,-64 9113.5,-64 9113.5,-64 9107.5,-64 9101.5,-58 9101.5,-52 9101.5,-52 9101.5,-12 9101.5,-12 9101.5,-6 9107.5,0 9113.5,0 9113.5,0 9191.5,0 9191.5,0 9197.5,0 9203.5,-6 9203.5,-12 9203.5,-12 9203.5,-52 9203.5,-52 9203.5,-58 9197.5,-64 9191.5,-64\"/>\n<text text-anchor=\"start\" x=\"9117\" y=\"-49.8\" font-family=\"Helvetica,sans-Serif\" font-size=\"14.00\">gini = 0.265</text>\n<text text-anchor=\"start\" x=\"9111.5\" y=\"-35.8\" font-family=\"Helvetica,sans-Serif\" font-size=\"14.00\">samples = 51</text>\n<text text-anchor=\"start\" x=\"9109.5\" y=\"-21.8\" font-family=\"Helvetica,sans-Serif\" font-size=\"14.00\">value = [8, 43]</text>\n<text text-anchor=\"start\" x=\"9122\" y=\"-7.8\" font-family=\"Helvetica,sans-Serif\" font-size=\"14.00\">class = y</text>\n<text text-anchor=\"start\" x=\"9176\" y=\"-7.8\" font-family=\"Helvetica,sans-Serif\" baseline-shift=\"sub\" font-size=\"14.00\">1</text>\n</g>\n<!-- 177&#45;&gt;178 -->\n<g id=\"edge178\" class=\"edge\">\n<title>177&#45;&gt;178</title>\n<path fill=\"none\" stroke=\"black\" d=\"M9190.67,-99.8C9185.7,-91.09 9180.4,-81.82 9175.38,-73.04\"/>\n<polygon fill=\"black\" stroke=\"black\" points=\"9178.28,-71.06 9170.28,-64.12 9172.2,-74.54 9178.28,-71.06\"/>\n</g>\n<!-- 179 -->\n<g id=\"node180\" class=\"node\">\n<title>179</title>\n<path fill=\"#eca36f\" stroke=\"black\" d=\"M9311.5,-64C9311.5,-64 9233.5,-64 9233.5,-64 9227.5,-64 9221.5,-58 9221.5,-52 9221.5,-52 9221.5,-12 9221.5,-12 9221.5,-6 9227.5,0 9233.5,0 9233.5,0 9311.5,0 9311.5,0 9317.5,0 9323.5,-6 9323.5,-12 9323.5,-12 9323.5,-52 9323.5,-52 9323.5,-58 9317.5,-64 9311.5,-64\"/>\n<text text-anchor=\"start\" x=\"9237\" y=\"-49.8\" font-family=\"Helvetica,sans-Serif\" font-size=\"14.00\">gini = 0.337</text>\n<text text-anchor=\"start\" x=\"9231.5\" y=\"-35.8\" font-family=\"Helvetica,sans-Serif\" font-size=\"14.00\">samples = 28</text>\n<text text-anchor=\"start\" x=\"9229.5\" y=\"-21.8\" font-family=\"Helvetica,sans-Serif\" font-size=\"14.00\">value = [22, 6]</text>\n<text text-anchor=\"start\" x=\"9242\" y=\"-7.8\" font-family=\"Helvetica,sans-Serif\" font-size=\"14.00\">class = y</text>\n<text text-anchor=\"start\" x=\"9296\" y=\"-7.8\" font-family=\"Helvetica,sans-Serif\" baseline-shift=\"sub\" font-size=\"14.00\">0</text>\n</g>\n<!-- 177&#45;&gt;179 -->\n<g id=\"edge179\" class=\"edge\">\n<title>177&#45;&gt;179</title>\n<path fill=\"none\" stroke=\"black\" d=\"M9234.33,-99.8C9239.3,-91.09 9244.6,-81.82 9249.62,-73.04\"/>\n<polygon fill=\"black\" stroke=\"black\" points=\"9252.8,-74.54 9254.72,-64.12 9246.72,-71.06 9252.8,-74.54\"/>\n</g>\n<!-- 182 -->\n<g id=\"node183\" class=\"node\">\n<title>182</title>\n<path fill=\"#46a4e7\" stroke=\"black\" d=\"M9503.5,-171C9503.5,-171 9425.5,-171 9425.5,-171 9419.5,-171 9413.5,-165 9413.5,-159 9413.5,-159 9413.5,-119 9413.5,-119 9413.5,-113 9419.5,-107 9425.5,-107 9425.5,-107 9503.5,-107 9503.5,-107 9509.5,-107 9515.5,-113 9515.5,-119 9515.5,-119 9515.5,-159 9515.5,-159 9515.5,-165 9509.5,-171 9503.5,-171\"/>\n<text text-anchor=\"start\" x=\"9429\" y=\"-156.8\" font-family=\"Helvetica,sans-Serif\" font-size=\"14.00\">gini = 0.117</text>\n<text text-anchor=\"start\" x=\"9423.5\" y=\"-142.8\" font-family=\"Helvetica,sans-Serif\" font-size=\"14.00\">samples = 16</text>\n<text text-anchor=\"start\" x=\"9421.5\" y=\"-128.8\" font-family=\"Helvetica,sans-Serif\" font-size=\"14.00\">value = [1, 15]</text>\n<text text-anchor=\"start\" x=\"9434\" y=\"-114.8\" font-family=\"Helvetica,sans-Serif\" font-size=\"14.00\">class = y</text>\n<text text-anchor=\"start\" x=\"9488\" y=\"-114.8\" font-family=\"Helvetica,sans-Serif\" baseline-shift=\"sub\" font-size=\"14.00\">1</text>\n</g>\n<!-- 181&#45;&gt;182 -->\n<g id=\"edge182\" class=\"edge\">\n<title>181&#45;&gt;182</title>\n<path fill=\"none\" stroke=\"black\" d=\"M9464.5,-213.77C9464.5,-203.31 9464.5,-191.94 9464.5,-181.32\"/>\n<polygon fill=\"black\" stroke=\"black\" points=\"9468,-181.01 9464.5,-171.01 9461,-181.01 9468,-181.01\"/>\n</g>\n<!-- 183 -->\n<g id=\"node184\" class=\"node\">\n<title>183</title>\n<path fill=\"#399de5\" stroke=\"black\" d=\"M9639,-171C9639,-171 9546,-171 9546,-171 9540,-171 9534,-165 9534,-159 9534,-159 9534,-119 9534,-119 9534,-113 9540,-107 9546,-107 9546,-107 9639,-107 9639,-107 9645,-107 9651,-113 9651,-119 9651,-119 9651,-159 9651,-159 9651,-165 9645,-171 9639,-171\"/>\n<text text-anchor=\"start\" x=\"9564.5\" y=\"-156.8\" font-family=\"Helvetica,sans-Serif\" font-size=\"14.00\">gini = 0.0</text>\n<text text-anchor=\"start\" x=\"9544\" y=\"-142.8\" font-family=\"Helvetica,sans-Serif\" font-size=\"14.00\">samples = 1832</text>\n<text text-anchor=\"start\" x=\"9542\" y=\"-128.8\" font-family=\"Helvetica,sans-Serif\" font-size=\"14.00\">value = [0, 1832]</text>\n<text text-anchor=\"start\" x=\"9562\" y=\"-114.8\" font-family=\"Helvetica,sans-Serif\" font-size=\"14.00\">class = y</text>\n<text text-anchor=\"start\" x=\"9616\" y=\"-114.8\" font-family=\"Helvetica,sans-Serif\" baseline-shift=\"sub\" font-size=\"14.00\">1</text>\n</g>\n<!-- 181&#45;&gt;183 -->\n<g id=\"edge183\" class=\"edge\">\n<title>181&#45;&gt;183</title>\n<path fill=\"none\" stroke=\"black\" d=\"M9508.19,-213.77C9521.51,-202.12 9536.14,-189.32 9549.42,-177.7\"/>\n<polygon fill=\"black\" stroke=\"black\" points=\"9551.84,-180.23 9557.06,-171.01 9547.23,-174.96 9551.84,-180.23\"/>\n</g>\n<!-- 185 -->\n<g id=\"node186\" class=\"node\">\n<title>185</title>\n<path fill=\"#43a2e6\" stroke=\"black\" d=\"M10546,-520C10546,-520 10423,-520 10423,-520 10417,-520 10411,-514 10411,-508 10411,-508 10411,-454 10411,-454 10411,-448 10417,-442 10423,-442 10423,-442 10546,-442 10546,-442 10552,-442 10558,-448 10558,-454 10558,-454 10558,-508 10558,-508 10558,-514 10552,-520 10546,-520\"/>\n<text text-anchor=\"start\" x=\"10419.5\" y=\"-505.8\" font-family=\"Helvetica,sans-Serif\" font-size=\"14.00\">Checkin service ≤ 2.5</text>\n<text text-anchor=\"start\" x=\"10452.5\" y=\"-491.8\" font-family=\"Helvetica,sans-Serif\" font-size=\"14.00\">gini = 0.09</text>\n<text text-anchor=\"start\" x=\"10432\" y=\"-477.8\" font-family=\"Helvetica,sans-Serif\" font-size=\"14.00\">samples = 28495</text>\n<text text-anchor=\"start\" x=\"10419\" y=\"-463.8\" font-family=\"Helvetica,sans-Serif\" font-size=\"14.00\">value = [1349, 27146]</text>\n<text text-anchor=\"start\" x=\"10454\" y=\"-449.8\" font-family=\"Helvetica,sans-Serif\" font-size=\"14.00\">class = y</text>\n<text text-anchor=\"start\" x=\"10508\" y=\"-449.8\" font-family=\"Helvetica,sans-Serif\" baseline-shift=\"sub\" font-size=\"14.00\">1</text>\n</g>\n<!-- 184&#45;&gt;185 -->\n<g id=\"edge185\" class=\"edge\">\n<title>184&#45;&gt;185</title>\n<path fill=\"none\" stroke=\"black\" d=\"M10484.5,-555.77C10484.5,-547.57 10484.5,-538.8 10484.5,-530.28\"/>\n<polygon fill=\"black\" stroke=\"black\" points=\"10488,-530.06 10484.5,-520.06 10481,-530.06 10488,-530.06\"/>\n</g>\n<!-- 212 -->\n<g id=\"node213\" class=\"node\">\n<title>212</title>\n<path fill=\"#b5daf5\" stroke=\"black\" d=\"M11528.5,-520C11528.5,-520 11392.5,-520 11392.5,-520 11386.5,-520 11380.5,-514 11380.5,-508 11380.5,-508 11380.5,-454 11380.5,-454 11380.5,-448 11386.5,-442 11392.5,-442 11392.5,-442 11528.5,-442 11528.5,-442 11534.5,-442 11540.5,-448 11540.5,-454 11540.5,-454 11540.5,-508 11540.5,-508 11540.5,-514 11534.5,-520 11528.5,-520\"/>\n<text text-anchor=\"start\" x=\"11388.5\" y=\"-505.8\" font-family=\"Helvetica,sans-Serif\" font-size=\"14.00\">Inflight wifi service ≤ 4.5</text>\n<text text-anchor=\"start\" x=\"11425\" y=\"-491.8\" font-family=\"Helvetica,sans-Serif\" font-size=\"14.00\">gini = 0.473</text>\n<text text-anchor=\"start\" x=\"11412\" y=\"-477.8\" font-family=\"Helvetica,sans-Serif\" font-size=\"14.00\">samples = 2341</text>\n<text text-anchor=\"start\" x=\"11402.5\" y=\"-463.8\" font-family=\"Helvetica,sans-Serif\" font-size=\"14.00\">value = [901, 1440]</text>\n<text text-anchor=\"start\" x=\"11430\" y=\"-449.8\" font-family=\"Helvetica,sans-Serif\" font-size=\"14.00\">class = y</text>\n<text text-anchor=\"start\" x=\"11484\" y=\"-449.8\" font-family=\"Helvetica,sans-Serif\" baseline-shift=\"sub\" font-size=\"14.00\">1</text>\n</g>\n<!-- 184&#45;&gt;212 -->\n<g id=\"edge212\" class=\"edge\">\n<title>184&#45;&gt;212</title>\n<path fill=\"none\" stroke=\"black\" d=\"M10563.54,-584.93C10743.1,-564.32 11180.81,-514.1 11370.44,-492.33\"/>\n<polygon fill=\"black\" stroke=\"black\" points=\"11370.84,-495.81 11380.38,-491.19 11370.04,-488.86 11370.84,-495.81\"/>\n</g>\n<!-- 186 -->\n<g id=\"node187\" class=\"node\">\n<title>186</title>\n<path fill=\"#67b4eb\" stroke=\"black\" d=\"M10343.5,-406C10343.5,-406 10221.5,-406 10221.5,-406 10215.5,-406 10209.5,-400 10209.5,-394 10209.5,-394 10209.5,-340 10209.5,-340 10209.5,-334 10215.5,-328 10221.5,-328 10221.5,-328 10343.5,-328 10343.5,-328 10349.5,-328 10355.5,-334 10355.5,-340 10355.5,-340 10355.5,-394 10355.5,-394 10355.5,-400 10349.5,-406 10343.5,-406\"/>\n<text text-anchor=\"start\" x=\"10217.5\" y=\"-391.8\" font-family=\"Helvetica,sans-Serif\" font-size=\"14.00\">Online boarding ≤ 4.5</text>\n<text text-anchor=\"start\" x=\"10247\" y=\"-377.8\" font-family=\"Helvetica,sans-Serif\" font-size=\"14.00\">gini = 0.307</text>\n<text text-anchor=\"start\" x=\"10234\" y=\"-363.8\" font-family=\"Helvetica,sans-Serif\" font-size=\"14.00\">samples = 3527</text>\n<text text-anchor=\"start\" x=\"10224.5\" y=\"-349.8\" font-family=\"Helvetica,sans-Serif\" font-size=\"14.00\">value = [667, 2860]</text>\n<text text-anchor=\"start\" x=\"10252\" y=\"-335.8\" font-family=\"Helvetica,sans-Serif\" font-size=\"14.00\">class = y</text>\n<text text-anchor=\"start\" x=\"10306\" y=\"-335.8\" font-family=\"Helvetica,sans-Serif\" baseline-shift=\"sub\" font-size=\"14.00\">1</text>\n</g>\n<!-- 185&#45;&gt;186 -->\n<g id=\"edge186\" class=\"edge\">\n<title>185&#45;&gt;186</title>\n<path fill=\"none\" stroke=\"black\" d=\"M10415.83,-441.93C10397.94,-432.01 10378.54,-421.25 10360.22,-411.09\"/>\n<polygon fill=\"black\" stroke=\"black\" points=\"10361.77,-407.95 10351.32,-406.16 10358.37,-414.07 10361.77,-407.95\"/>\n</g>\n<!-- 199 -->\n<g id=\"node200\" class=\"node\">\n<title>199</title>\n<path fill=\"#3fa0e6\" stroke=\"black\" d=\"M10655.5,-406C10655.5,-406 10539.5,-406 10539.5,-406 10533.5,-406 10527.5,-400 10527.5,-394 10527.5,-394 10527.5,-340 10527.5,-340 10527.5,-334 10533.5,-328 10539.5,-328 10539.5,-328 10655.5,-328 10655.5,-328 10661.5,-328 10667.5,-334 10667.5,-340 10667.5,-340 10667.5,-394 10667.5,-394 10667.5,-400 10661.5,-406 10655.5,-406\"/>\n<text text-anchor=\"start\" x=\"10556\" y=\"-391.8\" font-family=\"Helvetica,sans-Serif\" font-size=\"14.00\">Class_2 ≤ 0.5</text>\n<text text-anchor=\"start\" x=\"10562\" y=\"-377.8\" font-family=\"Helvetica,sans-Serif\" font-size=\"14.00\">gini = 0.053</text>\n<text text-anchor=\"start\" x=\"10545\" y=\"-363.8\" font-family=\"Helvetica,sans-Serif\" font-size=\"14.00\">samples = 24968</text>\n<text text-anchor=\"start\" x=\"10535.5\" y=\"-349.8\" font-family=\"Helvetica,sans-Serif\" font-size=\"14.00\">value = [682, 24286]</text>\n<text text-anchor=\"start\" x=\"10567\" y=\"-335.8\" font-family=\"Helvetica,sans-Serif\" font-size=\"14.00\">class = y</text>\n<text text-anchor=\"start\" x=\"10621\" y=\"-335.8\" font-family=\"Helvetica,sans-Serif\" baseline-shift=\"sub\" font-size=\"14.00\">1</text>\n</g>\n<!-- 185&#45;&gt;199 -->\n<g id=\"edge199\" class=\"edge\">\n<title>185&#45;&gt;199</title>\n<path fill=\"none\" stroke=\"black\" d=\"M10523.07,-441.77C10532.34,-432.58 10542.34,-422.68 10551.9,-413.2\"/>\n<polygon fill=\"black\" stroke=\"black\" points=\"10554.46,-415.58 10559.1,-406.06 10549.54,-410.61 10554.46,-415.58\"/>\n</g>\n<!-- 187 -->\n<g id=\"node188\" class=\"node\">\n<title>187</title>\n<path fill=\"#93caf1\" stroke=\"black\" d=\"M10006,-292C10006,-292 9893,-292 9893,-292 9887,-292 9881,-286 9881,-280 9881,-280 9881,-226 9881,-226 9881,-220 9887,-214 9893,-214 9893,-214 10006,-214 10006,-214 10012,-214 10018,-220 10018,-226 10018,-226 10018,-280 10018,-280 10018,-286 10012,-292 10006,-292\"/>\n<text text-anchor=\"start\" x=\"9889\" y=\"-277.8\" font-family=\"Helvetica,sans-Serif\" font-size=\"14.00\">Inflight service ≤ 4.5</text>\n<text text-anchor=\"start\" x=\"9917.5\" y=\"-263.8\" font-family=\"Helvetica,sans-Serif\" font-size=\"14.00\">gini = 0.43</text>\n<text text-anchor=\"start\" x=\"9901\" y=\"-249.8\" font-family=\"Helvetica,sans-Serif\" font-size=\"14.00\">samples = 2127</text>\n<text text-anchor=\"start\" x=\"9891.5\" y=\"-235.8\" font-family=\"Helvetica,sans-Serif\" font-size=\"14.00\">value = [666, 1461]</text>\n<text text-anchor=\"start\" x=\"9919\" y=\"-221.8\" font-family=\"Helvetica,sans-Serif\" font-size=\"14.00\">class = y</text>\n<text text-anchor=\"start\" x=\"9973\" y=\"-221.8\" font-family=\"Helvetica,sans-Serif\" baseline-shift=\"sub\" font-size=\"14.00\">1</text>\n</g>\n<!-- 186&#45;&gt;187 -->\n<g id=\"edge187\" class=\"edge\">\n<title>186&#45;&gt;187</title>\n<path fill=\"none\" stroke=\"black\" d=\"M10209.42,-341.42C10155.69,-323.35 10082.77,-298.82 10027.84,-280.35\"/>\n<polygon fill=\"black\" stroke=\"black\" points=\"10028.74,-276.96 10018.15,-277.09 10026.51,-283.59 10028.74,-276.96\"/>\n</g>\n<!-- 194 -->\n<g id=\"node195\" class=\"node\">\n<title>194</title>\n<path fill=\"#399de5\" stroke=\"black\" d=\"M10330.5,-292C10330.5,-292 10234.5,-292 10234.5,-292 10228.5,-292 10222.5,-286 10222.5,-280 10222.5,-280 10222.5,-226 10222.5,-226 10222.5,-220 10228.5,-214 10234.5,-214 10234.5,-214 10330.5,-214 10330.5,-214 10336.5,-214 10342.5,-220 10342.5,-226 10342.5,-226 10342.5,-280 10342.5,-280 10342.5,-286 10336.5,-292 10330.5,-292\"/>\n<text text-anchor=\"start\" x=\"10230.5\" y=\"-277.8\" font-family=\"Helvetica,sans-Serif\" font-size=\"14.00\">Cleanliness ≤ 1.5</text>\n<text text-anchor=\"start\" x=\"10247\" y=\"-263.8\" font-family=\"Helvetica,sans-Serif\" font-size=\"14.00\">gini = 0.001</text>\n<text text-anchor=\"start\" x=\"10234\" y=\"-249.8\" font-family=\"Helvetica,sans-Serif\" font-size=\"14.00\">samples = 1400</text>\n<text text-anchor=\"start\" x=\"10232\" y=\"-235.8\" font-family=\"Helvetica,sans-Serif\" font-size=\"14.00\">value = [1, 1399]</text>\n<text text-anchor=\"start\" x=\"10252\" y=\"-221.8\" font-family=\"Helvetica,sans-Serif\" font-size=\"14.00\">class = y</text>\n<text text-anchor=\"start\" x=\"10306\" y=\"-221.8\" font-family=\"Helvetica,sans-Serif\" baseline-shift=\"sub\" font-size=\"14.00\">1</text>\n</g>\n<!-- 186&#45;&gt;194 -->\n<g id=\"edge194\" class=\"edge\">\n<title>186&#45;&gt;194</title>\n<path fill=\"none\" stroke=\"black\" d=\"M10282.5,-327.77C10282.5,-319.57 10282.5,-310.8 10282.5,-302.28\"/>\n<polygon fill=\"black\" stroke=\"black\" points=\"10286,-302.06 10282.5,-292.06 10279,-302.06 10286,-302.06\"/>\n</g>\n<!-- 188 -->\n<g id=\"node189\" class=\"node\">\n<title>188</title>\n<path fill=\"#b6dbf5\" stroke=\"black\" d=\"M9794,-178C9794,-178 9681,-178 9681,-178 9675,-178 9669,-172 9669,-166 9669,-166 9669,-112 9669,-112 9669,-106 9675,-100 9681,-100 9681,-100 9794,-100 9794,-100 9800,-100 9806,-106 9806,-112 9806,-112 9806,-166 9806,-166 9806,-172 9800,-178 9794,-178\"/>\n<text text-anchor=\"start\" x=\"9677\" y=\"-163.8\" font-family=\"Helvetica,sans-Serif\" font-size=\"14.00\">Inflight service ≤ 2.5</text>\n<text text-anchor=\"start\" x=\"9702\" y=\"-149.8\" font-family=\"Helvetica,sans-Serif\" font-size=\"14.00\">gini = 0.474</text>\n<text text-anchor=\"start\" x=\"9689\" y=\"-135.8\" font-family=\"Helvetica,sans-Serif\" font-size=\"14.00\">samples = 1671</text>\n<text text-anchor=\"start\" x=\"9679.5\" y=\"-121.8\" font-family=\"Helvetica,sans-Serif\" font-size=\"14.00\">value = [646, 1025]</text>\n<text text-anchor=\"start\" x=\"9707\" y=\"-107.8\" font-family=\"Helvetica,sans-Serif\" font-size=\"14.00\">class = y</text>\n<text text-anchor=\"start\" x=\"9761\" y=\"-107.8\" font-family=\"Helvetica,sans-Serif\" baseline-shift=\"sub\" font-size=\"14.00\">1</text>\n</g>\n<!-- 187&#45;&gt;188 -->\n<g id=\"edge188\" class=\"edge\">\n<title>187&#45;&gt;188</title>\n<path fill=\"none\" stroke=\"black\" d=\"M9880.96,-215.79C9860,-204.72 9836.8,-192.46 9815.28,-181.09\"/>\n<polygon fill=\"black\" stroke=\"black\" points=\"9816.64,-177.85 9806.16,-176.28 9813.37,-184.04 9816.64,-177.85\"/>\n</g>\n<!-- 191 -->\n<g id=\"node192\" class=\"node\">\n<title>191</title>\n<path fill=\"#42a1e6\" stroke=\"black\" d=\"M10063,-178C10063,-178 9836,-178 9836,-178 9830,-178 9824,-172 9824,-166 9824,-166 9824,-112 9824,-112 9824,-106 9830,-100 9836,-100 9836,-100 10063,-100 10063,-100 10069,-100 10075,-106 10075,-112 10075,-112 10075,-166 10075,-166 10075,-172 10069,-178 10063,-178\"/>\n<text text-anchor=\"start\" x=\"9832\" y=\"-163.8\" font-family=\"Helvetica,sans-Serif\" font-size=\"14.00\">Departure/Arrival time convenient ≤ 0.5</text>\n<text text-anchor=\"start\" x=\"9914\" y=\"-149.8\" font-family=\"Helvetica,sans-Serif\" font-size=\"14.00\">gini = 0.084</text>\n<text text-anchor=\"start\" x=\"9904.5\" y=\"-135.8\" font-family=\"Helvetica,sans-Serif\" font-size=\"14.00\">samples = 456</text>\n<text text-anchor=\"start\" x=\"9899\" y=\"-121.8\" font-family=\"Helvetica,sans-Serif\" font-size=\"14.00\">value = [20, 436]</text>\n<text text-anchor=\"start\" x=\"9919\" y=\"-107.8\" font-family=\"Helvetica,sans-Serif\" font-size=\"14.00\">class = y</text>\n<text text-anchor=\"start\" x=\"9973\" y=\"-107.8\" font-family=\"Helvetica,sans-Serif\" baseline-shift=\"sub\" font-size=\"14.00\">1</text>\n</g>\n<!-- 187&#45;&gt;191 -->\n<g id=\"edge191\" class=\"edge\">\n<title>187&#45;&gt;191</title>\n<path fill=\"none\" stroke=\"black\" d=\"M9949.5,-213.77C9949.5,-205.57 9949.5,-196.8 9949.5,-188.28\"/>\n<polygon fill=\"black\" stroke=\"black\" points=\"9953,-188.06 9949.5,-178.06 9946,-188.06 9953,-188.06\"/>\n</g>\n<!-- 189 -->\n<g id=\"node190\" class=\"node\">\n<title>189</title>\n<path fill=\"#58ade9\" stroke=\"black\" d=\"M9649,-64C9649,-64 9556,-64 9556,-64 9550,-64 9544,-58 9544,-52 9544,-52 9544,-12 9544,-12 9544,-6 9550,0 9556,0 9556,0 9649,0 9649,0 9655,0 9661,-6 9661,-12 9661,-12 9661,-52 9661,-52 9661,-58 9655,-64 9649,-64\"/>\n<text text-anchor=\"start\" x=\"9567\" y=\"-49.8\" font-family=\"Helvetica,sans-Serif\" font-size=\"14.00\">gini = 0.236</text>\n<text text-anchor=\"start\" x=\"9557.5\" y=\"-35.8\" font-family=\"Helvetica,sans-Serif\" font-size=\"14.00\">samples = 439</text>\n<text text-anchor=\"start\" x=\"9552\" y=\"-21.8\" font-family=\"Helvetica,sans-Serif\" font-size=\"14.00\">value = [60, 379]</text>\n<text text-anchor=\"start\" x=\"9572\" y=\"-7.8\" font-family=\"Helvetica,sans-Serif\" font-size=\"14.00\">class = y</text>\n<text text-anchor=\"start\" x=\"9626\" y=\"-7.8\" font-family=\"Helvetica,sans-Serif\" baseline-shift=\"sub\" font-size=\"14.00\">1</text>\n</g>\n<!-- 188&#45;&gt;189 -->\n<g id=\"edge189\" class=\"edge\">\n<title>188&#45;&gt;189</title>\n<path fill=\"none\" stroke=\"black\" d=\"M9688.38,-99.8C9676.01,-90.18 9662.75,-79.86 9650.44,-70.29\"/>\n<polygon fill=\"black\" stroke=\"black\" points=\"9652.55,-67.49 9642.51,-64.12 9648.25,-73.02 9652.55,-67.49\"/>\n</g>\n<!-- 190 -->\n<g id=\"node191\" class=\"node\">\n<title>190</title>\n<path fill=\"#edf6fd\" stroke=\"black\" d=\"M9792,-64C9792,-64 9691,-64 9691,-64 9685,-64 9679,-58 9679,-52 9679,-52 9679,-12 9679,-12 9679,-6 9685,0 9691,0 9691,0 9792,0 9792,0 9798,0 9804,-6 9804,-12 9804,-12 9804,-52 9804,-52 9804,-58 9798,-64 9792,-64\"/>\n<text text-anchor=\"start\" x=\"9706\" y=\"-49.8\" font-family=\"Helvetica,sans-Serif\" font-size=\"14.00\">gini = 0.499</text>\n<text text-anchor=\"start\" x=\"9693\" y=\"-35.8\" font-family=\"Helvetica,sans-Serif\" font-size=\"14.00\">samples = 1232</text>\n<text text-anchor=\"start\" x=\"9687\" y=\"-21.8\" font-family=\"Helvetica,sans-Serif\" font-size=\"14.00\">value = [586, 646]</text>\n<text text-anchor=\"start\" x=\"9711\" y=\"-7.8\" font-family=\"Helvetica,sans-Serif\" font-size=\"14.00\">class = y</text>\n<text text-anchor=\"start\" x=\"9765\" y=\"-7.8\" font-family=\"Helvetica,sans-Serif\" baseline-shift=\"sub\" font-size=\"14.00\">1</text>\n</g>\n<!-- 188&#45;&gt;190 -->\n<g id=\"edge190\" class=\"edge\">\n<title>188&#45;&gt;190</title>\n<path fill=\"none\" stroke=\"black\" d=\"M9738.96,-99.8C9739.27,-91.46 9739.61,-82.6 9739.93,-74.15\"/>\n<polygon fill=\"black\" stroke=\"black\" points=\"9743.43,-74.24 9740.31,-64.12 9736.44,-73.98 9743.43,-74.24\"/>\n</g>\n<!-- 192 -->\n<g id=\"node193\" class=\"node\">\n<title>192</title>\n<path fill=\"#ffffff\" stroke=\"black\" d=\"M9935.5,-64C9935.5,-64 9861.5,-64 9861.5,-64 9855.5,-64 9849.5,-58 9849.5,-52 9849.5,-52 9849.5,-12 9849.5,-12 9849.5,-6 9855.5,0 9861.5,0 9861.5,0 9935.5,0 9935.5,0 9941.5,0 9947.5,-6 9947.5,-12 9947.5,-12 9947.5,-52 9947.5,-52 9947.5,-58 9941.5,-64 9935.5,-64\"/>\n<text text-anchor=\"start\" x=\"9870.5\" y=\"-49.8\" font-family=\"Helvetica,sans-Serif\" font-size=\"14.00\">gini = 0.5</text>\n<text text-anchor=\"start\" x=\"9857.5\" y=\"-35.8\" font-family=\"Helvetica,sans-Serif\" font-size=\"14.00\">samples = 10</text>\n<text text-anchor=\"start\" x=\"9859\" y=\"-21.8\" font-family=\"Helvetica,sans-Serif\" font-size=\"14.00\">value = [5, 5]</text>\n<text text-anchor=\"start\" x=\"9868\" y=\"-7.8\" font-family=\"Helvetica,sans-Serif\" font-size=\"14.00\">class = y</text>\n<text text-anchor=\"start\" x=\"9922\" y=\"-7.8\" font-family=\"Helvetica,sans-Serif\" baseline-shift=\"sub\" font-size=\"14.00\">0</text>\n</g>\n<!-- 191&#45;&gt;192 -->\n<g id=\"edge192\" class=\"edge\">\n<title>191&#45;&gt;192</title>\n<path fill=\"none\" stroke=\"black\" d=\"M9930.94,-99.8C9926.76,-91.18 9922.31,-82.02 9918.08,-73.32\"/>\n<polygon fill=\"black\" stroke=\"black\" points=\"9921.13,-71.58 9913.61,-64.12 9914.83,-74.64 9921.13,-71.58\"/>\n</g>\n<!-- 193 -->\n<g id=\"node194\" class=\"node\">\n<title>193</title>\n<path fill=\"#40a0e6\" stroke=\"black\" d=\"M10071,-64C10071,-64 9978,-64 9978,-64 9972,-64 9966,-58 9966,-52 9966,-52 9966,-12 9966,-12 9966,-6 9972,0 9978,0 9978,0 10071,0 10071,0 10077,0 10083,-6 10083,-12 10083,-12 10083,-52 10083,-52 10083,-58 10077,-64 10071,-64\"/>\n<text text-anchor=\"start\" x=\"9989\" y=\"-49.8\" font-family=\"Helvetica,sans-Serif\" font-size=\"14.00\">gini = 0.065</text>\n<text text-anchor=\"start\" x=\"9979.5\" y=\"-35.8\" font-family=\"Helvetica,sans-Serif\" font-size=\"14.00\">samples = 446</text>\n<text text-anchor=\"start\" x=\"9974\" y=\"-21.8\" font-family=\"Helvetica,sans-Serif\" font-size=\"14.00\">value = [15, 431]</text>\n<text text-anchor=\"start\" x=\"9994\" y=\"-7.8\" font-family=\"Helvetica,sans-Serif\" font-size=\"14.00\">class = y</text>\n<text text-anchor=\"start\" x=\"10048\" y=\"-7.8\" font-family=\"Helvetica,sans-Serif\" baseline-shift=\"sub\" font-size=\"14.00\">1</text>\n</g>\n<!-- 191&#45;&gt;193 -->\n<g id=\"edge193\" class=\"edge\">\n<title>191&#45;&gt;193</title>\n<path fill=\"none\" stroke=\"black\" d=\"M9976.79,-99.8C9983.14,-90.91 9989.91,-81.43 9996.29,-72.49\"/>\n<polygon fill=\"black\" stroke=\"black\" points=\"9999.31,-74.29 10002.27,-64.12 9993.61,-70.22 9999.31,-74.29\"/>\n</g>\n<!-- 195 -->\n<g id=\"node196\" class=\"node\">\n<title>195</title>\n<path fill=\"#3c9fe5\" stroke=\"black\" d=\"M10281.5,-178C10281.5,-178 10105.5,-178 10105.5,-178 10099.5,-178 10093.5,-172 10093.5,-166 10093.5,-166 10093.5,-112 10093.5,-112 10093.5,-106 10099.5,-100 10105.5,-100 10105.5,-100 10281.5,-100 10281.5,-100 10287.5,-100 10293.5,-106 10293.5,-112 10293.5,-112 10293.5,-166 10293.5,-166 10293.5,-172 10287.5,-178 10281.5,-178\"/>\n<text text-anchor=\"start\" x=\"10101.5\" y=\"-163.8\" font-family=\"Helvetica,sans-Serif\" font-size=\"14.00\">Arrival Delay in Minutes ≤ 26.0</text>\n<text text-anchor=\"start\" x=\"10158\" y=\"-149.8\" font-family=\"Helvetica,sans-Serif\" font-size=\"14.00\">gini = 0.033</text>\n<text text-anchor=\"start\" x=\"10152.5\" y=\"-135.8\" font-family=\"Helvetica,sans-Serif\" font-size=\"14.00\">samples = 60</text>\n<text text-anchor=\"start\" x=\"10150.5\" y=\"-121.8\" font-family=\"Helvetica,sans-Serif\" font-size=\"14.00\">value = [1, 59]</text>\n<text text-anchor=\"start\" x=\"10163\" y=\"-107.8\" font-family=\"Helvetica,sans-Serif\" font-size=\"14.00\">class = y</text>\n<text text-anchor=\"start\" x=\"10217\" y=\"-107.8\" font-family=\"Helvetica,sans-Serif\" baseline-shift=\"sub\" font-size=\"14.00\">1</text>\n</g>\n<!-- 194&#45;&gt;195 -->\n<g id=\"edge195\" class=\"edge\">\n<title>194&#45;&gt;195</title>\n<path fill=\"none\" stroke=\"black\" d=\"M10252.12,-213.77C10245.03,-204.85 10237.41,-195.26 10230.08,-186.04\"/>\n<polygon fill=\"black\" stroke=\"black\" points=\"10232.7,-183.71 10223.74,-178.06 10227.22,-188.07 10232.7,-183.71\"/>\n</g>\n<!-- 198 -->\n<g id=\"node199\" class=\"node\">\n<title>198</title>\n<path fill=\"#399de5\" stroke=\"black\" d=\"M10417,-171C10417,-171 10324,-171 10324,-171 10318,-171 10312,-165 10312,-159 10312,-159 10312,-119 10312,-119 10312,-113 10318,-107 10324,-107 10324,-107 10417,-107 10417,-107 10423,-107 10429,-113 10429,-119 10429,-119 10429,-159 10429,-159 10429,-165 10423,-171 10417,-171\"/>\n<text text-anchor=\"start\" x=\"10342.5\" y=\"-156.8\" font-family=\"Helvetica,sans-Serif\" font-size=\"14.00\">gini = 0.0</text>\n<text text-anchor=\"start\" x=\"10322\" y=\"-142.8\" font-family=\"Helvetica,sans-Serif\" font-size=\"14.00\">samples = 1340</text>\n<text text-anchor=\"start\" x=\"10320\" y=\"-128.8\" font-family=\"Helvetica,sans-Serif\" font-size=\"14.00\">value = [0, 1340]</text>\n<text text-anchor=\"start\" x=\"10340\" y=\"-114.8\" font-family=\"Helvetica,sans-Serif\" font-size=\"14.00\">class = y</text>\n<text text-anchor=\"start\" x=\"10394\" y=\"-114.8\" font-family=\"Helvetica,sans-Serif\" baseline-shift=\"sub\" font-size=\"14.00\">1</text>\n</g>\n<!-- 194&#45;&gt;198 -->\n<g id=\"edge198\" class=\"edge\">\n<title>194&#45;&gt;198</title>\n<path fill=\"none\" stroke=\"black\" d=\"M10312.54,-213.77C10321.35,-202.55 10331,-190.27 10339.85,-179\"/>\n<polygon fill=\"black\" stroke=\"black\" points=\"10342.71,-181.04 10346.13,-171.01 10337.2,-176.71 10342.71,-181.04\"/>\n</g>\n<!-- 196 -->\n<g id=\"node197\" class=\"node\">\n<title>196</title>\n<path fill=\"#399de5\" stroke=\"black\" d=\"M10205.5,-64C10205.5,-64 10127.5,-64 10127.5,-64 10121.5,-64 10115.5,-58 10115.5,-52 10115.5,-52 10115.5,-12 10115.5,-12 10115.5,-6 10121.5,0 10127.5,0 10127.5,0 10205.5,0 10205.5,0 10211.5,0 10217.5,-6 10217.5,-12 10217.5,-12 10217.5,-52 10217.5,-52 10217.5,-58 10211.5,-64 10205.5,-64\"/>\n<text text-anchor=\"start\" x=\"10138.5\" y=\"-49.8\" font-family=\"Helvetica,sans-Serif\" font-size=\"14.00\">gini = 0.0</text>\n<text text-anchor=\"start\" x=\"10125.5\" y=\"-35.8\" font-family=\"Helvetica,sans-Serif\" font-size=\"14.00\">samples = 50</text>\n<text text-anchor=\"start\" x=\"10123.5\" y=\"-21.8\" font-family=\"Helvetica,sans-Serif\" font-size=\"14.00\">value = [0, 50]</text>\n<text text-anchor=\"start\" x=\"10136\" y=\"-7.8\" font-family=\"Helvetica,sans-Serif\" font-size=\"14.00\">class = y</text>\n<text text-anchor=\"start\" x=\"10190\" y=\"-7.8\" font-family=\"Helvetica,sans-Serif\" baseline-shift=\"sub\" font-size=\"14.00\">1</text>\n</g>\n<!-- 195&#45;&gt;196 -->\n<g id=\"edge196\" class=\"edge\">\n<title>195&#45;&gt;196</title>\n<path fill=\"none\" stroke=\"black\" d=\"M10183.68,-99.8C10181.51,-91.37 10179.2,-82.41 10177.01,-73.88\"/>\n<polygon fill=\"black\" stroke=\"black\" points=\"10180.38,-72.93 10174.5,-64.12 10173.6,-74.67 10180.38,-72.93\"/>\n</g>\n<!-- 197 -->\n<g id=\"node198\" class=\"node\">\n<title>197</title>\n<path fill=\"#4fa8e8\" stroke=\"black\" d=\"M10321.5,-64C10321.5,-64 10247.5,-64 10247.5,-64 10241.5,-64 10235.5,-58 10235.5,-52 10235.5,-52 10235.5,-12 10235.5,-12 10235.5,-6 10241.5,0 10247.5,0 10247.5,0 10321.5,0 10321.5,0 10327.5,0 10333.5,-6 10333.5,-12 10333.5,-12 10333.5,-52 10333.5,-52 10333.5,-58 10327.5,-64 10321.5,-64\"/>\n<text text-anchor=\"start\" x=\"10252.5\" y=\"-49.8\" font-family=\"Helvetica,sans-Serif\" font-size=\"14.00\">gini = 0.18</text>\n<text text-anchor=\"start\" x=\"10243.5\" y=\"-35.8\" font-family=\"Helvetica,sans-Serif\" font-size=\"14.00\">samples = 10</text>\n<text text-anchor=\"start\" x=\"10245\" y=\"-21.8\" font-family=\"Helvetica,sans-Serif\" font-size=\"14.00\">value = [1, 9]</text>\n<text text-anchor=\"start\" x=\"10254\" y=\"-7.8\" font-family=\"Helvetica,sans-Serif\" font-size=\"14.00\">class = y</text>\n<text text-anchor=\"start\" x=\"10308\" y=\"-7.8\" font-family=\"Helvetica,sans-Serif\" baseline-shift=\"sub\" font-size=\"14.00\">1</text>\n</g>\n<!-- 195&#45;&gt;197 -->\n<g id=\"edge197\" class=\"edge\">\n<title>195&#45;&gt;197</title>\n<path fill=\"none\" stroke=\"black\" d=\"M10226.61,-99.8C10234.47,-90.73 10242.87,-81.04 10250.76,-71.94\"/>\n<polygon fill=\"black\" stroke=\"black\" points=\"10253.63,-73.97 10257.53,-64.12 10248.34,-69.38 10253.63,-73.97\"/>\n</g>\n<!-- 200 -->\n<g id=\"node201\" class=\"node\">\n<title>200</title>\n<path fill=\"#54aae9\" stroke=\"black\" d=\"M10658.5,-292C10658.5,-292 10536.5,-292 10536.5,-292 10530.5,-292 10524.5,-286 10524.5,-280 10524.5,-280 10524.5,-226 10524.5,-226 10524.5,-220 10530.5,-214 10536.5,-214 10536.5,-214 10658.5,-214 10658.5,-214 10664.5,-214 10670.5,-220 10670.5,-226 10670.5,-226 10670.5,-280 10670.5,-280 10670.5,-286 10664.5,-292 10658.5,-292\"/>\n<text text-anchor=\"start\" x=\"10532.5\" y=\"-277.8\" font-family=\"Helvetica,sans-Serif\" font-size=\"14.00\">Online boarding ≤ 4.5</text>\n<text text-anchor=\"start\" x=\"10562\" y=\"-263.8\" font-family=\"Helvetica,sans-Serif\" font-size=\"14.00\">gini = 0.211</text>\n<text text-anchor=\"start\" x=\"10549\" y=\"-249.8\" font-family=\"Helvetica,sans-Serif\" font-size=\"14.00\">samples = 2786</text>\n<text text-anchor=\"start\" x=\"10539.5\" y=\"-235.8\" font-family=\"Helvetica,sans-Serif\" font-size=\"14.00\">value = [334, 2452]</text>\n<text text-anchor=\"start\" x=\"10567\" y=\"-221.8\" font-family=\"Helvetica,sans-Serif\" font-size=\"14.00\">class = y</text>\n<text text-anchor=\"start\" x=\"10621\" y=\"-221.8\" font-family=\"Helvetica,sans-Serif\" baseline-shift=\"sub\" font-size=\"14.00\">1</text>\n</g>\n<!-- 199&#45;&gt;200 -->\n<g id=\"edge200\" class=\"edge\">\n<title>199&#45;&gt;200</title>\n<path fill=\"none\" stroke=\"black\" d=\"M10597.5,-327.77C10597.5,-319.57 10597.5,-310.8 10597.5,-302.28\"/>\n<polygon fill=\"black\" stroke=\"black\" points=\"10601,-302.06 10597.5,-292.06 10594,-302.06 10601,-302.06\"/>\n</g>\n<!-- 205 -->\n<g id=\"node206\" class=\"node\">\n<title>205</title>\n<path fill=\"#3c9fe5\" stroke=\"black\" d=\"M10882.5,-292C10882.5,-292 10766.5,-292 10766.5,-292 10760.5,-292 10754.5,-286 10754.5,-280 10754.5,-280 10754.5,-226 10754.5,-226 10754.5,-220 10760.5,-214 10766.5,-214 10766.5,-214 10882.5,-214 10882.5,-214 10888.5,-214 10894.5,-220 10894.5,-226 10894.5,-226 10894.5,-280 10894.5,-280 10894.5,-286 10888.5,-292 10882.5,-292\"/>\n<text text-anchor=\"start\" x=\"10772.5\" y=\"-277.8\" font-family=\"Helvetica,sans-Serif\" font-size=\"14.00\">Cleanliness ≤ 2.5</text>\n<text text-anchor=\"start\" x=\"10789\" y=\"-263.8\" font-family=\"Helvetica,sans-Serif\" font-size=\"14.00\">gini = 0.031</text>\n<text text-anchor=\"start\" x=\"10772\" y=\"-249.8\" font-family=\"Helvetica,sans-Serif\" font-size=\"14.00\">samples = 22182</text>\n<text text-anchor=\"start\" x=\"10762.5\" y=\"-235.8\" font-family=\"Helvetica,sans-Serif\" font-size=\"14.00\">value = [348, 21834]</text>\n<text text-anchor=\"start\" x=\"10794\" y=\"-221.8\" font-family=\"Helvetica,sans-Serif\" font-size=\"14.00\">class = y</text>\n<text text-anchor=\"start\" x=\"10848\" y=\"-221.8\" font-family=\"Helvetica,sans-Serif\" baseline-shift=\"sub\" font-size=\"14.00\">1</text>\n</g>\n<!-- 199&#45;&gt;205 -->\n<g id=\"edge205\" class=\"edge\">\n<title>199&#45;&gt;205</title>\n<path fill=\"none\" stroke=\"black\" d=\"M10667.77,-331.33C10692.24,-319.26 10719.86,-305.63 10745.02,-293.21\"/>\n<polygon fill=\"black\" stroke=\"black\" points=\"10746.75,-296.26 10754.17,-288.7 10743.66,-289.99 10746.75,-296.26\"/>\n</g>\n<!-- 201 -->\n<g id=\"node202\" class=\"node\">\n<title>201</title>\n<path fill=\"#6fb8ec\" stroke=\"black\" d=\"M10581.5,-178C10581.5,-178 10459.5,-178 10459.5,-178 10453.5,-178 10447.5,-172 10447.5,-166 10447.5,-166 10447.5,-112 10447.5,-112 10447.5,-106 10453.5,-100 10459.5,-100 10459.5,-100 10581.5,-100 10581.5,-100 10587.5,-100 10593.5,-106 10593.5,-112 10593.5,-112 10593.5,-166 10593.5,-166 10593.5,-172 10587.5,-178 10581.5,-178\"/>\n<text text-anchor=\"start\" x=\"10455.5\" y=\"-163.8\" font-family=\"Helvetica,sans-Serif\" font-size=\"14.00\">Checkin service ≤ 4.5</text>\n<text text-anchor=\"start\" x=\"10485\" y=\"-149.8\" font-family=\"Helvetica,sans-Serif\" font-size=\"14.00\">gini = 0.336</text>\n<text text-anchor=\"start\" x=\"10472\" y=\"-135.8\" font-family=\"Helvetica,sans-Serif\" font-size=\"14.00\">samples = 1564</text>\n<text text-anchor=\"start\" x=\"10462.5\" y=\"-121.8\" font-family=\"Helvetica,sans-Serif\" font-size=\"14.00\">value = [334, 1230]</text>\n<text text-anchor=\"start\" x=\"10490\" y=\"-107.8\" font-family=\"Helvetica,sans-Serif\" font-size=\"14.00\">class = y</text>\n<text text-anchor=\"start\" x=\"10544\" y=\"-107.8\" font-family=\"Helvetica,sans-Serif\" baseline-shift=\"sub\" font-size=\"14.00\">1</text>\n</g>\n<!-- 200&#45;&gt;201 -->\n<g id=\"edge201\" class=\"edge\">\n<title>200&#45;&gt;201</title>\n<path fill=\"none\" stroke=\"black\" d=\"M10571.22,-213.77C10565.15,-204.94 10558.62,-195.45 10552.34,-186.32\"/>\n<polygon fill=\"black\" stroke=\"black\" points=\"10555.21,-184.32 10546.67,-178.06 10549.45,-188.28 10555.21,-184.32\"/>\n</g>\n<!-- 204 -->\n<g id=\"node205\" class=\"node\">\n<title>204</title>\n<path fill=\"#399de5\" stroke=\"black\" d=\"M10717,-171C10717,-171 10624,-171 10624,-171 10618,-171 10612,-165 10612,-159 10612,-159 10612,-119 10612,-119 10612,-113 10618,-107 10624,-107 10624,-107 10717,-107 10717,-107 10723,-107 10729,-113 10729,-119 10729,-119 10729,-159 10729,-159 10729,-165 10723,-171 10717,-171\"/>\n<text text-anchor=\"start\" x=\"10642.5\" y=\"-156.8\" font-family=\"Helvetica,sans-Serif\" font-size=\"14.00\">gini = 0.0</text>\n<text text-anchor=\"start\" x=\"10622\" y=\"-142.8\" font-family=\"Helvetica,sans-Serif\" font-size=\"14.00\">samples = 1222</text>\n<text text-anchor=\"start\" x=\"10620\" y=\"-128.8\" font-family=\"Helvetica,sans-Serif\" font-size=\"14.00\">value = [0, 1222]</text>\n<text text-anchor=\"start\" x=\"10640\" y=\"-114.8\" font-family=\"Helvetica,sans-Serif\" font-size=\"14.00\">class = y</text>\n<text text-anchor=\"start\" x=\"10694\" y=\"-114.8\" font-family=\"Helvetica,sans-Serif\" baseline-shift=\"sub\" font-size=\"14.00\">1</text>\n</g>\n<!-- 200&#45;&gt;204 -->\n<g id=\"edge204\" class=\"edge\">\n<title>200&#45;&gt;204</title>\n<path fill=\"none\" stroke=\"black\" d=\"M10622.42,-213.77C10629.59,-202.77 10637.42,-190.75 10644.65,-179.66\"/>\n<polygon fill=\"black\" stroke=\"black\" points=\"10647.76,-181.3 10650.29,-171.01 10641.9,-177.48 10647.76,-181.3\"/>\n</g>\n<!-- 202 -->\n<g id=\"node203\" class=\"node\">\n<title>202</title>\n<path fill=\"#8ac5f0\" stroke=\"black\" d=\"M10472,-64C10472,-64 10371,-64 10371,-64 10365,-64 10359,-58 10359,-52 10359,-52 10359,-12 10359,-12 10359,-6 10365,0 10371,0 10371,0 10472,0 10472,0 10478,0 10484,-6 10484,-12 10484,-12 10484,-52 10484,-52 10484,-58 10478,-64 10472,-64\"/>\n<text text-anchor=\"start\" x=\"10386\" y=\"-49.8\" font-family=\"Helvetica,sans-Serif\" font-size=\"14.00\">gini = 0.413</text>\n<text text-anchor=\"start\" x=\"10373\" y=\"-35.8\" font-family=\"Helvetica,sans-Serif\" font-size=\"14.00\">samples = 1146</text>\n<text text-anchor=\"start\" x=\"10367\" y=\"-21.8\" font-family=\"Helvetica,sans-Serif\" font-size=\"14.00\">value = [334, 812]</text>\n<text text-anchor=\"start\" x=\"10391\" y=\"-7.8\" font-family=\"Helvetica,sans-Serif\" font-size=\"14.00\">class = y</text>\n<text text-anchor=\"start\" x=\"10445\" y=\"-7.8\" font-family=\"Helvetica,sans-Serif\" baseline-shift=\"sub\" font-size=\"14.00\">1</text>\n</g>\n<!-- 201&#45;&gt;202 -->\n<g id=\"edge202\" class=\"edge\">\n<title>201&#45;&gt;202</title>\n<path fill=\"none\" stroke=\"black\" d=\"M10484.48,-99.8C10475.84,-90.63 10466.61,-80.84 10457.95,-71.66\"/>\n<polygon fill=\"black\" stroke=\"black\" points=\"10460.25,-68.99 10450.84,-64.12 10455.15,-73.79 10460.25,-68.99\"/>\n</g>\n<!-- 203 -->\n<g id=\"node204\" class=\"node\">\n<title>203</title>\n<path fill=\"#399de5\" stroke=\"black\" d=\"M10600.5,-64C10600.5,-64 10514.5,-64 10514.5,-64 10508.5,-64 10502.5,-58 10502.5,-52 10502.5,-52 10502.5,-12 10502.5,-12 10502.5,-6 10508.5,0 10514.5,0 10514.5,0 10600.5,0 10600.5,0 10606.5,0 10612.5,-6 10612.5,-12 10612.5,-12 10612.5,-52 10612.5,-52 10612.5,-58 10606.5,-64 10600.5,-64\"/>\n<text text-anchor=\"start\" x=\"10529.5\" y=\"-49.8\" font-family=\"Helvetica,sans-Serif\" font-size=\"14.00\">gini = 0.0</text>\n<text text-anchor=\"start\" x=\"10512.5\" y=\"-35.8\" font-family=\"Helvetica,sans-Serif\" font-size=\"14.00\">samples = 418</text>\n<text text-anchor=\"start\" x=\"10510.5\" y=\"-21.8\" font-family=\"Helvetica,sans-Serif\" font-size=\"14.00\">value = [0, 418]</text>\n<text text-anchor=\"start\" x=\"10527\" y=\"-7.8\" font-family=\"Helvetica,sans-Serif\" font-size=\"14.00\">class = y</text>\n<text text-anchor=\"start\" x=\"10581\" y=\"-7.8\" font-family=\"Helvetica,sans-Serif\" baseline-shift=\"sub\" font-size=\"14.00\">1</text>\n</g>\n<!-- 201&#45;&gt;203 -->\n<g id=\"edge203\" class=\"edge\">\n<title>201&#45;&gt;203</title>\n<path fill=\"none\" stroke=\"black\" d=\"M10533.96,-99.8C10536.97,-91.27 10540.16,-82.21 10543.19,-73.6\"/>\n<polygon fill=\"black\" stroke=\"black\" points=\"10546.51,-74.71 10546.53,-64.12 10539.91,-72.39 10546.51,-74.71\"/>\n</g>\n<!-- 206 -->\n<g id=\"node207\" class=\"node\">\n<title>206</title>\n<path fill=\"#67b4eb\" stroke=\"black\" d=\"M10890,-178C10890,-178 10759,-178 10759,-178 10753,-178 10747,-172 10747,-166 10747,-166 10747,-112 10747,-112 10747,-106 10753,-100 10759,-100 10759,-100 10890,-100 10890,-100 10896,-100 10902,-106 10902,-112 10902,-112 10902,-166 10902,-166 10902,-172 10896,-178 10890,-178\"/>\n<text text-anchor=\"start\" x=\"10755\" y=\"-163.8\" font-family=\"Helvetica,sans-Serif\" font-size=\"14.00\">Leg room service ≤ 4.5</text>\n<text text-anchor=\"start\" x=\"10789\" y=\"-149.8\" font-family=\"Helvetica,sans-Serif\" font-size=\"14.00\">gini = 0.304</text>\n<text text-anchor=\"start\" x=\"10779.5\" y=\"-135.8\" font-family=\"Helvetica,sans-Serif\" font-size=\"14.00\">samples = 449</text>\n<text text-anchor=\"start\" x=\"10774\" y=\"-121.8\" font-family=\"Helvetica,sans-Serif\" font-size=\"14.00\">value = [84, 365]</text>\n<text text-anchor=\"start\" x=\"10794\" y=\"-107.8\" font-family=\"Helvetica,sans-Serif\" font-size=\"14.00\">class = y</text>\n<text text-anchor=\"start\" x=\"10848\" y=\"-107.8\" font-family=\"Helvetica,sans-Serif\" baseline-shift=\"sub\" font-size=\"14.00\">1</text>\n</g>\n<!-- 205&#45;&gt;206 -->\n<g id=\"edge206\" class=\"edge\">\n<title>205&#45;&gt;206</title>\n<path fill=\"none\" stroke=\"black\" d=\"M10824.5,-213.77C10824.5,-205.57 10824.5,-196.8 10824.5,-188.28\"/>\n<polygon fill=\"black\" stroke=\"black\" points=\"10828,-188.06 10824.5,-178.06 10821,-188.06 10828,-188.06\"/>\n</g>\n<!-- 209 -->\n<g id=\"node210\" class=\"node\">\n<title>209</title>\n<path fill=\"#3b9ee5\" stroke=\"black\" d=\"M11048.5,-178C11048.5,-178 10932.5,-178 10932.5,-178 10926.5,-178 10920.5,-172 10920.5,-166 10920.5,-166 10920.5,-112 10920.5,-112 10920.5,-106 10926.5,-100 10932.5,-100 10932.5,-100 11048.5,-100 11048.5,-100 11054.5,-100 11060.5,-106 11060.5,-112 11060.5,-112 11060.5,-166 11060.5,-166 11060.5,-172 11054.5,-178 11048.5,-178\"/>\n<text text-anchor=\"start\" x=\"10930\" y=\"-163.8\" font-family=\"Helvetica,sans-Serif\" font-size=\"14.00\">Inflight service ≤ 3.5</text>\n<text text-anchor=\"start\" x=\"10955\" y=\"-149.8\" font-family=\"Helvetica,sans-Serif\" font-size=\"14.00\">gini = 0.024</text>\n<text text-anchor=\"start\" x=\"10938\" y=\"-135.8\" font-family=\"Helvetica,sans-Serif\" font-size=\"14.00\">samples = 21733</text>\n<text text-anchor=\"start\" x=\"10928.5\" y=\"-121.8\" font-family=\"Helvetica,sans-Serif\" font-size=\"14.00\">value = [264, 21469]</text>\n<text text-anchor=\"start\" x=\"10960\" y=\"-107.8\" font-family=\"Helvetica,sans-Serif\" font-size=\"14.00\">class = y</text>\n<text text-anchor=\"start\" x=\"11014\" y=\"-107.8\" font-family=\"Helvetica,sans-Serif\" baseline-shift=\"sub\" font-size=\"14.00\">1</text>\n</g>\n<!-- 205&#45;&gt;209 -->\n<g id=\"edge209\" class=\"edge\">\n<title>205&#45;&gt;209</title>\n<path fill=\"none\" stroke=\"black\" d=\"M10881.16,-213.77C10895.45,-204.13 10910.9,-193.7 10925.57,-183.81\"/>\n<polygon fill=\"black\" stroke=\"black\" points=\"10927.76,-186.55 10934.09,-178.06 10923.84,-180.75 10927.76,-186.55\"/>\n</g>\n<!-- 207 -->\n<g id=\"node208\" class=\"node\">\n<title>207</title>\n<path fill=\"#94caf1\" stroke=\"black\" d=\"M10739,-64C10739,-64 10646,-64 10646,-64 10640,-64 10634,-58 10634,-52 10634,-52 10634,-12 10634,-12 10634,-6 10640,0 10646,0 10646,0 10739,0 10739,0 10745,0 10751,-6 10751,-12 10751,-12 10751,-52 10751,-52 10751,-58 10745,-64 10739,-64\"/>\n<text text-anchor=\"start\" x=\"10657\" y=\"-49.8\" font-family=\"Helvetica,sans-Serif\" font-size=\"14.00\">gini = 0.431</text>\n<text text-anchor=\"start\" x=\"10647.5\" y=\"-35.8\" font-family=\"Helvetica,sans-Serif\" font-size=\"14.00\">samples = 267</text>\n<text text-anchor=\"start\" x=\"10642\" y=\"-21.8\" font-family=\"Helvetica,sans-Serif\" font-size=\"14.00\">value = [84, 183]</text>\n<text text-anchor=\"start\" x=\"10662\" y=\"-7.8\" font-family=\"Helvetica,sans-Serif\" font-size=\"14.00\">class = y</text>\n<text text-anchor=\"start\" x=\"10716\" y=\"-7.8\" font-family=\"Helvetica,sans-Serif\" baseline-shift=\"sub\" font-size=\"14.00\">1</text>\n</g>\n<!-- 206&#45;&gt;207 -->\n<g id=\"edge207\" class=\"edge\">\n<title>206&#45;&gt;207</title>\n<path fill=\"none\" stroke=\"black\" d=\"M10776.47,-99.8C10764.49,-90.27 10751.66,-80.06 10739.72,-70.56\"/>\n<polygon fill=\"black\" stroke=\"black\" points=\"10741.62,-67.6 10731.62,-64.12 10737.27,-73.08 10741.62,-67.6\"/>\n</g>\n<!-- 208 -->\n<g id=\"node209\" class=\"node\">\n<title>208</title>\n<path fill=\"#399de5\" stroke=\"black\" d=\"M10867.5,-64C10867.5,-64 10781.5,-64 10781.5,-64 10775.5,-64 10769.5,-58 10769.5,-52 10769.5,-52 10769.5,-12 10769.5,-12 10769.5,-6 10775.5,0 10781.5,0 10781.5,0 10867.5,0 10867.5,0 10873.5,0 10879.5,-6 10879.5,-12 10879.5,-12 10879.5,-52 10879.5,-52 10879.5,-58 10873.5,-64 10867.5,-64\"/>\n<text text-anchor=\"start\" x=\"10796.5\" y=\"-49.8\" font-family=\"Helvetica,sans-Serif\" font-size=\"14.00\">gini = 0.0</text>\n<text text-anchor=\"start\" x=\"10779.5\" y=\"-35.8\" font-family=\"Helvetica,sans-Serif\" font-size=\"14.00\">samples = 182</text>\n<text text-anchor=\"start\" x=\"10777.5\" y=\"-21.8\" font-family=\"Helvetica,sans-Serif\" font-size=\"14.00\">value = [0, 182]</text>\n<text text-anchor=\"start\" x=\"10794\" y=\"-7.8\" font-family=\"Helvetica,sans-Serif\" font-size=\"14.00\">class = y</text>\n<text text-anchor=\"start\" x=\"10848\" y=\"-7.8\" font-family=\"Helvetica,sans-Serif\" baseline-shift=\"sub\" font-size=\"14.00\">1</text>\n</g>\n<!-- 206&#45;&gt;208 -->\n<g id=\"edge208\" class=\"edge\">\n<title>206&#45;&gt;208</title>\n<path fill=\"none\" stroke=\"black\" d=\"M10824.5,-99.8C10824.5,-91.46 10824.5,-82.6 10824.5,-74.15\"/>\n<polygon fill=\"black\" stroke=\"black\" points=\"10828,-74.12 10824.5,-64.12 10821,-74.12 10828,-74.12\"/>\n</g>\n<!-- 210 -->\n<g id=\"node211\" class=\"node\">\n<title>210</title>\n<path fill=\"#53aae8\" stroke=\"black\" d=\"M11011,-64C11011,-64 10910,-64 10910,-64 10904,-64 10898,-58 10898,-52 10898,-52 10898,-12 10898,-12 10898,-6 10904,0 10910,0 10910,0 11011,0 11011,0 11017,0 11023,-6 11023,-12 11023,-12 11023,-52 11023,-52 11023,-58 11017,-64 11011,-64\"/>\n<text text-anchor=\"start\" x=\"10925\" y=\"-49.8\" font-family=\"Helvetica,sans-Serif\" font-size=\"14.00\">gini = 0.206</text>\n<text text-anchor=\"start\" x=\"10915.5\" y=\"-35.8\" font-family=\"Helvetica,sans-Serif\" font-size=\"14.00\">samples = 900</text>\n<text text-anchor=\"start\" x=\"10906\" y=\"-21.8\" font-family=\"Helvetica,sans-Serif\" font-size=\"14.00\">value = [105, 795]</text>\n<text text-anchor=\"start\" x=\"10930\" y=\"-7.8\" font-family=\"Helvetica,sans-Serif\" font-size=\"14.00\">class = y</text>\n<text text-anchor=\"start\" x=\"10984\" y=\"-7.8\" font-family=\"Helvetica,sans-Serif\" baseline-shift=\"sub\" font-size=\"14.00\">1</text>\n</g>\n<!-- 209&#45;&gt;210 -->\n<g id=\"edge210\" class=\"edge\">\n<title>209&#45;&gt;210</title>\n<path fill=\"none\" stroke=\"black\" d=\"M10979.58,-99.8C10977.18,-91.37 10974.62,-82.41 10972.18,-73.88\"/>\n<polygon fill=\"black\" stroke=\"black\" points=\"10975.5,-72.77 10969.39,-64.12 10968.77,-74.69 10975.5,-72.77\"/>\n</g>\n<!-- 211 -->\n<g id=\"node212\" class=\"node\">\n<title>211</title>\n<path fill=\"#3b9ee5\" stroke=\"black\" d=\"M11169.5,-64C11169.5,-64 11053.5,-64 11053.5,-64 11047.5,-64 11041.5,-58 11041.5,-52 11041.5,-52 11041.5,-12 11041.5,-12 11041.5,-6 11047.5,0 11053.5,0 11053.5,0 11169.5,0 11169.5,0 11175.5,0 11181.5,-6 11181.5,-12 11181.5,-12 11181.5,-52 11181.5,-52 11181.5,-58 11175.5,-64 11169.5,-64\"/>\n<text text-anchor=\"start\" x=\"11076\" y=\"-49.8\" font-family=\"Helvetica,sans-Serif\" font-size=\"14.00\">gini = 0.015</text>\n<text text-anchor=\"start\" x=\"11059\" y=\"-35.8\" font-family=\"Helvetica,sans-Serif\" font-size=\"14.00\">samples = 20833</text>\n<text text-anchor=\"start\" x=\"11049.5\" y=\"-21.8\" font-family=\"Helvetica,sans-Serif\" font-size=\"14.00\">value = [159, 20674]</text>\n<text text-anchor=\"start\" x=\"11081\" y=\"-7.8\" font-family=\"Helvetica,sans-Serif\" font-size=\"14.00\">class = y</text>\n<text text-anchor=\"start\" x=\"11135\" y=\"-7.8\" font-family=\"Helvetica,sans-Serif\" baseline-shift=\"sub\" font-size=\"14.00\">1</text>\n</g>\n<!-- 209&#45;&gt;211 -->\n<g id=\"edge211\" class=\"edge\">\n<title>209&#45;&gt;211</title>\n<path fill=\"none\" stroke=\"black\" d=\"M11034.53,-99.8C11045.4,-90.36 11057.04,-80.25 11067.9,-70.84\"/>\n<polygon fill=\"black\" stroke=\"black\" points=\"11070.38,-73.31 11075.64,-64.12 11065.79,-68.03 11070.38,-73.31\"/>\n</g>\n<!-- 213 -->\n<g id=\"node214\" class=\"node\">\n<title>213</title>\n<path fill=\"#fae9dc\" stroke=\"black\" d=\"M11511,-406C11511,-406 11410,-406 11410,-406 11404,-406 11398,-400 11398,-394 11398,-394 11398,-340 11398,-340 11398,-334 11404,-328 11410,-328 11410,-328 11511,-328 11511,-328 11517,-328 11523,-334 11523,-340 11523,-340 11523,-394 11523,-394 11523,-400 11517,-406 11511,-406\"/>\n<text text-anchor=\"start\" x=\"11419\" y=\"-391.8\" font-family=\"Helvetica,sans-Serif\" font-size=\"14.00\">Class_2 ≤ 0.5</text>\n<text text-anchor=\"start\" x=\"11425\" y=\"-377.8\" font-family=\"Helvetica,sans-Serif\" font-size=\"14.00\">gini = 0.495</text>\n<text text-anchor=\"start\" x=\"11412\" y=\"-363.8\" font-family=\"Helvetica,sans-Serif\" font-size=\"14.00\">samples = 1645</text>\n<text text-anchor=\"start\" x=\"11406\" y=\"-349.8\" font-family=\"Helvetica,sans-Serif\" font-size=\"14.00\">value = [901, 744]</text>\n<text text-anchor=\"start\" x=\"11430\" y=\"-335.8\" font-family=\"Helvetica,sans-Serif\" font-size=\"14.00\">class = y</text>\n<text text-anchor=\"start\" x=\"11484\" y=\"-335.8\" font-family=\"Helvetica,sans-Serif\" baseline-shift=\"sub\" font-size=\"14.00\">0</text>\n</g>\n<!-- 212&#45;&gt;213 -->\n<g id=\"edge213\" class=\"edge\">\n<title>212&#45;&gt;213</title>\n<path fill=\"none\" stroke=\"black\" d=\"M11460.5,-441.77C11460.5,-433.57 11460.5,-424.8 11460.5,-416.28\"/>\n<polygon fill=\"black\" stroke=\"black\" points=\"11464,-416.06 11460.5,-406.06 11457,-416.06 11464,-416.06\"/>\n</g>\n<!-- 228 -->\n<g id=\"node229\" class=\"node\">\n<title>228</title>\n<path fill=\"#399de5\" stroke=\"black\" d=\"M11639.5,-399C11639.5,-399 11553.5,-399 11553.5,-399 11547.5,-399 11541.5,-393 11541.5,-387 11541.5,-387 11541.5,-347 11541.5,-347 11541.5,-341 11547.5,-335 11553.5,-335 11553.5,-335 11639.5,-335 11639.5,-335 11645.5,-335 11651.5,-341 11651.5,-347 11651.5,-347 11651.5,-387 11651.5,-387 11651.5,-393 11645.5,-399 11639.5,-399\"/>\n<text text-anchor=\"start\" x=\"11568.5\" y=\"-384.8\" font-family=\"Helvetica,sans-Serif\" font-size=\"14.00\">gini = 0.0</text>\n<text text-anchor=\"start\" x=\"11551.5\" y=\"-370.8\" font-family=\"Helvetica,sans-Serif\" font-size=\"14.00\">samples = 696</text>\n<text text-anchor=\"start\" x=\"11549.5\" y=\"-356.8\" font-family=\"Helvetica,sans-Serif\" font-size=\"14.00\">value = [0, 696]</text>\n<text text-anchor=\"start\" x=\"11566\" y=\"-342.8\" font-family=\"Helvetica,sans-Serif\" font-size=\"14.00\">class = y</text>\n<text text-anchor=\"start\" x=\"11620\" y=\"-342.8\" font-family=\"Helvetica,sans-Serif\" baseline-shift=\"sub\" font-size=\"14.00\">1</text>\n</g>\n<!-- 212&#45;&gt;228 -->\n<g id=\"edge228\" class=\"edge\">\n<title>212&#45;&gt;228</title>\n<path fill=\"none\" stroke=\"black\" d=\"M11506.92,-441.77C11521.21,-430.01 11536.91,-417.08 11551.12,-405.37\"/>\n<polygon fill=\"black\" stroke=\"black\" points=\"11553.35,-408.07 11558.84,-399.01 11548.9,-402.67 11553.35,-408.07\"/>\n</g>\n<!-- 214 -->\n<g id=\"node215\" class=\"node\">\n<title>214</title>\n<path fill=\"#f1ba93\" stroke=\"black\" d=\"M11511,-292C11511,-292 11410,-292 11410,-292 11404,-292 11398,-286 11398,-280 11398,-280 11398,-226 11398,-226 11398,-220 11404,-214 11410,-214 11410,-214 11511,-214 11511,-214 11517,-214 11523,-220 11523,-226 11523,-226 11523,-280 11523,-280 11523,-286 11517,-292 11511,-292\"/>\n<text text-anchor=\"start\" x=\"11427.5\" y=\"-277.8\" font-family=\"Helvetica,sans-Serif\" font-size=\"14.00\">Age ≤ 24.5</text>\n<text text-anchor=\"start\" x=\"11425\" y=\"-263.8\" font-family=\"Helvetica,sans-Serif\" font-size=\"14.00\">gini = 0.429</text>\n<text text-anchor=\"start\" x=\"11415.5\" y=\"-249.8\" font-family=\"Helvetica,sans-Serif\" font-size=\"14.00\">samples = 891</text>\n<text text-anchor=\"start\" x=\"11406\" y=\"-235.8\" font-family=\"Helvetica,sans-Serif\" font-size=\"14.00\">value = [613, 278]</text>\n<text text-anchor=\"start\" x=\"11430\" y=\"-221.8\" font-family=\"Helvetica,sans-Serif\" font-size=\"14.00\">class = y</text>\n<text text-anchor=\"start\" x=\"11484\" y=\"-221.8\" font-family=\"Helvetica,sans-Serif\" baseline-shift=\"sub\" font-size=\"14.00\">0</text>\n</g>\n<!-- 213&#45;&gt;214 -->\n<g id=\"edge214\" class=\"edge\">\n<title>213&#45;&gt;214</title>\n<path fill=\"none\" stroke=\"black\" d=\"M11460.5,-327.77C11460.5,-319.57 11460.5,-310.8 11460.5,-302.28\"/>\n<polygon fill=\"black\" stroke=\"black\" points=\"11464,-302.06 11460.5,-292.06 11457,-302.06 11464,-302.06\"/>\n</g>\n<!-- 221 -->\n<g id=\"node222\" class=\"node\">\n<title>221</title>\n<path fill=\"#b3daf5\" stroke=\"black\" d=\"M11869,-292C11869,-292 11768,-292 11768,-292 11762,-292 11756,-286 11756,-280 11756,-280 11756,-226 11756,-226 11756,-220 11762,-214 11768,-214 11768,-214 11869,-214 11869,-214 11875,-214 11881,-220 11881,-226 11881,-226 11881,-280 11881,-280 11881,-286 11875,-292 11869,-292\"/>\n<text text-anchor=\"start\" x=\"11785.5\" y=\"-277.8\" font-family=\"Helvetica,sans-Serif\" font-size=\"14.00\">Age ≤ 24.5</text>\n<text text-anchor=\"start\" x=\"11783\" y=\"-263.8\" font-family=\"Helvetica,sans-Serif\" font-size=\"14.00\">gini = 0.472</text>\n<text text-anchor=\"start\" x=\"11773.5\" y=\"-249.8\" font-family=\"Helvetica,sans-Serif\" font-size=\"14.00\">samples = 754</text>\n<text text-anchor=\"start\" x=\"11764\" y=\"-235.8\" font-family=\"Helvetica,sans-Serif\" font-size=\"14.00\">value = [288, 466]</text>\n<text text-anchor=\"start\" x=\"11788\" y=\"-221.8\" font-family=\"Helvetica,sans-Serif\" font-size=\"14.00\">class = y</text>\n<text text-anchor=\"start\" x=\"11842\" y=\"-221.8\" font-family=\"Helvetica,sans-Serif\" baseline-shift=\"sub\" font-size=\"14.00\">1</text>\n</g>\n<!-- 213&#45;&gt;221 -->\n<g id=\"edge221\" class=\"edge\">\n<title>213&#45;&gt;221</title>\n<path fill=\"none\" stroke=\"black\" d=\"M11523.33,-331.78C11526.4,-330.44 11529.47,-329.17 11532.5,-328 11603.03,-300.69 11687.21,-280.29 11745.9,-267.9\"/>\n<polygon fill=\"black\" stroke=\"black\" points=\"11746.75,-271.3 11755.83,-265.83 11745.32,-264.44 11746.75,-271.3\"/>\n</g>\n<!-- 215 -->\n<g id=\"node216\" class=\"node\">\n<title>215</title>\n<path fill=\"#f9e2d1\" stroke=\"black\" d=\"M11444,-178C11444,-178 11313,-178 11313,-178 11307,-178 11301,-172 11301,-166 11301,-166 11301,-112 11301,-112 11301,-106 11307,-100 11313,-100 11313,-100 11444,-100 11444,-100 11450,-100 11456,-106 11456,-112 11456,-112 11456,-166 11456,-166 11456,-172 11450,-178 11444,-178\"/>\n<text text-anchor=\"start\" x=\"11309\" y=\"-163.8\" font-family=\"Helvetica,sans-Serif\" font-size=\"14.00\">On&#45;board service ≤ 2.5</text>\n<text text-anchor=\"start\" x=\"11343\" y=\"-149.8\" font-family=\"Helvetica,sans-Serif\" font-size=\"14.00\">gini = 0.491</text>\n<text text-anchor=\"start\" x=\"11333.5\" y=\"-135.8\" font-family=\"Helvetica,sans-Serif\" font-size=\"14.00\">samples = 484</text>\n<text text-anchor=\"start\" x=\"11324\" y=\"-121.8\" font-family=\"Helvetica,sans-Serif\" font-size=\"14.00\">value = [274, 210]</text>\n<text text-anchor=\"start\" x=\"11348\" y=\"-107.8\" font-family=\"Helvetica,sans-Serif\" font-size=\"14.00\">class = y</text>\n<text text-anchor=\"start\" x=\"11402\" y=\"-107.8\" font-family=\"Helvetica,sans-Serif\" baseline-shift=\"sub\" font-size=\"14.00\">0</text>\n</g>\n<!-- 214&#45;&gt;215 -->\n<g id=\"edge215\" class=\"edge\">\n<title>214&#45;&gt;215</title>\n<path fill=\"none\" stroke=\"black\" d=\"M11432.51,-213.77C11426.04,-204.94 11419.1,-195.45 11412.41,-186.32\"/>\n<polygon fill=\"black\" stroke=\"black\" points=\"11415.1,-184.06 11406.36,-178.06 11409.45,-188.19 11415.1,-184.06\"/>\n</g>\n<!-- 218 -->\n<g id=\"node219\" class=\"node\">\n<title>218</title>\n<path fill=\"#ea9a61\" stroke=\"black\" d=\"M11599,-178C11599,-178 11486,-178 11486,-178 11480,-178 11474,-172 11474,-166 11474,-166 11474,-112 11474,-112 11474,-106 11480,-100 11486,-100 11486,-100 11599,-100 11599,-100 11605,-100 11611,-106 11611,-112 11611,-112 11611,-166 11611,-166 11611,-172 11605,-178 11599,-178\"/>\n<text text-anchor=\"start\" x=\"11482\" y=\"-163.8\" font-family=\"Helvetica,sans-Serif\" font-size=\"14.00\">Inflight service ≤ 4.5</text>\n<text text-anchor=\"start\" x=\"11507\" y=\"-149.8\" font-family=\"Helvetica,sans-Serif\" font-size=\"14.00\">gini = 0.278</text>\n<text text-anchor=\"start\" x=\"11497.5\" y=\"-135.8\" font-family=\"Helvetica,sans-Serif\" font-size=\"14.00\">samples = 407</text>\n<text text-anchor=\"start\" x=\"11492\" y=\"-121.8\" font-family=\"Helvetica,sans-Serif\" font-size=\"14.00\">value = [339, 68]</text>\n<text text-anchor=\"start\" x=\"11512\" y=\"-107.8\" font-family=\"Helvetica,sans-Serif\" font-size=\"14.00\">class = y</text>\n<text text-anchor=\"start\" x=\"11566\" y=\"-107.8\" font-family=\"Helvetica,sans-Serif\" baseline-shift=\"sub\" font-size=\"14.00\">0</text>\n</g>\n<!-- 214&#45;&gt;218 -->\n<g id=\"edge218\" class=\"edge\">\n<title>214&#45;&gt;218</title>\n<path fill=\"none\" stroke=\"black\" d=\"M11488.49,-213.77C11494.96,-204.94 11501.9,-195.45 11508.59,-186.32\"/>\n<polygon fill=\"black\" stroke=\"black\" points=\"11511.55,-188.19 11514.64,-178.06 11505.9,-184.06 11511.55,-188.19\"/>\n</g>\n<!-- 216 -->\n<g id=\"node217\" class=\"node\">\n<title>216</title>\n<path fill=\"#eca26d\" stroke=\"black\" d=\"M11297.5,-64C11297.5,-64 11211.5,-64 11211.5,-64 11205.5,-64 11199.5,-58 11199.5,-52 11199.5,-52 11199.5,-12 11199.5,-12 11199.5,-6 11205.5,0 11211.5,0 11211.5,0 11297.5,0 11297.5,0 11303.5,0 11309.5,-6 11309.5,-12 11309.5,-12 11309.5,-52 11309.5,-52 11309.5,-58 11303.5,-64 11297.5,-64\"/>\n<text text-anchor=\"start\" x=\"11219\" y=\"-49.8\" font-family=\"Helvetica,sans-Serif\" font-size=\"14.00\">gini = 0.329</text>\n<text text-anchor=\"start\" x=\"11209.5\" y=\"-35.8\" font-family=\"Helvetica,sans-Serif\" font-size=\"14.00\">samples = 125</text>\n<text text-anchor=\"start\" x=\"11207.5\" y=\"-21.8\" font-family=\"Helvetica,sans-Serif\" font-size=\"14.00\">value = [99, 26]</text>\n<text text-anchor=\"start\" x=\"11224\" y=\"-7.8\" font-family=\"Helvetica,sans-Serif\" font-size=\"14.00\">class = y</text>\n<text text-anchor=\"start\" x=\"11278\" y=\"-7.8\" font-family=\"Helvetica,sans-Serif\" baseline-shift=\"sub\" font-size=\"14.00\">0</text>\n</g>\n<!-- 215&#45;&gt;216 -->\n<g id=\"edge216\" class=\"edge\">\n<title>215&#45;&gt;216</title>\n<path fill=\"none\" stroke=\"black\" d=\"M11333.38,-99.8C11322.24,-90.36 11310.31,-80.25 11299.18,-70.84\"/>\n<polygon fill=\"black\" stroke=\"black\" points=\"11301.14,-67.91 11291.25,-64.12 11296.62,-73.25 11301.14,-67.91\"/>\n</g>\n<!-- 217 -->\n<g id=\"node218\" class=\"node\">\n<title>217</title>\n<path fill=\"#f5fafe\" stroke=\"black\" d=\"M11441,-64C11441,-64 11340,-64 11340,-64 11334,-64 11328,-58 11328,-52 11328,-52 11328,-12 11328,-12 11328,-6 11334,0 11340,0 11340,0 11441,0 11441,0 11447,0 11453,-6 11453,-12 11453,-12 11453,-52 11453,-52 11453,-58 11447,-64 11441,-64\"/>\n<text text-anchor=\"start\" x=\"11362.5\" y=\"-49.8\" font-family=\"Helvetica,sans-Serif\" font-size=\"14.00\">gini = 0.5</text>\n<text text-anchor=\"start\" x=\"11345.5\" y=\"-35.8\" font-family=\"Helvetica,sans-Serif\" font-size=\"14.00\">samples = 359</text>\n<text text-anchor=\"start\" x=\"11336\" y=\"-21.8\" font-family=\"Helvetica,sans-Serif\" font-size=\"14.00\">value = [175, 184]</text>\n<text text-anchor=\"start\" x=\"11360\" y=\"-7.8\" font-family=\"Helvetica,sans-Serif\" font-size=\"14.00\">class = y</text>\n<text text-anchor=\"start\" x=\"11414\" y=\"-7.8\" font-family=\"Helvetica,sans-Serif\" baseline-shift=\"sub\" font-size=\"14.00\">1</text>\n</g>\n<!-- 215&#45;&gt;217 -->\n<g id=\"edge217\" class=\"edge\">\n<title>215&#45;&gt;217</title>\n<path fill=\"none\" stroke=\"black\" d=\"M11382.87,-99.8C11383.82,-91.46 11384.83,-82.6 11385.8,-74.15\"/>\n<polygon fill=\"black\" stroke=\"black\" points=\"11389.29,-74.45 11386.94,-64.12 11382.33,-73.66 11389.29,-74.45\"/>\n</g>\n<!-- 219 -->\n<g id=\"node220\" class=\"node\">\n<title>219</title>\n<path fill=\"#e99457\" stroke=\"black\" d=\"M11576,-64C11576,-64 11483,-64 11483,-64 11477,-64 11471,-58 11471,-52 11471,-52 11471,-12 11471,-12 11471,-6 11477,0 11483,0 11483,0 11576,0 11576,0 11582,0 11588,-6 11588,-12 11588,-12 11588,-52 11588,-52 11588,-58 11582,-64 11576,-64\"/>\n<text text-anchor=\"start\" x=\"11497.5\" y=\"-49.8\" font-family=\"Helvetica,sans-Serif\" font-size=\"14.00\">gini = 0.23</text>\n<text text-anchor=\"start\" x=\"11484.5\" y=\"-35.8\" font-family=\"Helvetica,sans-Serif\" font-size=\"14.00\">samples = 362</text>\n<text text-anchor=\"start\" x=\"11479\" y=\"-21.8\" font-family=\"Helvetica,sans-Serif\" font-size=\"14.00\">value = [314, 48]</text>\n<text text-anchor=\"start\" x=\"11499\" y=\"-7.8\" font-family=\"Helvetica,sans-Serif\" font-size=\"14.00\">class = y</text>\n<text text-anchor=\"start\" x=\"11553\" y=\"-7.8\" font-family=\"Helvetica,sans-Serif\" baseline-shift=\"sub\" font-size=\"14.00\">0</text>\n</g>\n<!-- 218&#45;&gt;219 -->\n<g id=\"edge219\" class=\"edge\">\n<title>218&#45;&gt;219</title>\n<path fill=\"none\" stroke=\"black\" d=\"M11537.77,-99.8C11536.74,-91.46 11535.64,-82.6 11534.6,-74.15\"/>\n<polygon fill=\"black\" stroke=\"black\" points=\"11538.05,-73.61 11533.35,-64.12 11531.11,-74.47 11538.05,-73.61\"/>\n</g>\n<!-- 220 -->\n<g id=\"node221\" class=\"node\">\n<title>220</title>\n<path fill=\"#fae6d7\" stroke=\"black\" d=\"M11704.5,-64C11704.5,-64 11618.5,-64 11618.5,-64 11612.5,-64 11606.5,-58 11606.5,-52 11606.5,-52 11606.5,-12 11606.5,-12 11606.5,-6 11612.5,0 11618.5,0 11618.5,0 11704.5,0 11704.5,0 11710.5,0 11716.5,-6 11716.5,-12 11716.5,-12 11716.5,-52 11716.5,-52 11716.5,-58 11710.5,-64 11704.5,-64\"/>\n<text text-anchor=\"start\" x=\"11626\" y=\"-49.8\" font-family=\"Helvetica,sans-Serif\" font-size=\"14.00\">gini = 0.494</text>\n<text text-anchor=\"start\" x=\"11620.5\" y=\"-35.8\" font-family=\"Helvetica,sans-Serif\" font-size=\"14.00\">samples = 45</text>\n<text text-anchor=\"start\" x=\"11614.5\" y=\"-21.8\" font-family=\"Helvetica,sans-Serif\" font-size=\"14.00\">value = [25, 20]</text>\n<text text-anchor=\"start\" x=\"11631\" y=\"-7.8\" font-family=\"Helvetica,sans-Serif\" font-size=\"14.00\">class = y</text>\n<text text-anchor=\"start\" x=\"11685\" y=\"-7.8\" font-family=\"Helvetica,sans-Serif\" baseline-shift=\"sub\" font-size=\"14.00\">0</text>\n</g>\n<!-- 218&#45;&gt;220 -->\n<g id=\"edge220\" class=\"edge\">\n<title>218&#45;&gt;220</title>\n<path fill=\"none\" stroke=\"black\" d=\"M11585.8,-99.8C11596.49,-90.36 11607.94,-80.25 11618.62,-70.84\"/>\n<polygon fill=\"black\" stroke=\"black\" points=\"11621.05,-73.36 11626.23,-64.12 11616.42,-68.11 11621.05,-73.36\"/>\n</g>\n<!-- 222 -->\n<g id=\"node223\" class=\"node\">\n<title>222</title>\n<path fill=\"#4da7e8\" stroke=\"black\" d=\"M11884,-178C11884,-178 11753,-178 11753,-178 11747,-178 11741,-172 11741,-166 11741,-166 11741,-112 11741,-112 11741,-106 11747,-100 11753,-100 11753,-100 11884,-100 11884,-100 11890,-100 11896,-106 11896,-112 11896,-112 11896,-166 11896,-166 11896,-172 11890,-178 11884,-178\"/>\n<text text-anchor=\"start\" x=\"11749\" y=\"-163.8\" font-family=\"Helvetica,sans-Serif\" font-size=\"14.00\">On&#45;board service ≤ 2.5</text>\n<text text-anchor=\"start\" x=\"11786.5\" y=\"-149.8\" font-family=\"Helvetica,sans-Serif\" font-size=\"14.00\">gini = 0.17</text>\n<text text-anchor=\"start\" x=\"11773.5\" y=\"-135.8\" font-family=\"Helvetica,sans-Serif\" font-size=\"14.00\">samples = 192</text>\n<text text-anchor=\"start\" x=\"11768\" y=\"-121.8\" font-family=\"Helvetica,sans-Serif\" font-size=\"14.00\">value = [18, 174]</text>\n<text text-anchor=\"start\" x=\"11788\" y=\"-107.8\" font-family=\"Helvetica,sans-Serif\" font-size=\"14.00\">class = y</text>\n<text text-anchor=\"start\" x=\"11842\" y=\"-107.8\" font-family=\"Helvetica,sans-Serif\" baseline-shift=\"sub\" font-size=\"14.00\">1</text>\n</g>\n<!-- 221&#45;&gt;222 -->\n<g id=\"edge222\" class=\"edge\">\n<title>221&#45;&gt;222</title>\n<path fill=\"none\" stroke=\"black\" d=\"M11818.5,-213.77C11818.5,-205.57 11818.5,-196.8 11818.5,-188.28\"/>\n<polygon fill=\"black\" stroke=\"black\" points=\"11822,-188.06 11818.5,-178.06 11815,-188.06 11822,-188.06\"/>\n</g>\n<!-- 225 -->\n<g id=\"node226\" class=\"node\">\n<title>225</title>\n<path fill=\"#f0f8fd\" stroke=\"black\" d=\"M12097.5,-178C12097.5,-178 11961.5,-178 11961.5,-178 11955.5,-178 11949.5,-172 11949.5,-166 11949.5,-166 11949.5,-112 11949.5,-112 11949.5,-106 11955.5,-100 11961.5,-100 11961.5,-100 12097.5,-100 12097.5,-100 12103.5,-100 12109.5,-106 12109.5,-112 12109.5,-112 12109.5,-166 12109.5,-166 12109.5,-172 12103.5,-178 12097.5,-178\"/>\n<text text-anchor=\"start\" x=\"11957.5\" y=\"-163.8\" font-family=\"Helvetica,sans-Serif\" font-size=\"14.00\">Inflight wifi service ≤ 3.5</text>\n<text text-anchor=\"start\" x=\"11994\" y=\"-149.8\" font-family=\"Helvetica,sans-Serif\" font-size=\"14.00\">gini = 0.499</text>\n<text text-anchor=\"start\" x=\"11984.5\" y=\"-135.8\" font-family=\"Helvetica,sans-Serif\" font-size=\"14.00\">samples = 562</text>\n<text text-anchor=\"start\" x=\"11975\" y=\"-121.8\" font-family=\"Helvetica,sans-Serif\" font-size=\"14.00\">value = [270, 292]</text>\n<text text-anchor=\"start\" x=\"11999\" y=\"-107.8\" font-family=\"Helvetica,sans-Serif\" font-size=\"14.00\">class = y</text>\n<text text-anchor=\"start\" x=\"12053\" y=\"-107.8\" font-family=\"Helvetica,sans-Serif\" baseline-shift=\"sub\" font-size=\"14.00\">1</text>\n</g>\n<!-- 221&#45;&gt;225 -->\n<g id=\"edge225\" class=\"edge\">\n<title>221&#45;&gt;225</title>\n<path fill=\"none\" stroke=\"black\" d=\"M11881.24,-218.7C11902.47,-207.43 11926.49,-194.68 11948.91,-182.78\"/>\n<polygon fill=\"black\" stroke=\"black\" points=\"11950.55,-185.87 11957.75,-178.09 11947.27,-179.68 11950.55,-185.87\"/>\n</g>\n<!-- 223 -->\n<g id=\"node224\" class=\"node\">\n<title>223</title>\n<path fill=\"#f1b991\" stroke=\"black\" d=\"M11820.5,-64C11820.5,-64 11746.5,-64 11746.5,-64 11740.5,-64 11734.5,-58 11734.5,-52 11734.5,-52 11734.5,-12 11734.5,-12 11734.5,-6 11740.5,0 11746.5,0 11746.5,0 11820.5,0 11820.5,0 11826.5,0 11832.5,-6 11832.5,-12 11832.5,-12 11832.5,-52 11832.5,-52 11832.5,-58 11826.5,-64 11820.5,-64\"/>\n<text text-anchor=\"start\" x=\"11748\" y=\"-49.8\" font-family=\"Helvetica,sans-Serif\" font-size=\"14.00\">gini = 0.426</text>\n<text text-anchor=\"start\" x=\"11742.5\" y=\"-35.8\" font-family=\"Helvetica,sans-Serif\" font-size=\"14.00\">samples = 13</text>\n<text text-anchor=\"start\" x=\"11744\" y=\"-21.8\" font-family=\"Helvetica,sans-Serif\" font-size=\"14.00\">value = [9, 4]</text>\n<text text-anchor=\"start\" x=\"11753\" y=\"-7.8\" font-family=\"Helvetica,sans-Serif\" font-size=\"14.00\">class = y</text>\n<text text-anchor=\"start\" x=\"11807\" y=\"-7.8\" font-family=\"Helvetica,sans-Serif\" baseline-shift=\"sub\" font-size=\"14.00\">0</text>\n</g>\n<!-- 222&#45;&gt;223 -->\n<g id=\"edge223\" class=\"edge\">\n<title>222&#45;&gt;223</title>\n<path fill=\"none\" stroke=\"black\" d=\"M11805.77,-99.8C11802.96,-91.37 11799.97,-82.41 11797.13,-73.88\"/>\n<polygon fill=\"black\" stroke=\"black\" points=\"11800.36,-72.5 11793.87,-64.12 11793.71,-74.71 11800.36,-72.5\"/>\n</g>\n<!-- 224 -->\n<g id=\"node225\" class=\"node\">\n<title>224</title>\n<path fill=\"#43a2e6\" stroke=\"black\" d=\"M11948.5,-64C11948.5,-64 11862.5,-64 11862.5,-64 11856.5,-64 11850.5,-58 11850.5,-52 11850.5,-52 11850.5,-12 11850.5,-12 11850.5,-6 11856.5,0 11862.5,0 11862.5,0 11948.5,0 11948.5,0 11954.5,0 11960.5,-6 11960.5,-12 11960.5,-12 11960.5,-52 11960.5,-52 11960.5,-58 11954.5,-64 11948.5,-64\"/>\n<text text-anchor=\"start\" x=\"11870\" y=\"-49.8\" font-family=\"Helvetica,sans-Serif\" font-size=\"14.00\">gini = 0.096</text>\n<text text-anchor=\"start\" x=\"11860.5\" y=\"-35.8\" font-family=\"Helvetica,sans-Serif\" font-size=\"14.00\">samples = 179</text>\n<text text-anchor=\"start\" x=\"11858.5\" y=\"-21.8\" font-family=\"Helvetica,sans-Serif\" font-size=\"14.00\">value = [9, 170]</text>\n<text text-anchor=\"start\" x=\"11875\" y=\"-7.8\" font-family=\"Helvetica,sans-Serif\" font-size=\"14.00\">class = y</text>\n<text text-anchor=\"start\" x=\"11929\" y=\"-7.8\" font-family=\"Helvetica,sans-Serif\" baseline-shift=\"sub\" font-size=\"14.00\">1</text>\n</g>\n<!-- 222&#45;&gt;224 -->\n<g id=\"edge224\" class=\"edge\">\n<title>222&#45;&gt;224</title>\n<path fill=\"none\" stroke=\"black\" d=\"M11850.16,-99.8C11857.67,-90.73 11865.7,-81.04 11873.24,-71.94\"/>\n<polygon fill=\"black\" stroke=\"black\" points=\"11876.03,-74.05 11879.72,-64.12 11870.64,-69.58 11876.03,-74.05\"/>\n</g>\n<!-- 226 -->\n<g id=\"node227\" class=\"node\">\n<title>226</title>\n<path fill=\"#e88d4c\" stroke=\"black\" d=\"M12068.5,-64C12068.5,-64 11990.5,-64 11990.5,-64 11984.5,-64 11978.5,-58 11978.5,-52 11978.5,-52 11978.5,-12 11978.5,-12 11978.5,-6 11984.5,0 11990.5,0 11990.5,0 12068.5,0 12068.5,0 12074.5,0 12080.5,-6 12080.5,-12 12080.5,-12 12080.5,-52 12080.5,-52 12080.5,-58 12074.5,-64 12068.5,-64\"/>\n<text text-anchor=\"start\" x=\"11997.5\" y=\"-49.8\" font-family=\"Helvetica,sans-Serif\" font-size=\"14.00\">gini = 0.16</text>\n<text text-anchor=\"start\" x=\"11988.5\" y=\"-35.8\" font-family=\"Helvetica,sans-Serif\" font-size=\"14.00\">samples = 57</text>\n<text text-anchor=\"start\" x=\"11986.5\" y=\"-21.8\" font-family=\"Helvetica,sans-Serif\" font-size=\"14.00\">value = [52, 5]</text>\n<text text-anchor=\"start\" x=\"11999\" y=\"-7.8\" font-family=\"Helvetica,sans-Serif\" font-size=\"14.00\">class = y</text>\n<text text-anchor=\"start\" x=\"12053\" y=\"-7.8\" font-family=\"Helvetica,sans-Serif\" baseline-shift=\"sub\" font-size=\"14.00\">0</text>\n</g>\n<!-- 225&#45;&gt;226 -->\n<g id=\"edge226\" class=\"edge\">\n<title>225&#45;&gt;226</title>\n<path fill=\"none\" stroke=\"black\" d=\"M12029.5,-99.8C12029.5,-91.46 12029.5,-82.6 12029.5,-74.15\"/>\n<polygon fill=\"black\" stroke=\"black\" points=\"12033,-74.12 12029.5,-64.12 12026,-74.12 12033,-74.12\"/>\n</g>\n<!-- 227 -->\n<g id=\"node228\" class=\"node\">\n<title>227</title>\n<path fill=\"#cfe7f9\" stroke=\"black\" d=\"M12212,-64C12212,-64 12111,-64 12111,-64 12105,-64 12099,-58 12099,-52 12099,-52 12099,-12 12099,-12 12099,-6 12105,0 12111,0 12111,0 12212,0 12212,0 12218,0 12224,-6 12224,-12 12224,-12 12224,-52 12224,-52 12224,-58 12218,-64 12212,-64\"/>\n<text text-anchor=\"start\" x=\"12126\" y=\"-49.8\" font-family=\"Helvetica,sans-Serif\" font-size=\"14.00\">gini = 0.491</text>\n<text text-anchor=\"start\" x=\"12116.5\" y=\"-35.8\" font-family=\"Helvetica,sans-Serif\" font-size=\"14.00\">samples = 505</text>\n<text text-anchor=\"start\" x=\"12107\" y=\"-21.8\" font-family=\"Helvetica,sans-Serif\" font-size=\"14.00\">value = [218, 287]</text>\n<text text-anchor=\"start\" x=\"12131\" y=\"-7.8\" font-family=\"Helvetica,sans-Serif\" font-size=\"14.00\">class = y</text>\n<text text-anchor=\"start\" x=\"12185\" y=\"-7.8\" font-family=\"Helvetica,sans-Serif\" baseline-shift=\"sub\" font-size=\"14.00\">1</text>\n</g>\n<!-- 225&#45;&gt;227 -->\n<g id=\"edge227\" class=\"edge\">\n<title>225&#45;&gt;227</title>\n<path fill=\"none\" stroke=\"black\" d=\"M12077.53,-99.8C12089.51,-90.27 12102.34,-80.06 12114.28,-70.56\"/>\n<polygon fill=\"black\" stroke=\"black\" points=\"12116.73,-73.08 12122.38,-64.12 12112.38,-67.6 12116.73,-73.08\"/>\n</g>\n</g>\n</svg>\n",
            "text/plain": [
              "<graphviz.sources.Source at 0x7aa360bf73a0>"
            ]
          },
          "metadata": {},
          "execution_count": 71
        }
      ]
    },
    {
      "cell_type": "markdown",
      "source": [
        "Z uwagi na duża ilość danych drzewo zostało ograniczone w taki sposób, że:\n",
        "- maksykalna głębokość została ustawiona na 8,\n",
        "- ilość przykładów dla każdego węzła została ustawiona na 10,\n",
        "- ilość przykładów w węźle decyzyjnym została ustawiona na 50."
      ],
      "metadata": {
        "id": "TAVL9ySueg2C"
      }
    },
    {
      "cell_type": "markdown",
      "source": [
        "DRUGIE DRZEWO"
      ],
      "metadata": {
        "id": "RKQaP1RlVHzK"
      }
    },
    {
      "cell_type": "markdown",
      "source": [
        "Poniżej zostało utworzone drugie drzewo decyzyjne dla samych wartości określających \"avg_rating\""
      ],
      "metadata": {
        "id": "E08SSHTue9pV"
      }
    },
    {
      "cell_type": "code",
      "source": [
        "X_train_second_tree = X_train[selected_columns];\n",
        "X_test_second_tree = X_test[selected_columns];\n",
        "\n",
        "tree = DecisionTreeClassifier()\n",
        "tree.fit(X_train_second_tree, y_train)"
      ],
      "metadata": {
        "colab": {
          "base_uri": "https://localhost:8080/",
          "height": 75
        },
        "id": "2_MjOqRGVGOy",
        "outputId": "8f339225-fa20-4424-b705-ec1afc69a2eb"
      },
      "execution_count": null,
      "outputs": [
        {
          "output_type": "execute_result",
          "data": {
            "text/plain": [
              "DecisionTreeClassifier()"
            ],
            "text/html": [
              "<style>#sk-container-id-3 {color: black;background-color: white;}#sk-container-id-3 pre{padding: 0;}#sk-container-id-3 div.sk-toggleable {background-color: white;}#sk-container-id-3 label.sk-toggleable__label {cursor: pointer;display: block;width: 100%;margin-bottom: 0;padding: 0.3em;box-sizing: border-box;text-align: center;}#sk-container-id-3 label.sk-toggleable__label-arrow:before {content: \"▸\";float: left;margin-right: 0.25em;color: #696969;}#sk-container-id-3 label.sk-toggleable__label-arrow:hover:before {color: black;}#sk-container-id-3 div.sk-estimator:hover label.sk-toggleable__label-arrow:before {color: black;}#sk-container-id-3 div.sk-toggleable__content {max-height: 0;max-width: 0;overflow: hidden;text-align: left;background-color: #f0f8ff;}#sk-container-id-3 div.sk-toggleable__content pre {margin: 0.2em;color: black;border-radius: 0.25em;background-color: #f0f8ff;}#sk-container-id-3 input.sk-toggleable__control:checked~div.sk-toggleable__content {max-height: 200px;max-width: 100%;overflow: auto;}#sk-container-id-3 input.sk-toggleable__control:checked~label.sk-toggleable__label-arrow:before {content: \"▾\";}#sk-container-id-3 div.sk-estimator input.sk-toggleable__control:checked~label.sk-toggleable__label {background-color: #d4ebff;}#sk-container-id-3 div.sk-label input.sk-toggleable__control:checked~label.sk-toggleable__label {background-color: #d4ebff;}#sk-container-id-3 input.sk-hidden--visually {border: 0;clip: rect(1px 1px 1px 1px);clip: rect(1px, 1px, 1px, 1px);height: 1px;margin: -1px;overflow: hidden;padding: 0;position: absolute;width: 1px;}#sk-container-id-3 div.sk-estimator {font-family: monospace;background-color: #f0f8ff;border: 1px dotted black;border-radius: 0.25em;box-sizing: border-box;margin-bottom: 0.5em;}#sk-container-id-3 div.sk-estimator:hover {background-color: #d4ebff;}#sk-container-id-3 div.sk-parallel-item::after {content: \"\";width: 100%;border-bottom: 1px solid gray;flex-grow: 1;}#sk-container-id-3 div.sk-label:hover label.sk-toggleable__label {background-color: #d4ebff;}#sk-container-id-3 div.sk-serial::before {content: \"\";position: absolute;border-left: 1px solid gray;box-sizing: border-box;top: 0;bottom: 0;left: 50%;z-index: 0;}#sk-container-id-3 div.sk-serial {display: flex;flex-direction: column;align-items: center;background-color: white;padding-right: 0.2em;padding-left: 0.2em;position: relative;}#sk-container-id-3 div.sk-item {position: relative;z-index: 1;}#sk-container-id-3 div.sk-parallel {display: flex;align-items: stretch;justify-content: center;background-color: white;position: relative;}#sk-container-id-3 div.sk-item::before, #sk-container-id-3 div.sk-parallel-item::before {content: \"\";position: absolute;border-left: 1px solid gray;box-sizing: border-box;top: 0;bottom: 0;left: 50%;z-index: -1;}#sk-container-id-3 div.sk-parallel-item {display: flex;flex-direction: column;z-index: 1;position: relative;background-color: white;}#sk-container-id-3 div.sk-parallel-item:first-child::after {align-self: flex-end;width: 50%;}#sk-container-id-3 div.sk-parallel-item:last-child::after {align-self: flex-start;width: 50%;}#sk-container-id-3 div.sk-parallel-item:only-child::after {width: 0;}#sk-container-id-3 div.sk-dashed-wrapped {border: 1px dashed gray;margin: 0 0.4em 0.5em 0.4em;box-sizing: border-box;padding-bottom: 0.4em;background-color: white;}#sk-container-id-3 div.sk-label label {font-family: monospace;font-weight: bold;display: inline-block;line-height: 1.2em;}#sk-container-id-3 div.sk-label-container {text-align: center;}#sk-container-id-3 div.sk-container {/* jupyter's `normalize.less` sets `[hidden] { display: none; }` but bootstrap.min.css set `[hidden] { display: none !important; }` so we also need the `!important` here to be able to override the default hidden behavior on the sphinx rendered scikit-learn.org. See: https://github.com/scikit-learn/scikit-learn/issues/21755 */display: inline-block !important;position: relative;}#sk-container-id-3 div.sk-text-repr-fallback {display: none;}</style><div id=\"sk-container-id-3\" class=\"sk-top-container\"><div class=\"sk-text-repr-fallback\"><pre>DecisionTreeClassifier()</pre><b>In a Jupyter environment, please rerun this cell to show the HTML representation or trust the notebook. <br />On GitHub, the HTML representation is unable to render, please try loading this page with nbviewer.org.</b></div><div class=\"sk-container\" hidden><div class=\"sk-item\"><div class=\"sk-estimator sk-toggleable\"><input class=\"sk-toggleable__control sk-hidden--visually\" id=\"sk-estimator-id-3\" type=\"checkbox\" checked><label for=\"sk-estimator-id-3\" class=\"sk-toggleable__label sk-toggleable__label-arrow\">DecisionTreeClassifier</label><div class=\"sk-toggleable__content\"><pre>DecisionTreeClassifier()</pre></div></div></div></div></div>"
            ]
          },
          "metadata": {},
          "execution_count": 72
        }
      ]
    },
    {
      "cell_type": "code",
      "source": [
        "tree.tree_.max_depth"
      ],
      "metadata": {
        "colab": {
          "base_uri": "https://localhost:8080/"
        },
        "id": "O6wnUeHxVOe3",
        "outputId": "8f07d896-f643-4d47-9c32-67c07edf1cc1"
      },
      "execution_count": null,
      "outputs": [
        {
          "output_type": "execute_result",
          "data": {
            "text/plain": [
              "34"
            ]
          },
          "metadata": {},
          "execution_count": 73
        }
      ]
    },
    {
      "cell_type": "code",
      "source": [
        "validation_prediction = tree.predict(X_test_second_tree)\n",
        "training_prediction = tree.predict(X_train_second_tree)"
      ],
      "metadata": {
        "id": "GLWdb5GAVQEz"
      },
      "execution_count": null,
      "outputs": []
    },
    {
      "cell_type": "code",
      "source": [
        "print('Accuracy training set: ', accuracy_score(y_true=y_train, y_pred=training_prediction))\n",
        "print('Accuracy validation set: ', accuracy_score(y_true=y_test, y_pred=validation_prediction))"
      ],
      "metadata": {
        "colab": {
          "base_uri": "https://localhost:8080/"
        },
        "id": "eO8FGvMIVRg_",
        "outputId": "a94dbcdf-72a7-4d6f-946e-83f11bbc0b15"
      },
      "execution_count": null,
      "outputs": [
        {
          "output_type": "stream",
          "name": "stdout",
          "text": [
            "Accuracy training set:  0.99582001950014\n",
            "Accuracy validation set:  0.9283342343038072\n"
          ]
        }
      ]
    },
    {
      "cell_type": "code",
      "source": [
        "feature_names = X_train_second_tree.columns\n",
        "\n",
        "tree = DecisionTreeClassifier(max_depth=5, min_samples_leaf=5, min_samples_split=20)\n",
        "tree.fit(X_train_second_tree, y_train)\n",
        "\n",
        "class_names = ['satisfied', 'neutral or dissatisfied']\n",
        "\n",
        "dot_data = export_graphviz(tree, out_file=None,\n",
        "                         feature_names=feature_names,\n",
        "                         class_names=class_names,\n",
        "                         filled=True, rounded=True,\n",
        "                         special_characters=True)\n",
        "\n",
        "graph = graphviz.Source(dot_data)\n",
        "graph"
      ],
      "metadata": {
        "colab": {
          "base_uri": "https://localhost:8080/",
          "height": 936
        },
        "id": "b6VqJdIkVTMU",
        "outputId": "3c76d743-0e0e-4b40-843f-cab36e806b30"
      },
      "execution_count": null,
      "outputs": [
        {
          "output_type": "execute_result",
          "data": {
            "image/svg+xml": "<?xml version=\"1.0\" encoding=\"UTF-8\" standalone=\"no\"?>\n<!DOCTYPE svg PUBLIC \"-//W3C//DTD SVG 1.1//EN\"\n \"http://www.w3.org/Graphics/SVG/1.1/DTD/svg11.dtd\">\n<!-- Generated by graphviz version 2.43.0 (0)\n -->\n<!-- Title: Tree Pages: 1 -->\n<svg width=\"3725pt\" height=\"671pt\"\n viewBox=\"0.00 0.00 3724.50 671.00\" xmlns=\"http://www.w3.org/2000/svg\" xmlns:xlink=\"http://www.w3.org/1999/xlink\">\n<g id=\"graph0\" class=\"graph\" transform=\"scale(1 1) rotate(0) translate(4 667)\">\n<title>Tree</title>\n<polygon fill=\"white\" stroke=\"transparent\" points=\"-4,4 -4,-667 3720.5,-667 3720.5,4 -4,4\"/>\n<!-- 0 -->\n<g id=\"node1\" class=\"node\">\n<title>0</title>\n<path fill=\"#f9e2d1\" stroke=\"black\" d=\"M1245.5,-663C1245.5,-663 1114.5,-663 1114.5,-663 1108.5,-663 1102.5,-657 1102.5,-651 1102.5,-651 1102.5,-592 1102.5,-592 1102.5,-586 1108.5,-580 1114.5,-580 1114.5,-580 1245.5,-580 1245.5,-580 1251.5,-580 1257.5,-586 1257.5,-592 1257.5,-592 1257.5,-651 1257.5,-651 1257.5,-657 1251.5,-663 1245.5,-663\"/>\n<text text-anchor=\"start\" x=\"1115\" y=\"-647.8\" font-family=\"Helvetica,sans-Serif\" font-size=\"14.00\">Online boarding ≤ 3.5</text>\n<text text-anchor=\"start\" x=\"1144.5\" y=\"-632.8\" font-family=\"Helvetica,sans-Serif\" font-size=\"14.00\">gini = 0.491</text>\n<text text-anchor=\"start\" x=\"1124\" y=\"-617.8\" font-family=\"Helvetica,sans-Serif\" font-size=\"14.00\">samples = 103589</text>\n<text text-anchor=\"start\" x=\"1110.5\" y=\"-602.8\" font-family=\"Helvetica,sans-Serif\" font-size=\"14.00\">value = [58655, 44934]</text>\n<text text-anchor=\"start\" x=\"1131.5\" y=\"-587.8\" font-family=\"Helvetica,sans-Serif\" font-size=\"14.00\">class = satisfied</text>\n</g>\n<!-- 1 -->\n<g id=\"node2\" class=\"node\">\n<title>1</title>\n<path fill=\"#ea975c\" stroke=\"black\" d=\"M780,-544C780,-544 644,-544 644,-544 638,-544 632,-538 632,-532 632,-532 632,-473 632,-473 632,-467 638,-461 644,-461 644,-461 780,-461 780,-461 786,-461 792,-467 792,-473 792,-473 792,-532 792,-532 792,-538 786,-544 780,-544\"/>\n<text text-anchor=\"start\" x=\"640\" y=\"-528.8\" font-family=\"Helvetica,sans-Serif\" font-size=\"14.00\">Inflight wifi service ≤ 0.5</text>\n<text text-anchor=\"start\" x=\"676.5\" y=\"-513.8\" font-family=\"Helvetica,sans-Serif\" font-size=\"14.00\">gini = 0.253</text>\n<text text-anchor=\"start\" x=\"659.5\" y=\"-498.8\" font-family=\"Helvetica,sans-Serif\" font-size=\"14.00\">samples = 52168</text>\n<text text-anchor=\"start\" x=\"646.5\" y=\"-483.8\" font-family=\"Helvetica,sans-Serif\" font-size=\"14.00\">value = [44418, 7750]</text>\n<text text-anchor=\"start\" x=\"663.5\" y=\"-468.8\" font-family=\"Helvetica,sans-Serif\" font-size=\"14.00\">class = satisfied</text>\n</g>\n<!-- 0&#45;&gt;1 -->\n<g id=\"edge1\" class=\"edge\">\n<title>0&#45;&gt;1</title>\n<path fill=\"none\" stroke=\"black\" d=\"M1102.46,-601.11C1019.79,-580.45 889.04,-547.76 801.92,-525.98\"/>\n<polygon fill=\"black\" stroke=\"black\" points=\"802.6,-522.54 792.05,-523.51 800.9,-529.33 802.6,-522.54\"/>\n<text text-anchor=\"middle\" x=\"804.91\" y=\"-541.25\" font-family=\"Helvetica,sans-Serif\" font-size=\"14.00\">True</text>\n</g>\n<!-- 20 -->\n<g id=\"node21\" class=\"node\">\n<title>20</title>\n<path fill=\"#85c3ef\" stroke=\"black\" d=\"M1805.5,-544C1805.5,-544 1638.5,-544 1638.5,-544 1632.5,-544 1626.5,-538 1626.5,-532 1626.5,-532 1626.5,-473 1626.5,-473 1626.5,-467 1632.5,-461 1638.5,-461 1638.5,-461 1805.5,-461 1805.5,-461 1811.5,-461 1817.5,-467 1817.5,-473 1817.5,-473 1817.5,-532 1817.5,-532 1817.5,-538 1811.5,-544 1805.5,-544\"/>\n<text text-anchor=\"start\" x=\"1641.5\" y=\"-528.8\" font-family=\"Helvetica,sans-Serif\" font-size=\"14.00\">Inflight entertainment ≤ 3.5</text>\n<text text-anchor=\"start\" x=\"1694\" y=\"-513.8\" font-family=\"Helvetica,sans-Serif\" font-size=\"14.00\">gini = 0.4</text>\n<text text-anchor=\"start\" x=\"1669.5\" y=\"-498.8\" font-family=\"Helvetica,sans-Serif\" font-size=\"14.00\">samples = 51421</text>\n<text text-anchor=\"start\" x=\"1652.5\" y=\"-483.8\" font-family=\"Helvetica,sans-Serif\" font-size=\"14.00\">value = [14237, 37184]</text>\n<text text-anchor=\"start\" x=\"1634.5\" y=\"-468.8\" font-family=\"Helvetica,sans-Serif\" font-size=\"14.00\">class = neutral or dissatisfied</text>\n</g>\n<!-- 0&#45;&gt;20 -->\n<g id=\"edge20\" class=\"edge\">\n<title>0&#45;&gt;20</title>\n<path fill=\"none\" stroke=\"black\" d=\"M1257.66,-603.74C1351.8,-583.41 1510.9,-549.07 1616.19,-526.34\"/>\n<polygon fill=\"black\" stroke=\"black\" points=\"1617.18,-529.71 1626.21,-524.18 1615.7,-522.87 1617.18,-529.71\"/>\n<text text-anchor=\"middle\" x=\"1612.66\" y=\"-541.49\" font-family=\"Helvetica,sans-Serif\" font-size=\"14.00\">False</text>\n</g>\n<!-- 2 -->\n<g id=\"node3\" class=\"node\">\n<title>2</title>\n<path fill=\"#3a9de5\" stroke=\"black\" d=\"M472.5,-425C472.5,-425 305.5,-425 305.5,-425 299.5,-425 293.5,-419 293.5,-413 293.5,-413 293.5,-354 293.5,-354 293.5,-348 299.5,-342 305.5,-342 305.5,-342 472.5,-342 472.5,-342 478.5,-342 484.5,-348 484.5,-354 484.5,-354 484.5,-413 484.5,-413 484.5,-419 478.5,-425 472.5,-425\"/>\n<text text-anchor=\"start\" x=\"308.5\" y=\"-409.8\" font-family=\"Helvetica,sans-Serif\" font-size=\"14.00\">Inflight entertainment ≤ 0.5</text>\n<text text-anchor=\"start\" x=\"357\" y=\"-394.8\" font-family=\"Helvetica,sans-Serif\" font-size=\"14.00\">gini = 0.01</text>\n<text text-anchor=\"start\" x=\"340.5\" y=\"-379.8\" font-family=\"Helvetica,sans-Serif\" font-size=\"14.00\">samples = 1797</text>\n<text text-anchor=\"start\" x=\"338.5\" y=\"-364.8\" font-family=\"Helvetica,sans-Serif\" font-size=\"14.00\">value = [9, 1788]</text>\n<text text-anchor=\"start\" x=\"301.5\" y=\"-349.8\" font-family=\"Helvetica,sans-Serif\" font-size=\"14.00\">class = neutral or dissatisfied</text>\n</g>\n<!-- 1&#45;&gt;2 -->\n<g id=\"edge2\" class=\"edge\">\n<title>1&#45;&gt;2</title>\n<path fill=\"none\" stroke=\"black\" d=\"M631.74,-472.43C590.14,-457.36 538.81,-438.77 494.09,-422.57\"/>\n<polygon fill=\"black\" stroke=\"black\" points=\"495.25,-419.26 484.65,-419.15 492.86,-425.84 495.25,-419.26\"/>\n</g>\n<!-- 5 -->\n<g id=\"node6\" class=\"node\">\n<title>5</title>\n<path fill=\"#e89254\" stroke=\"black\" d=\"M780,-425C780,-425 644,-425 644,-425 638,-425 632,-419 632,-413 632,-413 632,-354 632,-354 632,-348 638,-342 644,-342 644,-342 780,-342 780,-342 786,-342 792,-348 792,-354 792,-354 792,-413 792,-413 792,-419 786,-425 780,-425\"/>\n<text text-anchor=\"start\" x=\"640\" y=\"-409.8\" font-family=\"Helvetica,sans-Serif\" font-size=\"14.00\">Inflight wifi service ≤ 3.5</text>\n<text text-anchor=\"start\" x=\"676.5\" y=\"-394.8\" font-family=\"Helvetica,sans-Serif\" font-size=\"14.00\">gini = 0.209</text>\n<text text-anchor=\"start\" x=\"659.5\" y=\"-379.8\" font-family=\"Helvetica,sans-Serif\" font-size=\"14.00\">samples = 50371</text>\n<text text-anchor=\"start\" x=\"646.5\" y=\"-364.8\" font-family=\"Helvetica,sans-Serif\" font-size=\"14.00\">value = [44409, 5962]</text>\n<text text-anchor=\"start\" x=\"663.5\" y=\"-349.8\" font-family=\"Helvetica,sans-Serif\" font-size=\"14.00\">class = satisfied</text>\n</g>\n<!-- 1&#45;&gt;5 -->\n<g id=\"edge5\" class=\"edge\">\n<title>1&#45;&gt;5</title>\n<path fill=\"none\" stroke=\"black\" d=\"M712,-460.91C712,-452.65 712,-443.86 712,-435.3\"/>\n<polygon fill=\"black\" stroke=\"black\" points=\"715.5,-435.02 712,-425.02 708.5,-435.02 715.5,-435.02\"/>\n</g>\n<!-- 3 -->\n<g id=\"node4\" class=\"node\">\n<title>3</title>\n<path fill=\"#e58139\" stroke=\"black\" d=\"M263.5,-298.5C263.5,-298.5 174.5,-298.5 174.5,-298.5 168.5,-298.5 162.5,-292.5 162.5,-286.5 162.5,-286.5 162.5,-242.5 162.5,-242.5 162.5,-236.5 168.5,-230.5 174.5,-230.5 174.5,-230.5 263.5,-230.5 263.5,-230.5 269.5,-230.5 275.5,-236.5 275.5,-242.5 275.5,-242.5 275.5,-286.5 275.5,-286.5 275.5,-292.5 269.5,-298.5 263.5,-298.5\"/>\n<text text-anchor=\"start\" x=\"191\" y=\"-283.3\" font-family=\"Helvetica,sans-Serif\" font-size=\"14.00\">gini = 0.0</text>\n<text text-anchor=\"start\" x=\"181.5\" y=\"-268.3\" font-family=\"Helvetica,sans-Serif\" font-size=\"14.00\">samples = 9</text>\n<text text-anchor=\"start\" x=\"179.5\" y=\"-253.3\" font-family=\"Helvetica,sans-Serif\" font-size=\"14.00\">value = [9, 0]</text>\n<text text-anchor=\"start\" x=\"170.5\" y=\"-238.3\" font-family=\"Helvetica,sans-Serif\" font-size=\"14.00\">class = satisfied</text>\n</g>\n<!-- 2&#45;&gt;3 -->\n<g id=\"edge3\" class=\"edge\">\n<title>2&#45;&gt;3</title>\n<path fill=\"none\" stroke=\"black\" d=\"M330.02,-341.91C312.38,-329.77 293.09,-316.49 275.61,-304.46\"/>\n<polygon fill=\"black\" stroke=\"black\" points=\"277.41,-301.45 267.19,-298.67 273.44,-307.22 277.41,-301.45\"/>\n</g>\n<!-- 4 -->\n<g id=\"node5\" class=\"node\">\n<title>4</title>\n<path fill=\"#399de5\" stroke=\"black\" d=\"M472.5,-298.5C472.5,-298.5 305.5,-298.5 305.5,-298.5 299.5,-298.5 293.5,-292.5 293.5,-286.5 293.5,-286.5 293.5,-242.5 293.5,-242.5 293.5,-236.5 299.5,-230.5 305.5,-230.5 305.5,-230.5 472.5,-230.5 472.5,-230.5 478.5,-230.5 484.5,-236.5 484.5,-242.5 484.5,-242.5 484.5,-286.5 484.5,-286.5 484.5,-292.5 478.5,-298.5 472.5,-298.5\"/>\n<text text-anchor=\"start\" x=\"361\" y=\"-283.3\" font-family=\"Helvetica,sans-Serif\" font-size=\"14.00\">gini = 0.0</text>\n<text text-anchor=\"start\" x=\"340.5\" y=\"-268.3\" font-family=\"Helvetica,sans-Serif\" font-size=\"14.00\">samples = 1788</text>\n<text text-anchor=\"start\" x=\"338.5\" y=\"-253.3\" font-family=\"Helvetica,sans-Serif\" font-size=\"14.00\">value = [0, 1788]</text>\n<text text-anchor=\"start\" x=\"301.5\" y=\"-238.3\" font-family=\"Helvetica,sans-Serif\" font-size=\"14.00\">class = neutral or dissatisfied</text>\n</g>\n<!-- 2&#45;&gt;4 -->\n<g id=\"edge4\" class=\"edge\">\n<title>2&#45;&gt;4</title>\n<path fill=\"none\" stroke=\"black\" d=\"M389,-341.91C389,-331.2 389,-319.62 389,-308.78\"/>\n<polygon fill=\"black\" stroke=\"black\" points=\"392.5,-308.67 389,-298.67 385.5,-308.67 392.5,-308.67\"/>\n</g>\n<!-- 6 -->\n<g id=\"node7\" class=\"node\">\n<title>6</title>\n<path fill=\"#e78a47\" stroke=\"black\" d=\"M645.5,-306C645.5,-306 514.5,-306 514.5,-306 508.5,-306 502.5,-300 502.5,-294 502.5,-294 502.5,-235 502.5,-235 502.5,-229 508.5,-223 514.5,-223 514.5,-223 645.5,-223 645.5,-223 651.5,-223 657.5,-229 657.5,-235 657.5,-235 657.5,-294 657.5,-294 657.5,-300 651.5,-306 645.5,-306\"/>\n<text text-anchor=\"start\" x=\"510.5\" y=\"-290.8\" font-family=\"Helvetica,sans-Serif\" font-size=\"14.00\">Leg room service ≤ 3.5</text>\n<text text-anchor=\"start\" x=\"548\" y=\"-275.8\" font-family=\"Helvetica,sans-Serif\" font-size=\"14.00\">gini = 0.12</text>\n<text text-anchor=\"start\" x=\"527.5\" y=\"-260.8\" font-family=\"Helvetica,sans-Serif\" font-size=\"14.00\">samples = 45630</text>\n<text text-anchor=\"start\" x=\"514.5\" y=\"-245.8\" font-family=\"Helvetica,sans-Serif\" font-size=\"14.00\">value = [42700, 2930]</text>\n<text text-anchor=\"start\" x=\"531.5\" y=\"-230.8\" font-family=\"Helvetica,sans-Serif\" font-size=\"14.00\">class = satisfied</text>\n</g>\n<!-- 5&#45;&gt;6 -->\n<g id=\"edge6\" class=\"edge\">\n<title>5&#45;&gt;6</title>\n<path fill=\"none\" stroke=\"black\" d=\"M666.2,-341.91C655.66,-332.56 644.35,-322.54 633.51,-312.93\"/>\n<polygon fill=\"black\" stroke=\"black\" points=\"635.52,-310.03 625.72,-306.02 630.88,-315.27 635.52,-310.03\"/>\n</g>\n<!-- 13 -->\n<g id=\"node14\" class=\"node\">\n<title>13</title>\n<path fill=\"#a9d4f4\" stroke=\"black\" d=\"M925.5,-306C925.5,-306 758.5,-306 758.5,-306 752.5,-306 746.5,-300 746.5,-294 746.5,-294 746.5,-235 746.5,-235 746.5,-229 752.5,-223 758.5,-223 758.5,-223 925.5,-223 925.5,-223 931.5,-223 937.5,-229 937.5,-235 937.5,-235 937.5,-294 937.5,-294 937.5,-300 931.5,-306 925.5,-306\"/>\n<text text-anchor=\"start\" x=\"770\" y=\"-290.8\" font-family=\"Helvetica,sans-Serif\" font-size=\"14.00\">Inflight wifi service ≤ 4.5</text>\n<text text-anchor=\"start\" x=\"806.5\" y=\"-275.8\" font-family=\"Helvetica,sans-Serif\" font-size=\"14.00\">gini = 0.461</text>\n<text text-anchor=\"start\" x=\"793.5\" y=\"-260.8\" font-family=\"Helvetica,sans-Serif\" font-size=\"14.00\">samples = 4741</text>\n<text text-anchor=\"start\" x=\"780\" y=\"-245.8\" font-family=\"Helvetica,sans-Serif\" font-size=\"14.00\">value = [1709, 3032]</text>\n<text text-anchor=\"start\" x=\"754.5\" y=\"-230.8\" font-family=\"Helvetica,sans-Serif\" font-size=\"14.00\">class = neutral or dissatisfied</text>\n</g>\n<!-- 5&#45;&gt;13 -->\n<g id=\"edge13\" class=\"edge\">\n<title>5&#45;&gt;13</title>\n<path fill=\"none\" stroke=\"black\" d=\"M757.1,-341.91C767.49,-332.56 778.62,-322.54 789.3,-312.93\"/>\n<polygon fill=\"black\" stroke=\"black\" points=\"791.89,-315.31 796.98,-306.02 787.2,-310.11 791.89,-315.31\"/>\n</g>\n<!-- 7 -->\n<g id=\"node8\" class=\"node\">\n<title>7</title>\n<path fill=\"#e6853f\" stroke=\"black\" d=\"M341.5,-187C341.5,-187 114.5,-187 114.5,-187 108.5,-187 102.5,-181 102.5,-175 102.5,-175 102.5,-116 102.5,-116 102.5,-110 108.5,-104 114.5,-104 114.5,-104 341.5,-104 341.5,-104 347.5,-104 353.5,-110 353.5,-116 353.5,-116 353.5,-175 353.5,-175 353.5,-181 347.5,-187 341.5,-187\"/>\n<text text-anchor=\"start\" x=\"110.5\" y=\"-171.8\" font-family=\"Helvetica,sans-Serif\" font-size=\"14.00\">Departure/Arrival time convenient ≤ 3.5</text>\n<text text-anchor=\"start\" x=\"192.5\" y=\"-156.8\" font-family=\"Helvetica,sans-Serif\" font-size=\"14.00\">gini = 0.056</text>\n<text text-anchor=\"start\" x=\"175.5\" y=\"-141.8\" font-family=\"Helvetica,sans-Serif\" font-size=\"14.00\">samples = 27440</text>\n<text text-anchor=\"start\" x=\"166\" y=\"-126.8\" font-family=\"Helvetica,sans-Serif\" font-size=\"14.00\">value = [26651, 789]</text>\n<text text-anchor=\"start\" x=\"179.5\" y=\"-111.8\" font-family=\"Helvetica,sans-Serif\" font-size=\"14.00\">class = satisfied</text>\n</g>\n<!-- 6&#45;&gt;7 -->\n<g id=\"edge7\" class=\"edge\">\n<title>6&#45;&gt;7</title>\n<path fill=\"none\" stroke=\"black\" d=\"M502.47,-226.68C499.28,-225.4 496.12,-224.17 493,-223 451.5,-207.46 405.38,-193.16 363.39,-181.23\"/>\n<polygon fill=\"black\" stroke=\"black\" points=\"364.24,-177.83 353.66,-178.48 362.34,-184.57 364.24,-177.83\"/>\n</g>\n<!-- 10 -->\n<g id=\"node11\" class=\"node\">\n<title>10</title>\n<path fill=\"#e89253\" stroke=\"black\" d=\"M620.5,-187C620.5,-187 467.5,-187 467.5,-187 461.5,-187 455.5,-181 455.5,-175 455.5,-175 455.5,-116 455.5,-116 455.5,-110 461.5,-104 467.5,-104 467.5,-104 620.5,-104 620.5,-104 626.5,-104 632.5,-110 632.5,-116 632.5,-116 632.5,-175 632.5,-175 632.5,-181 626.5,-187 620.5,-187\"/>\n<text text-anchor=\"start\" x=\"463.5\" y=\"-171.8\" font-family=\"Helvetica,sans-Serif\" font-size=\"14.00\">Inflight entertainment ≤ 3.5</text>\n<text text-anchor=\"start\" x=\"508.5\" y=\"-156.8\" font-family=\"Helvetica,sans-Serif\" font-size=\"14.00\">gini = 0.208</text>\n<text text-anchor=\"start\" x=\"491.5\" y=\"-141.8\" font-family=\"Helvetica,sans-Serif\" font-size=\"14.00\">samples = 18190</text>\n<text text-anchor=\"start\" x=\"478.5\" y=\"-126.8\" font-family=\"Helvetica,sans-Serif\" font-size=\"14.00\">value = [16049, 2141]</text>\n<text text-anchor=\"start\" x=\"495.5\" y=\"-111.8\" font-family=\"Helvetica,sans-Serif\" font-size=\"14.00\">class = satisfied</text>\n</g>\n<!-- 6&#45;&gt;10 -->\n<g id=\"edge10\" class=\"edge\">\n<title>6&#45;&gt;10</title>\n<path fill=\"none\" stroke=\"black\" d=\"M567.51,-222.91C564.91,-214.47 562.15,-205.48 559.46,-196.74\"/>\n<polygon fill=\"black\" stroke=\"black\" points=\"562.75,-195.55 556.47,-187.02 556.06,-197.61 562.75,-195.55\"/>\n</g>\n<!-- 8 -->\n<g id=\"node9\" class=\"node\">\n<title>8</title>\n<path fill=\"#e68641\" stroke=\"black\" d=\"M128,-68C128,-68 12,-68 12,-68 6,-68 0,-62 0,-56 0,-56 0,-12 0,-12 0,-6 6,0 12,0 12,0 128,0 128,0 134,0 140,-6 140,-12 140,-12 140,-56 140,-56 140,-62 134,-68 128,-68\"/>\n<text text-anchor=\"start\" x=\"34.5\" y=\"-52.8\" font-family=\"Helvetica,sans-Serif\" font-size=\"14.00\">gini = 0.077</text>\n<text text-anchor=\"start\" x=\"17.5\" y=\"-37.8\" font-family=\"Helvetica,sans-Serif\" font-size=\"14.00\">samples = 16174</text>\n<text text-anchor=\"start\" x=\"8\" y=\"-22.8\" font-family=\"Helvetica,sans-Serif\" font-size=\"14.00\">value = [15529, 645]</text>\n<text text-anchor=\"start\" x=\"21.5\" y=\"-7.8\" font-family=\"Helvetica,sans-Serif\" font-size=\"14.00\">class = satisfied</text>\n</g>\n<!-- 7&#45;&gt;8 -->\n<g id=\"edge8\" class=\"edge\">\n<title>7&#45;&gt;8</title>\n<path fill=\"none\" stroke=\"black\" d=\"M169.17,-103.73C155.14,-94.01 140.21,-83.66 126.31,-74.02\"/>\n<polygon fill=\"black\" stroke=\"black\" points=\"128.01,-70.94 117.8,-68.13 124.02,-76.7 128.01,-70.94\"/>\n</g>\n<!-- 9 -->\n<g id=\"node10\" class=\"node\">\n<title>9</title>\n<path fill=\"#e5833c\" stroke=\"black\" d=\"M286,-68C286,-68 170,-68 170,-68 164,-68 158,-62 158,-56 158,-56 158,-12 158,-12 158,-6 164,0 170,0 170,0 286,0 286,0 292,0 298,-6 298,-12 298,-12 298,-56 298,-56 298,-62 292,-68 286,-68\"/>\n<text text-anchor=\"start\" x=\"192.5\" y=\"-52.8\" font-family=\"Helvetica,sans-Serif\" font-size=\"14.00\">gini = 0.025</text>\n<text text-anchor=\"start\" x=\"175.5\" y=\"-37.8\" font-family=\"Helvetica,sans-Serif\" font-size=\"14.00\">samples = 11266</text>\n<text text-anchor=\"start\" x=\"166\" y=\"-22.8\" font-family=\"Helvetica,sans-Serif\" font-size=\"14.00\">value = [11122, 144]</text>\n<text text-anchor=\"start\" x=\"179.5\" y=\"-7.8\" font-family=\"Helvetica,sans-Serif\" font-size=\"14.00\">class = satisfied</text>\n</g>\n<!-- 7&#45;&gt;9 -->\n<g id=\"edge9\" class=\"edge\">\n<title>7&#45;&gt;9</title>\n<path fill=\"none\" stroke=\"black\" d=\"M228,-103.73C228,-95.52 228,-86.86 228,-78.56\"/>\n<polygon fill=\"black\" stroke=\"black\" points=\"231.5,-78.3 228,-68.3 224.5,-78.3 231.5,-78.3\"/>\n</g>\n<!-- 11 -->\n<g id=\"node12\" class=\"node\">\n<title>11</title>\n<path fill=\"#e68641\" stroke=\"black\" d=\"M444,-68C444,-68 328,-68 328,-68 322,-68 316,-62 316,-56 316,-56 316,-12 316,-12 316,-6 322,0 328,0 328,0 444,0 444,0 450,0 456,-6 456,-12 456,-12 456,-56 456,-56 456,-62 450,-68 444,-68\"/>\n<text text-anchor=\"start\" x=\"350.5\" y=\"-52.8\" font-family=\"Helvetica,sans-Serif\" font-size=\"14.00\">gini = 0.073</text>\n<text text-anchor=\"start\" x=\"333.5\" y=\"-37.8\" font-family=\"Helvetica,sans-Serif\" font-size=\"14.00\">samples = 10887</text>\n<text text-anchor=\"start\" x=\"324\" y=\"-22.8\" font-family=\"Helvetica,sans-Serif\" font-size=\"14.00\">value = [10474, 413]</text>\n<text text-anchor=\"start\" x=\"337.5\" y=\"-7.8\" font-family=\"Helvetica,sans-Serif\" font-size=\"14.00\">class = satisfied</text>\n</g>\n<!-- 10&#45;&gt;11 -->\n<g id=\"edge11\" class=\"edge\">\n<title>10&#45;&gt;11</title>\n<path fill=\"none\" stroke=\"black\" d=\"M485.17,-103.73C471.14,-94.01 456.21,-83.66 442.31,-74.02\"/>\n<polygon fill=\"black\" stroke=\"black\" points=\"444.01,-70.94 433.8,-68.13 440.02,-76.7 444.01,-70.94\"/>\n</g>\n<!-- 12 -->\n<g id=\"node13\" class=\"node\">\n<title>12</title>\n<path fill=\"#eda876\" stroke=\"black\" d=\"M602,-68C602,-68 486,-68 486,-68 480,-68 474,-62 474,-56 474,-56 474,-12 474,-12 474,-6 480,0 486,0 486,0 602,0 602,0 608,0 614,-6 614,-12 614,-12 614,-56 614,-56 614,-62 608,-68 602,-68\"/>\n<text text-anchor=\"start\" x=\"508.5\" y=\"-52.8\" font-family=\"Helvetica,sans-Serif\" font-size=\"14.00\">gini = 0.361</text>\n<text text-anchor=\"start\" x=\"495.5\" y=\"-37.8\" font-family=\"Helvetica,sans-Serif\" font-size=\"14.00\">samples = 7303</text>\n<text text-anchor=\"start\" x=\"482\" y=\"-22.8\" font-family=\"Helvetica,sans-Serif\" font-size=\"14.00\">value = [5575, 1728]</text>\n<text text-anchor=\"start\" x=\"495.5\" y=\"-7.8\" font-family=\"Helvetica,sans-Serif\" font-size=\"14.00\">class = satisfied</text>\n</g>\n<!-- 10&#45;&gt;12 -->\n<g id=\"edge12\" class=\"edge\">\n<title>10&#45;&gt;12</title>\n<path fill=\"none\" stroke=\"black\" d=\"M544,-103.73C544,-95.52 544,-86.86 544,-78.56\"/>\n<polygon fill=\"black\" stroke=\"black\" points=\"547.5,-78.3 544,-68.3 540.5,-78.3 547.5,-78.3\"/>\n</g>\n<!-- 14 -->\n<g id=\"node15\" class=\"node\">\n<title>14</title>\n<path fill=\"#fefaf7\" stroke=\"black\" d=\"M900,-187C900,-187 784,-187 784,-187 778,-187 772,-181 772,-175 772,-175 772,-116 772,-116 772,-110 778,-104 784,-104 784,-104 900,-104 900,-104 906,-104 912,-110 912,-116 912,-116 912,-175 912,-175 912,-181 906,-187 900,-187\"/>\n<text text-anchor=\"start\" x=\"784.5\" y=\"-171.8\" font-family=\"Helvetica,sans-Serif\" font-size=\"14.00\">Gate location ≤ 3.5</text>\n<text text-anchor=\"start\" x=\"814\" y=\"-156.8\" font-family=\"Helvetica,sans-Serif\" font-size=\"14.00\">gini = 0.5</text>\n<text text-anchor=\"start\" x=\"793.5\" y=\"-141.8\" font-family=\"Helvetica,sans-Serif\" font-size=\"14.00\">samples = 3282</text>\n<text text-anchor=\"start\" x=\"780\" y=\"-126.8\" font-family=\"Helvetica,sans-Serif\" font-size=\"14.00\">value = [1675, 1607]</text>\n<text text-anchor=\"start\" x=\"793.5\" y=\"-111.8\" font-family=\"Helvetica,sans-Serif\" font-size=\"14.00\">class = satisfied</text>\n</g>\n<!-- 13&#45;&gt;14 -->\n<g id=\"edge14\" class=\"edge\">\n<title>13&#45;&gt;14</title>\n<path fill=\"none\" stroke=\"black\" d=\"M842,-222.91C842,-214.65 842,-205.86 842,-197.3\"/>\n<polygon fill=\"black\" stroke=\"black\" points=\"845.5,-197.02 842,-187.02 838.5,-197.02 845.5,-197.02\"/>\n</g>\n<!-- 17 -->\n<g id=\"node18\" class=\"node\">\n<title>17</title>\n<path fill=\"#3e9fe6\" stroke=\"black\" d=\"M1170.5,-187C1170.5,-187 1003.5,-187 1003.5,-187 997.5,-187 991.5,-181 991.5,-175 991.5,-175 991.5,-116 991.5,-116 991.5,-110 997.5,-104 1003.5,-104 1003.5,-104 1170.5,-104 1170.5,-104 1176.5,-104 1182.5,-110 1182.5,-116 1182.5,-116 1182.5,-175 1182.5,-175 1182.5,-181 1176.5,-187 1170.5,-187\"/>\n<text text-anchor=\"start\" x=\"999.5\" y=\"-171.8\" font-family=\"Helvetica,sans-Serif\" font-size=\"14.00\">Ease of Online booking ≤ 4.5</text>\n<text text-anchor=\"start\" x=\"1051.5\" y=\"-156.8\" font-family=\"Helvetica,sans-Serif\" font-size=\"14.00\">gini = 0.046</text>\n<text text-anchor=\"start\" x=\"1038.5\" y=\"-141.8\" font-family=\"Helvetica,sans-Serif\" font-size=\"14.00\">samples = 1459</text>\n<text text-anchor=\"start\" x=\"1032.5\" y=\"-126.8\" font-family=\"Helvetica,sans-Serif\" font-size=\"14.00\">value = [34, 1425]</text>\n<text text-anchor=\"start\" x=\"999.5\" y=\"-111.8\" font-family=\"Helvetica,sans-Serif\" font-size=\"14.00\">class = neutral or dissatisfied</text>\n</g>\n<!-- 13&#45;&gt;17 -->\n<g id=\"edge17\" class=\"edge\">\n<title>13&#45;&gt;17</title>\n<path fill=\"none\" stroke=\"black\" d=\"M927,-222.91C948.29,-212.74 971.24,-201.78 992.94,-191.42\"/>\n<polygon fill=\"black\" stroke=\"black\" points=\"994.63,-194.49 1002.15,-187.02 991.62,-188.17 994.63,-194.49\"/>\n</g>\n<!-- 15 -->\n<g id=\"node16\" class=\"node\">\n<title>15</title>\n<path fill=\"#f1bc96\" stroke=\"black\" d=\"M752,-68C752,-68 644,-68 644,-68 638,-68 632,-62 632,-56 632,-56 632,-12 632,-12 632,-6 638,0 644,0 644,0 752,0 752,0 758,0 764,-6 764,-12 764,-12 764,-56 764,-56 764,-62 758,-68 752,-68\"/>\n<text text-anchor=\"start\" x=\"662.5\" y=\"-52.8\" font-family=\"Helvetica,sans-Serif\" font-size=\"14.00\">gini = 0.435</text>\n<text text-anchor=\"start\" x=\"649.5\" y=\"-37.8\" font-family=\"Helvetica,sans-Serif\" font-size=\"14.00\">samples = 1544</text>\n<text text-anchor=\"start\" x=\"640\" y=\"-22.8\" font-family=\"Helvetica,sans-Serif\" font-size=\"14.00\">value = [1051, 493]</text>\n<text text-anchor=\"start\" x=\"649.5\" y=\"-7.8\" font-family=\"Helvetica,sans-Serif\" font-size=\"14.00\">class = satisfied</text>\n</g>\n<!-- 14&#45;&gt;15 -->\n<g id=\"edge15\" class=\"edge\">\n<title>14&#45;&gt;15</title>\n<path fill=\"none\" stroke=\"black\" d=\"M788.38,-103.73C775.79,-94.15 762.39,-83.96 749.87,-74.44\"/>\n<polygon fill=\"black\" stroke=\"black\" points=\"751.87,-71.57 741.79,-68.3 747.63,-77.14 751.87,-71.57\"/>\n</g>\n<!-- 16 -->\n<g id=\"node17\" class=\"node\">\n<title>16</title>\n<path fill=\"#a8d4f4\" stroke=\"black\" d=\"M961.5,-68C961.5,-68 794.5,-68 794.5,-68 788.5,-68 782.5,-62 782.5,-56 782.5,-56 782.5,-12 782.5,-12 782.5,-6 788.5,0 794.5,0 794.5,0 961.5,0 961.5,0 967.5,0 973.5,-6 973.5,-12 973.5,-12 973.5,-56 973.5,-56 973.5,-62 967.5,-68 961.5,-68\"/>\n<text text-anchor=\"start\" x=\"846\" y=\"-52.8\" font-family=\"Helvetica,sans-Serif\" font-size=\"14.00\">gini = 0.46</text>\n<text text-anchor=\"start\" x=\"829.5\" y=\"-37.8\" font-family=\"Helvetica,sans-Serif\" font-size=\"14.00\">samples = 1738</text>\n<text text-anchor=\"start\" x=\"820\" y=\"-22.8\" font-family=\"Helvetica,sans-Serif\" font-size=\"14.00\">value = [624, 1114]</text>\n<text text-anchor=\"start\" x=\"790.5\" y=\"-7.8\" font-family=\"Helvetica,sans-Serif\" font-size=\"14.00\">class = neutral or dissatisfied</text>\n</g>\n<!-- 14&#45;&gt;16 -->\n<g id=\"edge16\" class=\"edge\">\n<title>14&#45;&gt;16</title>\n<path fill=\"none\" stroke=\"black\" d=\"M855.41,-103.73C858.16,-95.34 861.08,-86.47 863.86,-78.01\"/>\n<polygon fill=\"black\" stroke=\"black\" points=\"867.25,-78.89 867.05,-68.3 860.6,-76.71 867.25,-78.89\"/>\n</g>\n<!-- 18 -->\n<g id=\"node19\" class=\"node\">\n<title>18</title>\n<path fill=\"#45a3e7\" stroke=\"black\" d=\"M1170.5,-68C1170.5,-68 1003.5,-68 1003.5,-68 997.5,-68 991.5,-62 991.5,-56 991.5,-56 991.5,-12 991.5,-12 991.5,-6 997.5,0 1003.5,0 1003.5,0 1170.5,0 1170.5,0 1176.5,0 1182.5,-6 1182.5,-12 1182.5,-12 1182.5,-56 1182.5,-56 1182.5,-62 1176.5,-68 1170.5,-68\"/>\n<text text-anchor=\"start\" x=\"1051.5\" y=\"-52.8\" font-family=\"Helvetica,sans-Serif\" font-size=\"14.00\">gini = 0.111</text>\n<text text-anchor=\"start\" x=\"1042\" y=\"-37.8\" font-family=\"Helvetica,sans-Serif\" font-size=\"14.00\">samples = 527</text>\n<text text-anchor=\"start\" x=\"1036.5\" y=\"-22.8\" font-family=\"Helvetica,sans-Serif\" font-size=\"14.00\">value = [31, 496]</text>\n<text text-anchor=\"start\" x=\"999.5\" y=\"-7.8\" font-family=\"Helvetica,sans-Serif\" font-size=\"14.00\">class = neutral or dissatisfied</text>\n</g>\n<!-- 17&#45;&gt;18 -->\n<g id=\"edge18\" class=\"edge\">\n<title>17&#45;&gt;18</title>\n<path fill=\"none\" stroke=\"black\" d=\"M1087,-103.73C1087,-95.52 1087,-86.86 1087,-78.56\"/>\n<polygon fill=\"black\" stroke=\"black\" points=\"1090.5,-78.3 1087,-68.3 1083.5,-78.3 1090.5,-78.3\"/>\n</g>\n<!-- 19 -->\n<g id=\"node20\" class=\"node\">\n<title>19</title>\n<path fill=\"#3a9de5\" stroke=\"black\" d=\"M1379.5,-68C1379.5,-68 1212.5,-68 1212.5,-68 1206.5,-68 1200.5,-62 1200.5,-56 1200.5,-56 1200.5,-12 1200.5,-12 1200.5,-6 1206.5,0 1212.5,0 1212.5,0 1379.5,0 1379.5,0 1385.5,0 1391.5,-6 1391.5,-12 1391.5,-12 1391.5,-56 1391.5,-56 1391.5,-62 1385.5,-68 1379.5,-68\"/>\n<text text-anchor=\"start\" x=\"1260.5\" y=\"-52.8\" font-family=\"Helvetica,sans-Serif\" font-size=\"14.00\">gini = 0.006</text>\n<text text-anchor=\"start\" x=\"1251\" y=\"-37.8\" font-family=\"Helvetica,sans-Serif\" font-size=\"14.00\">samples = 932</text>\n<text text-anchor=\"start\" x=\"1249\" y=\"-22.8\" font-family=\"Helvetica,sans-Serif\" font-size=\"14.00\">value = [3, 929]</text>\n<text text-anchor=\"start\" x=\"1208.5\" y=\"-7.8\" font-family=\"Helvetica,sans-Serif\" font-size=\"14.00\">class = neutral or dissatisfied</text>\n</g>\n<!-- 17&#45;&gt;19 -->\n<g id=\"edge19\" class=\"edge\">\n<title>17&#45;&gt;19</title>\n<path fill=\"none\" stroke=\"black\" d=\"M1164.53,-103.88C1183.98,-93.69 1204.78,-82.79 1223.95,-72.75\"/>\n<polygon fill=\"black\" stroke=\"black\" points=\"1225.7,-75.78 1232.93,-68.04 1222.45,-69.58 1225.7,-75.78\"/>\n</g>\n<!-- 21 -->\n<g id=\"node22\" class=\"node\">\n<title>21</title>\n<path fill=\"#fcf0e8\" stroke=\"black\" d=\"M1790,-425C1790,-425 1654,-425 1654,-425 1648,-425 1642,-419 1642,-413 1642,-413 1642,-354 1642,-354 1642,-348 1648,-342 1654,-342 1654,-342 1790,-342 1790,-342 1796,-342 1802,-348 1802,-354 1802,-354 1802,-413 1802,-413 1802,-419 1796,-425 1790,-425\"/>\n<text text-anchor=\"start\" x=\"1650\" y=\"-409.8\" font-family=\"Helvetica,sans-Serif\" font-size=\"14.00\">Inflight wifi service ≤ 4.5</text>\n<text text-anchor=\"start\" x=\"1686.5\" y=\"-394.8\" font-family=\"Helvetica,sans-Serif\" font-size=\"14.00\">gini = 0.498</text>\n<text text-anchor=\"start\" x=\"1669.5\" y=\"-379.8\" font-family=\"Helvetica,sans-Serif\" font-size=\"14.00\">samples = 16248</text>\n<text text-anchor=\"start\" x=\"1660\" y=\"-364.8\" font-family=\"Helvetica,sans-Serif\" font-size=\"14.00\">value = [8628, 7620]</text>\n<text text-anchor=\"start\" x=\"1673.5\" y=\"-349.8\" font-family=\"Helvetica,sans-Serif\" font-size=\"14.00\">class = satisfied</text>\n</g>\n<!-- 20&#45;&gt;21 -->\n<g id=\"edge21\" class=\"edge\">\n<title>20&#45;&gt;21</title>\n<path fill=\"none\" stroke=\"black\" d=\"M1722,-460.91C1722,-452.65 1722,-443.86 1722,-435.3\"/>\n<polygon fill=\"black\" stroke=\"black\" points=\"1725.5,-435.02 1722,-425.02 1718.5,-435.02 1725.5,-435.02\"/>\n</g>\n<!-- 32 -->\n<g id=\"node33\" class=\"node\">\n<title>32</title>\n<path fill=\"#5fb0ea\" stroke=\"black\" d=\"M2573.5,-425C2573.5,-425 2406.5,-425 2406.5,-425 2400.5,-425 2394.5,-419 2394.5,-413 2394.5,-413 2394.5,-354 2394.5,-354 2394.5,-348 2400.5,-342 2406.5,-342 2406.5,-342 2573.5,-342 2573.5,-342 2579.5,-342 2585.5,-348 2585.5,-354 2585.5,-354 2585.5,-413 2585.5,-413 2585.5,-419 2579.5,-425 2573.5,-425\"/>\n<text text-anchor=\"start\" x=\"2420.5\" y=\"-409.8\" font-family=\"Helvetica,sans-Serif\" font-size=\"14.00\">Leg room service ≤ 3.5</text>\n<text text-anchor=\"start\" x=\"2454.5\" y=\"-394.8\" font-family=\"Helvetica,sans-Serif\" font-size=\"14.00\">gini = 0.268</text>\n<text text-anchor=\"start\" x=\"2437.5\" y=\"-379.8\" font-family=\"Helvetica,sans-Serif\" font-size=\"14.00\">samples = 35173</text>\n<text text-anchor=\"start\" x=\"2424.5\" y=\"-364.8\" font-family=\"Helvetica,sans-Serif\" font-size=\"14.00\">value = [5609, 29564]</text>\n<text text-anchor=\"start\" x=\"2402.5\" y=\"-349.8\" font-family=\"Helvetica,sans-Serif\" font-size=\"14.00\">class = neutral or dissatisfied</text>\n</g>\n<!-- 20&#45;&gt;32 -->\n<g id=\"edge32\" class=\"edge\">\n<title>20&#45;&gt;32</title>\n<path fill=\"none\" stroke=\"black\" d=\"M1817.71,-486.92C1961.97,-464.94 2234.14,-423.48 2384.14,-400.63\"/>\n<polygon fill=\"black\" stroke=\"black\" points=\"2384.93,-404.05 2394.29,-399.08 2383.88,-397.13 2384.93,-404.05\"/>\n</g>\n<!-- 22 -->\n<g id=\"node23\" class=\"node\">\n<title>22</title>\n<path fill=\"#f5ceb3\" stroke=\"black\" d=\"M1693,-306C1693,-306 1557,-306 1557,-306 1551,-306 1545,-300 1545,-294 1545,-294 1545,-235 1545,-235 1545,-229 1551,-223 1557,-223 1557,-223 1693,-223 1693,-223 1699,-223 1705,-229 1705,-235 1705,-235 1705,-294 1705,-294 1705,-300 1699,-306 1693,-306\"/>\n<text text-anchor=\"start\" x=\"1553\" y=\"-290.8\" font-family=\"Helvetica,sans-Serif\" font-size=\"14.00\">Inflight wifi service ≤ 0.5</text>\n<text text-anchor=\"start\" x=\"1589.5\" y=\"-275.8\" font-family=\"Helvetica,sans-Serif\" font-size=\"14.00\">gini = 0.471</text>\n<text text-anchor=\"start\" x=\"1572.5\" y=\"-260.8\" font-family=\"Helvetica,sans-Serif\" font-size=\"14.00\">samples = 13927</text>\n<text text-anchor=\"start\" x=\"1563\" y=\"-245.8\" font-family=\"Helvetica,sans-Serif\" font-size=\"14.00\">value = [8627, 5300]</text>\n<text text-anchor=\"start\" x=\"1576.5\" y=\"-230.8\" font-family=\"Helvetica,sans-Serif\" font-size=\"14.00\">class = satisfied</text>\n</g>\n<!-- 21&#45;&gt;22 -->\n<g id=\"edge22\" class=\"edge\">\n<title>21&#45;&gt;22</title>\n<path fill=\"none\" stroke=\"black\" d=\"M1688.35,-341.91C1680.82,-332.83 1672.77,-323.12 1665.02,-313.77\"/>\n<polygon fill=\"black\" stroke=\"black\" points=\"1667.67,-311.49 1658.59,-306.02 1662.28,-315.95 1667.67,-311.49\"/>\n</g>\n<!-- 27 -->\n<g id=\"node28\" class=\"node\">\n<title>27</title>\n<path fill=\"#399de5\" stroke=\"black\" d=\"M1902.5,-306C1902.5,-306 1735.5,-306 1735.5,-306 1729.5,-306 1723.5,-300 1723.5,-294 1723.5,-294 1723.5,-235 1723.5,-235 1723.5,-229 1729.5,-223 1735.5,-223 1735.5,-223 1902.5,-223 1902.5,-223 1908.5,-223 1914.5,-229 1914.5,-235 1914.5,-235 1914.5,-294 1914.5,-294 1914.5,-300 1908.5,-306 1902.5,-306\"/>\n<text text-anchor=\"start\" x=\"1731.5\" y=\"-290.8\" font-family=\"Helvetica,sans-Serif\" font-size=\"14.00\">Ease of Online booking ≤ 2.5</text>\n<text text-anchor=\"start\" x=\"1783.5\" y=\"-275.8\" font-family=\"Helvetica,sans-Serif\" font-size=\"14.00\">gini = 0.001</text>\n<text text-anchor=\"start\" x=\"1770.5\" y=\"-260.8\" font-family=\"Helvetica,sans-Serif\" font-size=\"14.00\">samples = 2321</text>\n<text text-anchor=\"start\" x=\"1768.5\" y=\"-245.8\" font-family=\"Helvetica,sans-Serif\" font-size=\"14.00\">value = [1, 2320]</text>\n<text text-anchor=\"start\" x=\"1731.5\" y=\"-230.8\" font-family=\"Helvetica,sans-Serif\" font-size=\"14.00\">class = neutral or dissatisfied</text>\n</g>\n<!-- 21&#45;&gt;27 -->\n<g id=\"edge27\" class=\"edge\">\n<title>21&#45;&gt;27</title>\n<path fill=\"none\" stroke=\"black\" d=\"M1755.65,-341.91C1763.18,-332.83 1771.23,-323.12 1778.98,-313.77\"/>\n<polygon fill=\"black\" stroke=\"black\" points=\"1781.72,-315.95 1785.41,-306.02 1776.33,-311.49 1781.72,-315.95\"/>\n</g>\n<!-- 23 -->\n<g id=\"node24\" class=\"node\">\n<title>23</title>\n<path fill=\"#399de5\" stroke=\"black\" d=\"M1524.5,-179.5C1524.5,-179.5 1357.5,-179.5 1357.5,-179.5 1351.5,-179.5 1345.5,-173.5 1345.5,-167.5 1345.5,-167.5 1345.5,-123.5 1345.5,-123.5 1345.5,-117.5 1351.5,-111.5 1357.5,-111.5 1357.5,-111.5 1524.5,-111.5 1524.5,-111.5 1530.5,-111.5 1536.5,-117.5 1536.5,-123.5 1536.5,-123.5 1536.5,-167.5 1536.5,-167.5 1536.5,-173.5 1530.5,-179.5 1524.5,-179.5\"/>\n<text text-anchor=\"start\" x=\"1413\" y=\"-164.3\" font-family=\"Helvetica,sans-Serif\" font-size=\"14.00\">gini = 0.0</text>\n<text text-anchor=\"start\" x=\"1396\" y=\"-149.3\" font-family=\"Helvetica,sans-Serif\" font-size=\"14.00\">samples = 712</text>\n<text text-anchor=\"start\" x=\"1394\" y=\"-134.3\" font-family=\"Helvetica,sans-Serif\" font-size=\"14.00\">value = [0, 712]</text>\n<text text-anchor=\"start\" x=\"1353.5\" y=\"-119.3\" font-family=\"Helvetica,sans-Serif\" font-size=\"14.00\">class = neutral or dissatisfied</text>\n</g>\n<!-- 22&#45;&gt;23 -->\n<g id=\"edge23\" class=\"edge\">\n<title>22&#45;&gt;23</title>\n<path fill=\"none\" stroke=\"black\" d=\"M1561.16,-222.91C1541.9,-210.66 1520.81,-197.25 1501.76,-185.13\"/>\n<polygon fill=\"black\" stroke=\"black\" points=\"1503.48,-182.08 1493.16,-179.67 1499.72,-187.99 1503.48,-182.08\"/>\n</g>\n<!-- 24 -->\n<g id=\"node25\" class=\"node\">\n<title>24</title>\n<path fill=\"#f3c4a2\" stroke=\"black\" d=\"M1689,-187C1689,-187 1567,-187 1567,-187 1561,-187 1555,-181 1555,-175 1555,-175 1555,-116 1555,-116 1555,-110 1561,-104 1567,-104 1567,-104 1689,-104 1689,-104 1695,-104 1701,-110 1701,-116 1701,-116 1701,-175 1701,-175 1701,-181 1695,-187 1689,-187\"/>\n<text text-anchor=\"start\" x=\"1563\" y=\"-171.8\" font-family=\"Helvetica,sans-Serif\" font-size=\"14.00\">Checkin service ≤ 2.5</text>\n<text text-anchor=\"start\" x=\"1592.5\" y=\"-156.8\" font-family=\"Helvetica,sans-Serif\" font-size=\"14.00\">gini = 0.453</text>\n<text text-anchor=\"start\" x=\"1575.5\" y=\"-141.8\" font-family=\"Helvetica,sans-Serif\" font-size=\"14.00\">samples = 13215</text>\n<text text-anchor=\"start\" x=\"1566\" y=\"-126.8\" font-family=\"Helvetica,sans-Serif\" font-size=\"14.00\">value = [8627, 4588]</text>\n<text text-anchor=\"start\" x=\"1579.5\" y=\"-111.8\" font-family=\"Helvetica,sans-Serif\" font-size=\"14.00\">class = satisfied</text>\n</g>\n<!-- 22&#45;&gt;24 -->\n<g id=\"edge24\" class=\"edge\">\n<title>22&#45;&gt;24</title>\n<path fill=\"none\" stroke=\"black\" d=\"M1626.04,-222.91C1626.25,-214.56 1626.48,-205.67 1626.7,-197.02\"/>\n<polygon fill=\"black\" stroke=\"black\" points=\"1630.2,-197.11 1626.96,-187.02 1623.21,-196.93 1630.2,-197.11\"/>\n</g>\n<!-- 25 -->\n<g id=\"node26\" class=\"node\">\n<title>25</title>\n<path fill=\"#ea975c\" stroke=\"black\" d=\"M1530,-68C1530,-68 1422,-68 1422,-68 1416,-68 1410,-62 1410,-56 1410,-56 1410,-12 1410,-12 1410,-6 1416,0 1422,0 1422,0 1530,0 1530,0 1536,0 1542,-6 1542,-12 1542,-12 1542,-56 1542,-56 1542,-62 1536,-68 1530,-68\"/>\n<text text-anchor=\"start\" x=\"1440.5\" y=\"-52.8\" font-family=\"Helvetica,sans-Serif\" font-size=\"14.00\">gini = 0.255</text>\n<text text-anchor=\"start\" x=\"1427.5\" y=\"-37.8\" font-family=\"Helvetica,sans-Serif\" font-size=\"14.00\">samples = 2841</text>\n<text text-anchor=\"start\" x=\"1418\" y=\"-22.8\" font-family=\"Helvetica,sans-Serif\" font-size=\"14.00\">value = [2414, 427]</text>\n<text text-anchor=\"start\" x=\"1427.5\" y=\"-7.8\" font-family=\"Helvetica,sans-Serif\" font-size=\"14.00\">class = satisfied</text>\n</g>\n<!-- 24&#45;&gt;25 -->\n<g id=\"edge25\" class=\"edge\">\n<title>24&#45;&gt;25</title>\n<path fill=\"none\" stroke=\"black\" d=\"M1571.4,-103.73C1557.98,-94.06 1543.69,-83.77 1530.38,-74.17\"/>\n<polygon fill=\"black\" stroke=\"black\" points=\"1532.38,-71.3 1522.22,-68.3 1528.29,-76.98 1532.38,-71.3\"/>\n</g>\n<!-- 26 -->\n<g id=\"node27\" class=\"node\">\n<title>26</title>\n<path fill=\"#f6d5be\" stroke=\"black\" d=\"M1688,-68C1688,-68 1572,-68 1572,-68 1566,-68 1560,-62 1560,-56 1560,-56 1560,-12 1560,-12 1560,-6 1566,0 1572,0 1572,0 1688,0 1688,0 1694,0 1700,-6 1700,-12 1700,-12 1700,-56 1700,-56 1700,-62 1694,-68 1688,-68\"/>\n<text text-anchor=\"start\" x=\"1598\" y=\"-52.8\" font-family=\"Helvetica,sans-Serif\" font-size=\"14.00\">gini = 0.48</text>\n<text text-anchor=\"start\" x=\"1577.5\" y=\"-37.8\" font-family=\"Helvetica,sans-Serif\" font-size=\"14.00\">samples = 10374</text>\n<text text-anchor=\"start\" x=\"1568\" y=\"-22.8\" font-family=\"Helvetica,sans-Serif\" font-size=\"14.00\">value = [6213, 4161]</text>\n<text text-anchor=\"start\" x=\"1581.5\" y=\"-7.8\" font-family=\"Helvetica,sans-Serif\" font-size=\"14.00\">class = satisfied</text>\n</g>\n<!-- 24&#45;&gt;26 -->\n<g id=\"edge26\" class=\"edge\">\n<title>24&#45;&gt;26</title>\n<path fill=\"none\" stroke=\"black\" d=\"M1628.74,-103.73C1628.89,-95.52 1629.05,-86.86 1629.2,-78.56\"/>\n<polygon fill=\"black\" stroke=\"black\" points=\"1632.71,-78.36 1629.39,-68.3 1625.71,-78.23 1632.71,-78.36\"/>\n</g>\n<!-- 28 -->\n<g id=\"node29\" class=\"node\">\n<title>28</title>\n<path fill=\"#3c9ee5\" stroke=\"black\" d=\"M1900.5,-187C1900.5,-187 1733.5,-187 1733.5,-187 1727.5,-187 1721.5,-181 1721.5,-175 1721.5,-175 1721.5,-116 1721.5,-116 1721.5,-110 1727.5,-104 1733.5,-104 1733.5,-104 1900.5,-104 1900.5,-104 1906.5,-104 1912.5,-110 1912.5,-116 1912.5,-116 1912.5,-175 1912.5,-175 1912.5,-181 1906.5,-187 1900.5,-187\"/>\n<text text-anchor=\"start\" x=\"1736.5\" y=\"-171.8\" font-family=\"Helvetica,sans-Serif\" font-size=\"14.00\">Inflight entertainment ≤ 1.5</text>\n<text text-anchor=\"start\" x=\"1781.5\" y=\"-156.8\" font-family=\"Helvetica,sans-Serif\" font-size=\"14.00\">gini = 0.029</text>\n<text text-anchor=\"start\" x=\"1776\" y=\"-141.8\" font-family=\"Helvetica,sans-Serif\" font-size=\"14.00\">samples = 67</text>\n<text text-anchor=\"start\" x=\"1774\" y=\"-126.8\" font-family=\"Helvetica,sans-Serif\" font-size=\"14.00\">value = [1, 66]</text>\n<text text-anchor=\"start\" x=\"1729.5\" y=\"-111.8\" font-family=\"Helvetica,sans-Serif\" font-size=\"14.00\">class = neutral or dissatisfied</text>\n</g>\n<!-- 27&#45;&gt;28 -->\n<g id=\"edge28\" class=\"edge\">\n<title>27&#45;&gt;28</title>\n<path fill=\"none\" stroke=\"black\" d=\"M1818.31,-222.91C1818.16,-214.56 1818.01,-205.67 1817.86,-197.02\"/>\n<polygon fill=\"black\" stroke=\"black\" points=\"1821.36,-196.96 1817.69,-187.02 1814.36,-197.08 1821.36,-196.96\"/>\n</g>\n<!-- 31 -->\n<g id=\"node32\" class=\"node\">\n<title>31</title>\n<path fill=\"#399de5\" stroke=\"black\" d=\"M2109.5,-179.5C2109.5,-179.5 1942.5,-179.5 1942.5,-179.5 1936.5,-179.5 1930.5,-173.5 1930.5,-167.5 1930.5,-167.5 1930.5,-123.5 1930.5,-123.5 1930.5,-117.5 1936.5,-111.5 1942.5,-111.5 1942.5,-111.5 2109.5,-111.5 2109.5,-111.5 2115.5,-111.5 2121.5,-117.5 2121.5,-123.5 2121.5,-123.5 2121.5,-167.5 2121.5,-167.5 2121.5,-173.5 2115.5,-179.5 2109.5,-179.5\"/>\n<text text-anchor=\"start\" x=\"1998\" y=\"-164.3\" font-family=\"Helvetica,sans-Serif\" font-size=\"14.00\">gini = 0.0</text>\n<text text-anchor=\"start\" x=\"1977.5\" y=\"-149.3\" font-family=\"Helvetica,sans-Serif\" font-size=\"14.00\">samples = 2254</text>\n<text text-anchor=\"start\" x=\"1975.5\" y=\"-134.3\" font-family=\"Helvetica,sans-Serif\" font-size=\"14.00\">value = [0, 2254]</text>\n<text text-anchor=\"start\" x=\"1938.5\" y=\"-119.3\" font-family=\"Helvetica,sans-Serif\" font-size=\"14.00\">class = neutral or dissatisfied</text>\n</g>\n<!-- 27&#45;&gt;31 -->\n<g id=\"edge31\" class=\"edge\">\n<title>27&#45;&gt;31</title>\n<path fill=\"none\" stroke=\"black\" d=\"M1890.82,-222.91C1912.78,-210.49 1936.85,-196.89 1958.51,-184.64\"/>\n<polygon fill=\"black\" stroke=\"black\" points=\"1960.34,-187.63 1967.32,-179.67 1956.89,-181.54 1960.34,-187.63\"/>\n</g>\n<!-- 29 -->\n<g id=\"node30\" class=\"node\">\n<title>29</title>\n<path fill=\"#46a4e7\" stroke=\"black\" d=\"M1897.5,-68C1897.5,-68 1730.5,-68 1730.5,-68 1724.5,-68 1718.5,-62 1718.5,-56 1718.5,-56 1718.5,-12 1718.5,-12 1718.5,-6 1724.5,0 1730.5,0 1730.5,0 1897.5,0 1897.5,0 1903.5,0 1909.5,-6 1909.5,-12 1909.5,-12 1909.5,-56 1909.5,-56 1909.5,-62 1903.5,-68 1897.5,-68\"/>\n<text text-anchor=\"start\" x=\"1778.5\" y=\"-52.8\" font-family=\"Helvetica,sans-Serif\" font-size=\"14.00\">gini = 0.117</text>\n<text text-anchor=\"start\" x=\"1773\" y=\"-37.8\" font-family=\"Helvetica,sans-Serif\" font-size=\"14.00\">samples = 16</text>\n<text text-anchor=\"start\" x=\"1771\" y=\"-22.8\" font-family=\"Helvetica,sans-Serif\" font-size=\"14.00\">value = [1, 15]</text>\n<text text-anchor=\"start\" x=\"1726.5\" y=\"-7.8\" font-family=\"Helvetica,sans-Serif\" font-size=\"14.00\">class = neutral or dissatisfied</text>\n</g>\n<!-- 28&#45;&gt;29 -->\n<g id=\"edge29\" class=\"edge\">\n<title>28&#45;&gt;29</title>\n<path fill=\"none\" stroke=\"black\" d=\"M1815.88,-103.73C1815.66,-95.52 1815.42,-86.86 1815.19,-78.56\"/>\n<polygon fill=\"black\" stroke=\"black\" points=\"1818.68,-78.2 1814.91,-68.3 1811.69,-78.39 1818.68,-78.2\"/>\n</g>\n<!-- 30 -->\n<g id=\"node31\" class=\"node\">\n<title>30</title>\n<path fill=\"#399de5\" stroke=\"black\" d=\"M2106.5,-68C2106.5,-68 1939.5,-68 1939.5,-68 1933.5,-68 1927.5,-62 1927.5,-56 1927.5,-56 1927.5,-12 1927.5,-12 1927.5,-6 1933.5,0 1939.5,0 1939.5,0 2106.5,0 2106.5,0 2112.5,0 2118.5,-6 2118.5,-12 2118.5,-12 2118.5,-56 2118.5,-56 2118.5,-62 2112.5,-68 2106.5,-68\"/>\n<text text-anchor=\"start\" x=\"1995\" y=\"-52.8\" font-family=\"Helvetica,sans-Serif\" font-size=\"14.00\">gini = 0.0</text>\n<text text-anchor=\"start\" x=\"1982\" y=\"-37.8\" font-family=\"Helvetica,sans-Serif\" font-size=\"14.00\">samples = 51</text>\n<text text-anchor=\"start\" x=\"1980\" y=\"-22.8\" font-family=\"Helvetica,sans-Serif\" font-size=\"14.00\">value = [0, 51]</text>\n<text text-anchor=\"start\" x=\"1935.5\" y=\"-7.8\" font-family=\"Helvetica,sans-Serif\" font-size=\"14.00\">class = neutral or dissatisfied</text>\n</g>\n<!-- 28&#45;&gt;30 -->\n<g id=\"edge30\" class=\"edge\">\n<title>28&#45;&gt;30</title>\n<path fill=\"none\" stroke=\"black\" d=\"M1893.41,-103.88C1912.59,-93.69 1933.09,-82.79 1951.99,-72.75\"/>\n<polygon fill=\"black\" stroke=\"black\" points=\"1953.65,-75.83 1960.84,-68.04 1950.36,-69.65 1953.65,-75.83\"/>\n</g>\n<!-- 33 -->\n<g id=\"node34\" class=\"node\">\n<title>33</title>\n<path fill=\"#add6f4\" stroke=\"black\" d=\"M2573.5,-306C2573.5,-306 2406.5,-306 2406.5,-306 2400.5,-306 2394.5,-300 2394.5,-294 2394.5,-294 2394.5,-235 2394.5,-235 2394.5,-229 2400.5,-223 2406.5,-223 2406.5,-223 2573.5,-223 2573.5,-223 2579.5,-223 2585.5,-229 2585.5,-235 2585.5,-235 2585.5,-294 2585.5,-294 2585.5,-300 2579.5,-306 2573.5,-306\"/>\n<text text-anchor=\"start\" x=\"2428\" y=\"-290.8\" font-family=\"Helvetica,sans-Serif\" font-size=\"14.00\">Food and drink ≤ 3.5</text>\n<text text-anchor=\"start\" x=\"2454.5\" y=\"-275.8\" font-family=\"Helvetica,sans-Serif\" font-size=\"14.00\">gini = 0.466</text>\n<text text-anchor=\"start\" x=\"2441.5\" y=\"-260.8\" font-family=\"Helvetica,sans-Serif\" font-size=\"14.00\">samples = 9496</text>\n<text text-anchor=\"start\" x=\"2428\" y=\"-245.8\" font-family=\"Helvetica,sans-Serif\" font-size=\"14.00\">value = [3508, 5988]</text>\n<text text-anchor=\"start\" x=\"2402.5\" y=\"-230.8\" font-family=\"Helvetica,sans-Serif\" font-size=\"14.00\">class = neutral or dissatisfied</text>\n</g>\n<!-- 32&#45;&gt;33 -->\n<g id=\"edge33\" class=\"edge\">\n<title>32&#45;&gt;33</title>\n<path fill=\"none\" stroke=\"black\" d=\"M2490,-341.91C2490,-333.65 2490,-324.86 2490,-316.3\"/>\n<polygon fill=\"black\" stroke=\"black\" points=\"2493.5,-316.02 2490,-306.02 2486.5,-316.02 2493.5,-316.02\"/>\n</g>\n<!-- 40 -->\n<g id=\"node41\" class=\"node\">\n<title>40</title>\n<path fill=\"#4ba6e7\" stroke=\"black\" d=\"M3181.5,-306C3181.5,-306 3014.5,-306 3014.5,-306 3008.5,-306 3002.5,-300 3002.5,-294 3002.5,-294 3002.5,-235 3002.5,-235 3002.5,-229 3008.5,-223 3014.5,-223 3014.5,-223 3181.5,-223 3181.5,-223 3187.5,-223 3193.5,-229 3193.5,-235 3193.5,-235 3193.5,-294 3193.5,-294 3193.5,-300 3187.5,-306 3181.5,-306\"/>\n<text text-anchor=\"start\" x=\"3028.5\" y=\"-290.8\" font-family=\"Helvetica,sans-Serif\" font-size=\"14.00\">On&#45;board service ≤ 3.5</text>\n<text text-anchor=\"start\" x=\"3066\" y=\"-275.8\" font-family=\"Helvetica,sans-Serif\" font-size=\"14.00\">gini = 0.15</text>\n<text text-anchor=\"start\" x=\"3045.5\" y=\"-260.8\" font-family=\"Helvetica,sans-Serif\" font-size=\"14.00\">samples = 25677</text>\n<text text-anchor=\"start\" x=\"3032.5\" y=\"-245.8\" font-family=\"Helvetica,sans-Serif\" font-size=\"14.00\">value = [2101, 23576]</text>\n<text text-anchor=\"start\" x=\"3010.5\" y=\"-230.8\" font-family=\"Helvetica,sans-Serif\" font-size=\"14.00\">class = neutral or dissatisfied</text>\n</g>\n<!-- 32&#45;&gt;40 -->\n<g id=\"edge40\" class=\"edge\">\n<title>32&#45;&gt;40</title>\n<path fill=\"none\" stroke=\"black\" d=\"M2585.67,-364.09C2696.31,-342.8 2877.9,-307.85 2992.54,-285.79\"/>\n<polygon fill=\"black\" stroke=\"black\" points=\"2993.23,-289.23 3002.39,-283.9 2991.91,-282.35 2993.23,-289.23\"/>\n</g>\n<!-- 34 -->\n<g id=\"node35\" class=\"node\">\n<title>34</title>\n<path fill=\"#e78c4a\" stroke=\"black\" d=\"M2461,-187C2461,-187 2325,-187 2325,-187 2319,-187 2313,-181 2313,-175 2313,-175 2313,-116 2313,-116 2313,-110 2319,-104 2325,-104 2325,-104 2461,-104 2461,-104 2467,-104 2473,-110 2473,-116 2473,-116 2473,-175 2473,-175 2473,-181 2467,-187 2461,-187\"/>\n<text text-anchor=\"start\" x=\"2321\" y=\"-171.8\" font-family=\"Helvetica,sans-Serif\" font-size=\"14.00\">Inflight wifi service ≤ 0.5</text>\n<text text-anchor=\"start\" x=\"2357.5\" y=\"-156.8\" font-family=\"Helvetica,sans-Serif\" font-size=\"14.00\">gini = 0.145</text>\n<text text-anchor=\"start\" x=\"2344.5\" y=\"-141.8\" font-family=\"Helvetica,sans-Serif\" font-size=\"14.00\">samples = 1056</text>\n<text text-anchor=\"start\" x=\"2342.5\" y=\"-126.8\" font-family=\"Helvetica,sans-Serif\" font-size=\"14.00\">value = [973, 83]</text>\n<text text-anchor=\"start\" x=\"2344.5\" y=\"-111.8\" font-family=\"Helvetica,sans-Serif\" font-size=\"14.00\">class = satisfied</text>\n</g>\n<!-- 33&#45;&gt;34 -->\n<g id=\"edge34\" class=\"edge\">\n<title>33&#45;&gt;34</title>\n<path fill=\"none\" stroke=\"black\" d=\"M2456.35,-222.91C2448.82,-213.83 2440.77,-204.12 2433.02,-194.77\"/>\n<polygon fill=\"black\" stroke=\"black\" points=\"2435.67,-192.49 2426.59,-187.02 2430.28,-196.95 2435.67,-192.49\"/>\n</g>\n<!-- 37 -->\n<g id=\"node38\" class=\"node\">\n<title>37</title>\n<path fill=\"#8ec7f0\" stroke=\"black\" d=\"M2670.5,-187C2670.5,-187 2503.5,-187 2503.5,-187 2497.5,-187 2491.5,-181 2491.5,-175 2491.5,-175 2491.5,-116 2491.5,-116 2491.5,-110 2497.5,-104 2503.5,-104 2503.5,-104 2670.5,-104 2670.5,-104 2676.5,-104 2682.5,-110 2682.5,-116 2682.5,-116 2682.5,-175 2682.5,-175 2682.5,-181 2676.5,-187 2670.5,-187\"/>\n<text text-anchor=\"start\" x=\"2515\" y=\"-171.8\" font-family=\"Helvetica,sans-Serif\" font-size=\"14.00\">Inflight wifi service ≤ 4.5</text>\n<text text-anchor=\"start\" x=\"2555\" y=\"-156.8\" font-family=\"Helvetica,sans-Serif\" font-size=\"14.00\">gini = 0.42</text>\n<text text-anchor=\"start\" x=\"2538.5\" y=\"-141.8\" font-family=\"Helvetica,sans-Serif\" font-size=\"14.00\">samples = 8440</text>\n<text text-anchor=\"start\" x=\"2525\" y=\"-126.8\" font-family=\"Helvetica,sans-Serif\" font-size=\"14.00\">value = [2535, 5905]</text>\n<text text-anchor=\"start\" x=\"2499.5\" y=\"-111.8\" font-family=\"Helvetica,sans-Serif\" font-size=\"14.00\">class = neutral or dissatisfied</text>\n</g>\n<!-- 33&#45;&gt;37 -->\n<g id=\"edge37\" class=\"edge\">\n<title>33&#45;&gt;37</title>\n<path fill=\"none\" stroke=\"black\" d=\"M2523.65,-222.91C2531.18,-213.83 2539.23,-204.12 2546.98,-194.77\"/>\n<polygon fill=\"black\" stroke=\"black\" points=\"2549.72,-196.95 2553.41,-187.02 2544.33,-192.49 2549.72,-196.95\"/>\n</g>\n<!-- 35 -->\n<g id=\"node36\" class=\"node\">\n<title>35</title>\n<path fill=\"#399de5\" stroke=\"black\" d=\"M2315.5,-68C2315.5,-68 2148.5,-68 2148.5,-68 2142.5,-68 2136.5,-62 2136.5,-56 2136.5,-56 2136.5,-12 2136.5,-12 2136.5,-6 2142.5,0 2148.5,0 2148.5,0 2315.5,0 2315.5,0 2321.5,0 2327.5,-6 2327.5,-12 2327.5,-12 2327.5,-56 2327.5,-56 2327.5,-62 2321.5,-68 2315.5,-68\"/>\n<text text-anchor=\"start\" x=\"2204\" y=\"-52.8\" font-family=\"Helvetica,sans-Serif\" font-size=\"14.00\">gini = 0.0</text>\n<text text-anchor=\"start\" x=\"2191\" y=\"-37.8\" font-family=\"Helvetica,sans-Serif\" font-size=\"14.00\">samples = 44</text>\n<text text-anchor=\"start\" x=\"2189\" y=\"-22.8\" font-family=\"Helvetica,sans-Serif\" font-size=\"14.00\">value = [0, 44]</text>\n<text text-anchor=\"start\" x=\"2144.5\" y=\"-7.8\" font-family=\"Helvetica,sans-Serif\" font-size=\"14.00\">class = neutral or dissatisfied</text>\n</g>\n<!-- 34&#45;&gt;35 -->\n<g id=\"edge35\" class=\"edge\">\n<title>34&#45;&gt;35</title>\n<path fill=\"none\" stroke=\"black\" d=\"M2333.05,-103.73C2318.63,-93.92 2303.26,-83.46 2288.97,-73.75\"/>\n<polygon fill=\"black\" stroke=\"black\" points=\"2290.94,-70.85 2280.7,-68.13 2287.01,-76.64 2290.94,-70.85\"/>\n</g>\n<!-- 36 -->\n<g id=\"node37\" class=\"node\">\n<title>36</title>\n<path fill=\"#e68641\" stroke=\"black\" d=\"M2450.5,-68C2450.5,-68 2357.5,-68 2357.5,-68 2351.5,-68 2345.5,-62 2345.5,-56 2345.5,-56 2345.5,-12 2345.5,-12 2345.5,-6 2351.5,0 2357.5,0 2357.5,0 2450.5,0 2450.5,0 2456.5,0 2462.5,-6 2462.5,-12 2462.5,-12 2462.5,-56 2462.5,-56 2462.5,-62 2456.5,-68 2450.5,-68\"/>\n<text text-anchor=\"start\" x=\"2368.5\" y=\"-52.8\" font-family=\"Helvetica,sans-Serif\" font-size=\"14.00\">gini = 0.074</text>\n<text text-anchor=\"start\" x=\"2355.5\" y=\"-37.8\" font-family=\"Helvetica,sans-Serif\" font-size=\"14.00\">samples = 1012</text>\n<text text-anchor=\"start\" x=\"2353.5\" y=\"-22.8\" font-family=\"Helvetica,sans-Serif\" font-size=\"14.00\">value = [973, 39]</text>\n<text text-anchor=\"start\" x=\"2355.5\" y=\"-7.8\" font-family=\"Helvetica,sans-Serif\" font-size=\"14.00\">class = satisfied</text>\n</g>\n<!-- 34&#45;&gt;36 -->\n<g id=\"edge36\" class=\"edge\">\n<title>34&#45;&gt;36</title>\n<path fill=\"none\" stroke=\"black\" d=\"M2397.1,-103.73C2397.93,-95.43 2398.81,-86.67 2399.65,-78.28\"/>\n<polygon fill=\"black\" stroke=\"black\" points=\"2403.14,-78.6 2400.65,-68.3 2396.17,-77.9 2403.14,-78.6\"/>\n</g>\n<!-- 38 -->\n<g id=\"node39\" class=\"node\">\n<title>38</title>\n<path fill=\"#bbddf6\" stroke=\"black\" d=\"M2659.5,-68C2659.5,-68 2492.5,-68 2492.5,-68 2486.5,-68 2480.5,-62 2480.5,-56 2480.5,-56 2480.5,-12 2480.5,-12 2480.5,-6 2486.5,0 2492.5,0 2492.5,0 2659.5,0 2659.5,0 2665.5,0 2671.5,-6 2671.5,-12 2671.5,-12 2671.5,-56 2671.5,-56 2671.5,-62 2665.5,-68 2659.5,-68\"/>\n<text text-anchor=\"start\" x=\"2540.5\" y=\"-52.8\" font-family=\"Helvetica,sans-Serif\" font-size=\"14.00\">gini = 0.478</text>\n<text text-anchor=\"start\" x=\"2527.5\" y=\"-37.8\" font-family=\"Helvetica,sans-Serif\" font-size=\"14.00\">samples = 6279</text>\n<text text-anchor=\"start\" x=\"2514\" y=\"-22.8\" font-family=\"Helvetica,sans-Serif\" font-size=\"14.00\">value = [2485, 3794]</text>\n<text text-anchor=\"start\" x=\"2488.5\" y=\"-7.8\" font-family=\"Helvetica,sans-Serif\" font-size=\"14.00\">class = neutral or dissatisfied</text>\n</g>\n<!-- 37&#45;&gt;38 -->\n<g id=\"edge38\" class=\"edge\">\n<title>37&#45;&gt;38</title>\n<path fill=\"none\" stroke=\"black\" d=\"M2582.9,-103.73C2582.07,-95.43 2581.19,-86.67 2580.35,-78.28\"/>\n<polygon fill=\"black\" stroke=\"black\" points=\"2583.83,-77.9 2579.35,-68.3 2576.86,-78.6 2583.83,-77.9\"/>\n</g>\n<!-- 39 -->\n<g id=\"node40\" class=\"node\">\n<title>39</title>\n<path fill=\"#3e9fe6\" stroke=\"black\" d=\"M2868.5,-68C2868.5,-68 2701.5,-68 2701.5,-68 2695.5,-68 2689.5,-62 2689.5,-56 2689.5,-56 2689.5,-12 2689.5,-12 2689.5,-6 2695.5,0 2701.5,0 2701.5,0 2868.5,0 2868.5,0 2874.5,0 2880.5,-6 2880.5,-12 2880.5,-12 2880.5,-56 2880.5,-56 2880.5,-62 2874.5,-68 2868.5,-68\"/>\n<text text-anchor=\"start\" x=\"2749.5\" y=\"-52.8\" font-family=\"Helvetica,sans-Serif\" font-size=\"14.00\">gini = 0.045</text>\n<text text-anchor=\"start\" x=\"2736.5\" y=\"-37.8\" font-family=\"Helvetica,sans-Serif\" font-size=\"14.00\">samples = 2161</text>\n<text text-anchor=\"start\" x=\"2730.5\" y=\"-22.8\" font-family=\"Helvetica,sans-Serif\" font-size=\"14.00\">value = [50, 2111]</text>\n<text text-anchor=\"start\" x=\"2697.5\" y=\"-7.8\" font-family=\"Helvetica,sans-Serif\" font-size=\"14.00\">class = neutral or dissatisfied</text>\n</g>\n<!-- 37&#45;&gt;39 -->\n<g id=\"edge39\" class=\"edge\">\n<title>37&#45;&gt;39</title>\n<path fill=\"none\" stroke=\"black\" d=\"M2660.45,-103.88C2678.79,-93.73 2698.4,-82.89 2716.5,-72.88\"/>\n<polygon fill=\"black\" stroke=\"black\" points=\"2718.19,-75.95 2725.25,-68.04 2714.81,-69.82 2718.19,-75.95\"/>\n</g>\n<!-- 41 -->\n<g id=\"node42\" class=\"node\">\n<title>41</title>\n<path fill=\"#81c0ee\" stroke=\"black\" d=\"M3181.5,-187C3181.5,-187 3014.5,-187 3014.5,-187 3008.5,-187 3002.5,-181 3002.5,-175 3002.5,-175 3002.5,-116 3002.5,-116 3002.5,-110 3008.5,-104 3014.5,-104 3014.5,-104 3181.5,-104 3181.5,-104 3187.5,-104 3193.5,-110 3193.5,-116 3193.5,-116 3193.5,-175 3193.5,-175 3193.5,-181 3187.5,-187 3181.5,-187\"/>\n<text text-anchor=\"start\" x=\"3026\" y=\"-171.8\" font-family=\"Helvetica,sans-Serif\" font-size=\"14.00\">Inflight wifi service ≤ 4.5</text>\n<text text-anchor=\"start\" x=\"3066\" y=\"-156.8\" font-family=\"Helvetica,sans-Serif\" font-size=\"14.00\">gini = 0.39</text>\n<text text-anchor=\"start\" x=\"3049.5\" y=\"-141.8\" font-family=\"Helvetica,sans-Serif\" font-size=\"14.00\">samples = 3188</text>\n<text text-anchor=\"start\" x=\"3040\" y=\"-126.8\" font-family=\"Helvetica,sans-Serif\" font-size=\"14.00\">value = [846, 2342]</text>\n<text text-anchor=\"start\" x=\"3010.5\" y=\"-111.8\" font-family=\"Helvetica,sans-Serif\" font-size=\"14.00\">class = neutral or dissatisfied</text>\n</g>\n<!-- 40&#45;&gt;41 -->\n<g id=\"edge41\" class=\"edge\">\n<title>40&#45;&gt;41</title>\n<path fill=\"none\" stroke=\"black\" d=\"M3098,-222.91C3098,-214.65 3098,-205.86 3098,-197.3\"/>\n<polygon fill=\"black\" stroke=\"black\" points=\"3101.5,-197.02 3098,-187.02 3094.5,-197.02 3101.5,-197.02\"/>\n</g>\n<!-- 44 -->\n<g id=\"node45\" class=\"node\">\n<title>44</title>\n<path fill=\"#45a3e7\" stroke=\"black\" d=\"M3495.5,-187C3495.5,-187 3328.5,-187 3328.5,-187 3322.5,-187 3316.5,-181 3316.5,-175 3316.5,-175 3316.5,-116 3316.5,-116 3316.5,-110 3322.5,-104 3328.5,-104 3328.5,-104 3495.5,-104 3495.5,-104 3501.5,-104 3507.5,-110 3507.5,-116 3507.5,-116 3507.5,-175 3507.5,-175 3507.5,-181 3501.5,-187 3495.5,-187\"/>\n<text text-anchor=\"start\" x=\"3347\" y=\"-171.8\" font-family=\"Helvetica,sans-Serif\" font-size=\"14.00\">Checkin service ≤ 2.5</text>\n<text text-anchor=\"start\" x=\"3376.5\" y=\"-156.8\" font-family=\"Helvetica,sans-Serif\" font-size=\"14.00\">gini = 0.105</text>\n<text text-anchor=\"start\" x=\"3359.5\" y=\"-141.8\" font-family=\"Helvetica,sans-Serif\" font-size=\"14.00\">samples = 22489</text>\n<text text-anchor=\"start\" x=\"3346.5\" y=\"-126.8\" font-family=\"Helvetica,sans-Serif\" font-size=\"14.00\">value = [1255, 21234]</text>\n<text text-anchor=\"start\" x=\"3324.5\" y=\"-111.8\" font-family=\"Helvetica,sans-Serif\" font-size=\"14.00\">class = neutral or dissatisfied</text>\n</g>\n<!-- 40&#45;&gt;44 -->\n<g id=\"edge44\" class=\"edge\">\n<title>40&#45;&gt;44</title>\n<path fill=\"none\" stroke=\"black\" d=\"M3193.92,-227.76C3229.59,-214.47 3270.26,-199.31 3306.73,-185.72\"/>\n<polygon fill=\"black\" stroke=\"black\" points=\"3308.25,-188.89 3316.4,-182.12 3305.81,-182.33 3308.25,-188.89\"/>\n</g>\n<!-- 42 -->\n<g id=\"node43\" class=\"node\">\n<title>42</title>\n<path fill=\"#a6d3f3\" stroke=\"black\" d=\"M3077.5,-68C3077.5,-68 2910.5,-68 2910.5,-68 2904.5,-68 2898.5,-62 2898.5,-56 2898.5,-56 2898.5,-12 2898.5,-12 2898.5,-6 2904.5,0 2910.5,0 2910.5,0 3077.5,0 3077.5,0 3083.5,0 3089.5,-6 3089.5,-12 3089.5,-12 3089.5,-56 3089.5,-56 3089.5,-62 3083.5,-68 3077.5,-68\"/>\n<text text-anchor=\"start\" x=\"2958.5\" y=\"-52.8\" font-family=\"Helvetica,sans-Serif\" font-size=\"14.00\">gini = 0.458</text>\n<text text-anchor=\"start\" x=\"2945.5\" y=\"-37.8\" font-family=\"Helvetica,sans-Serif\" font-size=\"14.00\">samples = 2346</text>\n<text text-anchor=\"start\" x=\"2936\" y=\"-22.8\" font-family=\"Helvetica,sans-Serif\" font-size=\"14.00\">value = [832, 1514]</text>\n<text text-anchor=\"start\" x=\"2906.5\" y=\"-7.8\" font-family=\"Helvetica,sans-Serif\" font-size=\"14.00\">class = neutral or dissatisfied</text>\n</g>\n<!-- 41&#45;&gt;42 -->\n<g id=\"edge42\" class=\"edge\">\n<title>41&#45;&gt;42</title>\n<path fill=\"none\" stroke=\"black\" d=\"M3059.27,-103.73C3050.61,-94.61 3041.42,-84.93 3032.76,-75.81\"/>\n<polygon fill=\"black\" stroke=\"black\" points=\"3035.05,-73.14 3025.63,-68.3 3029.98,-77.96 3035.05,-73.14\"/>\n</g>\n<!-- 43 -->\n<g id=\"node44\" class=\"node\">\n<title>43</title>\n<path fill=\"#3c9fe5\" stroke=\"black\" d=\"M3286.5,-68C3286.5,-68 3119.5,-68 3119.5,-68 3113.5,-68 3107.5,-62 3107.5,-56 3107.5,-56 3107.5,-12 3107.5,-12 3107.5,-6 3113.5,0 3119.5,0 3119.5,0 3286.5,0 3286.5,0 3292.5,0 3298.5,-6 3298.5,-12 3298.5,-12 3298.5,-56 3298.5,-56 3298.5,-62 3292.5,-68 3286.5,-68\"/>\n<text text-anchor=\"start\" x=\"3167.5\" y=\"-52.8\" font-family=\"Helvetica,sans-Serif\" font-size=\"14.00\">gini = 0.033</text>\n<text text-anchor=\"start\" x=\"3158\" y=\"-37.8\" font-family=\"Helvetica,sans-Serif\" font-size=\"14.00\">samples = 842</text>\n<text text-anchor=\"start\" x=\"3152.5\" y=\"-22.8\" font-family=\"Helvetica,sans-Serif\" font-size=\"14.00\">value = [14, 828]</text>\n<text text-anchor=\"start\" x=\"3115.5\" y=\"-7.8\" font-family=\"Helvetica,sans-Serif\" font-size=\"14.00\">class = neutral or dissatisfied</text>\n</g>\n<!-- 41&#45;&gt;43 -->\n<g id=\"edge43\" class=\"edge\">\n<title>41&#45;&gt;43</title>\n<path fill=\"none\" stroke=\"black\" d=\"M3137.1,-103.73C3145.93,-94.51 3155.31,-84.74 3164.13,-75.53\"/>\n<polygon fill=\"black\" stroke=\"black\" points=\"3166.67,-77.94 3171.07,-68.3 3161.62,-73.1 3166.67,-77.94\"/>\n</g>\n<!-- 45 -->\n<g id=\"node46\" class=\"node\">\n<title>45</title>\n<path fill=\"#70b8ec\" stroke=\"black\" d=\"M3495.5,-68C3495.5,-68 3328.5,-68 3328.5,-68 3322.5,-68 3316.5,-62 3316.5,-56 3316.5,-56 3316.5,-12 3316.5,-12 3316.5,-6 3322.5,0 3328.5,0 3328.5,0 3495.5,0 3495.5,0 3501.5,0 3507.5,-6 3507.5,-12 3507.5,-12 3507.5,-56 3507.5,-56 3507.5,-62 3501.5,-68 3495.5,-68\"/>\n<text text-anchor=\"start\" x=\"3376.5\" y=\"-52.8\" font-family=\"Helvetica,sans-Serif\" font-size=\"14.00\">gini = 0.339</text>\n<text text-anchor=\"start\" x=\"3363.5\" y=\"-37.8\" font-family=\"Helvetica,sans-Serif\" font-size=\"14.00\">samples = 1524</text>\n<text text-anchor=\"start\" x=\"3354\" y=\"-22.8\" font-family=\"Helvetica,sans-Serif\" font-size=\"14.00\">value = [329, 1195]</text>\n<text text-anchor=\"start\" x=\"3324.5\" y=\"-7.8\" font-family=\"Helvetica,sans-Serif\" font-size=\"14.00\">class = neutral or dissatisfied</text>\n</g>\n<!-- 44&#45;&gt;45 -->\n<g id=\"edge45\" class=\"edge\">\n<title>44&#45;&gt;45</title>\n<path fill=\"none\" stroke=\"black\" d=\"M3412,-103.73C3412,-95.52 3412,-86.86 3412,-78.56\"/>\n<polygon fill=\"black\" stroke=\"black\" points=\"3415.5,-78.3 3412,-68.3 3408.5,-78.3 3415.5,-78.3\"/>\n</g>\n<!-- 46 -->\n<g id=\"node47\" class=\"node\">\n<title>46</title>\n<path fill=\"#42a2e6\" stroke=\"black\" d=\"M3704.5,-68C3704.5,-68 3537.5,-68 3537.5,-68 3531.5,-68 3525.5,-62 3525.5,-56 3525.5,-56 3525.5,-12 3525.5,-12 3525.5,-6 3531.5,0 3537.5,0 3537.5,0 3704.5,0 3704.5,0 3710.5,0 3716.5,-6 3716.5,-12 3716.5,-12 3716.5,-56 3716.5,-56 3716.5,-62 3710.5,-68 3704.5,-68\"/>\n<text text-anchor=\"start\" x=\"3585.5\" y=\"-52.8\" font-family=\"Helvetica,sans-Serif\" font-size=\"14.00\">gini = 0.084</text>\n<text text-anchor=\"start\" x=\"3568.5\" y=\"-37.8\" font-family=\"Helvetica,sans-Serif\" font-size=\"14.00\">samples = 20965</text>\n<text text-anchor=\"start\" x=\"3559\" y=\"-22.8\" font-family=\"Helvetica,sans-Serif\" font-size=\"14.00\">value = [926, 20039]</text>\n<text text-anchor=\"start\" x=\"3533.5\" y=\"-7.8\" font-family=\"Helvetica,sans-Serif\" font-size=\"14.00\">class = neutral or dissatisfied</text>\n</g>\n<!-- 44&#45;&gt;46 -->\n<g id=\"edge46\" class=\"edge\">\n<title>44&#45;&gt;46</title>\n<path fill=\"none\" stroke=\"black\" d=\"M3489.53,-103.88C3508.98,-93.69 3529.78,-82.79 3548.95,-72.75\"/>\n<polygon fill=\"black\" stroke=\"black\" points=\"3550.7,-75.78 3557.93,-68.04 3547.45,-69.58 3550.7,-75.78\"/>\n</g>\n</g>\n</svg>\n",
            "text/plain": [
              "<graphviz.sources.Source at 0x7aa360cdca30>"
            ]
          },
          "metadata": {},
          "execution_count": 76
        }
      ]
    },
    {
      "cell_type": "markdown",
      "source": [
        "Z uwagi na duża ilość danych drzewo zostało ograniczone w taki sposób, że:\n",
        "- maksykalna głębokość została ustawiona na 5,\n",
        "- ilość przykładów dla każdego węzła została ustawiona na 5,\n",
        "- ilość przykładów w węźle decyzyjnym została ustawiona na 20."
      ],
      "metadata": {
        "id": "_NMnNRyifQDO"
      }
    },
    {
      "cell_type": "markdown",
      "source": [
        "#PODSUMOWANIE"
      ],
      "metadata": {
        "id": "xQi1pCCWfVQq"
      }
    },
    {
      "cell_type": "markdown",
      "source": [
        "- W tym projekcie mieliśmy za zadanie dokonać klasyfikacji korzystając z danych Airline Passenger Satisfaction (Kaggle) - predykcja zadowolenia klientów linii lotniczych.\n",
        "- Jako cel klasyfikacji został wybrany atrybut \"satisfaction\", który ma dwie klasy: \"satisfied\" i \"neutral or dissatisfied\".\n",
        "- Na potrzeby projektu zostały utworzone dwa nowe atrybuty: \"avg_rating\" i \"avg_rating_services_on_board\".\n",
        "- Po ogólnych obróbkach danych oraz podzieleniu ich na dane testowe oraz treningowe wartości kategoryczne zostały podzielone metodą \"One-Hot\".\n",
        "- Do selekcji atrybutów został wybrany algorytm PCA (Principal Component Analysis).\n",
        "- W celu poprawnego sklasyfikowania danych została użyta metoda drzewa decyzyjnego oraz algorytm Naive Bayes.\n",
        "- Dla algorytmu Naive Bayes otrzymaliśmy skuteczność na poziomie 85% (Nie doszło do przeładowania modelu).\n",
        "- Po utworzeniu macierzy na bazie algorytmu Naive Bayes otrzymujemy następujące wartości w celu przedstawienia wydajności modelu klasyfikacyjnego:\n",
        " - True Positives(TP): 13006\n",
        " - True Negatives(TN): 9177\n",
        " - False Positives(FP): 1564\n",
        " - False Negatives(FN): 2151\n",
        "- Po utworzeniu macierzy na bazie algorytmu Naive Bayes otrzymujemy następujące metryki:\n",
        " - Skuteczność klasyfikacji: 0.8566\n",
        " - Błędy klasyfikacji: 0.1456\n",
        " - Precision: 0.8927\n",
        " - Recall: 0.8581\n",
        " - Spicificity: 0.8544\n",
        " - True Positive Rate: 0.8581\n",
        " - False Positive Rate: 0.1456\n",
        "- Wykres wartości przewidywanych prawdopodobieństw \"satisfaction\" można zinterpretować jako poprawny w działaniu.\n",
        "- Wartość ROC AUC wynosi 0.9171 a Cross validated ROC AUC wynosi 0.9183. Z tych wyników możemy wywnioskować, że wykorzystany model jest bliski idealnemu.\n",
        "- Średni wynik K-krotnej walidacji krzyżowej osiągnął wynik 0.8568 co może świadczyć o tym, że model jest niezależny od danych używanych do treningu.\n",
        "- Następuje utworzenie modelu drzewa decyzyjnego, okreslenie jego głebokości oraz dokładności zbiorów walidacyjnych oraz treningowych. Z wyników dokładności zbiorów możemy wywnioskować, że model bardzo dobrze przewiduje dane ze zbioru treningowego oraz ze zbioru walidacyjnego.\n",
        "- Do utworzenia pierwszego drzewa decyzyjnego wykorzystane zostały wszystkie dane, a do utworzenia drugiego drzewa decyzyjnego wykorzystane zostały konkretne dane, które składały się na parametr \"avg_rating\" (Średnia ocena całego przelotu)\n",
        "- Wizualizacje dwóch drzew decyzyjnych oparliśmy na poniższych ograniczeniach:\n",
        " - maksymalna głębokość pierwszego drzewa została ustawiona na 8,\n",
        " - ilość przykładów pierwszego drzewa dla każdego węzła została ustawiona na 10,\n",
        " - ilość przykładów pierwszego drzewa w węźle decyzyjnym została ustawiona na 50.\n",
        " - maksymalna głębokość drugiego drzewa została ustawiona na 5,\n",
        " - ilość przykładów drugiego drzewa dla każdego węzła została ustawiona na 5,\n",
        " - ilość przykładów drugiego drzewa w węźle decyzyjnym została ustawiona na 20.\n",
        "\n",
        "    \n"
      ],
      "metadata": {
        "id": "rUKpHxDNf3Ph"
      }
    },
    {
      "cell_type": "markdown",
      "source": [
        "Jesteśmy zadowoloni z osiągniętych wyników, co poskutkowało utworzeniem dobrych oraz skutecznych modeli."
      ],
      "metadata": {
        "id": "YZO1A7cR_uCj"
      }
    }
  ]
}